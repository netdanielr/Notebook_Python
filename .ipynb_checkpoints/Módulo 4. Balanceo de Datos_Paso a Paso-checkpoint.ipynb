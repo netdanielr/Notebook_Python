{
 "cells": [
  {
   "cell_type": "code",
   "execution_count": 1,
   "metadata": {
    "collapsed": true
   },
   "outputs": [],
   "source": [
    "import pandas as pd\n",
    "import matplotlib.pyplot as plt\n",
    "import seaborn as sns\n",
    "import numpy as np\n",
    "import random\n",
    "%matplotlib inline"
   ]
  },
  {
   "cell_type": "markdown",
   "metadata": {},
   "source": [
    "## Carga de Datos"
   ]
  },
  {
   "cell_type": "code",
   "execution_count": 2,
   "metadata": {
    "collapsed": true
   },
   "outputs": [],
   "source": [
    "dataset = pd.read_csv(\"DS_Credito Hipotecario_Sin_Nulls.csv\")"
   ]
  },
  {
   "cell_type": "markdown",
   "metadata": {},
   "source": [
    "## Breve Análisis Exploratorio de Datos"
   ]
  },
  {
   "cell_type": "code",
   "execution_count": 3,
   "metadata": {},
   "outputs": [
    {
     "name": "stdout",
     "output_type": "stream",
     "text": [
      "<class 'pandas.core.frame.DataFrame'>\n",
      "RangeIndex: 434 entries, 0 to 433\n",
      "Data columns (total 13 columns):\n",
      "ID                           434 non-null object\n",
      "SEXO                         434 non-null object\n",
      "FLAG_CASADO                  434 non-null object\n",
      "NRO_DEPENDIENTES             434 non-null object\n",
      "EDUCACION                    434 non-null object\n",
      "FLAG_TRAB_INDEP              434 non-null object\n",
      "INGRESOS_SOLICITANTE         434 non-null int64\n",
      "INGRESOS_COSOLICITANTE       434 non-null float64\n",
      "MONTO_PRESTAMO_MILES         434 non-null int64\n",
      "PLAZO_PRESTAMO_MESES         434 non-null int64\n",
      "FLAG_HISTORIAL_CREDITICIO    434 non-null object\n",
      "TIPO_ZONA                    434 non-null object\n",
      "FLAG_CRED_HIPO               434 non-null object\n",
      "dtypes: float64(1), int64(3), object(9)\n",
      "memory usage: 44.2+ KB\n"
     ]
    }
   ],
   "source": [
    "dataset.info()"
   ]
  },
  {
   "cell_type": "markdown",
   "metadata": {},
   "source": [
    "#### Revisar distribución del Target"
   ]
  },
  {
   "cell_type": "code",
   "execution_count": 4,
   "metadata": {},
   "outputs": [
    {
     "data": {
      "text/plain": [
       "FLAG_CRED_HIPO\n",
       "N    131\n",
       "Y    303\n",
       "dtype: int64"
      ]
     },
     "execution_count": 4,
     "metadata": {},
     "output_type": "execute_result"
    }
   ],
   "source": [
    "dataset.groupby(\"FLAG_CRED_HIPO\").agg('size')"
   ]
  },
  {
   "cell_type": "markdown",
   "metadata": {},
   "source": [
    "### Gráfica de la Distribucion del Target"
   ]
  },
  {
   "cell_type": "code",
   "execution_count": 5,
   "metadata": {},
   "outputs": [
    {
     "data": {
      "text/plain": [
       "<matplotlib.axes._subplots.AxesSubplot at 0xb7b5668>"
      ]
     },
     "execution_count": 5,
     "metadata": {},
     "output_type": "execute_result"
    },
    {
     "data": {
      "image/png": "[encoded data removed]",
      "text/plain": [
       "<matplotlib.figure.Figure at 0x4e6aef0>"
      ]
     },
     "metadata": {},
     "output_type": "display_data"
    }
   ],
   "source": [
    "sns.countplot(x=\"FLAG_CRED_HIPO\", data=dataset)"
   ]
  },
  {
   "cell_type": "markdown",
   "metadata": {},
   "source": [
    "#### ** se muestra desbalance de las clases del target, hay sesgo para el entrenamiento de algoritmos"
   ]
  },
  {
   "cell_type": "markdown",
   "metadata": {},
   "source": [
    "## Técnica de balanceo de datos"
   ]
  },
  {
   "cell_type": "markdown",
   "metadata": {},
   "source": [
    "### A. Oversampling"
   ]
  },
  {
   "cell_type": "code",
   "execution_count": 6,
   "metadata": {
    "collapsed": true
   },
   "outputs": [],
   "source": [
    "# Asumiendo que la clase minoritaria sea \"N\"\n",
    "\n",
    "## variable target = t\n",
    "t = dataset[[\"FLAG_CRED_HIPO\"]]\n",
    "n_samples = t.shape[0]\n",
    "n_samples_Y = (t == \"Y\").sum()\n",
    "n_samples_N = (t == \"N\").sum()\n",
    "\n",
    "## si se quiere que la clase minoritaria sea el 50% del total\n",
    "target_percentage = 0.50\n",
    "\n",
    "## formula para hallar la cantidad de nuevos registros (de la clase minoritaria) para el oversampling\n",
    "n_samples_N_new =  -target_percentage * n_samples_Y / (target_percentage- 1)-n_samples_N\n",
    "\n",
    " \n",
    "dataset_oversampled = pd.concat( [dataset.loc[dataset[\"FLAG_CRED_HIPO\"]==\"N\"].sample(n = int(n_samples_N_new), replace=True , random_state = 10) , \n",
    "                                  dataset])\n",
    "# reseteamos indices para evitar errores\n",
    "dataset_oversampled.reset_index(drop=True, inplace=True)"
   ]
  },
  {
   "cell_type": "code",
   "execution_count": 7,
   "metadata": {},
   "outputs": [
    {
     "name": "stdout",
     "output_type": "stream",
     "text": [
      "<class 'pandas.core.frame.DataFrame'>\n",
      "RangeIndex: 606 entries, 0 to 605\n",
      "Data columns (total 13 columns):\n",
      "ID                           606 non-null object\n",
      "SEXO                         606 non-null object\n",
      "FLAG_CASADO                  606 non-null object\n",
      "NRO_DEPENDIENTES             606 non-null object\n",
      "EDUCACION                    606 non-null object\n",
      "FLAG_TRAB_INDEP              606 non-null object\n",
      "INGRESOS_SOLICITANTE         606 non-null int64\n",
      "INGRESOS_COSOLICITANTE       606 non-null float64\n",
      "MONTO_PRESTAMO_MILES         606 non-null int64\n",
      "PLAZO_PRESTAMO_MESES         606 non-null int64\n",
      "FLAG_HISTORIAL_CREDITICIO    606 non-null object\n",
      "TIPO_ZONA                    606 non-null object\n",
      "FLAG_CRED_HIPO               606 non-null object\n",
      "dtypes: float64(1), int64(3), object(9)\n",
      "memory usage: 61.6+ KB\n"
     ]
    }
   ],
   "source": [
    "dataset_oversampled.info()"
   ]
  },
  {
   "cell_type": "code",
   "execution_count": 8,
   "metadata": {},
   "outputs": [
    {
     "data": {
      "text/plain": [
       "FLAG_CRED_HIPO\n",
       "N    303\n",
       "Y    303\n",
       "dtype: int64"
      ]
     },
     "execution_count": 8,
     "metadata": {},
     "output_type": "execute_result"
    }
   ],
   "source": [
    "dataset_oversampled.groupby(\"FLAG_CRED_HIPO\").agg('size')"
   ]
  },
  {
   "cell_type": "code",
   "execution_count": 9,
   "metadata": {},
   "outputs": [
    {
     "data": {
      "text/plain": [
       "<matplotlib.axes._subplots.AxesSubplot at 0xb7e00f0>"
      ]
     },
     "execution_count": 9,
     "metadata": {},
     "output_type": "execute_result"
    },
    {
     "data": {
      "image/png": "[encoded data removed]",
      "text/plain": [
       "<matplotlib.figure.Figure at 0xb8577b8>"
      ]
     },
     "metadata": {},
     "output_type": "display_data"
    }
   ],
   "source": [
    "sns.countplot(x=\"FLAG_CRED_HIPO\", data=dataset_oversampled)"
   ]
  },
  {
   "cell_type": "code",
   "execution_count": null,
   "metadata": {
    "collapsed": true
   },
   "outputs": [],
   "source": []
  },
  {
   "cell_type": "markdown",
   "metadata": {},
   "source": [
    "### B. Undersampling"
   ]
  },
  {
   "cell_type": "code",
   "execution_count": 10,
   "metadata": {
    "collapsed": true
   },
   "outputs": [],
   "source": [
    "# Asumiendo que la clase minoritaria sea \"N\"\n",
    "\n",
    "## variable target = t\n",
    "t = dataset[[\"FLAG_CRED_HIPO\"]]\n",
    "n_samples = t.shape[0]\n",
    "n_samples_Y = (t == \"Y\").sum()\n",
    "n_samples_N = (t == \"N\").sum()\n",
    "\n",
    "## si se quiere que la clase minoritaria sea el 50% del total\n",
    "target_percentage = 0.5\n",
    "\n",
    "## formula para hallar la cantidad de registros a seleccionar (de la clase mayoritaria) para el undersampling\n",
    "n_samples_Y_new =  n_samples_N / target_percentage - n_samples_N\n",
    "n_samples_Y_new_per = n_samples_Y_new / n_samples_Y\n",
    "\n",
    "dataset_undersampled = pd.concat( [dataset.loc[dataset[\"FLAG_CRED_HIPO\"]!=\"N\"].sample(frac=n_samples_Y_new_per, replace=False , random_state = 10) , \n",
    "          dataset.loc[dataset[\"FLAG_CRED_HIPO\"]==\"N\"] ])\n",
    "\n",
    "# reseteamos indices para evitar errores\n",
    "dataset_undersampled.reset_index(drop=True, inplace=True)"
   ]
  },
  {
   "cell_type": "code",
   "execution_count": 11,
   "metadata": {},
   "outputs": [
    {
     "name": "stdout",
     "output_type": "stream",
     "text": [
      "<class 'pandas.core.frame.DataFrame'>\n",
      "RangeIndex: 262 entries, 0 to 261\n",
      "Data columns (total 13 columns):\n",
      "ID                           262 non-null object\n",
      "SEXO                         262 non-null object\n",
      "FLAG_CASADO                  262 non-null object\n",
      "NRO_DEPENDIENTES             262 non-null object\n",
      "EDUCACION                    262 non-null object\n",
      "FLAG_TRAB_INDEP              262 non-null object\n",
      "INGRESOS_SOLICITANTE         262 non-null int64\n",
      "INGRESOS_COSOLICITANTE       262 non-null float64\n",
      "MONTO_PRESTAMO_MILES         262 non-null int64\n",
      "PLAZO_PRESTAMO_MESES         262 non-null int64\n",
      "FLAG_HISTORIAL_CREDITICIO    262 non-null object\n",
      "TIPO_ZONA                    262 non-null object\n",
      "FLAG_CRED_HIPO               262 non-null object\n",
      "dtypes: float64(1), int64(3), object(9)\n",
      "memory usage: 26.7+ KB\n"
     ]
    }
   ],
   "source": [
    "dataset_undersampled.info()"
   ]
  },
  {
   "cell_type": "code",
   "execution_count": 12,
   "metadata": {},
   "outputs": [
    {
     "data": {
      "text/plain": [
       "FLAG_CRED_HIPO\n",
       "N    131\n",
       "Y    131\n",
       "dtype: int64"
      ]
     },
     "execution_count": 12,
     "metadata": {},
     "output_type": "execute_result"
    }
   ],
   "source": [
    "dataset_undersampled.groupby(\"FLAG_CRED_HIPO\").agg('size')"
   ]
  },
  {
   "cell_type": "code",
   "execution_count": 13,
   "metadata": {},
   "outputs": [
    {
     "data": {
      "text/plain": [
       "<matplotlib.axes._subplots.AxesSubplot at 0xb893278>"
      ]
     },
     "execution_count": 13,
     "metadata": {},
     "output_type": "execute_result"
    },
    {
     "data": {
      "image/png": "[encoded data removed]",
      "text/plain": [
       "<matplotlib.figure.Figure at 0xb7cacc0>"
      ]
     },
     "metadata": {},
     "output_type": "display_data"
    }
   ],
   "source": [
    "sns.countplot(x=\"FLAG_CRED_HIPO\", data=dataset_undersampled)"
   ]
  },
  {
   "cell_type": "code",
   "execution_count": 14,
   "metadata": {},
   "outputs": [
    {
     "data": {
      "text/plain": [
       "FLAG_CRED_HIPO    172.0\n",
       "dtype: float64"
      ]
     },
     "execution_count": 14,
     "metadata": {},
     "output_type": "execute_result"
    }
   ],
   "source": [
    "n_samples_N_new"
   ]
  },
  {
   "cell_type": "code",
   "execution_count": null,
   "metadata": {
    "collapsed": true
   },
   "outputs": [],
   "source": []
  },
  {
   "cell_type": "markdown",
   "metadata": {},
   "source": [
    "### X. Smote (Caso Especial de OverSampling)"
   ]
  },
  {
   "cell_type": "code",
   "execution_count": 15,
   "metadata": {
    "collapsed": true
   },
   "outputs": [],
   "source": [
    "dataset = pd.read_csv(\"DS_Credito Hipotecario_Sin_Nulls_Solo_Numeros.csv\")"
   ]
  },
  {
   "cell_type": "code",
   "execution_count": 16,
   "metadata": {},
   "outputs": [
    {
     "name": "stdout",
     "output_type": "stream",
     "text": [
      "<class 'pandas.core.frame.DataFrame'>\n",
      "RangeIndex: 434 entries, 0 to 433\n",
      "Data columns (total 5 columns):\n",
      "INGRESOS_SOLICITANTE      434 non-null int64\n",
      "INGRESOS_COSOLICITANTE    434 non-null float64\n",
      "MONTO_PRESTAMO_MILES      434 non-null int64\n",
      "PLAZO_PRESTAMO_MESES      434 non-null int64\n",
      "FLAG_CRED_HIPO            434 non-null object\n",
      "dtypes: float64(1), int64(3), object(1)\n",
      "memory usage: 17.0+ KB\n"
     ]
    }
   ],
   "source": [
    "dataset.info()"
   ]
  },
  {
   "cell_type": "code",
   "execution_count": 17,
   "metadata": {},
   "outputs": [
    {
     "data": {
      "text/plain": [
       "FLAG_CRED_HIPO\n",
       "N    131\n",
       "Y    303\n",
       "dtype: int64"
      ]
     },
     "execution_count": 17,
     "metadata": {},
     "output_type": "execute_result"
    }
   ],
   "source": [
    "dataset.groupby(\"FLAG_CRED_HIPO\").agg('size')"
   ]
  },
  {
   "cell_type": "code",
   "execution_count": 18,
   "metadata": {},
   "outputs": [
    {
     "data": {
      "text/plain": [
       "<matplotlib.axes._subplots.AxesSubplot at 0xb916cc0>"
      ]
     },
     "execution_count": 18,
     "metadata": {},
     "output_type": "execute_result"
    },
    {
     "data": {
      "image/png": "[encoded data removed]",
      "text/plain": [
       "<matplotlib.figure.Figure at 0xb971668>"
      ]
     },
     "metadata": {},
     "output_type": "display_data"
    }
   ],
   "source": [
    "sns.countplot(x=\"FLAG_CRED_HIPO\", data=dataset)"
   ]
  },
  {
   "cell_type": "code",
   "execution_count": 19,
   "metadata": {
    "collapsed": true
   },
   "outputs": [],
   "source": [
    "# Asumiendo que la clase minoritaria sea \"N\"\n",
    "\n",
    "## variable target = t\n",
    "t = dataset[[\"FLAG_CRED_HIPO\"]]\n",
    "n_samples = t.shape[0]\n",
    "n_samples_Y = (t == \"Y\").sum()\n",
    "n_samples_N = (t == \"N\").sum()\n",
    "\n",
    "## si se quiere que la clase minoritaria sea el 50% del total\n",
    "target_percentage = 0.50\n",
    "\n",
    "## formula para hallar la cantidad de nuevos registros (de la clase minoritaria) para el oversampling SMOTE\n",
    "n_samples_N_new =  -target_percentage * n_samples_Y / (target_percentage- 1)-n_samples_N\n",
    "\n",
    "###########\n",
    "\n",
    "# Seleccion de puntos fuentes (base) para generacion de nueva data con SMOTE\n",
    "sel_ = dataset.loc[dataset[\"FLAG_CRED_HIPO\"]==\"N\"].iloc[:,:-1].sample(n = int(n_samples_N_new), replace=True , random_state = 10)\n",
    "\n",
    "# Randoms de generacion de nueva data(p1-o------rnd----------------o-p2)\n",
    "steps = np.random.uniform(size=int(n_samples_N_new[0]))\n",
    "\n",
    "# funcion para seleccionar un row aleatorio de un dataframe\n",
    "def random_row_df(df):\n",
    "    index_random = random.choice(range(len(df)))\n",
    "    i = 0\n",
    "    for index,row in df.iterrows():\n",
    "        if i==index_random:    \n",
    "            d = {}\n",
    "            indexs = row.index.tolist()\n",
    "            values = row.values.tolist()\n",
    "            for j in range(len(indexs)):\n",
    "                d[indexs[j]] = [values[j]]\n",
    "            df_row = pd.DataFrame(d)\n",
    "            break\n",
    "        i = i + 1\n",
    "    return df_row\n",
    "\n",
    "\n",
    "# generacion de nueva data (rows) con SMOTE\n",
    "i = 0           \n",
    "df_news = None\n",
    "for index, row  in sel_.iterrows():\n",
    "    #print(row.values.tolist())\n",
    "    d = {}\n",
    "    indexs = row.index.tolist()\n",
    "    values = row.values.tolist()\n",
    "    for j in range(len(indexs)):\n",
    "        d[indexs[j]] = [values[j]]\n",
    "    df_initial = pd.DataFrame(d)\n",
    "    \n",
    "    step = steps[i]\n",
    "    \n",
    "    # SMOTE\n",
    "    df_new = df_initial - step * (df_initial - random_row_df(sel_))\n",
    "    \n",
    "    # se concatena todos los nuevos rows generados\n",
    "    df_news = pd.concat( [df_news , df_new])\n",
    "    i = i + 1\n",
    "\n",
    "# como los valores del row son numericos , el dataset original tiene la columna \"FLAG_CRED_HIPO\" que es categorica, se tiene que agregar\n",
    "df_news[\"FLAG_CRED_HIPO\"]=\"N\"\n",
    "\n",
    "# se concatena los nuevos rows generados al dataset original\n",
    "dataset_smoted = pd.concat( [dataset , df_news] )\n",
    "\n",
    "# el campo \"PLAZO_PRESTAMO_MESES\" tiene que se entero por concepto del atributo, se transforma\n",
    "dataset_smoted[\"PLAZO_PRESTAMO_MESES\"] = dataset_smoted[\"PLAZO_PRESTAMO_MESES\"].astype(int)\n",
    "\n",
    "# reseteamos indices para evitar errores\n",
    "dataset_smoted.reset_index(drop=True, inplace=True)\n"
   ]
  },
  {
   "cell_type": "code",
   "execution_count": 20,
   "metadata": {},
   "outputs": [
    {
     "name": "stdout",
     "output_type": "stream",
     "text": [
      "<class 'pandas.core.frame.DataFrame'>\n",
      "RangeIndex: 606 entries, 0 to 605\n",
      "Data columns (total 5 columns):\n",
      "FLAG_CRED_HIPO            606 non-null object\n",
      "INGRESOS_COSOLICITANTE    606 non-null float64\n",
      "INGRESOS_SOLICITANTE      606 non-null float64\n",
      "MONTO_PRESTAMO_MILES      606 non-null float64\n",
      "PLAZO_PRESTAMO_MESES      606 non-null int32\n",
      "dtypes: float64(3), int32(1), object(1)\n",
      "memory usage: 21.4+ KB\n"
     ]
    }
   ],
   "source": [
    "dataset_smoted.info()"
   ]
  },
  {
   "cell_type": "code",
   "execution_count": 21,
   "metadata": {},
   "outputs": [
    {
     "data": {
      "text/plain": [
       "FLAG_CRED_HIPO\n",
       "N    303\n",
       "Y    303\n",
       "dtype: int64"
      ]
     },
     "execution_count": 21,
     "metadata": {},
     "output_type": "execute_result"
    }
   ],
   "source": [
    "dataset_smoted.groupby(\"FLAG_CRED_HIPO\").agg('size')"
   ]
  },
  {
   "cell_type": "code",
   "execution_count": 22,
   "metadata": {},
   "outputs": [
    {
     "data": {
      "text/plain": [
       "<matplotlib.axes._subplots.AxesSubplot at 0xba091d0>"
      ]
     },
     "execution_count": 22,
     "metadata": {},
     "output_type": "execute_result"
    },
    {
     "data": {
      "image/png": "[encoded data removed]",
      "text/plain": [
       "<matplotlib.figure.Figure at 0xba61390>"
      ]
     },
     "metadata": {},
     "output_type": "display_data"
    }
   ],
   "source": [
    "sns.countplot(x=\"FLAG_CRED_HIPO\", data=dataset_smoted)"
   ]
  },
  {
   "cell_type": "code",
   "execution_count": null,
   "metadata": {
    "collapsed": true
   },
   "outputs": [],
   "source": []
  },
  {
   "cell_type": "markdown",
   "metadata": {},
   "source": [
    "#### Listo para el proceso de seleccion de variables !"
   ]
  }
 ],
 "metadata": {
  "kernelspec": {
   "display_name": "Python 3",
   "language": "python",
   "name": "python3"
  },
  "language_info": {
   "codemirror_mode": {
    "name": "ipython",
    "version": 3
   },
   "file_extension": ".py",
   "mimetype": "text/x-python",
   "name": "python",
   "nbconvert_exporter": "python",
   "pygments_lexer": "ipython3",
   "version": "3.6.3"
  }
 },
 "nbformat": 4,
 "nbformat_minor": 2
}
