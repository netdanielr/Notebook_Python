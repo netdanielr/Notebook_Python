{
 "cells": [
  {
   "cell_type": "markdown",
   "metadata": {},
   "source": [
    "# <font color=#003d5c>3.1 Análisis Exploratorio de Datos</font>\n"
   ]
  },
  {
   "cell_type": "markdown",
   "metadata": {},
   "source": [
    "### 3.1.1. Carga de Datos"
   ]
  },
  {
   "cell_type": "code",
   "execution_count": 26,
   "metadata": {
    "collapsed": true
   },
   "outputs": [],
   "source": [
    "# Importar paquetes\n",
    "import pandas as pd\n",
    "import numpy as np\n",
    "import matplotlib.pyplot as plt"
   ]
  },
  {
   "cell_type": "code",
   "execution_count": 27,
   "metadata": {},
   "outputs": [],
   "source": [
    "# Carga\n",
    "data_ori = pd.read_csv('datos/churn/DS_Churn_Banca_CLIENTE.csv')\n",
    "data_hist = pd.read_csv('datos/churn/DS_Churn_Banca_INFO_HIST.csv')"
   ]
  },
  {
   "cell_type": "markdown",
   "metadata": {},
   "source": [
    "### 3.1.2. Revisión Inicial"
   ]
  },
  {
   "cell_type": "code",
   "execution_count": 28,
   "metadata": {
    "collapsed": true
   },
   "outputs": [],
   "source": [
    "# info, dtypes, value_counts, head, tail, select_dtypes"
   ]
  },
  {
   "cell_type": "code",
   "execution_count": 29,
   "metadata": {},
   "outputs": [
    {
     "data": {
      "text/html": [
       "<div>\n",
       "<style>\n",
       "    .dataframe thead tr:only-child th {\n",
       "        text-align: right;\n",
       "    }\n",
       "\n",
       "    .dataframe thead th {\n",
       "        text-align: left;\n",
       "    }\n",
       "\n",
       "    .dataframe tbody tr th {\n",
       "        vertical-align: top;\n",
       "    }\n",
       "</style>\n",
       "<table border=\"1\" class=\"dataframe\">\n",
       "  <thead>\n",
       "    <tr style=\"text-align: right;\">\n",
       "      <th></th>\n",
       "      <th>0</th>\n",
       "      <th>1</th>\n",
       "      <th>2</th>\n",
       "      <th>3</th>\n",
       "      <th>4</th>\n",
       "    </tr>\n",
       "  </thead>\n",
       "  <tbody>\n",
       "    <tr>\n",
       "      <th>ID_CORRELATIVO</th>\n",
       "      <td>11752</td>\n",
       "      <td>98898</td>\n",
       "      <td>82206</td>\n",
       "      <td>50435</td>\n",
       "      <td>79004</td>\n",
       "    </tr>\n",
       "    <tr>\n",
       "      <th>CODMES</th>\n",
       "      <td>201208</td>\n",
       "      <td>201208</td>\n",
       "      <td>201208</td>\n",
       "      <td>201208</td>\n",
       "      <td>201208</td>\n",
       "    </tr>\n",
       "    <tr>\n",
       "      <th>ATTRITION</th>\n",
       "      <td>0</td>\n",
       "      <td>0</td>\n",
       "      <td>0</td>\n",
       "      <td>1</td>\n",
       "      <td>0</td>\n",
       "    </tr>\n",
       "    <tr>\n",
       "      <th>SEXO</th>\n",
       "      <td>F</td>\n",
       "      <td>F</td>\n",
       "      <td>F</td>\n",
       "      <td>M</td>\n",
       "      <td>F</td>\n",
       "    </tr>\n",
       "    <tr>\n",
       "      <th>ESTADO_CIVIL</th>\n",
       "      <td>Casado</td>\n",
       "      <td>Casado</td>\n",
       "      <td>Casado</td>\n",
       "      <td>Casado</td>\n",
       "      <td>Casado</td>\n",
       "    </tr>\n",
       "    <tr>\n",
       "      <th>FLG_BANCARIZADO</th>\n",
       "      <td>1</td>\n",
       "      <td>0</td>\n",
       "      <td>1</td>\n",
       "      <td>1</td>\n",
       "      <td>0</td>\n",
       "    </tr>\n",
       "    <tr>\n",
       "      <th>RANG_INGRESO</th>\n",
       "      <td>Rang_ingreso_01</td>\n",
       "      <td>Rang_ingreso_01</td>\n",
       "      <td>Rang_ingreso_02</td>\n",
       "      <td>Rang_ingreso_01</td>\n",
       "      <td>NaN</td>\n",
       "    </tr>\n",
       "    <tr>\n",
       "      <th>FLAG_LIMA_PROVINCIA</th>\n",
       "      <td>Provincia</td>\n",
       "      <td>Lima</td>\n",
       "      <td>Provincia</td>\n",
       "      <td>Provincia</td>\n",
       "      <td>Provincia</td>\n",
       "    </tr>\n",
       "    <tr>\n",
       "      <th>EDAD</th>\n",
       "      <td>36</td>\n",
       "      <td>23</td>\n",
       "      <td>24</td>\n",
       "      <td>30</td>\n",
       "      <td>30</td>\n",
       "    </tr>\n",
       "    <tr>\n",
       "      <th>ANTIGUEDAD</th>\n",
       "      <td>0</td>\n",
       "      <td>0</td>\n",
       "      <td>0</td>\n",
       "      <td>NaN</td>\n",
       "      <td>0</td>\n",
       "    </tr>\n",
       "    <tr>\n",
       "      <th>RANG_SDO_PASIVO_MENOS0</th>\n",
       "      <td>Cero</td>\n",
       "      <td>Rango_SDO_02</td>\n",
       "      <td>Rango_SDO_01</td>\n",
       "      <td>Cero</td>\n",
       "      <td>Rango_SDO_10</td>\n",
       "    </tr>\n",
       "    <tr>\n",
       "      <th>FLG_NOMINA</th>\n",
       "      <td>0</td>\n",
       "      <td>1</td>\n",
       "      <td>1</td>\n",
       "      <td>0</td>\n",
       "      <td>0</td>\n",
       "    </tr>\n",
       "    <tr>\n",
       "      <th>RANG_NRO_PRODUCTOS_MENOS0</th>\n",
       "      <td>Rango_01</td>\n",
       "      <td>Rango_02</td>\n",
       "      <td>Rango_02</td>\n",
       "      <td>Rango_02</td>\n",
       "      <td>Rango_02</td>\n",
       "    </tr>\n",
       "    <tr>\n",
       "      <th>SDO_ACTIVO_MENOS0</th>\n",
       "      <td>0</td>\n",
       "      <td>0</td>\n",
       "      <td>0</td>\n",
       "      <td>0</td>\n",
       "      <td>0</td>\n",
       "    </tr>\n",
       "    <tr>\n",
       "      <th>FLG_SEGURO_MENOS0</th>\n",
       "      <td>0</td>\n",
       "      <td>0</td>\n",
       "      <td>0</td>\n",
       "      <td>1</td>\n",
       "      <td>0</td>\n",
       "    </tr>\n",
       "    <tr>\n",
       "      <th>NRO_ACCES_CANAL1_MENOS0</th>\n",
       "      <td>0</td>\n",
       "      <td>0</td>\n",
       "      <td>0</td>\n",
       "      <td>0</td>\n",
       "      <td>0</td>\n",
       "    </tr>\n",
       "    <tr>\n",
       "      <th>NRO_ACCES_CANAL2_MENOS0</th>\n",
       "      <td>0</td>\n",
       "      <td>0</td>\n",
       "      <td>0</td>\n",
       "      <td>0</td>\n",
       "      <td>0</td>\n",
       "    </tr>\n",
       "    <tr>\n",
       "      <th>NRO_ACCES_CANAL3_MENOS0</th>\n",
       "      <td>0</td>\n",
       "      <td>7</td>\n",
       "      <td>16</td>\n",
       "      <td>0</td>\n",
       "      <td>1</td>\n",
       "    </tr>\n",
       "    <tr>\n",
       "      <th>NRO_ENTID_SSFF_MENOS0</th>\n",
       "      <td>2</td>\n",
       "      <td>0</td>\n",
       "      <td>1</td>\n",
       "      <td>5</td>\n",
       "      <td>0</td>\n",
       "    </tr>\n",
       "    <tr>\n",
       "      <th>FLG_SDO_OTSSFF_MENOS0</th>\n",
       "      <td>1</td>\n",
       "      <td>0</td>\n",
       "      <td>1</td>\n",
       "      <td>1</td>\n",
       "      <td>0</td>\n",
       "    </tr>\n",
       "  </tbody>\n",
       "</table>\n",
       "</div>"
      ],
      "text/plain": [
       "                                         0                1                2  \\\n",
       "ID_CORRELATIVO                       11752            98898            82206   \n",
       "CODMES                              201208           201208           201208   \n",
       "ATTRITION                                0                0                0   \n",
       "SEXO                                     F                F                F   \n",
       "ESTADO_CIVIL                        Casado           Casado           Casado   \n",
       "FLG_BANCARIZADO                          1                0                1   \n",
       "RANG_INGRESO               Rang_ingreso_01  Rang_ingreso_01  Rang_ingreso_02   \n",
       "FLAG_LIMA_PROVINCIA              Provincia             Lima        Provincia   \n",
       "EDAD                                    36               23               24   \n",
       "ANTIGUEDAD                               0                0                0   \n",
       "RANG_SDO_PASIVO_MENOS0                Cero     Rango_SDO_02     Rango_SDO_01   \n",
       "FLG_NOMINA                               0                1                1   \n",
       "RANG_NRO_PRODUCTOS_MENOS0         Rango_01         Rango_02         Rango_02   \n",
       "SDO_ACTIVO_MENOS0                        0                0                0   \n",
       "FLG_SEGURO_MENOS0                        0                0                0   \n",
       "NRO_ACCES_CANAL1_MENOS0                  0                0                0   \n",
       "NRO_ACCES_CANAL2_MENOS0                  0                0                0   \n",
       "NRO_ACCES_CANAL3_MENOS0                  0                7               16   \n",
       "NRO_ENTID_SSFF_MENOS0                    2                0                1   \n",
       "FLG_SDO_OTSSFF_MENOS0                    1                0                1   \n",
       "\n",
       "                                         3             4  \n",
       "ID_CORRELATIVO                       50435         79004  \n",
       "CODMES                              201208        201208  \n",
       "ATTRITION                                1             0  \n",
       "SEXO                                     M             F  \n",
       "ESTADO_CIVIL                        Casado        Casado  \n",
       "FLG_BANCARIZADO                          1             0  \n",
       "RANG_INGRESO               Rang_ingreso_01           NaN  \n",
       "FLAG_LIMA_PROVINCIA              Provincia     Provincia  \n",
       "EDAD                                    30            30  \n",
       "ANTIGUEDAD                             NaN             0  \n",
       "RANG_SDO_PASIVO_MENOS0                Cero  Rango_SDO_10  \n",
       "FLG_NOMINA                               0             0  \n",
       "RANG_NRO_PRODUCTOS_MENOS0         Rango_02      Rango_02  \n",
       "SDO_ACTIVO_MENOS0                        0             0  \n",
       "FLG_SEGURO_MENOS0                        1             0  \n",
       "NRO_ACCES_CANAL1_MENOS0                  0             0  \n",
       "NRO_ACCES_CANAL2_MENOS0                  0             0  \n",
       "NRO_ACCES_CANAL3_MENOS0                  0             1  \n",
       "NRO_ENTID_SSFF_MENOS0                    5             0  \n",
       "FLG_SDO_OTSSFF_MENOS0                    1             0  "
      ]
     },
     "execution_count": 29,
     "metadata": {},
     "output_type": "execute_result"
    }
   ],
   "source": [
    "data_ori.head().T"
   ]
  },
  {
   "cell_type": "code",
   "execution_count": 30,
   "metadata": {},
   "outputs": [
    {
     "data": {
      "text/html": [
       "<div>\n",
       "<style>\n",
       "    .dataframe thead tr:only-child th {\n",
       "        text-align: right;\n",
       "    }\n",
       "\n",
       "    .dataframe thead th {\n",
       "        text-align: left;\n",
       "    }\n",
       "\n",
       "    .dataframe tbody tr th {\n",
       "        vertical-align: top;\n",
       "    }\n",
       "</style>\n",
       "<table border=\"1\" class=\"dataframe\">\n",
       "  <thead>\n",
       "    <tr style=\"text-align: right;\">\n",
       "      <th></th>\n",
       "      <th>ID_CORRELATIVO</th>\n",
       "      <th>CODMES</th>\n",
       "      <th>ATTRITION</th>\n",
       "      <th>SEXO</th>\n",
       "      <th>ESTADO_CIVIL</th>\n",
       "      <th>FLG_BANCARIZADO</th>\n",
       "      <th>RANG_INGRESO</th>\n",
       "      <th>FLAG_LIMA_PROVINCIA</th>\n",
       "      <th>EDAD</th>\n",
       "      <th>ANTIGUEDAD</th>\n",
       "      <th>RANG_SDO_PASIVO_MENOS0</th>\n",
       "      <th>FLG_NOMINA</th>\n",
       "      <th>RANG_NRO_PRODUCTOS_MENOS0</th>\n",
       "      <th>SDO_ACTIVO_MENOS0</th>\n",
       "      <th>FLG_SEGURO_MENOS0</th>\n",
       "      <th>NRO_ACCES_CANAL1_MENOS0</th>\n",
       "      <th>NRO_ACCES_CANAL2_MENOS0</th>\n",
       "      <th>NRO_ACCES_CANAL3_MENOS0</th>\n",
       "      <th>NRO_ENTID_SSFF_MENOS0</th>\n",
       "      <th>FLG_SDO_OTSSFF_MENOS0</th>\n",
       "    </tr>\n",
       "  </thead>\n",
       "  <tbody>\n",
       "    <tr>\n",
       "      <th>9995</th>\n",
       "      <td>23216</td>\n",
       "      <td>201208</td>\n",
       "      <td>0</td>\n",
       "      <td>F</td>\n",
       "      <td>Soltero</td>\n",
       "      <td>1</td>\n",
       "      <td>Rang_ingreso_02</td>\n",
       "      <td>Provincia</td>\n",
       "      <td>31.0</td>\n",
       "      <td>5.0</td>\n",
       "      <td>Cero</td>\n",
       "      <td>0</td>\n",
       "      <td>Rango_02</td>\n",
       "      <td>220</td>\n",
       "      <td>1</td>\n",
       "      <td>0</td>\n",
       "      <td>0</td>\n",
       "      <td>0</td>\n",
       "      <td>3</td>\n",
       "      <td>0</td>\n",
       "    </tr>\n",
       "    <tr>\n",
       "      <th>9996</th>\n",
       "      <td>49833</td>\n",
       "      <td>201208</td>\n",
       "      <td>0</td>\n",
       "      <td>F</td>\n",
       "      <td>Soltero</td>\n",
       "      <td>0</td>\n",
       "      <td>Rang_ingreso_01</td>\n",
       "      <td>Lima</td>\n",
       "      <td>64.0</td>\n",
       "      <td>0.0</td>\n",
       "      <td>Rango_SDO_04</td>\n",
       "      <td>1</td>\n",
       "      <td>Rango_02</td>\n",
       "      <td>0</td>\n",
       "      <td>0</td>\n",
       "      <td>0</td>\n",
       "      <td>0</td>\n",
       "      <td>0</td>\n",
       "      <td>0</td>\n",
       "      <td>0</td>\n",
       "    </tr>\n",
       "    <tr>\n",
       "      <th>9997</th>\n",
       "      <td>81559</td>\n",
       "      <td>201208</td>\n",
       "      <td>0</td>\n",
       "      <td>F</td>\n",
       "      <td>Soltero</td>\n",
       "      <td>1</td>\n",
       "      <td>Rang_ingreso_07</td>\n",
       "      <td>Lima</td>\n",
       "      <td>39.0</td>\n",
       "      <td>7.0</td>\n",
       "      <td>Rango_SDO_11</td>\n",
       "      <td>1</td>\n",
       "      <td>Rango_05</td>\n",
       "      <td>74410</td>\n",
       "      <td>1</td>\n",
       "      <td>0</td>\n",
       "      <td>9</td>\n",
       "      <td>5</td>\n",
       "      <td>0</td>\n",
       "      <td>0</td>\n",
       "    </tr>\n",
       "    <tr>\n",
       "      <th>9998</th>\n",
       "      <td>95667</td>\n",
       "      <td>201208</td>\n",
       "      <td>0</td>\n",
       "      <td>F</td>\n",
       "      <td>Soltero</td>\n",
       "      <td>1</td>\n",
       "      <td>Rang_ingreso_09</td>\n",
       "      <td>Lima</td>\n",
       "      <td>30.0</td>\n",
       "      <td>2.0</td>\n",
       "      <td>Rango_SDO_01</td>\n",
       "      <td>0</td>\n",
       "      <td>Rango_03</td>\n",
       "      <td>660</td>\n",
       "      <td>1</td>\n",
       "      <td>0</td>\n",
       "      <td>4</td>\n",
       "      <td>2</td>\n",
       "      <td>4</td>\n",
       "      <td>1</td>\n",
       "    </tr>\n",
       "    <tr>\n",
       "      <th>9999</th>\n",
       "      <td>38669</td>\n",
       "      <td>201208</td>\n",
       "      <td>1</td>\n",
       "      <td>F</td>\n",
       "      <td>Soltero</td>\n",
       "      <td>0</td>\n",
       "      <td>NaN</td>\n",
       "      <td>NaN</td>\n",
       "      <td>NaN</td>\n",
       "      <td>0.0</td>\n",
       "      <td>Rango_SDO_01</td>\n",
       "      <td>0</td>\n",
       "      <td>Rango_02</td>\n",
       "      <td>0</td>\n",
       "      <td>0</td>\n",
       "      <td>0</td>\n",
       "      <td>0</td>\n",
       "      <td>2</td>\n",
       "      <td>0</td>\n",
       "      <td>0</td>\n",
       "    </tr>\n",
       "  </tbody>\n",
       "</table>\n",
       "</div>"
      ],
      "text/plain": [
       "      ID_CORRELATIVO  CODMES  ATTRITION SEXO ESTADO_CIVIL  FLG_BANCARIZADO  \\\n",
       "9995           23216  201208          0    F      Soltero                1   \n",
       "9996           49833  201208          0    F      Soltero                0   \n",
       "9997           81559  201208          0    F      Soltero                1   \n",
       "9998           95667  201208          0    F      Soltero                1   \n",
       "9999           38669  201208          1    F      Soltero                0   \n",
       "\n",
       "         RANG_INGRESO FLAG_LIMA_PROVINCIA  EDAD  ANTIGUEDAD  \\\n",
       "9995  Rang_ingreso_02           Provincia  31.0         5.0   \n",
       "9996  Rang_ingreso_01                Lima  64.0         0.0   \n",
       "9997  Rang_ingreso_07                Lima  39.0         7.0   \n",
       "9998  Rang_ingreso_09                Lima  30.0         2.0   \n",
       "9999              NaN                 NaN   NaN         0.0   \n",
       "\n",
       "     RANG_SDO_PASIVO_MENOS0  FLG_NOMINA RANG_NRO_PRODUCTOS_MENOS0  \\\n",
       "9995                   Cero           0                  Rango_02   \n",
       "9996           Rango_SDO_04           1                  Rango_02   \n",
       "9997           Rango_SDO_11           1                  Rango_05   \n",
       "9998           Rango_SDO_01           0                  Rango_03   \n",
       "9999           Rango_SDO_01           0                  Rango_02   \n",
       "\n",
       "      SDO_ACTIVO_MENOS0  FLG_SEGURO_MENOS0  NRO_ACCES_CANAL1_MENOS0  \\\n",
       "9995                220                  1                        0   \n",
       "9996                  0                  0                        0   \n",
       "9997              74410                  1                        0   \n",
       "9998                660                  1                        0   \n",
       "9999                  0                  0                        0   \n",
       "\n",
       "      NRO_ACCES_CANAL2_MENOS0  NRO_ACCES_CANAL3_MENOS0  NRO_ENTID_SSFF_MENOS0  \\\n",
       "9995                        0                        0                      3   \n",
       "9996                        0                        0                      0   \n",
       "9997                        9                        5                      0   \n",
       "9998                        4                        2                      4   \n",
       "9999                        0                        2                      0   \n",
       "\n",
       "      FLG_SDO_OTSSFF_MENOS0  \n",
       "9995                      0  \n",
       "9996                      0  \n",
       "9997                      0  \n",
       "9998                      1  \n",
       "9999                      0  "
      ]
     },
     "execution_count": 30,
     "metadata": {},
     "output_type": "execute_result"
    }
   ],
   "source": [
    "data_ori.tail()"
   ]
  },
  {
   "cell_type": "code",
   "execution_count": 31,
   "metadata": {},
   "outputs": [
    {
     "data": {
      "text/plain": [
       "(10000, 20)"
      ]
     },
     "execution_count": 31,
     "metadata": {},
     "output_type": "execute_result"
    }
   ],
   "source": [
    "# Dimensiones del Dataframe\n",
    "data_ori.shape"
   ]
  },
  {
   "cell_type": "code",
   "execution_count": 32,
   "metadata": {},
   "outputs": [
    {
     "name": "stdout",
     "output_type": "stream",
     "text": [
      "<class 'pandas.core.frame.DataFrame'>\n",
      "RangeIndex: 10000 entries, 0 to 9999\n",
      "Data columns (total 20 columns):\n",
      "ID_CORRELATIVO               10000 non-null int64\n",
      "CODMES                       10000 non-null int64\n",
      "ATTRITION                    10000 non-null int64\n",
      "SEXO                         10000 non-null object\n",
      "ESTADO_CIVIL                 9844 non-null object\n",
      "FLG_BANCARIZADO              10000 non-null int64\n",
      "RANG_INGRESO                 8656 non-null object\n",
      "FLAG_LIMA_PROVINCIA          9530 non-null object\n",
      "EDAD                         9257 non-null float64\n",
      "ANTIGUEDAD                   9746 non-null float64\n",
      "RANG_SDO_PASIVO_MENOS0       10000 non-null object\n",
      "FLG_NOMINA                   10000 non-null int64\n",
      "RANG_NRO_PRODUCTOS_MENOS0    10000 non-null object\n",
      "SDO_ACTIVO_MENOS0            10000 non-null int64\n",
      "FLG_SEGURO_MENOS0            10000 non-null int64\n",
      "NRO_ACCES_CANAL1_MENOS0      10000 non-null int64\n",
      "NRO_ACCES_CANAL2_MENOS0      10000 non-null int64\n",
      "NRO_ACCES_CANAL3_MENOS0      10000 non-null int64\n",
      "NRO_ENTID_SSFF_MENOS0        10000 non-null int64\n",
      "FLG_SDO_OTSSFF_MENOS0        10000 non-null int64\n",
      "dtypes: float64(2), int64(12), object(6)\n",
      "memory usage: 1.5+ MB\n"
     ]
    }
   ],
   "source": [
    "# Generar un breve resumen sobre los tipos de datos, nro de registros y peso del dataset\n",
    "data_ori.info()"
   ]
  },
  {
   "cell_type": "markdown",
   "metadata": {},
   "source": [
    "### 3.1.3. Análisis Descriptivo de los datos"
   ]
  },
  {
   "cell_type": "code",
   "execution_count": 33,
   "metadata": {},
   "outputs": [
    {
     "data": {
      "text/html": [
       "<div>\n",
       "<style>\n",
       "    .dataframe thead tr:only-child th {\n",
       "        text-align: right;\n",
       "    }\n",
       "\n",
       "    .dataframe thead th {\n",
       "        text-align: left;\n",
       "    }\n",
       "\n",
       "    .dataframe tbody tr th {\n",
       "        vertical-align: top;\n",
       "    }\n",
       "</style>\n",
       "<table border=\"1\" class=\"dataframe\">\n",
       "  <thead>\n",
       "    <tr style=\"text-align: right;\">\n",
       "      <th></th>\n",
       "      <th>ID_CORRELATIVO</th>\n",
       "      <th>CODMES</th>\n",
       "      <th>ATTRITION</th>\n",
       "      <th>SEXO</th>\n",
       "      <th>ESTADO_CIVIL</th>\n",
       "      <th>FLG_BANCARIZADO</th>\n",
       "      <th>RANG_INGRESO</th>\n",
       "      <th>FLAG_LIMA_PROVINCIA</th>\n",
       "      <th>EDAD</th>\n",
       "      <th>ANTIGUEDAD</th>\n",
       "      <th>RANG_SDO_PASIVO_MENOS0</th>\n",
       "      <th>FLG_NOMINA</th>\n",
       "      <th>RANG_NRO_PRODUCTOS_MENOS0</th>\n",
       "      <th>SDO_ACTIVO_MENOS0</th>\n",
       "      <th>FLG_SEGURO_MENOS0</th>\n",
       "      <th>NRO_ACCES_CANAL1_MENOS0</th>\n",
       "      <th>NRO_ACCES_CANAL2_MENOS0</th>\n",
       "      <th>NRO_ACCES_CANAL3_MENOS0</th>\n",
       "      <th>NRO_ENTID_SSFF_MENOS0</th>\n",
       "      <th>FLG_SDO_OTSSFF_MENOS0</th>\n",
       "    </tr>\n",
       "  </thead>\n",
       "  <tbody>\n",
       "    <tr>\n",
       "      <th>count</th>\n",
       "      <td>10000.000000</td>\n",
       "      <td>10000.0</td>\n",
       "      <td>10000.000000</td>\n",
       "      <td>10000</td>\n",
       "      <td>9844</td>\n",
       "      <td>10000.000000</td>\n",
       "      <td>8656</td>\n",
       "      <td>9530</td>\n",
       "      <td>9257.00000</td>\n",
       "      <td>9746.000000</td>\n",
       "      <td>10000</td>\n",
       "      <td>10000.000000</td>\n",
       "      <td>10000</td>\n",
       "      <td>1.000000e+04</td>\n",
       "      <td>10000.000000</td>\n",
       "      <td>10000.000000</td>\n",
       "      <td>10000.000000</td>\n",
       "      <td>10000.000000</td>\n",
       "      <td>10000.000000</td>\n",
       "      <td>10000.000000</td>\n",
       "    </tr>\n",
       "    <tr>\n",
       "      <th>unique</th>\n",
       "      <td>NaN</td>\n",
       "      <td>NaN</td>\n",
       "      <td>NaN</td>\n",
       "      <td>2</td>\n",
       "      <td>3</td>\n",
       "      <td>NaN</td>\n",
       "      <td>9</td>\n",
       "      <td>2</td>\n",
       "      <td>NaN</td>\n",
       "      <td>NaN</td>\n",
       "      <td>15</td>\n",
       "      <td>NaN</td>\n",
       "      <td>6</td>\n",
       "      <td>NaN</td>\n",
       "      <td>NaN</td>\n",
       "      <td>NaN</td>\n",
       "      <td>NaN</td>\n",
       "      <td>NaN</td>\n",
       "      <td>NaN</td>\n",
       "      <td>NaN</td>\n",
       "    </tr>\n",
       "    <tr>\n",
       "      <th>top</th>\n",
       "      <td>NaN</td>\n",
       "      <td>NaN</td>\n",
       "      <td>NaN</td>\n",
       "      <td>M</td>\n",
       "      <td>Soltero</td>\n",
       "      <td>NaN</td>\n",
       "      <td>Rang_ingreso_01</td>\n",
       "      <td>Lima</td>\n",
       "      <td>NaN</td>\n",
       "      <td>NaN</td>\n",
       "      <td>Rango_SDO_01</td>\n",
       "      <td>NaN</td>\n",
       "      <td>Rango_02</td>\n",
       "      <td>NaN</td>\n",
       "      <td>NaN</td>\n",
       "      <td>NaN</td>\n",
       "      <td>NaN</td>\n",
       "      <td>NaN</td>\n",
       "      <td>NaN</td>\n",
       "      <td>NaN</td>\n",
       "    </tr>\n",
       "    <tr>\n",
       "      <th>freq</th>\n",
       "      <td>NaN</td>\n",
       "      <td>NaN</td>\n",
       "      <td>NaN</td>\n",
       "      <td>5733</td>\n",
       "      <td>7106</td>\n",
       "      <td>NaN</td>\n",
       "      <td>2196</td>\n",
       "      <td>5891</td>\n",
       "      <td>NaN</td>\n",
       "      <td>NaN</td>\n",
       "      <td>3894</td>\n",
       "      <td>NaN</td>\n",
       "      <td>5302</td>\n",
       "      <td>NaN</td>\n",
       "      <td>NaN</td>\n",
       "      <td>NaN</td>\n",
       "      <td>NaN</td>\n",
       "      <td>NaN</td>\n",
       "      <td>NaN</td>\n",
       "      <td>NaN</td>\n",
       "    </tr>\n",
       "    <tr>\n",
       "      <th>mean</th>\n",
       "      <td>50460.092400</td>\n",
       "      <td>201208.0</td>\n",
       "      <td>0.155300</td>\n",
       "      <td>NaN</td>\n",
       "      <td>NaN</td>\n",
       "      <td>0.840000</td>\n",
       "      <td>NaN</td>\n",
       "      <td>NaN</td>\n",
       "      <td>35.26110</td>\n",
       "      <td>2.557767</td>\n",
       "      <td>NaN</td>\n",
       "      <td>0.383500</td>\n",
       "      <td>NaN</td>\n",
       "      <td>8.153705e+03</td>\n",
       "      <td>0.495700</td>\n",
       "      <td>1.022000</td>\n",
       "      <td>1.793200</td>\n",
       "      <td>5.515700</td>\n",
       "      <td>2.042100</td>\n",
       "      <td>0.538400</td>\n",
       "    </tr>\n",
       "    <tr>\n",
       "      <th>std</th>\n",
       "      <td>28980.502956</td>\n",
       "      <td>0.0</td>\n",
       "      <td>0.362209</td>\n",
       "      <td>NaN</td>\n",
       "      <td>NaN</td>\n",
       "      <td>0.366624</td>\n",
       "      <td>NaN</td>\n",
       "      <td>NaN</td>\n",
       "      <td>11.51138</td>\n",
       "      <td>3.212405</td>\n",
       "      <td>NaN</td>\n",
       "      <td>0.486263</td>\n",
       "      <td>NaN</td>\n",
       "      <td>6.881066e+04</td>\n",
       "      <td>0.500007</td>\n",
       "      <td>2.675151</td>\n",
       "      <td>4.515315</td>\n",
       "      <td>7.604021</td>\n",
       "      <td>1.950874</td>\n",
       "      <td>0.498548</td>\n",
       "    </tr>\n",
       "    <tr>\n",
       "      <th>min</th>\n",
       "      <td>4.000000</td>\n",
       "      <td>201208.0</td>\n",
       "      <td>0.000000</td>\n",
       "      <td>NaN</td>\n",
       "      <td>NaN</td>\n",
       "      <td>0.000000</td>\n",
       "      <td>NaN</td>\n",
       "      <td>NaN</td>\n",
       "      <td>18.00000</td>\n",
       "      <td>0.000000</td>\n",
       "      <td>NaN</td>\n",
       "      <td>0.000000</td>\n",
       "      <td>NaN</td>\n",
       "      <td>0.000000e+00</td>\n",
       "      <td>0.000000</td>\n",
       "      <td>0.000000</td>\n",
       "      <td>0.000000</td>\n",
       "      <td>0.000000</td>\n",
       "      <td>0.000000</td>\n",
       "      <td>0.000000</td>\n",
       "    </tr>\n",
       "    <tr>\n",
       "      <th>25%</th>\n",
       "      <td>25607.500000</td>\n",
       "      <td>201208.0</td>\n",
       "      <td>0.000000</td>\n",
       "      <td>NaN</td>\n",
       "      <td>NaN</td>\n",
       "      <td>1.000000</td>\n",
       "      <td>NaN</td>\n",
       "      <td>NaN</td>\n",
       "      <td>27.00000</td>\n",
       "      <td>0.000000</td>\n",
       "      <td>NaN</td>\n",
       "      <td>0.000000</td>\n",
       "      <td>NaN</td>\n",
       "      <td>0.000000e+00</td>\n",
       "      <td>0.000000</td>\n",
       "      <td>0.000000</td>\n",
       "      <td>0.000000</td>\n",
       "      <td>0.000000</td>\n",
       "      <td>0.000000</td>\n",
       "      <td>0.000000</td>\n",
       "    </tr>\n",
       "    <tr>\n",
       "      <th>50%</th>\n",
       "      <td>50809.500000</td>\n",
       "      <td>201208.0</td>\n",
       "      <td>0.000000</td>\n",
       "      <td>NaN</td>\n",
       "      <td>NaN</td>\n",
       "      <td>1.000000</td>\n",
       "      <td>NaN</td>\n",
       "      <td>NaN</td>\n",
       "      <td>32.00000</td>\n",
       "      <td>0.000000</td>\n",
       "      <td>NaN</td>\n",
       "      <td>0.000000</td>\n",
       "      <td>NaN</td>\n",
       "      <td>0.000000e+00</td>\n",
       "      <td>0.000000</td>\n",
       "      <td>0.000000</td>\n",
       "      <td>0.000000</td>\n",
       "      <td>3.000000</td>\n",
       "      <td>2.000000</td>\n",
       "      <td>1.000000</td>\n",
       "    </tr>\n",
       "    <tr>\n",
       "      <th>75%</th>\n",
       "      <td>75534.750000</td>\n",
       "      <td>201208.0</td>\n",
       "      <td>0.000000</td>\n",
       "      <td>NaN</td>\n",
       "      <td>NaN</td>\n",
       "      <td>1.000000</td>\n",
       "      <td>NaN</td>\n",
       "      <td>NaN</td>\n",
       "      <td>41.00000</td>\n",
       "      <td>5.000000</td>\n",
       "      <td>NaN</td>\n",
       "      <td>1.000000</td>\n",
       "      <td>NaN</td>\n",
       "      <td>0.000000e+00</td>\n",
       "      <td>1.000000</td>\n",
       "      <td>0.000000</td>\n",
       "      <td>0.000000</td>\n",
       "      <td>8.000000</td>\n",
       "      <td>3.000000</td>\n",
       "      <td>1.000000</td>\n",
       "    </tr>\n",
       "    <tr>\n",
       "      <th>max</th>\n",
       "      <td>99989.000000</td>\n",
       "      <td>201208.0</td>\n",
       "      <td>1.000000</td>\n",
       "      <td>NaN</td>\n",
       "      <td>NaN</td>\n",
       "      <td>1.000000</td>\n",
       "      <td>NaN</td>\n",
       "      <td>NaN</td>\n",
       "      <td>90.00000</td>\n",
       "      <td>20.000000</td>\n",
       "      <td>NaN</td>\n",
       "      <td>1.000000</td>\n",
       "      <td>NaN</td>\n",
       "      <td>3.275750e+06</td>\n",
       "      <td>1.000000</td>\n",
       "      <td>28.000000</td>\n",
       "      <td>30.000000</td>\n",
       "      <td>160.000000</td>\n",
       "      <td>10.000000</td>\n",
       "      <td>1.000000</td>\n",
       "    </tr>\n",
       "  </tbody>\n",
       "</table>\n",
       "</div>"
      ],
      "text/plain": [
       "        ID_CORRELATIVO    CODMES     ATTRITION   SEXO ESTADO_CIVIL  \\\n",
       "count     10000.000000   10000.0  10000.000000  10000         9844   \n",
       "unique             NaN       NaN           NaN      2            3   \n",
       "top                NaN       NaN           NaN      M      Soltero   \n",
       "freq               NaN       NaN           NaN   5733         7106   \n",
       "mean      50460.092400  201208.0      0.155300    NaN          NaN   \n",
       "std       28980.502956       0.0      0.362209    NaN          NaN   \n",
       "min           4.000000  201208.0      0.000000    NaN          NaN   \n",
       "25%       25607.500000  201208.0      0.000000    NaN          NaN   \n",
       "50%       50809.500000  201208.0      0.000000    NaN          NaN   \n",
       "75%       75534.750000  201208.0      0.000000    NaN          NaN   \n",
       "max       99989.000000  201208.0      1.000000    NaN          NaN   \n",
       "\n",
       "        FLG_BANCARIZADO     RANG_INGRESO FLAG_LIMA_PROVINCIA        EDAD  \\\n",
       "count      10000.000000             8656                9530  9257.00000   \n",
       "unique              NaN                9                   2         NaN   \n",
       "top                 NaN  Rang_ingreso_01                Lima         NaN   \n",
       "freq                NaN             2196                5891         NaN   \n",
       "mean           0.840000              NaN                 NaN    35.26110   \n",
       "std            0.366624              NaN                 NaN    11.51138   \n",
       "min            0.000000              NaN                 NaN    18.00000   \n",
       "25%            1.000000              NaN                 NaN    27.00000   \n",
       "50%            1.000000              NaN                 NaN    32.00000   \n",
       "75%            1.000000              NaN                 NaN    41.00000   \n",
       "max            1.000000              NaN                 NaN    90.00000   \n",
       "\n",
       "         ANTIGUEDAD RANG_SDO_PASIVO_MENOS0    FLG_NOMINA  \\\n",
       "count   9746.000000                  10000  10000.000000   \n",
       "unique          NaN                     15           NaN   \n",
       "top             NaN           Rango_SDO_01           NaN   \n",
       "freq            NaN                   3894           NaN   \n",
       "mean       2.557767                    NaN      0.383500   \n",
       "std        3.212405                    NaN      0.486263   \n",
       "min        0.000000                    NaN      0.000000   \n",
       "25%        0.000000                    NaN      0.000000   \n",
       "50%        0.000000                    NaN      0.000000   \n",
       "75%        5.000000                    NaN      1.000000   \n",
       "max       20.000000                    NaN      1.000000   \n",
       "\n",
       "       RANG_NRO_PRODUCTOS_MENOS0  SDO_ACTIVO_MENOS0  FLG_SEGURO_MENOS0  \\\n",
       "count                      10000       1.000000e+04       10000.000000   \n",
       "unique                         6                NaN                NaN   \n",
       "top                     Rango_02                NaN                NaN   \n",
       "freq                        5302                NaN                NaN   \n",
       "mean                         NaN       8.153705e+03           0.495700   \n",
       "std                          NaN       6.881066e+04           0.500007   \n",
       "min                          NaN       0.000000e+00           0.000000   \n",
       "25%                          NaN       0.000000e+00           0.000000   \n",
       "50%                          NaN       0.000000e+00           0.000000   \n",
       "75%                          NaN       0.000000e+00           1.000000   \n",
       "max                          NaN       3.275750e+06           1.000000   \n",
       "\n",
       "        NRO_ACCES_CANAL1_MENOS0  NRO_ACCES_CANAL2_MENOS0  \\\n",
       "count              10000.000000             10000.000000   \n",
       "unique                      NaN                      NaN   \n",
       "top                         NaN                      NaN   \n",
       "freq                        NaN                      NaN   \n",
       "mean                   1.022000                 1.793200   \n",
       "std                    2.675151                 4.515315   \n",
       "min                    0.000000                 0.000000   \n",
       "25%                    0.000000                 0.000000   \n",
       "50%                    0.000000                 0.000000   \n",
       "75%                    0.000000                 0.000000   \n",
       "max                   28.000000                30.000000   \n",
       "\n",
       "        NRO_ACCES_CANAL3_MENOS0  NRO_ENTID_SSFF_MENOS0  FLG_SDO_OTSSFF_MENOS0  \n",
       "count              10000.000000           10000.000000           10000.000000  \n",
       "unique                      NaN                    NaN                    NaN  \n",
       "top                         NaN                    NaN                    NaN  \n",
       "freq                        NaN                    NaN                    NaN  \n",
       "mean                   5.515700               2.042100               0.538400  \n",
       "std                    7.604021               1.950874               0.498548  \n",
       "min                    0.000000               0.000000               0.000000  \n",
       "25%                    0.000000               0.000000               0.000000  \n",
       "50%                    3.000000               2.000000               1.000000  \n",
       "75%                    8.000000               3.000000               1.000000  \n",
       "max                  160.000000              10.000000               1.000000  "
      ]
     },
     "execution_count": 33,
     "metadata": {},
     "output_type": "execute_result"
    }
   ],
   "source": [
    "# Descripción rápida del dataset\n",
    "data_ori.describe(include = 'all')"
   ]
  },
  {
   "cell_type": "code",
   "execution_count": 34,
   "metadata": {},
   "outputs": [
    {
     "data": {
      "text/html": [
       "<div>\n",
       "<style>\n",
       "    .dataframe thead tr:only-child th {\n",
       "        text-align: right;\n",
       "    }\n",
       "\n",
       "    .dataframe thead th {\n",
       "        text-align: left;\n",
       "    }\n",
       "\n",
       "    .dataframe tbody tr th {\n",
       "        vertical-align: top;\n",
       "    }\n",
       "</style>\n",
       "<table border=\"1\" class=\"dataframe\">\n",
       "  <thead>\n",
       "    <tr style=\"text-align: right;\">\n",
       "      <th></th>\n",
       "      <th>FLG_BANCARIZADO</th>\n",
       "    </tr>\n",
       "  </thead>\n",
       "  <tbody>\n",
       "    <tr>\n",
       "      <th>1</th>\n",
       "      <td>8400</td>\n",
       "    </tr>\n",
       "    <tr>\n",
       "      <th>0</th>\n",
       "      <td>1600</td>\n",
       "    </tr>\n",
       "  </tbody>\n",
       "</table>\n",
       "</div>"
      ],
      "text/plain": [
       "   FLG_BANCARIZADO\n",
       "1             8400\n",
       "0             1600"
      ]
     },
     "execution_count": 34,
     "metadata": {},
     "output_type": "execute_result"
    }
   ],
   "source": [
    "# Análizar frecuencias - De una variable categórica FLG_BANCARIZADO\n",
    "pd.DataFrame(data_ori['FLG_BANCARIZADO'].value_counts()) # normalize=True"
   ]
  },
  {
   "cell_type": "code",
   "execution_count": 35,
   "metadata": {},
   "outputs": [
    {
     "data": {
      "text/html": [
       "<div>\n",
       "<style>\n",
       "    .dataframe thead tr:only-child th {\n",
       "        text-align: right;\n",
       "    }\n",
       "\n",
       "    .dataframe thead th {\n",
       "        text-align: left;\n",
       "    }\n",
       "\n",
       "    .dataframe tbody tr th {\n",
       "        vertical-align: top;\n",
       "    }\n",
       "</style>\n",
       "<table border=\"1\" class=\"dataframe\">\n",
       "  <thead>\n",
       "    <tr style=\"text-align: right;\">\n",
       "      <th></th>\n",
       "      <th>RANG_INGRESO</th>\n",
       "    </tr>\n",
       "  </thead>\n",
       "  <tbody>\n",
       "    <tr>\n",
       "      <th>Rang_ingreso_01</th>\n",
       "      <td>0.2196</td>\n",
       "    </tr>\n",
       "    <tr>\n",
       "      <th>Rang_ingreso_02</th>\n",
       "      <td>0.1889</td>\n",
       "    </tr>\n",
       "    <tr>\n",
       "      <th>Rang_ingreso_03</th>\n",
       "      <td>0.1442</td>\n",
       "    </tr>\n",
       "    <tr>\n",
       "      <th>NaN</th>\n",
       "      <td>0.1344</td>\n",
       "    </tr>\n",
       "    <tr>\n",
       "      <th>Rang_ingreso_04</th>\n",
       "      <td>0.1083</td>\n",
       "    </tr>\n",
       "    <tr>\n",
       "      <th>Rang_ingreso_06</th>\n",
       "      <td>0.0876</td>\n",
       "    </tr>\n",
       "    <tr>\n",
       "      <th>Rang_ingreso_05</th>\n",
       "      <td>0.0561</td>\n",
       "    </tr>\n",
       "    <tr>\n",
       "      <th>Rang_ingreso_07</th>\n",
       "      <td>0.0329</td>\n",
       "    </tr>\n",
       "    <tr>\n",
       "      <th>Rang_ingreso_09</th>\n",
       "      <td>0.0142</td>\n",
       "    </tr>\n",
       "    <tr>\n",
       "      <th>Rang_ingreso_08</th>\n",
       "      <td>0.0138</td>\n",
       "    </tr>\n",
       "  </tbody>\n",
       "</table>\n",
       "</div>"
      ],
      "text/plain": [
       "                 RANG_INGRESO\n",
       "Rang_ingreso_01        0.2196\n",
       "Rang_ingreso_02        0.1889\n",
       "Rang_ingreso_03        0.1442\n",
       "NaN                    0.1344\n",
       "Rang_ingreso_04        0.1083\n",
       "Rang_ingreso_06        0.0876\n",
       "Rang_ingreso_05        0.0561\n",
       "Rang_ingreso_07        0.0329\n",
       "Rang_ingreso_09        0.0142\n",
       "Rang_ingreso_08        0.0138"
      ]
     },
     "execution_count": 35,
     "metadata": {},
     "output_type": "execute_result"
    }
   ],
   "source": [
    "# Calcular las frecuencias relativas de la variable RANG_INGRESO\n",
    "pd.DataFrame(data_ori['RANG_INGRESO'].value_counts(normalize=True,dropna = False))"
   ]
  },
  {
   "cell_type": "code",
   "execution_count": 36,
   "metadata": {},
   "outputs": [
    {
     "data": {
      "text/html": [
       "<div>\n",
       "<style>\n",
       "    .dataframe thead tr:only-child th {\n",
       "        text-align: right;\n",
       "    }\n",
       "\n",
       "    .dataframe thead th {\n",
       "        text-align: left;\n",
       "    }\n",
       "\n",
       "    .dataframe tbody tr th {\n",
       "        vertical-align: top;\n",
       "    }\n",
       "</style>\n",
       "<table border=\"1\" class=\"dataframe\">\n",
       "  <thead>\n",
       "    <tr style=\"text-align: right;\">\n",
       "      <th></th>\n",
       "      <th>EDAD</th>\n",
       "    </tr>\n",
       "  </thead>\n",
       "  <tbody>\n",
       "    <tr>\n",
       "      <th>(17.927, 32.4]</th>\n",
       "      <td>0.4744</td>\n",
       "    </tr>\n",
       "    <tr>\n",
       "      <th>(32.4, 46.8]</th>\n",
       "      <td>0.3043</td>\n",
       "    </tr>\n",
       "    <tr>\n",
       "      <th>(46.8, 61.2]</th>\n",
       "      <td>0.1117</td>\n",
       "    </tr>\n",
       "    <tr>\n",
       "      <th>(61.2, 75.6]</th>\n",
       "      <td>0.0308</td>\n",
       "    </tr>\n",
       "    <tr>\n",
       "      <th>(75.6, 90.0]</th>\n",
       "      <td>0.0045</td>\n",
       "    </tr>\n",
       "  </tbody>\n",
       "</table>\n",
       "</div>"
      ],
      "text/plain": [
       "                  EDAD\n",
       "(17.927, 32.4]  0.4744\n",
       "(32.4, 46.8]    0.3043\n",
       "(46.8, 61.2]    0.1117\n",
       "(61.2, 75.6]    0.0308\n",
       "(75.6, 90.0]    0.0045"
      ]
     },
     "execution_count": 36,
     "metadata": {},
     "output_type": "execute_result"
    }
   ],
   "source": [
    "# Calcular las frecuencias relativas de la variable EDAD\n",
    "pd.DataFrame(data_ori['EDAD'].value_counts(normalize=True,dropna = False,bins = 5))"
   ]
  },
  {
   "cell_type": "code",
   "execution_count": 37,
   "metadata": {
    "collapsed": true
   },
   "outputs": [],
   "source": [
    "# Seleccionar variables categoricas\n",
    "vars_str = data_ori.select_dtypes(include = ['object']).columns.values"
   ]
  },
  {
   "cell_type": "code",
   "execution_count": 38,
   "metadata": {
    "scrolled": true
   },
   "outputs": [
    {
     "name": "stdout",
     "output_type": "stream",
     "text": [
      "--------------------------------------------------------\n",
      "Var SEXO :\n",
      "     SEXO\n",
      "M  0.5733\n",
      "F  0.4267\n",
      "--------------------------------------------------------\n",
      "Var ESTADO_CIVIL :\n",
      "            ESTADO_CIVIL\n",
      "Soltero           0.7106\n",
      "Casado            0.2104\n",
      "Divorciado        0.0634\n",
      "NaN               0.0156\n",
      "--------------------------------------------------------\n",
      "Var RANG_INGRESO :\n",
      "                 RANG_INGRESO\n",
      "Rang_ingreso_01        0.2196\n",
      "Rang_ingreso_02        0.1889\n",
      "Rang_ingreso_03        0.1442\n",
      "NaN                    0.1344\n",
      "Rang_ingreso_04        0.1083\n",
      "Rang_ingreso_06        0.0876\n",
      "Rang_ingreso_05        0.0561\n",
      "Rang_ingreso_07        0.0329\n",
      "Rang_ingreso_09        0.0142\n",
      "Rang_ingreso_08        0.0138\n",
      "--------------------------------------------------------\n",
      "Var FLAG_LIMA_PROVINCIA :\n",
      "           FLAG_LIMA_PROVINCIA\n",
      "Lima                    0.5891\n",
      "Provincia               0.3639\n",
      "NaN                     0.0470\n",
      "--------------------------------------------------------\n",
      "Var RANG_SDO_PASIVO_MENOS0 :\n",
      "              RANG_SDO_PASIVO_MENOS0\n",
      "Rango_SDO_01                  0.3894\n",
      "Cero                          0.1869\n",
      "Rango_SDO_02                  0.1002\n",
      "Rango_SDO_04                  0.0634\n",
      "Rango_SDO_03                  0.0606\n",
      "Rango_SDO_05                  0.0379\n",
      "Rango_SDO_06                  0.0327\n",
      "Rango_SDO_07                  0.0308\n",
      "Rango_SDO_08                  0.0191\n",
      "Rango_SDO_14                  0.0184\n",
      "Rango_SDO_13                  0.0170\n",
      "Rango_SDO_11                  0.0128\n",
      "Rango_SDO_09                  0.0123\n",
      "Rango_SDO_10                  0.0107\n",
      "Rango_SDO_12                  0.0078\n",
      "--------------------------------------------------------\n",
      "Var RANG_NRO_PRODUCTOS_MENOS0 :\n",
      "          RANG_NRO_PRODUCTOS_MENOS0\n",
      "Rango_02                     0.5302\n",
      "Rango_03                     0.2545\n",
      "Rango_04                     0.1245\n",
      "Rango_01                     0.0655\n",
      "Rango_05                     0.0249\n",
      "Rango_06                     0.0004\n"
     ]
    }
   ],
   "source": [
    "for var in vars_str:\n",
    "    print(\"--------------------------------------------------------\")\n",
    "    print(\"Var\", var,\":\")\n",
    "    print(pd.DataFrame(data_ori[var].value_counts(normalize=True,dropna = False)))"
   ]
  },
  {
   "cell_type": "code",
   "execution_count": null,
   "metadata": {
    "collapsed": true
   },
   "outputs": [],
   "source": []
  },
  {
   "cell_type": "code",
   "execution_count": 39,
   "metadata": {},
   "outputs": [
    {
     "data": {
      "text/html": [
       "<div>\n",
       "<style>\n",
       "    .dataframe thead tr:only-child th {\n",
       "        text-align: right;\n",
       "    }\n",
       "\n",
       "    .dataframe thead th {\n",
       "        text-align: left;\n",
       "    }\n",
       "\n",
       "    .dataframe tbody tr th {\n",
       "        vertical-align: top;\n",
       "    }\n",
       "</style>\n",
       "<table border=\"1\" class=\"dataframe\">\n",
       "  <thead>\n",
       "    <tr style=\"text-align: right;\">\n",
       "      <th></th>\n",
       "      <th>SEXO</th>\n",
       "      <th>FREC</th>\n",
       "      <th>RT_CONVERSION</th>\n",
       "    </tr>\n",
       "  </thead>\n",
       "  <tbody>\n",
       "    <tr>\n",
       "      <th>0</th>\n",
       "      <td>F</td>\n",
       "      <td>4267</td>\n",
       "      <td>0.095383</td>\n",
       "    </tr>\n",
       "    <tr>\n",
       "      <th>1</th>\n",
       "      <td>M</td>\n",
       "      <td>5733</td>\n",
       "      <td>0.199895</td>\n",
       "    </tr>\n",
       "  </tbody>\n",
       "</table>\n",
       "</div>"
      ],
      "text/plain": [
       "  SEXO  FREC  RT_CONVERSION\n",
       "0    F  4267       0.095383\n",
       "1    M  5733       0.199895"
      ]
     },
     "execution_count": 39,
     "metadata": {},
     "output_type": "execute_result"
    }
   ],
   "source": [
    "# Calcular los ratios de conversión por cada clase de la variable SEXO:\n",
    "data_ori.groupby(by=['SEXO'], as_index=False).agg({'ID_CORRELATIVO':'count',\n",
    "                                                   'ATTRITION':'mean'}).rename(columns= {'ID_CORRELATIVO':'FREC',\n",
    "                                                                                         'ATTRITION': 'RT_CONVERSION'})"
   ]
  },
  {
   "cell_type": "code",
   "execution_count": 40,
   "metadata": {
    "collapsed": true
   },
   "outputs": [],
   "source": [
    "# Calcular los ratios de conversión por cada clase de las variables categóricas:"
   ]
  },
  {
   "cell_type": "code",
   "execution_count": 41,
   "metadata": {
    "scrolled": true
   },
   "outputs": [
    {
     "name": "stdout",
     "output_type": "stream",
     "text": [
      "--------------------------------------------------------\n",
      "Var SEXO :\n",
      "  SEXO  FREC  RT_CONVERSION\n",
      "0    F  4267       0.095383\n",
      "1    M  5733       0.199895\n",
      "--------------------------------------------------------\n",
      "Var ESTADO_CIVIL :\n",
      "  ESTADO_CIVIL  FREC  RT_CONVERSION\n",
      "0       Casado  2104       0.095532\n",
      "1   Divorciado   634       0.190852\n",
      "2      Soltero  7106       0.168731\n",
      "--------------------------------------------------------\n",
      "Var RANG_INGRESO :\n",
      "      RANG_INGRESO  FREC  RT_CONVERSION\n",
      "0  Rang_ingreso_01  2196       0.220401\n",
      "1  Rang_ingreso_02  1889       0.187930\n",
      "2  Rang_ingreso_03  1442       0.135922\n",
      "3  Rang_ingreso_04  1083       0.084026\n",
      "4  Rang_ingreso_05   561       0.062389\n",
      "5  Rang_ingreso_06   876       0.054795\n",
      "6  Rang_ingreso_07   329       0.030395\n",
      "7  Rang_ingreso_08   138       0.021739\n",
      "8  Rang_ingreso_09   142       0.021127\n",
      "--------------------------------------------------------\n",
      "Var FLAG_LIMA_PROVINCIA :\n",
      "  FLAG_LIMA_PROVINCIA  FREC  RT_CONVERSION\n",
      "0                Lima  5891       0.130538\n",
      "1           Provincia  3639       0.186040\n",
      "--------------------------------------------------------\n",
      "Var RANG_SDO_PASIVO_MENOS0 :\n",
      "   RANG_SDO_PASIVO_MENOS0  FREC  RT_CONVERSION\n",
      "0                    Cero  1869       0.192081\n",
      "1            Rango_SDO_01  3894       0.250899\n",
      "2            Rango_SDO_02  1002       0.074850\n",
      "3            Rango_SDO_03   606       0.056106\n",
      "4            Rango_SDO_04   634       0.053628\n",
      "5            Rango_SDO_05   379       0.036939\n",
      "6            Rango_SDO_06   327       0.036697\n",
      "7            Rango_SDO_07   308       0.035714\n",
      "8            Rango_SDO_08   191       0.031414\n",
      "9            Rango_SDO_09   123       0.032520\n",
      "10           Rango_SDO_10   107       0.037383\n",
      "11           Rango_SDO_11   128       0.046875\n",
      "12           Rango_SDO_12    78       0.038462\n",
      "13           Rango_SDO_13   170       0.052941\n",
      "14           Rango_SDO_14   184       0.027174\n",
      "--------------------------------------------------------\n",
      "Var RANG_NRO_PRODUCTOS_MENOS0 :\n",
      "  RANG_NRO_PRODUCTOS_MENOS0  FREC  RT_CONVERSION\n",
      "0                  Rango_01   655       0.225954\n",
      "1                  Rango_02  5302       0.197284\n",
      "2                  Rango_03  2545       0.108055\n",
      "3                  Rango_04  1245       0.057831\n",
      "4                  Rango_05   249       0.048193\n",
      "5                  Rango_06     4       0.000000\n"
     ]
    }
   ],
   "source": [
    "for var in vars_str:\n",
    "    print(\"--------------------------------------------------------\")\n",
    "    print(\"Var\", var,\":\")\n",
    "    temp = data_ori.groupby(by=[var], as_index=False).agg({'ID_CORRELATIVO':'count',\n",
    "                                                           'ATTRITION':'mean'}).rename(columns= {'ID_CORRELATIVO':'FREC',\n",
    "                                                                                                 'ATTRITION': 'RT_CONVERSION'})\n",
    "    print(temp)"
   ]
  },
  {
   "cell_type": "code",
   "execution_count": null,
   "metadata": {
    "collapsed": true
   },
   "outputs": [],
   "source": []
  },
  {
   "cell_type": "markdown",
   "metadata": {},
   "source": [
    "### 3.1.4. Técnicas de Visualización de Datos"
   ]
  },
  {
   "cell_type": "code",
   "execution_count": 42,
   "metadata": {
    "collapsed": true
   },
   "outputs": [],
   "source": [
    "# boxplot, countplot, histogram, piechart, correlation_matrix (metric types), heatmap (null counts), Scatterplot Matrix "
   ]
  },
  {
   "cell_type": "markdown",
   "metadata": {},
   "source": [
    "# <font color=#003d5c>3.2 Preprocesamiento de Datos</font>\n"
   ]
  },
  {
   "cell_type": "code",
   "execution_count": 43,
   "metadata": {
    "collapsed": true
   },
   "outputs": [],
   "source": [
    "data = data_ori.copy()"
   ]
  },
  {
   "cell_type": "markdown",
   "metadata": {},
   "source": [
    "### 3.2.1. Formateo"
   ]
  },
  {
   "cell_type": "code",
   "execution_count": 44,
   "metadata": {
    "collapsed": true
   },
   "outputs": [],
   "source": [
    "# astype, pd.to_numeric (optimizacion), "
   ]
  },
  {
   "cell_type": "code",
   "execution_count": 45,
   "metadata": {
    "collapsed": true
   },
   "outputs": [],
   "source": [
    "def change_datatype(df):\n",
    "    float_cols = list(df.select_dtypes(include=['int64']).columns)\n",
    "    for col in float_cols:\n",
    "        if ((np.max(df[col]) <= 127) and(np.min(df[col] >= -128))):\n",
    "            df[col] = df[col].astype(np.int8)\n",
    "        elif ((np.max(df[col]) <= 32767) and(np.min(df[col] >= -32768))):\n",
    "            df[col] = df[col].astype(np.int16)\n",
    "        elif ((np.max(df[col]) <= 2147483647) and(np.min(df[col] >= -2147483648))):\n",
    "            df[col] = df[col].astype(np.int32)\n",
    "        else:\n",
    "            df[col] = df[col].astype(np.int64)\n",
    "\n",
    "def change_datatype_float(df):\n",
    "    float_cols = list(df.select_dtypes(include=['float64']).columns)\n",
    "    for col in float_cols:\n",
    "        df[col] = df[col].astype(np.float32)"
   ]
  },
  {
   "cell_type": "code",
   "execution_count": 46,
   "metadata": {
    "collapsed": true
   },
   "outputs": [],
   "source": [
    "change_datatype(data)\n",
    "change_datatype_float(data)"
   ]
  },
  {
   "cell_type": "code",
   "execution_count": 47,
   "metadata": {
    "scrolled": false
   },
   "outputs": [
    {
     "name": "stdout",
     "output_type": "stream",
     "text": [
      "<class 'pandas.core.frame.DataFrame'>\n",
      "RangeIndex: 10000 entries, 0 to 9999\n",
      "Data columns (total 20 columns):\n",
      "ID_CORRELATIVO               10000 non-null int32\n",
      "CODMES                       10000 non-null int32\n",
      "ATTRITION                    10000 non-null int8\n",
      "SEXO                         10000 non-null object\n",
      "ESTADO_CIVIL                 9844 non-null object\n",
      "FLG_BANCARIZADO              10000 non-null int8\n",
      "RANG_INGRESO                 8656 non-null object\n",
      "FLAG_LIMA_PROVINCIA          9530 non-null object\n",
      "EDAD                         9257 non-null float32\n",
      "ANTIGUEDAD                   9746 non-null float32\n",
      "RANG_SDO_PASIVO_MENOS0       10000 non-null object\n",
      "FLG_NOMINA                   10000 non-null int8\n",
      "RANG_NRO_PRODUCTOS_MENOS0    10000 non-null object\n",
      "SDO_ACTIVO_MENOS0            10000 non-null int32\n",
      "FLG_SEGURO_MENOS0            10000 non-null int8\n",
      "NRO_ACCES_CANAL1_MENOS0      10000 non-null int8\n",
      "NRO_ACCES_CANAL2_MENOS0      10000 non-null int8\n",
      "NRO_ACCES_CANAL3_MENOS0      10000 non-null int16\n",
      "NRO_ENTID_SSFF_MENOS0        10000 non-null int8\n",
      "FLG_SDO_OTSSFF_MENOS0        10000 non-null int8\n",
      "dtypes: float32(2), int16(1), int32(3), int8(8), object(6)\n",
      "memory usage: 761.8+ KB\n"
     ]
    }
   ],
   "source": [
    "data.info()"
   ]
  },
  {
   "cell_type": "code",
   "execution_count": 48,
   "metadata": {},
   "outputs": [
    {
     "data": {
      "text/html": [
       "<div>\n",
       "<style>\n",
       "    .dataframe thead tr:only-child th {\n",
       "        text-align: right;\n",
       "    }\n",
       "\n",
       "    .dataframe thead th {\n",
       "        text-align: left;\n",
       "    }\n",
       "\n",
       "    .dataframe tbody tr th {\n",
       "        vertical-align: top;\n",
       "    }\n",
       "</style>\n",
       "<table border=\"1\" class=\"dataframe\">\n",
       "  <thead>\n",
       "    <tr style=\"text-align: right;\">\n",
       "      <th></th>\n",
       "      <th>ID_CORRELATIVO</th>\n",
       "      <th>CODMES</th>\n",
       "      <th>ATTRITION</th>\n",
       "      <th>SEXO</th>\n",
       "      <th>ESTADO_CIVIL</th>\n",
       "      <th>FLG_BANCARIZADO</th>\n",
       "      <th>RANG_INGRESO</th>\n",
       "      <th>FLAG_LIMA_PROVINCIA</th>\n",
       "      <th>EDAD</th>\n",
       "      <th>ANTIGUEDAD</th>\n",
       "      <th>RANG_SDO_PASIVO_MENOS0</th>\n",
       "      <th>FLG_NOMINA</th>\n",
       "      <th>RANG_NRO_PRODUCTOS_MENOS0</th>\n",
       "      <th>SDO_ACTIVO_MENOS0</th>\n",
       "      <th>FLG_SEGURO_MENOS0</th>\n",
       "      <th>NRO_ACCES_CANAL1_MENOS0</th>\n",
       "      <th>NRO_ACCES_CANAL2_MENOS0</th>\n",
       "      <th>NRO_ACCES_CANAL3_MENOS0</th>\n",
       "      <th>NRO_ENTID_SSFF_MENOS0</th>\n",
       "      <th>FLG_SDO_OTSSFF_MENOS0</th>\n",
       "    </tr>\n",
       "  </thead>\n",
       "  <tbody>\n",
       "    <tr>\n",
       "      <th>0</th>\n",
       "      <td>11752</td>\n",
       "      <td>201208</td>\n",
       "      <td>0</td>\n",
       "      <td>F</td>\n",
       "      <td>Casado</td>\n",
       "      <td>1</td>\n",
       "      <td>Rang_ingreso_01</td>\n",
       "      <td>Provincia</td>\n",
       "      <td>36.0</td>\n",
       "      <td>0.0</td>\n",
       "      <td>Cero</td>\n",
       "      <td>0</td>\n",
       "      <td>Rango_01</td>\n",
       "      <td>0</td>\n",
       "      <td>0</td>\n",
       "      <td>0</td>\n",
       "      <td>0</td>\n",
       "      <td>0</td>\n",
       "      <td>2</td>\n",
       "      <td>1</td>\n",
       "    </tr>\n",
       "    <tr>\n",
       "      <th>1</th>\n",
       "      <td>98898</td>\n",
       "      <td>201208</td>\n",
       "      <td>0</td>\n",
       "      <td>F</td>\n",
       "      <td>Casado</td>\n",
       "      <td>0</td>\n",
       "      <td>Rang_ingreso_01</td>\n",
       "      <td>Lima</td>\n",
       "      <td>23.0</td>\n",
       "      <td>0.0</td>\n",
       "      <td>Rango_SDO_02</td>\n",
       "      <td>1</td>\n",
       "      <td>Rango_02</td>\n",
       "      <td>0</td>\n",
       "      <td>0</td>\n",
       "      <td>0</td>\n",
       "      <td>0</td>\n",
       "      <td>7</td>\n",
       "      <td>0</td>\n",
       "      <td>0</td>\n",
       "    </tr>\n",
       "    <tr>\n",
       "      <th>2</th>\n",
       "      <td>82206</td>\n",
       "      <td>201208</td>\n",
       "      <td>0</td>\n",
       "      <td>F</td>\n",
       "      <td>Casado</td>\n",
       "      <td>1</td>\n",
       "      <td>Rang_ingreso_02</td>\n",
       "      <td>Provincia</td>\n",
       "      <td>24.0</td>\n",
       "      <td>0.0</td>\n",
       "      <td>Rango_SDO_01</td>\n",
       "      <td>1</td>\n",
       "      <td>Rango_02</td>\n",
       "      <td>0</td>\n",
       "      <td>0</td>\n",
       "      <td>0</td>\n",
       "      <td>0</td>\n",
       "      <td>16</td>\n",
       "      <td>1</td>\n",
       "      <td>1</td>\n",
       "    </tr>\n",
       "    <tr>\n",
       "      <th>3</th>\n",
       "      <td>50435</td>\n",
       "      <td>201208</td>\n",
       "      <td>1</td>\n",
       "      <td>M</td>\n",
       "      <td>Casado</td>\n",
       "      <td>1</td>\n",
       "      <td>Rang_ingreso_01</td>\n",
       "      <td>Provincia</td>\n",
       "      <td>30.0</td>\n",
       "      <td>NaN</td>\n",
       "      <td>Cero</td>\n",
       "      <td>0</td>\n",
       "      <td>Rango_02</td>\n",
       "      <td>0</td>\n",
       "      <td>1</td>\n",
       "      <td>0</td>\n",
       "      <td>0</td>\n",
       "      <td>0</td>\n",
       "      <td>5</td>\n",
       "      <td>1</td>\n",
       "    </tr>\n",
       "    <tr>\n",
       "      <th>4</th>\n",
       "      <td>79004</td>\n",
       "      <td>201208</td>\n",
       "      <td>0</td>\n",
       "      <td>F</td>\n",
       "      <td>Casado</td>\n",
       "      <td>0</td>\n",
       "      <td>NaN</td>\n",
       "      <td>Provincia</td>\n",
       "      <td>30.0</td>\n",
       "      <td>0.0</td>\n",
       "      <td>Rango_SDO_10</td>\n",
       "      <td>0</td>\n",
       "      <td>Rango_02</td>\n",
       "      <td>0</td>\n",
       "      <td>0</td>\n",
       "      <td>0</td>\n",
       "      <td>0</td>\n",
       "      <td>1</td>\n",
       "      <td>0</td>\n",
       "      <td>0</td>\n",
       "    </tr>\n",
       "  </tbody>\n",
       "</table>\n",
       "</div>"
      ],
      "text/plain": [
       "   ID_CORRELATIVO  CODMES  ATTRITION SEXO ESTADO_CIVIL  FLG_BANCARIZADO  \\\n",
       "0           11752  201208          0    F       Casado                1   \n",
       "1           98898  201208          0    F       Casado                0   \n",
       "2           82206  201208          0    F       Casado                1   \n",
       "3           50435  201208          1    M       Casado                1   \n",
       "4           79004  201208          0    F       Casado                0   \n",
       "\n",
       "      RANG_INGRESO FLAG_LIMA_PROVINCIA  EDAD  ANTIGUEDAD  \\\n",
       "0  Rang_ingreso_01           Provincia  36.0         0.0   \n",
       "1  Rang_ingreso_01                Lima  23.0         0.0   \n",
       "2  Rang_ingreso_02           Provincia  24.0         0.0   \n",
       "3  Rang_ingreso_01           Provincia  30.0         NaN   \n",
       "4              NaN           Provincia  30.0         0.0   \n",
       "\n",
       "  RANG_SDO_PASIVO_MENOS0  FLG_NOMINA RANG_NRO_PRODUCTOS_MENOS0  \\\n",
       "0                   Cero           0                  Rango_01   \n",
       "1           Rango_SDO_02           1                  Rango_02   \n",
       "2           Rango_SDO_01           1                  Rango_02   \n",
       "3                   Cero           0                  Rango_02   \n",
       "4           Rango_SDO_10           0                  Rango_02   \n",
       "\n",
       "   SDO_ACTIVO_MENOS0  FLG_SEGURO_MENOS0  NRO_ACCES_CANAL1_MENOS0  \\\n",
       "0                  0                  0                        0   \n",
       "1                  0                  0                        0   \n",
       "2                  0                  0                        0   \n",
       "3                  0                  1                        0   \n",
       "4                  0                  0                        0   \n",
       "\n",
       "   NRO_ACCES_CANAL2_MENOS0  NRO_ACCES_CANAL3_MENOS0  NRO_ENTID_SSFF_MENOS0  \\\n",
       "0                        0                        0                      2   \n",
       "1                        0                        7                      0   \n",
       "2                        0                       16                      1   \n",
       "3                        0                        0                      5   \n",
       "4                        0                        1                      0   \n",
       "\n",
       "   FLG_SDO_OTSSFF_MENOS0  \n",
       "0                      1  \n",
       "1                      0  \n",
       "2                      1  \n",
       "3                      1  \n",
       "4                      0  "
      ]
     },
     "execution_count": 48,
     "metadata": {},
     "output_type": "execute_result"
    }
   ],
   "source": [
    "data.head()"
   ]
  },
  {
   "cell_type": "markdown",
   "metadata": {},
   "source": [
    "### 3.2.2. Limpieza"
   ]
  },
  {
   "cell_type": "markdown",
   "metadata": {},
   "source": [
    "### 3.2.2.1 Tratamiendo de valores nulos"
   ]
  },
  {
   "cell_type": "code",
   "execution_count": 49,
   "metadata": {
    "scrolled": true
   },
   "outputs": [
    {
     "data": {
      "text/html": [
       "<div>\n",
       "<style>\n",
       "    .dataframe thead tr:only-child th {\n",
       "        text-align: right;\n",
       "    }\n",
       "\n",
       "    .dataframe thead th {\n",
       "        text-align: left;\n",
       "    }\n",
       "\n",
       "    .dataframe tbody tr th {\n",
       "        vertical-align: top;\n",
       "    }\n",
       "</style>\n",
       "<table border=\"1\" class=\"dataframe\">\n",
       "  <thead>\n",
       "    <tr style=\"text-align: right;\">\n",
       "      <th></th>\n",
       "      <th>n_nulos</th>\n",
       "    </tr>\n",
       "  </thead>\n",
       "  <tbody>\n",
       "    <tr>\n",
       "      <th>ID_CORRELATIVO</th>\n",
       "      <td>0</td>\n",
       "    </tr>\n",
       "    <tr>\n",
       "      <th>CODMES</th>\n",
       "      <td>0</td>\n",
       "    </tr>\n",
       "    <tr>\n",
       "      <th>ATTRITION</th>\n",
       "      <td>0</td>\n",
       "    </tr>\n",
       "    <tr>\n",
       "      <th>SEXO</th>\n",
       "      <td>0</td>\n",
       "    </tr>\n",
       "    <tr>\n",
       "      <th>ESTADO_CIVIL</th>\n",
       "      <td>156</td>\n",
       "    </tr>\n",
       "    <tr>\n",
       "      <th>FLG_BANCARIZADO</th>\n",
       "      <td>0</td>\n",
       "    </tr>\n",
       "    <tr>\n",
       "      <th>RANG_INGRESO</th>\n",
       "      <td>1344</td>\n",
       "    </tr>\n",
       "    <tr>\n",
       "      <th>FLAG_LIMA_PROVINCIA</th>\n",
       "      <td>470</td>\n",
       "    </tr>\n",
       "    <tr>\n",
       "      <th>EDAD</th>\n",
       "      <td>743</td>\n",
       "    </tr>\n",
       "    <tr>\n",
       "      <th>ANTIGUEDAD</th>\n",
       "      <td>254</td>\n",
       "    </tr>\n",
       "    <tr>\n",
       "      <th>RANG_SDO_PASIVO_MENOS0</th>\n",
       "      <td>0</td>\n",
       "    </tr>\n",
       "    <tr>\n",
       "      <th>FLG_NOMINA</th>\n",
       "      <td>0</td>\n",
       "    </tr>\n",
       "    <tr>\n",
       "      <th>RANG_NRO_PRODUCTOS_MENOS0</th>\n",
       "      <td>0</td>\n",
       "    </tr>\n",
       "    <tr>\n",
       "      <th>SDO_ACTIVO_MENOS0</th>\n",
       "      <td>0</td>\n",
       "    </tr>\n",
       "    <tr>\n",
       "      <th>FLG_SEGURO_MENOS0</th>\n",
       "      <td>0</td>\n",
       "    </tr>\n",
       "    <tr>\n",
       "      <th>NRO_ACCES_CANAL1_MENOS0</th>\n",
       "      <td>0</td>\n",
       "    </tr>\n",
       "    <tr>\n",
       "      <th>NRO_ACCES_CANAL2_MENOS0</th>\n",
       "      <td>0</td>\n",
       "    </tr>\n",
       "    <tr>\n",
       "      <th>NRO_ACCES_CANAL3_MENOS0</th>\n",
       "      <td>0</td>\n",
       "    </tr>\n",
       "    <tr>\n",
       "      <th>NRO_ENTID_SSFF_MENOS0</th>\n",
       "      <td>0</td>\n",
       "    </tr>\n",
       "    <tr>\n",
       "      <th>FLG_SDO_OTSSFF_MENOS0</th>\n",
       "      <td>0</td>\n",
       "    </tr>\n",
       "  </tbody>\n",
       "</table>\n",
       "</div>"
      ],
      "text/plain": [
       "                           n_nulos\n",
       "ID_CORRELATIVO                   0\n",
       "CODMES                           0\n",
       "ATTRITION                        0\n",
       "SEXO                             0\n",
       "ESTADO_CIVIL                   156\n",
       "FLG_BANCARIZADO                  0\n",
       "RANG_INGRESO                  1344\n",
       "FLAG_LIMA_PROVINCIA            470\n",
       "EDAD                           743\n",
       "ANTIGUEDAD                     254\n",
       "RANG_SDO_PASIVO_MENOS0           0\n",
       "FLG_NOMINA                       0\n",
       "RANG_NRO_PRODUCTOS_MENOS0        0\n",
       "SDO_ACTIVO_MENOS0                0\n",
       "FLG_SEGURO_MENOS0                0\n",
       "NRO_ACCES_CANAL1_MENOS0          0\n",
       "NRO_ACCES_CANAL2_MENOS0          0\n",
       "NRO_ACCES_CANAL3_MENOS0          0\n",
       "NRO_ENTID_SSFF_MENOS0            0\n",
       "FLG_SDO_OTSSFF_MENOS0            0"
      ]
     },
     "execution_count": 49,
     "metadata": {},
     "output_type": "execute_result"
    }
   ],
   "source": [
    "# Identificar valores nulos:\n",
    "pd.DataFrame(data.isnull().sum()).rename(columns = {0:'n_nulos'})"
   ]
  },
  {
   "cell_type": "code",
   "execution_count": null,
   "metadata": {
    "collapsed": true
   },
   "outputs": [],
   "source": []
  },
  {
   "cell_type": "markdown",
   "metadata": {},
   "source": [
    "##### TRATAMIENTO 1: ELIMINAR COLUMNAS CON GRAN CANTIDAD DE VALORES NULOS"
   ]
  },
  {
   "cell_type": "code",
   "execution_count": 50,
   "metadata": {
    "collapsed": true,
    "scrolled": true
   },
   "outputs": [],
   "source": [
    "data['FLG_ESTADO_CIVIL'] = np.nan\n",
    "data.loc[data['ESTADO_CIVIL'].isnull(), 'FLG_ESTADO_CIVIL'] = 1"
   ]
  },
  {
   "cell_type": "code",
   "execution_count": 51,
   "metadata": {},
   "outputs": [
    {
     "data": {
      "text/plain": [
       "0.98440000000000005"
      ]
     },
     "execution_count": 51,
     "metadata": {},
     "output_type": "execute_result"
    }
   ],
   "source": [
    "data['FLG_ESTADO_CIVIL'].isnull().sum()/len(data)"
   ]
  },
  {
   "cell_type": "code",
   "execution_count": 52,
   "metadata": {
    "collapsed": true
   },
   "outputs": [],
   "source": [
    "data.drop('FLG_ESTADO_CIVIL', axis = 1, inplace = True)\n",
    "#del data['FLG_ESTADO_CIVIL']"
   ]
  },
  {
   "cell_type": "code",
   "execution_count": 53,
   "metadata": {
    "collapsed": true
   },
   "outputs": [],
   "source": [
    "# eliminando varias a la vez\n",
    "data.drop(data.columns[[0, 1, 3]], axis=1, inplace = True)"
   ]
  },
  {
   "cell_type": "markdown",
   "metadata": {},
   "source": [
    "##### TRATAMIENTO 2: ELIMINAR REGISTROS CON VALORES NULOS"
   ]
  },
  {
   "cell_type": "code",
   "execution_count": 54,
   "metadata": {
    "collapsed": true
   },
   "outputs": [],
   "source": [
    "data = data_ori.copy()"
   ]
  },
  {
   "cell_type": "code",
   "execution_count": 55,
   "metadata": {
    "collapsed": true,
    "scrolled": true
   },
   "outputs": [],
   "source": [
    "# ESTADO_CIVIL\n",
    "data = data.loc[-data['ESTADO_CIVIL'].isnull(),]"
   ]
  },
  {
   "cell_type": "code",
   "execution_count": 56,
   "metadata": {},
   "outputs": [
    {
     "data": {
      "text/plain": [
       "0"
      ]
     },
     "execution_count": 56,
     "metadata": {},
     "output_type": "execute_result"
    }
   ],
   "source": [
    "data['ESTADO_CIVIL'].isnull().sum()"
   ]
  },
  {
   "cell_type": "markdown",
   "metadata": {},
   "source": [
    "##### TRATAMIENTO 3: IMPUTAR POR LA MEDIA/MEDIANA/MODA"
   ]
  },
  {
   "cell_type": "code",
   "execution_count": 57,
   "metadata": {
    "collapsed": true
   },
   "outputs": [],
   "source": [
    "from scipy.stats import mode"
   ]
  },
  {
   "cell_type": "markdown",
   "metadata": {},
   "source": [
    "#### - Imputación Generalizada (Usando todos los valores no nulos)"
   ]
  },
  {
   "cell_type": "code",
   "execution_count": 58,
   "metadata": {
    "collapsed": true
   },
   "outputs": [],
   "source": [
    "# Imputación Generalizada (Usando todos los valores no nulos)\n",
    "prom = data['ANTIGUEDAD'].mean()\n",
    "mediana = data['ANTIGUEDAD'].median()\n",
    "moda = data['ANTIGUEDAD'].mode()[0]"
   ]
  },
  {
   "cell_type": "code",
   "execution_count": 59,
   "metadata": {
    "collapsed": true
   },
   "outputs": [],
   "source": [
    "data['ANTIGUEDAD'].fillna(value = prom, inplace = True)"
   ]
  },
  {
   "cell_type": "code",
   "execution_count": 60,
   "metadata": {},
   "outputs": [
    {
     "data": {
      "text/plain": [
       "0"
      ]
     },
     "execution_count": 60,
     "metadata": {},
     "output_type": "execute_result"
    }
   ],
   "source": [
    "# validación\n",
    "data['ANTIGUEDAD'].isnull().sum()"
   ]
  },
  {
   "cell_type": "markdown",
   "metadata": {},
   "source": [
    "#### - Imputación por similaridad (respecto a otras variables)"
   ]
  },
  {
   "cell_type": "code",
   "execution_count": 61,
   "metadata": {},
   "outputs": [
    {
     "data": {
      "text/plain": [
       "735"
      ]
     },
     "execution_count": 61,
     "metadata": {},
     "output_type": "execute_result"
    }
   ],
   "source": [
    "data['EDAD'].isnull().sum()"
   ]
  },
  {
   "cell_type": "code",
   "execution_count": 62,
   "metadata": {},
   "outputs": [
    {
     "data": {
      "text/plain": [
       "FLG_BANCARIZADO\n",
       "0    33.794200\n",
       "1    35.447512\n",
       "Name: EDAD, dtype: float64"
      ]
     },
     "execution_count": 62,
     "metadata": {},
     "output_type": "execute_result"
    }
   ],
   "source": [
    "# Imputación por similaridad (respecto a otras variables)\n",
    "data.groupby(by = ['FLG_BANCARIZADO'])['EDAD'].mean()"
   ]
  },
  {
   "cell_type": "code",
   "execution_count": 63,
   "metadata": {
    "collapsed": true,
    "scrolled": true
   },
   "outputs": [],
   "source": [
    "data.loc[(data['FLG_BANCARIZADO']==0)&(data['EDAD'].isnull()), 'EDAD'] = 33\n",
    "data.loc[(data['FLG_BANCARIZADO']==1)&(data['EDAD'].isnull()), 'EDAD'] = 35"
   ]
  },
  {
   "cell_type": "markdown",
   "metadata": {},
   "source": [
    "#### TRATAMIENTO 4: IMPUTAR MEDIANTE UN MODELO PREDICTIVO"
   ]
  },
  {
   "cell_type": "markdown",
   "metadata": {},
   "source": [
    "Es uno de los métodos más sofisticados. Con uso de las otras variables del dataset se puede desarrollar un modelo predictivo para estimar los valores nulos."
   ]
  },
  {
   "cell_type": "code",
   "execution_count": null,
   "metadata": {
    "collapsed": true
   },
   "outputs": [],
   "source": []
  },
  {
   "cell_type": "markdown",
   "metadata": {},
   "source": [
    "### 3.2.2.2 Tratamiendo de outliers"
   ]
  },
  {
   "cell_type": "code",
   "execution_count": 64,
   "metadata": {
    "collapsed": true
   },
   "outputs": [],
   "source": [
    "data2 = data.copy()"
   ]
  },
  {
   "cell_type": "code",
   "execution_count": 65,
   "metadata": {
    "collapsed": true
   },
   "outputs": [],
   "source": [
    "features_num = ['EDAD', \n",
    "'ANTIGUEDAD', \n",
    "'SDO_ACTIVO_MENOS0',\n",
    "'NRO_ACCES_CANAL1_MENOS0',\n",
    "'NRO_ACCES_CANAL2_MENOS0',\n",
    "'NRO_ACCES_CANAL3_MENOS0',\n",
    "'NRO_ENTID_SSFF_MENOS0']"
   ]
  },
  {
   "cell_type": "markdown",
   "metadata": {},
   "source": [
    "### - Analizando por rango intercuartil"
   ]
  },
  {
   "cell_type": "code",
   "execution_count": 66,
   "metadata": {
    "scrolled": true
   },
   "outputs": [
    {
     "data": {
      "image/png": "[encoded data removed]",
      "text/plain": [
       "<matplotlib.figure.Figure at 0xa0c14ef860>"
      ]
     },
     "metadata": {},
     "output_type": "display_data"
    },
    {
     "data": {
      "image/png": "[encoded data removed]",
      "text/plain": [
       "<matplotlib.figure.Figure at 0xa0c1e50cc0>"
      ]
     },
     "metadata": {},
     "output_type": "display_data"
    },
    {
     "data": {
      "image/png": "[encoded data removed]",
      "text/plain": [
       "<matplotlib.figure.Figure at 0xa0c1e7d518>"
      ]
     },
     "metadata": {},
     "output_type": "display_data"
    },
    {
     "data": {
      "image/png": "[encoded data removed]",
      "text/plain": [
       "<matplotlib.figure.Figure at 0xa0c347ad30>"
      ]
     },
     "metadata": {},
     "output_type": "display_data"
    },
    {
     "data": {
      "image/png": "[encoded data removed]",
      "text/plain": [
       "<matplotlib.figure.Figure at 0xa0c3531ef0>"
      ]
     },
     "metadata": {},
     "output_type": "display_data"
    },
    {
     "data": {
      "image/png": "[encoded data removed]",
      "text/plain": [
       "<matplotlib.figure.Figure at 0xa0c358ff28>"
      ]
     },
     "metadata": {},
     "output_type": "display_data"
    },
    {
     "data": {
      "image/png": "[encoded data removed]",
      "text/plain": [
       "<matplotlib.figure.Figure at 0xa0c35f1cc0>"
      ]
     },
     "metadata": {},
     "output_type": "display_data"
    }
   ],
   "source": [
    "# Graficando todos los boxplot de las variables numericas\n",
    "import matplotlib.pyplot as plt\n",
    "for feature in features_num:\n",
    "    plt.boxplot(data2[feature])\n",
    "    plt.title(feature)\n",
    "    plt.show()"
   ]
  },
  {
   "cell_type": "code",
   "execution_count": 67,
   "metadata": {
    "collapsed": true
   },
   "outputs": [],
   "source": [
    "# Empezaremos revisando la variable EDAD"
   ]
  },
  {
   "cell_type": "code",
   "execution_count": 68,
   "metadata": {
    "collapsed": true
   },
   "outputs": [],
   "source": [
    "q1 = data2['EDAD'].quantile(0.25)\n",
    "q2 = data2['EDAD'].quantile(0.5)\n",
    "q3 = data2['EDAD'].quantile(0.75)\n",
    "RIC = q3 - q1\n",
    "lim_sup = q3 + 1.5*RIC\n",
    "lim_inf = q1 - 1.5*RIC"
   ]
  },
  {
   "cell_type": "code",
   "execution_count": 69,
   "metadata": {
    "collapsed": true,
    "scrolled": true
   },
   "outputs": [],
   "source": [
    "data2['EDAD_new'] = data2['EDAD'].apply(lambda x : lim_inf if x < lim_inf else (lim_sup if x > lim_sup else x) )"
   ]
  },
  {
   "cell_type": "markdown",
   "metadata": {},
   "source": [
    "Veamos el resultado:"
   ]
  },
  {
   "cell_type": "code",
   "execution_count": 70,
   "metadata": {},
   "outputs": [
    {
     "data": {
      "image/png": "[encoded data removed]",
      "text/plain": [
       "<matplotlib.figure.Figure at 0xa0c3531eb8>"
      ]
     },
     "metadata": {},
     "output_type": "display_data"
    }
   ],
   "source": [
    "# Boxplot EDAD\n",
    "plt.boxplot(data2['EDAD'])\n",
    "plt.show()"
   ]
  },
  {
   "cell_type": "code",
   "execution_count": 71,
   "metadata": {},
   "outputs": [
    {
     "data": {
      "image/png": "[encoded data removed]",
      "text/plain": [
       "<matplotlib.figure.Figure at 0xa0c3617d68>"
      ]
     },
     "metadata": {},
     "output_type": "display_data"
    }
   ],
   "source": [
    "# Boxplot EDAD_new\n",
    "plt.boxplot(data2['EDAD_new'])\n",
    "plt.show()"
   ]
  },
  {
   "cell_type": "code",
   "execution_count": 72,
   "metadata": {},
   "outputs": [
    {
     "data": {
      "image/png": "[encoded data removed]",
      "text/plain": [
       "<matplotlib.figure.Figure at 0xa0c375dc88>"
      ]
     },
     "metadata": {},
     "output_type": "display_data"
    }
   ],
   "source": [
    "# Histograma EDAD\n",
    "data2['EDAD'].hist(bins = 50)\n",
    "plt.show()"
   ]
  },
  {
   "cell_type": "code",
   "execution_count": 73,
   "metadata": {},
   "outputs": [
    {
     "data": {
      "image/png": "[encoded data removed]",
      "text/plain": [
       "<matplotlib.figure.Figure at 0xa0c37791d0>"
      ]
     },
     "metadata": {},
     "output_type": "display_data"
    }
   ],
   "source": [
    "# Histograma EDAD_new\n",
    "data2['EDAD_new'].hist(bins = 50)\n",
    "plt.show()"
   ]
  },
  {
   "cell_type": "markdown",
   "metadata": {},
   "source": [
    "### - Analizando por percentiles"
   ]
  },
  {
   "cell_type": "code",
   "execution_count": 74,
   "metadata": {
    "collapsed": true
   },
   "outputs": [],
   "source": [
    "vector_percentiles = [0,1,2.5,5,10,50,90,92.5,95,97.5,99,99.5,100]"
   ]
  },
  {
   "cell_type": "code",
   "execution_count": 75,
   "metadata": {
    "scrolled": true
   },
   "outputs": [
    {
     "name": "stdout",
     "output_type": "stream",
     "text": [
      "------------------------------------------------------\n",
      "1. Var: EDAD\n",
      "    Percentile  Valor\n",
      "0          0.0   18.0\n",
      "1          1.0   21.0\n",
      "2          2.5   22.0\n",
      "3          5.0   23.0\n",
      "4         10.0   24.0\n",
      "5         50.0   33.0\n",
      "6         90.0   51.0\n",
      "7         92.5   55.0\n",
      "8         95.0   59.0\n",
      "9         97.5   64.0\n",
      "10        99.0   70.0\n",
      "11        99.5   75.0\n",
      "12       100.0   90.0\n",
      "------------------------------------------------------\n",
      "2. Var: ANTIGUEDAD\n",
      "    Percentile  Valor\n",
      "0          0.0    0.0\n",
      "1          1.0    0.0\n",
      "2          2.5    0.0\n",
      "3          5.0    0.0\n",
      "4         10.0    0.0\n",
      "5         50.0    1.0\n",
      "6         90.0    8.0\n",
      "7         92.5    8.0\n",
      "8         95.0    9.0\n",
      "9         97.5   10.0\n",
      "10        99.0   10.0\n",
      "11        99.5   10.0\n",
      "12       100.0   20.0\n",
      "------------------------------------------------------\n",
      "3. Var: SDO_ACTIVO_MENOS0\n",
      "    Percentile       Valor\n",
      "0          0.0        0.00\n",
      "1          1.0        0.00\n",
      "2          2.5        0.00\n",
      "3          5.0        0.00\n",
      "4         10.0        0.00\n",
      "5         50.0        0.00\n",
      "6         90.0     7581.00\n",
      "7         92.5    10615.50\n",
      "8         95.0    16428.50\n",
      "9         97.5    51514.75\n",
      "10        99.0   204488.50\n",
      "11        99.5   360465.40\n",
      "12       100.0  2316500.00\n",
      "------------------------------------------------------\n",
      "4. Var: NRO_ACCES_CANAL1_MENOS0\n",
      "    Percentile  Valor\n",
      "0          0.0    0.0\n",
      "1          1.0    0.0\n",
      "2          2.5    0.0\n",
      "3          5.0    0.0\n",
      "4         10.0    0.0\n",
      "5         50.0    0.0\n",
      "6         90.0    4.0\n",
      "7         92.5    5.0\n",
      "8         95.0    7.0\n",
      "9         97.5    9.0\n",
      "10        99.0   13.0\n",
      "11        99.5   17.0\n",
      "12       100.0   28.0\n",
      "------------------------------------------------------\n",
      "5. Var: NRO_ACCES_CANAL2_MENOS0\n",
      "    Percentile  Valor\n",
      "0          0.0    0.0\n",
      "1          1.0    0.0\n",
      "2          2.5    0.0\n",
      "3          5.0    0.0\n",
      "4         10.0    0.0\n",
      "5         50.0    0.0\n",
      "6         90.0    7.0\n",
      "7         92.5   10.0\n",
      "8         95.0   13.0\n",
      "9         97.5   17.0\n",
      "10        99.0   21.0\n",
      "11        99.5   24.0\n",
      "12       100.0   30.0\n",
      "------------------------------------------------------\n",
      "6. Var: NRO_ACCES_CANAL3_MENOS0\n",
      "    Percentile  Valor\n",
      "0          0.0    0.0\n",
      "1          1.0    0.0\n",
      "2          2.5    0.0\n",
      "3          5.0    0.0\n",
      "4         10.0    0.0\n",
      "5         50.0    3.0\n",
      "6         90.0   16.0\n",
      "7         92.5   17.0\n",
      "8         95.0   20.0\n",
      "9         97.5   25.0\n",
      "10        99.0   32.0\n",
      "11        99.5   37.0\n",
      "12       100.0  160.0\n",
      "------------------------------------------------------\n",
      "7. Var: NRO_ENTID_SSFF_MENOS0\n",
      "    Percentile  Valor\n",
      "0          0.0    0.0\n",
      "1          1.0    0.0\n",
      "2          2.5    0.0\n",
      "3          5.0    0.0\n",
      "4         10.0    0.0\n",
      "5         50.0    2.0\n",
      "6         90.0    5.0\n",
      "7         92.5    5.0\n",
      "8         95.0    6.0\n",
      "9         97.5    6.0\n",
      "10        99.0    7.0\n",
      "11        99.5    8.0\n",
      "12       100.0   10.0\n"
     ]
    }
   ],
   "source": [
    "cont = 0\n",
    "for feature in features_num:\n",
    "    cont = cont + 1\n",
    "    print(\"------------------------------------------------------\")\n",
    "    print(str(cont),\". Var: \",feature, sep = \"\")\n",
    "    print(pd.concat([pd.DataFrame(vector_percentiles, columns = ['Percentile']),\n",
    "                     pd.DataFrame(np.nanpercentile(data2[[feature]], vector_percentiles), columns = ['Valor'])], axis = 1))"
   ]
  },
  {
   "cell_type": "code",
   "execution_count": 76,
   "metadata": {},
   "outputs": [
    {
     "data": {
      "text/html": [
       "<div>\n",
       "<style>\n",
       "    .dataframe thead tr:only-child th {\n",
       "        text-align: right;\n",
       "    }\n",
       "\n",
       "    .dataframe thead th {\n",
       "        text-align: left;\n",
       "    }\n",
       "\n",
       "    .dataframe tbody tr th {\n",
       "        vertical-align: top;\n",
       "    }\n",
       "</style>\n",
       "<table border=\"1\" class=\"dataframe\">\n",
       "  <thead>\n",
       "    <tr style=\"text-align: right;\">\n",
       "      <th></th>\n",
       "      <th>Percentil</th>\n",
       "      <th>Valor</th>\n",
       "    </tr>\n",
       "  </thead>\n",
       "  <tbody>\n",
       "    <tr>\n",
       "      <th>0</th>\n",
       "      <td>0.0</td>\n",
       "      <td>0.00</td>\n",
       "    </tr>\n",
       "    <tr>\n",
       "      <th>1</th>\n",
       "      <td>1.0</td>\n",
       "      <td>0.00</td>\n",
       "    </tr>\n",
       "    <tr>\n",
       "      <th>2</th>\n",
       "      <td>2.5</td>\n",
       "      <td>0.00</td>\n",
       "    </tr>\n",
       "    <tr>\n",
       "      <th>3</th>\n",
       "      <td>5.0</td>\n",
       "      <td>0.00</td>\n",
       "    </tr>\n",
       "    <tr>\n",
       "      <th>4</th>\n",
       "      <td>10.0</td>\n",
       "      <td>0.00</td>\n",
       "    </tr>\n",
       "    <tr>\n",
       "      <th>5</th>\n",
       "      <td>50.0</td>\n",
       "      <td>0.00</td>\n",
       "    </tr>\n",
       "    <tr>\n",
       "      <th>6</th>\n",
       "      <td>90.0</td>\n",
       "      <td>7581.00</td>\n",
       "    </tr>\n",
       "    <tr>\n",
       "      <th>7</th>\n",
       "      <td>92.5</td>\n",
       "      <td>10615.50</td>\n",
       "    </tr>\n",
       "    <tr>\n",
       "      <th>8</th>\n",
       "      <td>95.0</td>\n",
       "      <td>16428.50</td>\n",
       "    </tr>\n",
       "    <tr>\n",
       "      <th>9</th>\n",
       "      <td>97.5</td>\n",
       "      <td>51514.75</td>\n",
       "    </tr>\n",
       "    <tr>\n",
       "      <th>10</th>\n",
       "      <td>99.0</td>\n",
       "      <td>204488.50</td>\n",
       "    </tr>\n",
       "    <tr>\n",
       "      <th>11</th>\n",
       "      <td>99.5</td>\n",
       "      <td>360465.40</td>\n",
       "    </tr>\n",
       "    <tr>\n",
       "      <th>12</th>\n",
       "      <td>100.0</td>\n",
       "      <td>2316500.00</td>\n",
       "    </tr>\n",
       "  </tbody>\n",
       "</table>\n",
       "</div>"
      ],
      "text/plain": [
       "    Percentil       Valor\n",
       "0         0.0        0.00\n",
       "1         1.0        0.00\n",
       "2         2.5        0.00\n",
       "3         5.0        0.00\n",
       "4        10.0        0.00\n",
       "5        50.0        0.00\n",
       "6        90.0     7581.00\n",
       "7        92.5    10615.50\n",
       "8        95.0    16428.50\n",
       "9        97.5    51514.75\n",
       "10       99.0   204488.50\n",
       "11       99.5   360465.40\n",
       "12      100.0  2316500.00"
      ]
     },
     "execution_count": 76,
     "metadata": {},
     "output_type": "execute_result"
    }
   ],
   "source": [
    "# Analizaremos la variable SDO_ACTIVO_MENOS0\n",
    "pd.concat([pd.DataFrame(vector_percentiles, columns = ['Percentil']),\n",
    "pd.DataFrame(np.nanpercentile(data['SDO_ACTIVO_MENOS0'],vector_percentiles), columns=['Valor'])], axis = 1)"
   ]
  },
  {
   "cell_type": "code",
   "execution_count": 77,
   "metadata": {
    "collapsed": true
   },
   "outputs": [],
   "source": [
    "p5 = data['SDO_ACTIVO_MENOS0'].quantile(0.05)\n",
    "p95 = data['SDO_ACTIVO_MENOS0'].quantile(0.95)"
   ]
  },
  {
   "cell_type": "code",
   "execution_count": 78,
   "metadata": {
    "collapsed": true
   },
   "outputs": [],
   "source": [
    "data2['SDO_ACTIVO_MENOS0_new'] = data2['SDO_ACTIVO_MENOS0'].apply(lambda x : p5 if x < p5 else (p95 if x > p95 else x) )"
   ]
  },
  {
   "cell_type": "markdown",
   "metadata": {},
   "source": [
    "Veamos el resultado:"
   ]
  },
  {
   "cell_type": "code",
   "execution_count": 79,
   "metadata": {},
   "outputs": [
    {
     "data": {
      "image/png": "[encoded data removed]",
      "text/plain": [
       "<matplotlib.figure.Figure at 0xa0c3c02748>"
      ]
     },
     "metadata": {},
     "output_type": "display_data"
    }
   ],
   "source": [
    "data2['SDO_ACTIVO_MENOS0'].hist(bins = 50)\n",
    "plt.show()"
   ]
  },
  {
   "cell_type": "code",
   "execution_count": 80,
   "metadata": {},
   "outputs": [
    {
     "data": {
      "image/png": "[encoded data removed]",
      "text/plain": [
       "<matplotlib.figure.Figure at 0xa0c3c8b240>"
      ]
     },
     "metadata": {},
     "output_type": "display_data"
    }
   ],
   "source": [
    "data2['SDO_ACTIVO_MENOS0_new'].hist(bins = 50)\n",
    "plt.show()"
   ]
  },
  {
   "cell_type": "markdown",
   "metadata": {},
   "source": [
    "### - Imputación"
   ]
  },
  {
   "cell_type": "markdown",
   "metadata": {
    "collapsed": true
   },
   "source": [
    "Así como la imputación de valores nulos , también podemos imputar valores atípicos. Podemos usar métodos de imputación por media, mediana o de moda. Antes de imputar valores, debemos analizar si es un valor atípico natural o artificial. Si es artificial, podemos ir con valores imputables. También podemos usar un modelo estadístico para predecir los valores de observación atípica y luego podemos imputarlo con los valores predichos."
   ]
  },
  {
   "cell_type": "code",
   "execution_count": null,
   "metadata": {
    "collapsed": true
   },
   "outputs": [],
   "source": []
  },
  {
   "cell_type": "code",
   "execution_count": 81,
   "metadata": {},
   "outputs": [
    {
     "name": "stdout",
     "output_type": "stream",
     "text": [
      "Listo!\n"
     ]
    }
   ],
   "source": [
    "print(\"Listo!\")"
   ]
  },
  {
   "cell_type": "markdown",
   "metadata": {},
   "source": [
    "# <font color=#003d5c>3.3 Feature Engineering</font>\n"
   ]
  },
  {
   "cell_type": "code",
   "execution_count": 5,
   "metadata": {
    "collapsed": true
   },
   "outputs": [],
   "source": [
    "# Revisando data historica"
   ]
  },
  {
   "cell_type": "code",
   "execution_count": 6,
   "metadata": {},
   "outputs": [
    {
     "data": {
      "text/html": [
       "<div>\n",
       "<style>\n",
       "    .dataframe thead tr:only-child th {\n",
       "        text-align: right;\n",
       "    }\n",
       "\n",
       "    .dataframe thead th {\n",
       "        text-align: left;\n",
       "    }\n",
       "\n",
       "    .dataframe tbody tr th {\n",
       "        vertical-align: top;\n",
       "    }\n",
       "</style>\n",
       "<table border=\"1\" class=\"dataframe\">\n",
       "  <thead>\n",
       "    <tr style=\"text-align: right;\">\n",
       "      <th></th>\n",
       "      <th>ID_CORRELATIVO</th>\n",
       "      <th>CODMES</th>\n",
       "      <th>SDO_ACTIVO_MENOS0</th>\n",
       "      <th>SDO_ACTIVO_MENOS1</th>\n",
       "      <th>SDO_ACTIVO_MENOS2</th>\n",
       "      <th>SDO_ACTIVO_MENOS3</th>\n",
       "      <th>SDO_ACTIVO_MENOS4</th>\n",
       "      <th>SDO_ACTIVO_MENOS5</th>\n",
       "      <th>FLG_SEGURO_MENOS0</th>\n",
       "      <th>FLG_SEGURO_MENOS1</th>\n",
       "      <th>...</th>\n",
       "      <th>NRO_ENTID_SSFF_MENOS2</th>\n",
       "      <th>NRO_ENTID_SSFF_MENOS3</th>\n",
       "      <th>NRO_ENTID_SSFF_MENOS4</th>\n",
       "      <th>NRO_ENTID_SSFF_MENOS5</th>\n",
       "      <th>FLG_SDO_OTSSFF_MENOS0</th>\n",
       "      <th>FLG_SDO_OTSSFF_MENOS1</th>\n",
       "      <th>FLG_SDO_OTSSFF_MENOS2</th>\n",
       "      <th>FLG_SDO_OTSSFF_MENOS3</th>\n",
       "      <th>FLG_SDO_OTSSFF_MENOS4</th>\n",
       "      <th>FLG_SDO_OTSSFF_MENOS5</th>\n",
       "    </tr>\n",
       "  </thead>\n",
       "  <tbody>\n",
       "    <tr>\n",
       "      <th>0</th>\n",
       "      <td>11752</td>\n",
       "      <td>201208</td>\n",
       "      <td>0</td>\n",
       "      <td>0</td>\n",
       "      <td>0</td>\n",
       "      <td>0</td>\n",
       "      <td>0</td>\n",
       "      <td>0</td>\n",
       "      <td>0</td>\n",
       "      <td>0</td>\n",
       "      <td>...</td>\n",
       "      <td>2</td>\n",
       "      <td>2</td>\n",
       "      <td>2</td>\n",
       "      <td>2</td>\n",
       "      <td>1</td>\n",
       "      <td>1</td>\n",
       "      <td>1</td>\n",
       "      <td>1</td>\n",
       "      <td>1</td>\n",
       "      <td>1</td>\n",
       "    </tr>\n",
       "    <tr>\n",
       "      <th>1</th>\n",
       "      <td>98898</td>\n",
       "      <td>201208</td>\n",
       "      <td>0</td>\n",
       "      <td>0</td>\n",
       "      <td>0</td>\n",
       "      <td>0</td>\n",
       "      <td>0</td>\n",
       "      <td>0</td>\n",
       "      <td>0</td>\n",
       "      <td>0</td>\n",
       "      <td>...</td>\n",
       "      <td>0</td>\n",
       "      <td>0</td>\n",
       "      <td>0</td>\n",
       "      <td>0</td>\n",
       "      <td>0</td>\n",
       "      <td>0</td>\n",
       "      <td>0</td>\n",
       "      <td>0</td>\n",
       "      <td>0</td>\n",
       "      <td>0</td>\n",
       "    </tr>\n",
       "    <tr>\n",
       "      <th>2</th>\n",
       "      <td>82206</td>\n",
       "      <td>201208</td>\n",
       "      <td>0</td>\n",
       "      <td>0</td>\n",
       "      <td>0</td>\n",
       "      <td>0</td>\n",
       "      <td>0</td>\n",
       "      <td>0</td>\n",
       "      <td>0</td>\n",
       "      <td>0</td>\n",
       "      <td>...</td>\n",
       "      <td>1</td>\n",
       "      <td>1</td>\n",
       "      <td>1</td>\n",
       "      <td>1</td>\n",
       "      <td>1</td>\n",
       "      <td>1</td>\n",
       "      <td>1</td>\n",
       "      <td>1</td>\n",
       "      <td>1</td>\n",
       "      <td>1</td>\n",
       "    </tr>\n",
       "    <tr>\n",
       "      <th>3</th>\n",
       "      <td>50435</td>\n",
       "      <td>201208</td>\n",
       "      <td>0</td>\n",
       "      <td>0</td>\n",
       "      <td>0</td>\n",
       "      <td>0</td>\n",
       "      <td>0</td>\n",
       "      <td>0</td>\n",
       "      <td>1</td>\n",
       "      <td>1</td>\n",
       "      <td>...</td>\n",
       "      <td>5</td>\n",
       "      <td>5</td>\n",
       "      <td>4</td>\n",
       "      <td>4</td>\n",
       "      <td>1</td>\n",
       "      <td>1</td>\n",
       "      <td>1</td>\n",
       "      <td>1</td>\n",
       "      <td>1</td>\n",
       "      <td>1</td>\n",
       "    </tr>\n",
       "    <tr>\n",
       "      <th>4</th>\n",
       "      <td>79004</td>\n",
       "      <td>201208</td>\n",
       "      <td>0</td>\n",
       "      <td>0</td>\n",
       "      <td>0</td>\n",
       "      <td>0</td>\n",
       "      <td>0</td>\n",
       "      <td>0</td>\n",
       "      <td>0</td>\n",
       "      <td>0</td>\n",
       "      <td>...</td>\n",
       "      <td>0</td>\n",
       "      <td>0</td>\n",
       "      <td>0</td>\n",
       "      <td>0</td>\n",
       "      <td>0</td>\n",
       "      <td>0</td>\n",
       "      <td>0</td>\n",
       "      <td>0</td>\n",
       "      <td>0</td>\n",
       "      <td>0</td>\n",
       "    </tr>\n",
       "  </tbody>\n",
       "</table>\n",
       "<p>5 rows × 44 columns</p>\n",
       "</div>"
      ],
      "text/plain": [
       "   ID_CORRELATIVO  CODMES  SDO_ACTIVO_MENOS0  SDO_ACTIVO_MENOS1  \\\n",
       "0           11752  201208                  0                  0   \n",
       "1           98898  201208                  0                  0   \n",
       "2           82206  201208                  0                  0   \n",
       "3           50435  201208                  0                  0   \n",
       "4           79004  201208                  0                  0   \n",
       "\n",
       "   SDO_ACTIVO_MENOS2  SDO_ACTIVO_MENOS3  SDO_ACTIVO_MENOS4  SDO_ACTIVO_MENOS5  \\\n",
       "0                  0                  0                  0                  0   \n",
       "1                  0                  0                  0                  0   \n",
       "2                  0                  0                  0                  0   \n",
       "3                  0                  0                  0                  0   \n",
       "4                  0                  0                  0                  0   \n",
       "\n",
       "   FLG_SEGURO_MENOS0  FLG_SEGURO_MENOS1          ...            \\\n",
       "0                  0                  0          ...             \n",
       "1                  0                  0          ...             \n",
       "2                  0                  0          ...             \n",
       "3                  1                  1          ...             \n",
       "4                  0                  0          ...             \n",
       "\n",
       "   NRO_ENTID_SSFF_MENOS2  NRO_ENTID_SSFF_MENOS3  NRO_ENTID_SSFF_MENOS4  \\\n",
       "0                      2                      2                      2   \n",
       "1                      0                      0                      0   \n",
       "2                      1                      1                      1   \n",
       "3                      5                      5                      4   \n",
       "4                      0                      0                      0   \n",
       "\n",
       "   NRO_ENTID_SSFF_MENOS5  FLG_SDO_OTSSFF_MENOS0  FLG_SDO_OTSSFF_MENOS1  \\\n",
       "0                      2                      1                      1   \n",
       "1                      0                      0                      0   \n",
       "2                      1                      1                      1   \n",
       "3                      4                      1                      1   \n",
       "4                      0                      0                      0   \n",
       "\n",
       "   FLG_SDO_OTSSFF_MENOS2  FLG_SDO_OTSSFF_MENOS3  FLG_SDO_OTSSFF_MENOS4  \\\n",
       "0                      1                      1                      1   \n",
       "1                      0                      0                      0   \n",
       "2                      1                      1                      1   \n",
       "3                      1                      1                      1   \n",
       "4                      0                      0                      0   \n",
       "\n",
       "   FLG_SDO_OTSSFF_MENOS5  \n",
       "0                      1  \n",
       "1                      0  \n",
       "2                      1  \n",
       "3                      1  \n",
       "4                      0  \n",
       "\n",
       "[5 rows x 44 columns]"
      ]
     },
     "execution_count": 6,
     "metadata": {},
     "output_type": "execute_result"
    }
   ],
   "source": [
    "data_hist.head()"
   ]
  },
  {
   "cell_type": "code",
   "execution_count": 9,
   "metadata": {
    "scrolled": true
   },
   "outputs": [
    {
     "data": {
      "text/plain": [
       "['ID_CORRELATIVO',\n",
       " 'CODMES',\n",
       " 'SDO_ACTIVO_MENOS0',\n",
       " 'SDO_ACTIVO_MENOS1',\n",
       " 'SDO_ACTIVO_MENOS2',\n",
       " 'SDO_ACTIVO_MENOS3',\n",
       " 'SDO_ACTIVO_MENOS4',\n",
       " 'SDO_ACTIVO_MENOS5',\n",
       " 'FLG_SEGURO_MENOS0',\n",
       " 'FLG_SEGURO_MENOS1',\n",
       " 'FLG_SEGURO_MENOS2',\n",
       " 'FLG_SEGURO_MENOS3',\n",
       " 'FLG_SEGURO_MENOS4',\n",
       " 'FLG_SEGURO_MENOS5',\n",
       " 'NRO_ACCES_CANAL1_MENOS0',\n",
       " 'NRO_ACCES_CANAL1_MENOS1',\n",
       " 'NRO_ACCES_CANAL1_MENOS2',\n",
       " 'NRO_ACCES_CANAL1_MENOS3',\n",
       " 'NRO_ACCES_CANAL1_MENOS4',\n",
       " 'NRO_ACCES_CANAL1_MENOS5',\n",
       " 'NRO_ACCES_CANAL2_MENOS0',\n",
       " 'NRO_ACCES_CANAL2_MENOS1',\n",
       " 'NRO_ACCES_CANAL2_MENOS2',\n",
       " 'NRO_ACCES_CANAL2_MENOS3',\n",
       " 'NRO_ACCES_CANAL2_MENOS4',\n",
       " 'NRO_ACCES_CANAL2_MENOS5',\n",
       " 'NRO_ACCES_CANAL3_MENOS0',\n",
       " 'NRO_ACCES_CANAL3_MENOS1',\n",
       " 'NRO_ACCES_CANAL3_MENOS2',\n",
       " 'NRO_ACCES_CANAL3_MENOS3',\n",
       " 'NRO_ACCES_CANAL3_MENOS4',\n",
       " 'NRO_ACCES_CANAL3_MENOS5',\n",
       " 'NRO_ENTID_SSFF_MENOS0',\n",
       " 'NRO_ENTID_SSFF_MENOS1',\n",
       " 'NRO_ENTID_SSFF_MENOS2',\n",
       " 'NRO_ENTID_SSFF_MENOS3',\n",
       " 'NRO_ENTID_SSFF_MENOS4',\n",
       " 'NRO_ENTID_SSFF_MENOS5',\n",
       " 'FLG_SDO_OTSSFF_MENOS0',\n",
       " 'FLG_SDO_OTSSFF_MENOS1',\n",
       " 'FLG_SDO_OTSSFF_MENOS2',\n",
       " 'FLG_SDO_OTSSFF_MENOS3',\n",
       " 'FLG_SDO_OTSSFF_MENOS4',\n",
       " 'FLG_SDO_OTSSFF_MENOS5']"
      ]
     },
     "execution_count": 9,
     "metadata": {},
     "output_type": "execute_result"
    }
   ],
   "source": [
    "list(data_hist.columns)"
   ]
  },
  {
   "cell_type": "code",
   "execution_count": 12,
   "metadata": {},
   "outputs": [],
   "source": [
    "df_hist = data_hist.copy()"
   ]
  },
  {
   "cell_type": "code",
   "execution_count": 22,
   "metadata": {
    "collapsed": true
   },
   "outputs": [],
   "source": [
    "df_hist['SDO_ACTIVO_ULT3M'] = df_hist[df_hist.columns.values[2:5]].mean(axis = 1)\n",
    "df_hist['SDO_ACTIVO_ULT6M'] = df_hist[df_hist.columns.values[2:8]].mean(axis = 1)"
   ]
  },
  {
   "cell_type": "code",
   "execution_count": 23,
   "metadata": {},
   "outputs": [
    {
     "data": {
      "text/html": [
       "<div>\n",
       "<style>\n",
       "    .dataframe thead tr:only-child th {\n",
       "        text-align: right;\n",
       "    }\n",
       "\n",
       "    .dataframe thead th {\n",
       "        text-align: left;\n",
       "    }\n",
       "\n",
       "    .dataframe tbody tr th {\n",
       "        vertical-align: top;\n",
       "    }\n",
       "</style>\n",
       "<table border=\"1\" class=\"dataframe\">\n",
       "  <thead>\n",
       "    <tr style=\"text-align: right;\">\n",
       "      <th></th>\n",
       "      <th>ID_CORRELATIVO</th>\n",
       "      <th>CODMES</th>\n",
       "      <th>SDO_ACTIVO_MENOS0</th>\n",
       "      <th>SDO_ACTIVO_MENOS1</th>\n",
       "      <th>SDO_ACTIVO_MENOS2</th>\n",
       "      <th>SDO_ACTIVO_MENOS3</th>\n",
       "      <th>SDO_ACTIVO_MENOS4</th>\n",
       "      <th>SDO_ACTIVO_MENOS5</th>\n",
       "      <th>FLG_SEGURO_MENOS0</th>\n",
       "      <th>FLG_SEGURO_MENOS1</th>\n",
       "      <th>...</th>\n",
       "      <th>NRO_ENTID_SSFF_MENOS4</th>\n",
       "      <th>NRO_ENTID_SSFF_MENOS5</th>\n",
       "      <th>FLG_SDO_OTSSFF_MENOS0</th>\n",
       "      <th>FLG_SDO_OTSSFF_MENOS1</th>\n",
       "      <th>FLG_SDO_OTSSFF_MENOS2</th>\n",
       "      <th>FLG_SDO_OTSSFF_MENOS3</th>\n",
       "      <th>FLG_SDO_OTSSFF_MENOS4</th>\n",
       "      <th>FLG_SDO_OTSSFF_MENOS5</th>\n",
       "      <th>SDO_ACTIVO_ULT6M</th>\n",
       "      <th>SDO_ACTIVO_ULT3M</th>\n",
       "    </tr>\n",
       "  </thead>\n",
       "  <tbody>\n",
       "    <tr>\n",
       "      <th>0</th>\n",
       "      <td>11752</td>\n",
       "      <td>201208</td>\n",
       "      <td>0</td>\n",
       "      <td>0</td>\n",
       "      <td>0</td>\n",
       "      <td>0</td>\n",
       "      <td>0</td>\n",
       "      <td>0</td>\n",
       "      <td>0</td>\n",
       "      <td>0</td>\n",
       "      <td>...</td>\n",
       "      <td>2</td>\n",
       "      <td>2</td>\n",
       "      <td>1</td>\n",
       "      <td>1</td>\n",
       "      <td>1</td>\n",
       "      <td>1</td>\n",
       "      <td>1</td>\n",
       "      <td>1</td>\n",
       "      <td>0.0</td>\n",
       "      <td>0.0</td>\n",
       "    </tr>\n",
       "    <tr>\n",
       "      <th>1</th>\n",
       "      <td>98898</td>\n",
       "      <td>201208</td>\n",
       "      <td>0</td>\n",
       "      <td>0</td>\n",
       "      <td>0</td>\n",
       "      <td>0</td>\n",
       "      <td>0</td>\n",
       "      <td>0</td>\n",
       "      <td>0</td>\n",
       "      <td>0</td>\n",
       "      <td>...</td>\n",
       "      <td>0</td>\n",
       "      <td>0</td>\n",
       "      <td>0</td>\n",
       "      <td>0</td>\n",
       "      <td>0</td>\n",
       "      <td>0</td>\n",
       "      <td>0</td>\n",
       "      <td>0</td>\n",
       "      <td>0.0</td>\n",
       "      <td>0.0</td>\n",
       "    </tr>\n",
       "    <tr>\n",
       "      <th>2</th>\n",
       "      <td>82206</td>\n",
       "      <td>201208</td>\n",
       "      <td>0</td>\n",
       "      <td>0</td>\n",
       "      <td>0</td>\n",
       "      <td>0</td>\n",
       "      <td>0</td>\n",
       "      <td>0</td>\n",
       "      <td>0</td>\n",
       "      <td>0</td>\n",
       "      <td>...</td>\n",
       "      <td>1</td>\n",
       "      <td>1</td>\n",
       "      <td>1</td>\n",
       "      <td>1</td>\n",
       "      <td>1</td>\n",
       "      <td>1</td>\n",
       "      <td>1</td>\n",
       "      <td>1</td>\n",
       "      <td>0.0</td>\n",
       "      <td>0.0</td>\n",
       "    </tr>\n",
       "    <tr>\n",
       "      <th>3</th>\n",
       "      <td>50435</td>\n",
       "      <td>201208</td>\n",
       "      <td>0</td>\n",
       "      <td>0</td>\n",
       "      <td>0</td>\n",
       "      <td>0</td>\n",
       "      <td>0</td>\n",
       "      <td>0</td>\n",
       "      <td>1</td>\n",
       "      <td>1</td>\n",
       "      <td>...</td>\n",
       "      <td>4</td>\n",
       "      <td>4</td>\n",
       "      <td>1</td>\n",
       "      <td>1</td>\n",
       "      <td>1</td>\n",
       "      <td>1</td>\n",
       "      <td>1</td>\n",
       "      <td>1</td>\n",
       "      <td>0.0</td>\n",
       "      <td>0.0</td>\n",
       "    </tr>\n",
       "    <tr>\n",
       "      <th>4</th>\n",
       "      <td>79004</td>\n",
       "      <td>201208</td>\n",
       "      <td>0</td>\n",
       "      <td>0</td>\n",
       "      <td>0</td>\n",
       "      <td>0</td>\n",
       "      <td>0</td>\n",
       "      <td>0</td>\n",
       "      <td>0</td>\n",
       "      <td>0</td>\n",
       "      <td>...</td>\n",
       "      <td>0</td>\n",
       "      <td>0</td>\n",
       "      <td>0</td>\n",
       "      <td>0</td>\n",
       "      <td>0</td>\n",
       "      <td>0</td>\n",
       "      <td>0</td>\n",
       "      <td>0</td>\n",
       "      <td>0.0</td>\n",
       "      <td>0.0</td>\n",
       "    </tr>\n",
       "  </tbody>\n",
       "</table>\n",
       "<p>5 rows × 46 columns</p>\n",
       "</div>"
      ],
      "text/plain": [
       "   ID_CORRELATIVO  CODMES  SDO_ACTIVO_MENOS0  SDO_ACTIVO_MENOS1  \\\n",
       "0           11752  201208                  0                  0   \n",
       "1           98898  201208                  0                  0   \n",
       "2           82206  201208                  0                  0   \n",
       "3           50435  201208                  0                  0   \n",
       "4           79004  201208                  0                  0   \n",
       "\n",
       "   SDO_ACTIVO_MENOS2  SDO_ACTIVO_MENOS3  SDO_ACTIVO_MENOS4  SDO_ACTIVO_MENOS5  \\\n",
       "0                  0                  0                  0                  0   \n",
       "1                  0                  0                  0                  0   \n",
       "2                  0                  0                  0                  0   \n",
       "3                  0                  0                  0                  0   \n",
       "4                  0                  0                  0                  0   \n",
       "\n",
       "   FLG_SEGURO_MENOS0  FLG_SEGURO_MENOS1        ...         \\\n",
       "0                  0                  0        ...          \n",
       "1                  0                  0        ...          \n",
       "2                  0                  0        ...          \n",
       "3                  1                  1        ...          \n",
       "4                  0                  0        ...          \n",
       "\n",
       "   NRO_ENTID_SSFF_MENOS4  NRO_ENTID_SSFF_MENOS5  FLG_SDO_OTSSFF_MENOS0  \\\n",
       "0                      2                      2                      1   \n",
       "1                      0                      0                      0   \n",
       "2                      1                      1                      1   \n",
       "3                      4                      4                      1   \n",
       "4                      0                      0                      0   \n",
       "\n",
       "   FLG_SDO_OTSSFF_MENOS1  FLG_SDO_OTSSFF_MENOS2  FLG_SDO_OTSSFF_MENOS3  \\\n",
       "0                      1                      1                      1   \n",
       "1                      0                      0                      0   \n",
       "2                      1                      1                      1   \n",
       "3                      1                      1                      1   \n",
       "4                      0                      0                      0   \n",
       "\n",
       "   FLG_SDO_OTSSFF_MENOS4  FLG_SDO_OTSSFF_MENOS5  SDO_ACTIVO_ULT6M  \\\n",
       "0                      1                      1               0.0   \n",
       "1                      0                      0               0.0   \n",
       "2                      1                      1               0.0   \n",
       "3                      1                      1               0.0   \n",
       "4                      0                      0               0.0   \n",
       "\n",
       "   SDO_ACTIVO_ULT3M  \n",
       "0               0.0  \n",
       "1               0.0  \n",
       "2               0.0  \n",
       "3               0.0  \n",
       "4               0.0  \n",
       "\n",
       "[5 rows x 46 columns]"
      ]
     },
     "execution_count": 23,
     "metadata": {},
     "output_type": "execute_result"
    }
   ],
   "source": [
    "df_hist.head()"
   ]
  },
  {
   "cell_type": "markdown",
   "metadata": {},
   "source": [
    "### Unir data inicial con data historica"
   ]
  },
  {
   "cell_type": "code",
   "execution_count": 83,
   "metadata": {},
   "outputs": [
    {
     "data": {
      "text/html": [
       "<div>\n",
       "<style>\n",
       "    .dataframe thead tr:only-child th {\n",
       "        text-align: right;\n",
       "    }\n",
       "\n",
       "    .dataframe thead th {\n",
       "        text-align: left;\n",
       "    }\n",
       "\n",
       "    .dataframe tbody tr th {\n",
       "        vertical-align: top;\n",
       "    }\n",
       "</style>\n",
       "<table border=\"1\" class=\"dataframe\">\n",
       "  <thead>\n",
       "    <tr style=\"text-align: right;\">\n",
       "      <th></th>\n",
       "      <th>ID_CORRELATIVO</th>\n",
       "      <th>CODMES</th>\n",
       "      <th>ATTRITION</th>\n",
       "      <th>SEXO</th>\n",
       "      <th>ESTADO_CIVIL</th>\n",
       "      <th>FLG_BANCARIZADO</th>\n",
       "      <th>RANG_INGRESO</th>\n",
       "      <th>FLAG_LIMA_PROVINCIA</th>\n",
       "      <th>EDAD</th>\n",
       "      <th>ANTIGUEDAD</th>\n",
       "      <th>...</th>\n",
       "      <th>RANG_NRO_PRODUCTOS_MENOS0</th>\n",
       "      <th>SDO_ACTIVO_MENOS0</th>\n",
       "      <th>FLG_SEGURO_MENOS0</th>\n",
       "      <th>NRO_ACCES_CANAL1_MENOS0</th>\n",
       "      <th>NRO_ACCES_CANAL2_MENOS0</th>\n",
       "      <th>NRO_ACCES_CANAL3_MENOS0</th>\n",
       "      <th>NRO_ENTID_SSFF_MENOS0</th>\n",
       "      <th>FLG_SDO_OTSSFF_MENOS0</th>\n",
       "      <th>EDAD_new</th>\n",
       "      <th>SDO_ACTIVO_MENOS0_new</th>\n",
       "    </tr>\n",
       "  </thead>\n",
       "  <tbody>\n",
       "    <tr>\n",
       "      <th>0</th>\n",
       "      <td>11752</td>\n",
       "      <td>201208</td>\n",
       "      <td>0</td>\n",
       "      <td>F</td>\n",
       "      <td>Casado</td>\n",
       "      <td>1</td>\n",
       "      <td>Rang_ingreso_01</td>\n",
       "      <td>Provincia</td>\n",
       "      <td>36.0</td>\n",
       "      <td>0.000000</td>\n",
       "      <td>...</td>\n",
       "      <td>Rango_01</td>\n",
       "      <td>0</td>\n",
       "      <td>0</td>\n",
       "      <td>0</td>\n",
       "      <td>0</td>\n",
       "      <td>0</td>\n",
       "      <td>2</td>\n",
       "      <td>1</td>\n",
       "      <td>36.0</td>\n",
       "      <td>0.0</td>\n",
       "    </tr>\n",
       "    <tr>\n",
       "      <th>1</th>\n",
       "      <td>98898</td>\n",
       "      <td>201208</td>\n",
       "      <td>0</td>\n",
       "      <td>F</td>\n",
       "      <td>Casado</td>\n",
       "      <td>0</td>\n",
       "      <td>Rang_ingreso_01</td>\n",
       "      <td>Lima</td>\n",
       "      <td>23.0</td>\n",
       "      <td>0.000000</td>\n",
       "      <td>...</td>\n",
       "      <td>Rango_02</td>\n",
       "      <td>0</td>\n",
       "      <td>0</td>\n",
       "      <td>0</td>\n",
       "      <td>0</td>\n",
       "      <td>7</td>\n",
       "      <td>0</td>\n",
       "      <td>0</td>\n",
       "      <td>23.0</td>\n",
       "      <td>0.0</td>\n",
       "    </tr>\n",
       "    <tr>\n",
       "      <th>2</th>\n",
       "      <td>82206</td>\n",
       "      <td>201208</td>\n",
       "      <td>0</td>\n",
       "      <td>F</td>\n",
       "      <td>Casado</td>\n",
       "      <td>1</td>\n",
       "      <td>Rang_ingreso_02</td>\n",
       "      <td>Provincia</td>\n",
       "      <td>24.0</td>\n",
       "      <td>0.000000</td>\n",
       "      <td>...</td>\n",
       "      <td>Rango_02</td>\n",
       "      <td>0</td>\n",
       "      <td>0</td>\n",
       "      <td>0</td>\n",
       "      <td>0</td>\n",
       "      <td>16</td>\n",
       "      <td>1</td>\n",
       "      <td>1</td>\n",
       "      <td>24.0</td>\n",
       "      <td>0.0</td>\n",
       "    </tr>\n",
       "    <tr>\n",
       "      <th>3</th>\n",
       "      <td>50435</td>\n",
       "      <td>201208</td>\n",
       "      <td>1</td>\n",
       "      <td>M</td>\n",
       "      <td>Casado</td>\n",
       "      <td>1</td>\n",
       "      <td>Rang_ingreso_01</td>\n",
       "      <td>Provincia</td>\n",
       "      <td>30.0</td>\n",
       "      <td>2.557732</td>\n",
       "      <td>...</td>\n",
       "      <td>Rango_02</td>\n",
       "      <td>0</td>\n",
       "      <td>1</td>\n",
       "      <td>0</td>\n",
       "      <td>0</td>\n",
       "      <td>0</td>\n",
       "      <td>5</td>\n",
       "      <td>1</td>\n",
       "      <td>30.0</td>\n",
       "      <td>0.0</td>\n",
       "    </tr>\n",
       "    <tr>\n",
       "      <th>4</th>\n",
       "      <td>79004</td>\n",
       "      <td>201208</td>\n",
       "      <td>0</td>\n",
       "      <td>F</td>\n",
       "      <td>Casado</td>\n",
       "      <td>0</td>\n",
       "      <td>NaN</td>\n",
       "      <td>Provincia</td>\n",
       "      <td>30.0</td>\n",
       "      <td>0.000000</td>\n",
       "      <td>...</td>\n",
       "      <td>Rango_02</td>\n",
       "      <td>0</td>\n",
       "      <td>0</td>\n",
       "      <td>0</td>\n",
       "      <td>0</td>\n",
       "      <td>1</td>\n",
       "      <td>0</td>\n",
       "      <td>0</td>\n",
       "      <td>30.0</td>\n",
       "      <td>0.0</td>\n",
       "    </tr>\n",
       "  </tbody>\n",
       "</table>\n",
       "<p>5 rows × 22 columns</p>\n",
       "</div>"
      ],
      "text/plain": [
       "   ID_CORRELATIVO  CODMES  ATTRITION SEXO ESTADO_CIVIL  FLG_BANCARIZADO  \\\n",
       "0           11752  201208          0    F       Casado                1   \n",
       "1           98898  201208          0    F       Casado                0   \n",
       "2           82206  201208          0    F       Casado                1   \n",
       "3           50435  201208          1    M       Casado                1   \n",
       "4           79004  201208          0    F       Casado                0   \n",
       "\n",
       "      RANG_INGRESO FLAG_LIMA_PROVINCIA  EDAD  ANTIGUEDAD  \\\n",
       "0  Rang_ingreso_01           Provincia  36.0    0.000000   \n",
       "1  Rang_ingreso_01                Lima  23.0    0.000000   \n",
       "2  Rang_ingreso_02           Provincia  24.0    0.000000   \n",
       "3  Rang_ingreso_01           Provincia  30.0    2.557732   \n",
       "4              NaN           Provincia  30.0    0.000000   \n",
       "\n",
       "           ...           RANG_NRO_PRODUCTOS_MENOS0  SDO_ACTIVO_MENOS0  \\\n",
       "0          ...                            Rango_01                  0   \n",
       "1          ...                            Rango_02                  0   \n",
       "2          ...                            Rango_02                  0   \n",
       "3          ...                            Rango_02                  0   \n",
       "4          ...                            Rango_02                  0   \n",
       "\n",
       "  FLG_SEGURO_MENOS0  NRO_ACCES_CANAL1_MENOS0  NRO_ACCES_CANAL2_MENOS0  \\\n",
       "0                 0                        0                        0   \n",
       "1                 0                        0                        0   \n",
       "2                 0                        0                        0   \n",
       "3                 1                        0                        0   \n",
       "4                 0                        0                        0   \n",
       "\n",
       "   NRO_ACCES_CANAL3_MENOS0  NRO_ENTID_SSFF_MENOS0  FLG_SDO_OTSSFF_MENOS0  \\\n",
       "0                        0                      2                      1   \n",
       "1                        7                      0                      0   \n",
       "2                       16                      1                      1   \n",
       "3                        0                      5                      1   \n",
       "4                        1                      0                      0   \n",
       "\n",
       "   EDAD_new  SDO_ACTIVO_MENOS0_new  \n",
       "0      36.0                    0.0  \n",
       "1      23.0                    0.0  \n",
       "2      24.0                    0.0  \n",
       "3      30.0                    0.0  \n",
       "4      30.0                    0.0  \n",
       "\n",
       "[5 rows x 22 columns]"
      ]
     },
     "execution_count": 83,
     "metadata": {},
     "output_type": "execute_result"
    }
   ],
   "source": [
    "data2.head()"
   ]
  },
  {
   "cell_type": "code",
   "execution_count": 92,
   "metadata": {
    "collapsed": true
   },
   "outputs": [],
   "source": [
    "df_f01 = pd.merge(data2,df_hist[['ID_CORRELATIVO','SDO_ACTIVO_ULT3M','SDO_ACTIVO_ULT6M']], \n",
    "                 on = ['ID_CORRELATIVO'], how = \"left\")"
   ]
  },
  {
   "cell_type": "code",
   "execution_count": 93,
   "metadata": {},
   "outputs": [
    {
     "data": {
      "text/html": [
       "<div>\n",
       "<style>\n",
       "    .dataframe thead tr:only-child th {\n",
       "        text-align: right;\n",
       "    }\n",
       "\n",
       "    .dataframe thead th {\n",
       "        text-align: left;\n",
       "    }\n",
       "\n",
       "    .dataframe tbody tr th {\n",
       "        vertical-align: top;\n",
       "    }\n",
       "</style>\n",
       "<table border=\"1\" class=\"dataframe\">\n",
       "  <thead>\n",
       "    <tr style=\"text-align: right;\">\n",
       "      <th></th>\n",
       "      <th>ID_CORRELATIVO</th>\n",
       "      <th>CODMES</th>\n",
       "      <th>ATTRITION</th>\n",
       "      <th>SEXO</th>\n",
       "      <th>ESTADO_CIVIL</th>\n",
       "      <th>FLG_BANCARIZADO</th>\n",
       "      <th>RANG_INGRESO</th>\n",
       "      <th>FLAG_LIMA_PROVINCIA</th>\n",
       "      <th>EDAD</th>\n",
       "      <th>ANTIGUEDAD</th>\n",
       "      <th>...</th>\n",
       "      <th>FLG_SEGURO_MENOS0</th>\n",
       "      <th>NRO_ACCES_CANAL1_MENOS0</th>\n",
       "      <th>NRO_ACCES_CANAL2_MENOS0</th>\n",
       "      <th>NRO_ACCES_CANAL3_MENOS0</th>\n",
       "      <th>NRO_ENTID_SSFF_MENOS0</th>\n",
       "      <th>FLG_SDO_OTSSFF_MENOS0</th>\n",
       "      <th>EDAD_new</th>\n",
       "      <th>SDO_ACTIVO_MENOS0_new</th>\n",
       "      <th>SDO_ACTIVO_ULT3M</th>\n",
       "      <th>SDO_ACTIVO_ULT6M</th>\n",
       "    </tr>\n",
       "  </thead>\n",
       "  <tbody>\n",
       "    <tr>\n",
       "      <th>9839</th>\n",
       "      <td>23216</td>\n",
       "      <td>201208</td>\n",
       "      <td>0</td>\n",
       "      <td>F</td>\n",
       "      <td>Soltero</td>\n",
       "      <td>1</td>\n",
       "      <td>Rang_ingreso_02</td>\n",
       "      <td>Provincia</td>\n",
       "      <td>31.0</td>\n",
       "      <td>5.0</td>\n",
       "      <td>...</td>\n",
       "      <td>1</td>\n",
       "      <td>0</td>\n",
       "      <td>0</td>\n",
       "      <td>0</td>\n",
       "      <td>3</td>\n",
       "      <td>0</td>\n",
       "      <td>31.0</td>\n",
       "      <td>220.0</td>\n",
       "      <td>106.666667</td>\n",
       "      <td>131.666667</td>\n",
       "    </tr>\n",
       "    <tr>\n",
       "      <th>9840</th>\n",
       "      <td>49833</td>\n",
       "      <td>201208</td>\n",
       "      <td>0</td>\n",
       "      <td>F</td>\n",
       "      <td>Soltero</td>\n",
       "      <td>0</td>\n",
       "      <td>Rang_ingreso_01</td>\n",
       "      <td>Lima</td>\n",
       "      <td>64.0</td>\n",
       "      <td>0.0</td>\n",
       "      <td>...</td>\n",
       "      <td>0</td>\n",
       "      <td>0</td>\n",
       "      <td>0</td>\n",
       "      <td>0</td>\n",
       "      <td>0</td>\n",
       "      <td>0</td>\n",
       "      <td>59.5</td>\n",
       "      <td>0.0</td>\n",
       "      <td>0.000000</td>\n",
       "      <td>0.000000</td>\n",
       "    </tr>\n",
       "    <tr>\n",
       "      <th>9841</th>\n",
       "      <td>81559</td>\n",
       "      <td>201208</td>\n",
       "      <td>0</td>\n",
       "      <td>F</td>\n",
       "      <td>Soltero</td>\n",
       "      <td>1</td>\n",
       "      <td>Rang_ingreso_07</td>\n",
       "      <td>Lima</td>\n",
       "      <td>39.0</td>\n",
       "      <td>7.0</td>\n",
       "      <td>...</td>\n",
       "      <td>1</td>\n",
       "      <td>0</td>\n",
       "      <td>9</td>\n",
       "      <td>5</td>\n",
       "      <td>0</td>\n",
       "      <td>0</td>\n",
       "      <td>39.0</td>\n",
       "      <td>16428.5</td>\n",
       "      <td>53316.666667</td>\n",
       "      <td>46473.333333</td>\n",
       "    </tr>\n",
       "    <tr>\n",
       "      <th>9842</th>\n",
       "      <td>95667</td>\n",
       "      <td>201208</td>\n",
       "      <td>0</td>\n",
       "      <td>F</td>\n",
       "      <td>Soltero</td>\n",
       "      <td>1</td>\n",
       "      <td>Rang_ingreso_09</td>\n",
       "      <td>Lima</td>\n",
       "      <td>30.0</td>\n",
       "      <td>2.0</td>\n",
       "      <td>...</td>\n",
       "      <td>1</td>\n",
       "      <td>0</td>\n",
       "      <td>4</td>\n",
       "      <td>2</td>\n",
       "      <td>4</td>\n",
       "      <td>1</td>\n",
       "      <td>30.0</td>\n",
       "      <td>660.0</td>\n",
       "      <td>416.666667</td>\n",
       "      <td>383.333333</td>\n",
       "    </tr>\n",
       "    <tr>\n",
       "      <th>9843</th>\n",
       "      <td>38669</td>\n",
       "      <td>201208</td>\n",
       "      <td>1</td>\n",
       "      <td>F</td>\n",
       "      <td>Soltero</td>\n",
       "      <td>0</td>\n",
       "      <td>NaN</td>\n",
       "      <td>NaN</td>\n",
       "      <td>33.0</td>\n",
       "      <td>0.0</td>\n",
       "      <td>...</td>\n",
       "      <td>0</td>\n",
       "      <td>0</td>\n",
       "      <td>0</td>\n",
       "      <td>2</td>\n",
       "      <td>0</td>\n",
       "      <td>0</td>\n",
       "      <td>33.0</td>\n",
       "      <td>0.0</td>\n",
       "      <td>0.000000</td>\n",
       "      <td>0.000000</td>\n",
       "    </tr>\n",
       "  </tbody>\n",
       "</table>\n",
       "<p>5 rows × 24 columns</p>\n",
       "</div>"
      ],
      "text/plain": [
       "      ID_CORRELATIVO  CODMES  ATTRITION SEXO ESTADO_CIVIL  FLG_BANCARIZADO  \\\n",
       "9839           23216  201208          0    F      Soltero                1   \n",
       "9840           49833  201208          0    F      Soltero                0   \n",
       "9841           81559  201208          0    F      Soltero                1   \n",
       "9842           95667  201208          0    F      Soltero                1   \n",
       "9843           38669  201208          1    F      Soltero                0   \n",
       "\n",
       "         RANG_INGRESO FLAG_LIMA_PROVINCIA  EDAD  ANTIGUEDAD        ...         \\\n",
       "9839  Rang_ingreso_02           Provincia  31.0         5.0        ...          \n",
       "9840  Rang_ingreso_01                Lima  64.0         0.0        ...          \n",
       "9841  Rang_ingreso_07                Lima  39.0         7.0        ...          \n",
       "9842  Rang_ingreso_09                Lima  30.0         2.0        ...          \n",
       "9843              NaN                 NaN  33.0         0.0        ...          \n",
       "\n",
       "     FLG_SEGURO_MENOS0  NRO_ACCES_CANAL1_MENOS0 NRO_ACCES_CANAL2_MENOS0  \\\n",
       "9839                 1                        0                       0   \n",
       "9840                 0                        0                       0   \n",
       "9841                 1                        0                       9   \n",
       "9842                 1                        0                       4   \n",
       "9843                 0                        0                       0   \n",
       "\n",
       "      NRO_ACCES_CANAL3_MENOS0  NRO_ENTID_SSFF_MENOS0  FLG_SDO_OTSSFF_MENOS0  \\\n",
       "9839                        0                      3                      0   \n",
       "9840                        0                      0                      0   \n",
       "9841                        5                      0                      0   \n",
       "9842                        2                      4                      1   \n",
       "9843                        2                      0                      0   \n",
       "\n",
       "      EDAD_new  SDO_ACTIVO_MENOS0_new  SDO_ACTIVO_ULT3M  SDO_ACTIVO_ULT6M  \n",
       "9839      31.0                  220.0        106.666667        131.666667  \n",
       "9840      59.5                    0.0          0.000000          0.000000  \n",
       "9841      39.0                16428.5      53316.666667      46473.333333  \n",
       "9842      30.0                  660.0        416.666667        383.333333  \n",
       "9843      33.0                    0.0          0.000000          0.000000  \n",
       "\n",
       "[5 rows x 24 columns]"
      ]
     },
     "execution_count": 93,
     "metadata": {},
     "output_type": "execute_result"
    }
   ],
   "source": [
    "df_f01.tail()"
   ]
  },
  {
   "cell_type": "code",
   "execution_count": null,
   "metadata": {
    "collapsed": true
   },
   "outputs": [],
   "source": []
  },
  {
   "cell_type": "code",
   "execution_count": null,
   "metadata": {
    "collapsed": true
   },
   "outputs": [],
   "source": []
  },
  {
   "cell_type": "markdown",
   "metadata": {},
   "source": [
    "# <font color=#003d5c>3.4 Ejercicio Práctico</font>\n"
   ]
  },
  {
   "cell_type": "code",
   "execution_count": null,
   "metadata": {
    "collapsed": true
   },
   "outputs": [],
   "source": []
  },
  {
   "cell_type": "code",
   "execution_count": null,
   "metadata": {
    "collapsed": true
   },
   "outputs": [],
   "source": []
  },
  {
   "cell_type": "code",
   "execution_count": null,
   "metadata": {
    "collapsed": true
   },
   "outputs": [],
   "source": []
  }
 ],
 "metadata": {
  "kernelspec": {
   "display_name": "Python 3",
   "language": "python",
   "name": "python3"
  },
  "language_info": {
   "codemirror_mode": {
    "name": "ipython",
    "version": 3
   },
   "file_extension": ".py",
   "mimetype": "text/x-python",
   "name": "python",
   "nbconvert_exporter": "python",
   "pygments_lexer": "ipython3",
   "version": "3.6.3"
  }
 },
 "nbformat": 4,
 "nbformat_minor": 2
}
