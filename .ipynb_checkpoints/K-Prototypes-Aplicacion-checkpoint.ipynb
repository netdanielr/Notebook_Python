{
 "cells": [
  {
   "cell_type": "markdown",
   "metadata": {},
   "source": [
    "## Import librerias"
   ]
  },
  {
   "cell_type": "code",
   "execution_count": 1,
   "metadata": {},
   "outputs": [],
   "source": [
    "import pandas as pd\n",
    "from kmodes.kprototypes import KPrototypes"
   ]
  },
  {
   "cell_type": "code",
   "execution_count": 3,
   "metadata": {},
   "outputs": [],
   "source": [
    "# import libro excel en pandas\n",
    "xls_file = pd.ExcelFile(\"traffic_violations_all.xlsx\")\n",
    "\n",
    "# obtener data de una hoja en especifico\n",
    "pd_traffic_violations = xls_file.parse('Hoja1' )"
   ]
  },
  {
   "cell_type": "code",
   "execution_count": 4,
   "metadata": {},
   "outputs": [
    {
     "data": {
      "text/html": [
       "<div>\n",
       "<style scoped>\n",
       "    .dataframe tbody tr th:only-of-type {\n",
       "        vertical-align: middle;\n",
       "    }\n",
       "\n",
       "    .dataframe tbody tr th {\n",
       "        vertical-align: top;\n",
       "    }\n",
       "\n",
       "    .dataframe thead th {\n",
       "        text-align: right;\n",
       "    }\n",
       "</style>\n",
       "<table border=\"1\" class=\"dataframe\">\n",
       "  <thead>\n",
       "    <tr style=\"text-align: right;\">\n",
       "      <th></th>\n",
       "      <th>NÂ°</th>\n",
       "      <th>CODIGO_INFRACCION</th>\n",
       "      <th>EDAD</th>\n",
       "      <th>CANTIDAD_PAPELETAS_ULTIMO_ANO</th>\n",
       "      <th>TIPO_DE_VIA</th>\n",
       "      <th>LUGAR_DE_INTERVENCION</th>\n",
       "      <th>EMPRESA_DE_TRANSPORTE</th>\n",
       "      <th>CILINDRAJE_MOTOR</th>\n",
       "    </tr>\n",
       "  </thead>\n",
       "  <tbody>\n",
       "    <tr>\n",
       "      <th>0</th>\n",
       "      <td>1</td>\n",
       "      <td>U04</td>\n",
       "      <td>46</td>\n",
       "      <td>5</td>\n",
       "      <td>CALLE</td>\n",
       "      <td>BELLAVISTA</td>\n",
       "      <td>DISTRIBUIDORA PACI SRL.</td>\n",
       "      <td>1.2</td>\n",
       "    </tr>\n",
       "    <tr>\n",
       "      <th>1</th>\n",
       "      <td>2</td>\n",
       "      <td>U04</td>\n",
       "      <td>58</td>\n",
       "      <td>7</td>\n",
       "      <td>CALLE</td>\n",
       "      <td>BERLIN</td>\n",
       "      <td>DISTRIBUCIONES ROBASA SAC</td>\n",
       "      <td>3.5</td>\n",
       "    </tr>\n",
       "    <tr>\n",
       "      <th>2</th>\n",
       "      <td>3</td>\n",
       "      <td>U11</td>\n",
       "      <td>24</td>\n",
       "      <td>11</td>\n",
       "      <td>CALLE</td>\n",
       "      <td>GENERAL SUAREZ</td>\n",
       "      <td>DISTRIBUCIONES ROBASA</td>\n",
       "      <td>2.3</td>\n",
       "    </tr>\n",
       "    <tr>\n",
       "      <th>3</th>\n",
       "      <td>5</td>\n",
       "      <td>U11</td>\n",
       "      <td>32</td>\n",
       "      <td>7</td>\n",
       "      <td>CALLE</td>\n",
       "      <td>ARICA</td>\n",
       "      <td>TRANSP. FABRICIO Y KATHERINE SAC.</td>\n",
       "      <td>2.7</td>\n",
       "    </tr>\n",
       "    <tr>\n",
       "      <th>4</th>\n",
       "      <td>6</td>\n",
       "      <td>U04</td>\n",
       "      <td>49</td>\n",
       "      <td>9</td>\n",
       "      <td>CALLE</td>\n",
       "      <td>PORTA</td>\n",
       "      <td>DISTRIBUCIONES ROBASA SAC.</td>\n",
       "      <td>2.9</td>\n",
       "    </tr>\n",
       "  </tbody>\n",
       "</table>\n",
       "</div>"
      ],
      "text/plain": [
       "   NÂ° CODIGO_INFRACCION  EDAD  CANTIDAD_PAPELETAS_ULTIMO_ANO TIPO_DE_VIA  \\\n",
       "0    1               U04    46                              5       CALLE   \n",
       "1    2               U04    58                              7       CALLE   \n",
       "2    3               U11    24                             11       CALLE   \n",
       "3    5               U11    32                              7       CALLE   \n",
       "4    6               U04    49                              9       CALLE   \n",
       "\n",
       "  LUGAR_DE_INTERVENCION              EMPRESA_DE_TRANSPORTE  CILINDRAJE_MOTOR  \n",
       "0            BELLAVISTA            DISTRIBUIDORA PACI SRL.               1.2  \n",
       "1                BERLIN          DISTRIBUCIONES ROBASA SAC               3.5  \n",
       "2        GENERAL SUAREZ              DISTRIBUCIONES ROBASA               2.3  \n",
       "3                 ARICA  TRANSP. FABRICIO Y KATHERINE SAC.               2.7  \n",
       "4                 PORTA         DISTRIBUCIONES ROBASA SAC.               2.9  "
      ]
     },
     "execution_count": 4,
     "metadata": {},
     "output_type": "execute_result"
    }
   ],
   "source": [
    "pd_traffic_violations.head()"
   ]
  },
  {
   "cell_type": "code",
   "execution_count": 5,
   "metadata": {},
   "outputs": [],
   "source": [
    "# seleccion de variables al modelo\n",
    "pd_traffic_violations_to_model = \\\n",
    "pd_traffic_violations[['EDAD', 'CANTIDAD_PAPELETAS_ULTIMO_ANO' , 'CILINDRAJE_MOTOR' , \n",
    "                       'CODIGO_INFRACCION','TIPO_DE_VIA', 'LUGAR_DE_INTERVENCION','EMPRESA_DE_TRANSPORTE']]"
   ]
  },
  {
   "cell_type": "code",
   "execution_count": 6,
   "metadata": {},
   "outputs": [
    {
     "data": {
      "text/html": [
       "<div>\n",
       "<style scoped>\n",
       "    .dataframe tbody tr th:only-of-type {\n",
       "        vertical-align: middle;\n",
       "    }\n",
       "\n",
       "    .dataframe tbody tr th {\n",
       "        vertical-align: top;\n",
       "    }\n",
       "\n",
       "    .dataframe thead th {\n",
       "        text-align: right;\n",
       "    }\n",
       "</style>\n",
       "<table border=\"1\" class=\"dataframe\">\n",
       "  <thead>\n",
       "    <tr style=\"text-align: right;\">\n",
       "      <th></th>\n",
       "      <th>EDAD</th>\n",
       "      <th>CANTIDAD_PAPELETAS_ULTIMO_ANO</th>\n",
       "      <th>CILINDRAJE_MOTOR</th>\n",
       "      <th>CODIGO_INFRACCION</th>\n",
       "      <th>TIPO_DE_VIA</th>\n",
       "      <th>LUGAR_DE_INTERVENCION</th>\n",
       "      <th>EMPRESA_DE_TRANSPORTE</th>\n",
       "    </tr>\n",
       "  </thead>\n",
       "  <tbody>\n",
       "    <tr>\n",
       "      <th>0</th>\n",
       "      <td>46</td>\n",
       "      <td>5</td>\n",
       "      <td>1.2</td>\n",
       "      <td>U04</td>\n",
       "      <td>CALLE</td>\n",
       "      <td>BELLAVISTA</td>\n",
       "      <td>DISTRIBUIDORA PACI SRL.</td>\n",
       "    </tr>\n",
       "    <tr>\n",
       "      <th>1</th>\n",
       "      <td>58</td>\n",
       "      <td>7</td>\n",
       "      <td>3.5</td>\n",
       "      <td>U04</td>\n",
       "      <td>CALLE</td>\n",
       "      <td>BERLIN</td>\n",
       "      <td>DISTRIBUCIONES ROBASA SAC</td>\n",
       "    </tr>\n",
       "    <tr>\n",
       "      <th>2</th>\n",
       "      <td>24</td>\n",
       "      <td>11</td>\n",
       "      <td>2.3</td>\n",
       "      <td>U11</td>\n",
       "      <td>CALLE</td>\n",
       "      <td>GENERAL SUAREZ</td>\n",
       "      <td>DISTRIBUCIONES ROBASA</td>\n",
       "    </tr>\n",
       "    <tr>\n",
       "      <th>3</th>\n",
       "      <td>32</td>\n",
       "      <td>7</td>\n",
       "      <td>2.7</td>\n",
       "      <td>U11</td>\n",
       "      <td>CALLE</td>\n",
       "      <td>ARICA</td>\n",
       "      <td>TRANSP. FABRICIO Y KATHERINE SAC.</td>\n",
       "    </tr>\n",
       "    <tr>\n",
       "      <th>4</th>\n",
       "      <td>49</td>\n",
       "      <td>9</td>\n",
       "      <td>2.9</td>\n",
       "      <td>U04</td>\n",
       "      <td>CALLE</td>\n",
       "      <td>PORTA</td>\n",
       "      <td>DISTRIBUCIONES ROBASA SAC.</td>\n",
       "    </tr>\n",
       "  </tbody>\n",
       "</table>\n",
       "</div>"
      ],
      "text/plain": [
       "   EDAD  CANTIDAD_PAPELETAS_ULTIMO_ANO  CILINDRAJE_MOTOR CODIGO_INFRACCION  \\\n",
       "0    46                              5               1.2               U04   \n",
       "1    58                              7               3.5               U04   \n",
       "2    24                             11               2.3               U11   \n",
       "3    32                              7               2.7               U11   \n",
       "4    49                              9               2.9               U04   \n",
       "\n",
       "  TIPO_DE_VIA LUGAR_DE_INTERVENCION              EMPRESA_DE_TRANSPORTE  \n",
       "0       CALLE            BELLAVISTA            DISTRIBUIDORA PACI SRL.  \n",
       "1       CALLE                BERLIN          DISTRIBUCIONES ROBASA SAC  \n",
       "2       CALLE        GENERAL SUAREZ              DISTRIBUCIONES ROBASA  \n",
       "3       CALLE                 ARICA  TRANSP. FABRICIO Y KATHERINE SAC.  \n",
       "4       CALLE                 PORTA         DISTRIBUCIONES ROBASA SAC.  "
      ]
     },
     "execution_count": 6,
     "metadata": {},
     "output_type": "execute_result"
    }
   ],
   "source": [
    "pd_traffic_violations_to_model.head()"
   ]
  },
  {
   "cell_type": "code",
   "execution_count": 7,
   "metadata": {
    "scrolled": false
   },
   "outputs": [
    {
     "name": "stdout",
     "output_type": "stream",
     "text": [
      "<class 'pandas.core.frame.DataFrame'>\n",
      "RangeIndex: 5427 entries, 0 to 5426\n",
      "Data columns (total 7 columns):\n",
      "EDAD                             5427 non-null int64\n",
      "CANTIDAD_PAPELETAS_ULTIMO_ANO    5427 non-null int64\n",
      "CILINDRAJE_MOTOR                 5427 non-null float64\n",
      "CODIGO_INFRACCION                5427 non-null object\n",
      "TIPO_DE_VIA                      5427 non-null object\n",
      "LUGAR_DE_INTERVENCION            5427 non-null object\n",
      "EMPRESA_DE_TRANSPORTE            5427 non-null object\n",
      "dtypes: float64(1), int64(2), object(4)\n",
      "memory usage: 296.9+ KB\n"
     ]
    }
   ],
   "source": [
    "pd_traffic_violations_to_model.info()"
   ]
  },
  {
   "cell_type": "code",
   "execution_count": 8,
   "metadata": {},
   "outputs": [
    {
     "data": {
      "text/plain": [
       "array([[46, 5, 1.2, ..., 'CALLE', 'BELLAVISTA',\n",
       "        'DISTRIBUIDORA PACI SRL.'],\n",
       "       [58, 7, 3.5, ..., 'CALLE', 'BERLIN', 'DISTRIBUCIONES ROBASA SAC'],\n",
       "       [24, 11, 2.3, ..., 'CALLE', 'GENERAL SUAREZ',\n",
       "        'DISTRIBUCIONES ROBASA'],\n",
       "       ...,\n",
       "       [21, 10, 3.3, ..., 'AV.', 'JOSE LARCO', 'VIRGEN DE COPACABANA'],\n",
       "       [54, 8, 3.8, ..., 'AV.', 'PASEO DE LA REPUBLICA',\n",
       "        'ESPECIAL SOLIDARIDAD'],\n",
       "       [31, 8, 1.2, ..., 'AV.', 'JOSE LARCO', 'VIRGEN DE COPACABANA']],\n",
       "      dtype=object)"
      ]
     },
     "execution_count": 8,
     "metadata": {},
     "output_type": "execute_result"
    }
   ],
   "source": [
    "# como numpy.ndarray\n",
    "pd_traffic_violations_to_model.values"
   ]
  },
  {
   "cell_type": "code",
   "execution_count": 9,
   "metadata": {},
   "outputs": [],
   "source": [
    "# instanciar k-prototypes object - 10 clusters\n",
    "kprototypes = KPrototypes(n_clusters = 10 , init='Huang', verbose=1)"
   ]
  },
  {
   "cell_type": "code",
   "execution_count": null,
   "metadata": {
    "scrolled": true
   },
   "outputs": [
    {
     "name": "stdout",
     "output_type": "stream",
     "text": [
      "Init: initializing centroids\n",
      "Init: initializing clusters\n",
      "Starting iterations...\n",
      "Run: 1, iteration: 1/100, moves: 1218, ncost: 202848.6618803725\n",
      "Run: 1, iteration: 2/100, moves: 583, ncost: 200218.60534839428\n",
      "Run: 1, iteration: 3/100, moves: 436, ncost: 198705.23530297494\n",
      "Run: 1, iteration: 4/100, moves: 349, ncost: 197609.80828005803\n",
      "Run: 1, iteration: 5/100, moves: 353, ncost: 194916.8794386398\n",
      "Run: 1, iteration: 6/100, moves: 361, ncost: 193833.93386471283\n",
      "Run: 1, iteration: 7/100, moves: 242, ncost: 193296.2295382955\n",
      "Run: 1, iteration: 8/100, moves: 143, ncost: 193092.2800527165\n",
      "Run: 1, iteration: 9/100, moves: 170, ncost: 192594.9023498702\n",
      "Run: 1, iteration: 10/100, moves: 162, ncost: 192325.4253553878\n",
      "Run: 1, iteration: 11/100, moves: 97, ncost: 192188.51341335085\n",
      "Run: 1, iteration: 12/100, moves: 39, ncost: 192152.05539666\n",
      "Run: 1, iteration: 13/100, moves: 25, ncost: 192140.16947959492\n",
      "Run: 1, iteration: 14/100, moves: 33, ncost: 192102.60361054956\n",
      "Run: 1, iteration: 15/100, moves: 41, ncost: 192036.13969681985\n",
      "Run: 1, iteration: 16/100, moves: 63, ncost: 191934.9433267924\n",
      "Run: 1, iteration: 17/100, moves: 39, ncost: 191887.96870762482\n",
      "Run: 1, iteration: 18/100, moves: 15, ncost: 191879.83804061112\n",
      "Run: 1, iteration: 19/100, moves: 1, ncost: 191879.7237120303\n",
      "Run: 1, iteration: 20/100, moves: 0, ncost: 191879.7237120303\n",
      "Init: initializing centroids\n",
      "Init: initializing clusters\n",
      "Starting iterations...\n",
      "Run: 2, iteration: 1/100, moves: 1302, ncost: 203380.85831368223\n",
      "Run: 2, iteration: 2/100, moves: 755, ncost: 199128.47102516587\n",
      "Run: 2, iteration: 3/100, moves: 463, ncost: 197086.26895060902\n",
      "Run: 2, iteration: 4/100, moves: 307, ncost: 196136.63595520612\n",
      "Run: 2, iteration: 5/100, moves: 365, ncost: 194355.04308815912\n",
      "Run: 2, iteration: 6/100, moves: 288, ncost: 193597.45705177335\n",
      "Run: 2, iteration: 7/100, moves: 210, ncost: 193198.63123704313\n",
      "Run: 2, iteration: 8/100, moves: 179, ncost: 192845.14334113323\n",
      "Run: 2, iteration: 9/100, moves: 111, ncost: 192685.34643797\n",
      "Run: 2, iteration: 10/100, moves: 128, ncost: 192493.20997931945\n",
      "Run: 2, iteration: 11/100, moves: 93, ncost: 192413.93446397767\n",
      "Run: 2, iteration: 12/100, moves: 32, ncost: 192399.85481449147\n",
      "Run: 2, iteration: 13/100, moves: 59, ncost: 192313.32387463958\n",
      "Run: 2, iteration: 14/100, moves: 75, ncost: 192037.52211792572\n",
      "Run: 2, iteration: 15/100, moves: 114, ncost: 191913.80312648736\n",
      "Run: 2, iteration: 16/100, moves: 64, ncost: 191840.71917746705\n",
      "Run: 2, iteration: 17/100, moves: 56, ncost: 191779.46198536272\n",
      "Run: 2, iteration: 18/100, moves: 34, ncost: 191764.06308742618\n",
      "Run: 2, iteration: 19/100, moves: 35, ncost: 191707.42000764178\n",
      "Run: 2, iteration: 20/100, moves: 27, ncost: 191685.07490910203\n",
      "Run: 2, iteration: 21/100, moves: 1, ncost: 191684.9811758721\n",
      "Run: 2, iteration: 22/100, moves: 0, ncost: 191684.9811758721\n",
      "Init: initializing centroids\n",
      "Init: initializing clusters\n",
      "Starting iterations...\n",
      "Run: 3, iteration: 1/100, moves: 1086, ncost: 198317.20170215718\n",
      "Run: 3, iteration: 2/100, moves: 443, ncost: 196425.6553897034\n",
      "Run: 3, iteration: 3/100, moves: 252, ncost: 195787.12742974592\n",
      "Run: 3, iteration: 4/100, moves: 150, ncost: 195482.07890135096\n",
      "Run: 3, iteration: 5/100, moves: 213, ncost: 194884.88675801808\n",
      "Run: 3, iteration: 6/100, moves: 122, ncost: 194723.86860982716\n",
      "Run: 3, iteration: 7/100, moves: 53, ncost: 194682.1333894875\n",
      "Run: 3, iteration: 8/100, moves: 71, ncost: 194551.22195972578\n",
      "Run: 3, iteration: 9/100, moves: 66, ncost: 194443.10116867913\n",
      "Run: 3, iteration: 10/100, moves: 54, ncost: 194364.43200252426\n",
      "Run: 3, iteration: 11/100, moves: 27, ncost: 194349.20259065385\n",
      "Run: 3, iteration: 12/100, moves: 43, ncost: 194303.54442982748\n",
      "Run: 3, iteration: 13/100, moves: 44, ncost: 194253.06636318745\n",
      "Run: 3, iteration: 14/100, moves: 34, ncost: 194231.99898096547\n",
      "Run: 3, iteration: 15/100, moves: 6, ncost: 194230.32629285913\n",
      "Run: 3, iteration: 16/100, moves: 12, ncost: 194225.53833121853\n",
      "Run: 3, iteration: 17/100, moves: 2, ncost: 194225.42016232494\n",
      "Run: 3, iteration: 18/100, moves: 0, ncost: 194225.42016232494\n",
      "Init: initializing centroids\n",
      "Init: initializing clusters\n",
      "Starting iterations...\n",
      "Run: 4, iteration: 1/100, moves: 1302, ncost: 200860.2442777187\n",
      "Run: 4, iteration: 2/100, moves: 594, ncost: 197750.16322484246\n",
      "Run: 4, iteration: 3/100, moves: 341, ncost: 196855.97756372945\n",
      "Run: 4, iteration: 4/100, moves: 268, ncost: 196215.5194783696\n",
      "Run: 4, iteration: 5/100, moves: 209, ncost: 195439.36966640726\n",
      "Run: 4, iteration: 6/100, moves: 190, ncost: 194900.87315066817\n",
      "Run: 4, iteration: 7/100, moves: 147, ncost: 194530.91971141918\n",
      "Run: 4, iteration: 8/100, moves: 116, ncost: 194314.33230217616\n",
      "Run: 4, iteration: 9/100, moves: 160, ncost: 194080.5130673635\n",
      "Run: 4, iteration: 10/100, moves: 92, ncost: 193983.6678913605\n",
      "Run: 4, iteration: 11/100, moves: 72, ncost: 193892.64566593448\n",
      "Run: 4, iteration: 12/100, moves: 120, ncost: 193565.46461554058\n",
      "Run: 4, iteration: 13/100, moves: 71, ncost: 193507.02358803723\n",
      "Run: 4, iteration: 14/100, moves: 106, ncost: 193374.2979527558\n",
      "Run: 4, iteration: 15/100, moves: 37, ncost: 193354.21010242263\n",
      "Run: 4, iteration: 16/100, moves: 37, ncost: 193316.326644617\n",
      "Run: 4, iteration: 17/100, moves: 60, ncost: 193253.18169831444\n",
      "Run: 4, iteration: 18/100, moves: 40, ncost: 193215.77636996683\n",
      "Run: 4, iteration: 19/100, moves: 4, ncost: 193214.94730233776\n",
      "Run: 4, iteration: 20/100, moves: 2, ncost: 193214.58210179853\n",
      "Run: 4, iteration: 21/100, moves: 3, ncost: 193214.08138638915\n",
      "Run: 4, iteration: 22/100, moves: 3, ncost: 193213.79704991193\n",
      "Run: 4, iteration: 23/100, moves: 1, ncost: 193213.7621255919\n",
      "Run: 4, iteration: 24/100, moves: 0, ncost: 193213.7621255919\n",
      "Init: initializing centroids\n",
      "Init: initializing clusters\n",
      "Starting iterations...\n",
      "Run: 5, iteration: 1/100, moves: 1243, ncost: 197727.76140681354\n",
      "Run: 5, iteration: 2/100, moves: 629, ncost: 196029.61091660408\n",
      "Run: 5, iteration: 3/100, moves: 427, ncost: 194170.20808952965\n",
      "Run: 5, iteration: 4/100, moves: 285, ncost: 193727.24723041552\n",
      "Run: 5, iteration: 5/100, moves: 107, ncost: 193584.17196300055\n",
      "Run: 5, iteration: 6/100, moves: 76, ncost: 193491.85553552784\n",
      "Run: 5, iteration: 7/100, moves: 92, ncost: 193161.71575716985\n",
      "Run: 5, iteration: 8/100, moves: 84, ncost: 193021.87587992984\n",
      "Run: 5, iteration: 9/100, moves: 62, ncost: 192949.38790361237\n",
      "Run: 5, iteration: 10/100, moves: 19, ncost: 192939.8305305214\n",
      "Run: 5, iteration: 11/100, moves: 2, ncost: 192939.5434678411\n",
      "Run: 5, iteration: 12/100, moves: 5, ncost: 192937.1447677543\n",
      "Run: 5, iteration: 13/100, moves: 15, ncost: 192923.4353382623\n",
      "Run: 5, iteration: 14/100, moves: 37, ncost: 192615.6567482415\n",
      "Run: 5, iteration: 15/100, moves: 67, ncost: 192580.43547989722\n",
      "Run: 5, iteration: 16/100, moves: 19, ncost: 192574.44695517386\n",
      "Run: 5, iteration: 17/100, moves: 3, ncost: 192573.9245573255\n",
      "Run: 5, iteration: 18/100, moves: 0, ncost: 192573.9245573255\n",
      "Init: initializing centroids\n",
      "Init: initializing clusters\n",
      "Starting iterations...\n",
      "Run: 6, iteration: 1/100, moves: 1038, ncost: 204039.5787337197\n",
      "Run: 6, iteration: 2/100, moves: 811, ncost: 198879.107567002\n",
      "Run: 6, iteration: 3/100, moves: 681, ncost: 195918.3039017568\n",
      "Run: 6, iteration: 4/100, moves: 435, ncost: 194622.42343273864\n",
      "Run: 6, iteration: 5/100, moves: 309, ncost: 193897.85034722235\n",
      "Run: 6, iteration: 6/100, moves: 173, ncost: 193486.99628564093\n",
      "Run: 6, iteration: 7/100, moves: 213, ncost: 193075.59798624075\n",
      "Run: 6, iteration: 8/100, moves: 93, ncost: 192983.38923496456\n",
      "Run: 6, iteration: 9/100, moves: 60, ncost: 192931.5220130092\n",
      "Run: 6, iteration: 10/100, moves: 55, ncost: 192876.33095277112\n",
      "Run: 6, iteration: 11/100, moves: 98, ncost: 192717.06599185223\n",
      "Run: 6, iteration: 12/100, moves: 104, ncost: 192543.26967384017\n",
      "Run: 6, iteration: 13/100, moves: 64, ncost: 192455.84106451247\n",
      "Run: 6, iteration: 14/100, moves: 45, ncost: 192432.26213838492\n",
      "Run: 6, iteration: 15/100, moves: 9, ncost: 192430.07975396232\n",
      "Run: 6, iteration: 16/100, moves: 0, ncost: 192430.07975396232\n",
      "Init: initializing centroids\n",
      "Init: initializing clusters\n",
      "Starting iterations...\n",
      "Run: 7, iteration: 1/100, moves: 1249, ncost: 196136.49235484263\n",
      "Run: 7, iteration: 2/100, moves: 684, ncost: 193609.94747216912\n",
      "Run: 7, iteration: 3/100, moves: 258, ncost: 193201.03909592793\n"
     ]
    },
    {
     "name": "stdout",
     "output_type": "stream",
     "text": [
      "Run: 7, iteration: 4/100, moves: 118, ncost: 192937.8734794642\n",
      "Run: 7, iteration: 5/100, moves: 130, ncost: 192584.85855717823\n",
      "Run: 7, iteration: 6/100, moves: 63, ncost: 192512.56674669168\n",
      "Run: 7, iteration: 7/100, moves: 87, ncost: 192132.7777250632\n",
      "Run: 7, iteration: 8/100, moves: 99, ncost: 192072.28761825204\n",
      "Run: 7, iteration: 9/100, moves: 55, ncost: 192027.64064562306\n",
      "Run: 7, iteration: 10/100, moves: 52, ncost: 191968.18201068253\n",
      "Run: 7, iteration: 11/100, moves: 45, ncost: 191936.9727890789\n",
      "Run: 7, iteration: 12/100, moves: 44, ncost: 191899.34386511942\n",
      "Run: 7, iteration: 13/100, moves: 33, ncost: 191878.83312152937\n"
     ]
    }
   ],
   "source": [
    "# modelando\n",
    "kprototypes.fit(pd_traffic_violations_to_model.values , categorical=[3,4,5,6] )"
   ]
  },
  {
   "cell_type": "code",
   "execution_count": null,
   "metadata": {
    "collapsed": true
   },
   "outputs": [],
   "source": [
    "# centroides de los clusters\n",
    "print(kprototypes.cluster_centroids_)"
   ]
  },
  {
   "cell_type": "code",
   "execution_count": null,
   "metadata": {
    "collapsed": true
   },
   "outputs": [],
   "source": [
    "# propiedades del modelo\n",
    "print(kprototypes.cost_)\n",
    "print(kprototypes.n_iter_)"
   ]
  },
  {
   "cell_type": "code",
   "execution_count": null,
   "metadata": {
    "collapsed": true
   },
   "outputs": [],
   "source": [
    "# añadir columna cluster al dataset\n",
    "pd_traffic_violations['CLUSTER']  = kprototypes.labels_ "
   ]
  },
  {
   "cell_type": "code",
   "execution_count": null,
   "metadata": {
    "collapsed": true
   },
   "outputs": [],
   "source": [
    "# guardar nuevo dataset etiquetado como .csv\n",
    "pd_traffic_violations.to_csv('kprototypes_clustering_traffic_violations_all.csv', index = False , header = True)"
   ]
  }
 ],
 "metadata": {
  "kernelspec": {
   "display_name": "Python 3",
   "language": "python",
   "name": "python3"
  }
 },
 "nbformat": 4,
 "nbformat_minor": 2
}
