{
 "cells": [
  {
   "cell_type": "markdown",
   "metadata": {},
   "source": [
    "# <font color=#003d5c>Taller Práctico: Introducción a Python</font>"
   ]
  },
  {
   "cell_type": "markdown",
   "metadata": {},
   "source": [
    "### <font color=#003d5c>1. Fibonacci</font>\n",
    "<br>\n",
    "La secuencia de Fibonacci es una secuencia en matemática que comienza con 0 y 1, y luego cada entrada sucesiva es la suma de los dos anteriores. Por lo tanto, la secuencia va 0,1,1,2,3,5,8,13,21,34,55,89, ...\n",
    "<br>\n",
    "Un ejercicio muy común en la programación de libros es calcular la secuencia de Fibonacci hasta cierto número n. "
   ]
  },
  {
   "cell_type": "code",
   "execution_count": null,
   "metadata": {},
   "outputs": [],
   "source": []
  },
  {
   "cell_type": "markdown",
   "metadata": {},
   "source": [
    "Definir una función con argumento \"n\" que me devuelva una lista con los n primeros números de la secuencia de Fibonacci."
   ]
  },
  {
   "cell_type": "code",
   "execution_count": null,
   "metadata": {},
   "outputs": [],
   "source": []
  },
  {
   "cell_type": "markdown",
   "metadata": {},
   "source": [
    "### <font color=#003d5c>2. Manejo de Dataframes</font>\n",
    "<br>\n",
    "En este ejercicio trabajaremos con un dataset del repositorio <a href=\"https://archive.ics.uci.edu/ml/datasets/student+performance\">UCI</a>. Deben descargar el archivo student.zip en la ruta de este notebook y trabajar con el fichero ** student-mat.csv **\n",
    "<br>"
   ]
  },
  {
   "cell_type": "markdown",
   "metadata": {},
   "source": [
    "#### <font color=#003d5c>2.1. Importar las librerías necesarias</font>"
   ]
  },
  {
   "cell_type": "code",
   "execution_count": null,
   "metadata": {},
   "outputs": [],
   "source": []
  },
  {
   "cell_type": "markdown",
   "metadata": {},
   "source": [
    "#### <font color=#003d5c>2.2. Leer el fichero como un Dataframe</font>\n",
    "<br>\n",
    "Asignar el DataFrame creado a la variable **df**"
   ]
  },
  {
   "cell_type": "code",
   "execution_count": null,
   "metadata": {},
   "outputs": [],
   "source": []
  },
  {
   "cell_type": "markdown",
   "metadata": {},
   "source": [
    "#### <font color=#003d5c>2.3. Limitar columnas</font>\n",
    "Solo quedarse con las columnas que van desde **\"School\"** hasta **\"Guardian\"**"
   ]
  },
  {
   "cell_type": "code",
   "execution_count": null,
   "metadata": {},
   "outputs": [],
   "source": []
  },
  {
   "cell_type": "markdown",
   "metadata": {},
   "source": [
    "#### <font color=#003d5c>2.4. Función lambda</font>\n",
    "Crear una función lambda que permita poner en mayusculas una cadena"
   ]
  },
  {
   "cell_type": "code",
   "execution_count": null,
   "metadata": {},
   "outputs": [],
   "source": []
  },
  {
   "cell_type": "markdown",
   "metadata": {},
   "source": [
    "#### <font color=#003d5c>2.5. Aplicación de la función lambda</font>\n",
    "Aplicar la función creada a las siguientes columnas **\"Mjob\"** y **\"Fjob\"**"
   ]
  },
  {
   "cell_type": "code",
   "execution_count": null,
   "metadata": {},
   "outputs": [],
   "source": []
  },
  {
   "cell_type": "markdown",
   "metadata": {},
   "source": [
    "#### <font color=#003d5c>2.6. Imprimir los 20 ultimos registros del dataframe </font>"
   ]
  },
  {
   "cell_type": "code",
   "execution_count": null,
   "metadata": {},
   "outputs": [],
   "source": []
  },
  {
   "cell_type": "markdown",
   "metadata": {},
   "source": [
    "#### <font color=#003d5c>2.7.¿Aún **\"Mjob\"** y **\"Fjob\"** siguen en Minúscula? Por qué?</font>"
   ]
  },
  {
   "cell_type": "code",
   "execution_count": null,
   "metadata": {},
   "outputs": [],
   "source": []
  },
  {
   "cell_type": "markdown",
   "metadata": {},
   "source": [
    "#### <font color=#003d5c>2.8. Crear una función llamada \"mayor_de_edad\" </font>\n",
    "Esta función debe devolver un valor booleano si el valor de **\"age\"** es mayor que 17 y se debe asignar a una nueva columna llamada **\"legal_drinker\"**"
   ]
  },
  {
   "cell_type": "markdown",
   "metadata": {},
   "source": []
  },
  {
   "cell_type": "markdown",
   "metadata": {},
   "source": [
    "#### <font color=#003d5c>2.9. Multiplicar cada columna del dataset por 10 </font>"
   ]
  },
  {
   "cell_type": "code",
   "execution_count": null,
   "metadata": {},
   "outputs": [],
   "source": []
  },
  {
   "cell_type": "markdown",
   "metadata": {},
   "source": [
    "#### <font color=#003d5c>2.10. Filtro por mayor de edad </font>\n",
    "Filtrar el dataframe con los alumnos que tengan mayoría de edad"
   ]
  },
  {
   "cell_type": "code",
   "execution_count": null,
   "metadata": {},
   "outputs": [],
   "source": []
  },
  {
   "cell_type": "markdown",
   "metadata": {},
   "source": [
    "#### <font color=#003d5c>2.11. Sumar los valores de \"Medu\" y \"Fedu\"</font>\n",
    "Crear una nueva columna llamada \"Mixedu\" que represente la suma de las columnas **\"Medu\"** y **\"Fedu\"**"
   ]
  },
  {
   "cell_type": "markdown",
   "metadata": {},
   "source": []
  },
  {
   "cell_type": "markdown",
   "metadata": {},
   "source": [
    "-"
   ]
  }
 ],
 "metadata": {
  "kernelspec": {
   "display_name": "Python 3",
   "language": "python",
   "name": "python3"
  },
  "language_info": {
   "codemirror_mode": {
    "name": "ipython",
    "version": 3
   },
   "file_extension": ".py",
   "mimetype": "text/x-python",
   "name": "python",
   "nbconvert_exporter": "python",
   "pygments_lexer": "ipython3",
   "version": "3.6.3"
  }
 },
 "nbformat": 4,
 "nbformat_minor": 2
}
