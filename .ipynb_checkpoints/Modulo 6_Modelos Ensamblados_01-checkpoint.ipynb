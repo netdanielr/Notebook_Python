{
 "cells": [
  {
   "cell_type": "markdown",
   "metadata": {},
   "source": [
    "\n",
    "# ---> MODELO DE PROPENSION DE COMPRA <---"
   ]
  },
  {
   "cell_type": "markdown",
   "metadata": {},
   "source": [
    "# 1. CARGA DE DATOS"
   ]
  },
  {
   "cell_type": "code",
   "execution_count": 1,
   "metadata": {},
   "outputs": [],
   "source": [
    "import numpy as np\n",
    "import pandas as pd"
   ]
  },
  {
   "cell_type": "code",
   "execution_count": 2,
   "metadata": {},
   "outputs": [],
   "source": [
    "# Ignorar warnings\n",
    "import warnings\n",
    "warnings.filterwarnings(\"ignore\")"
   ]
  },
  {
   "cell_type": "code",
   "execution_count": 3,
   "metadata": {},
   "outputs": [],
   "source": [
    "data = pd.read_csv(\"datos/DS_Compra.csv\")"
   ]
  },
  {
   "cell_type": "code",
   "execution_count": 4,
   "metadata": {},
   "outputs": [
    {
     "data": {
      "text/html": [
       "<div>\n",
       "<style scoped>\n",
       "    .dataframe tbody tr th:only-of-type {\n",
       "        vertical-align: middle;\n",
       "    }\n",
       "\n",
       "    .dataframe tbody tr th {\n",
       "        vertical-align: top;\n",
       "    }\n",
       "\n",
       "    .dataframe thead th {\n",
       "        text-align: right;\n",
       "    }\n",
       "</style>\n",
       "<table border=\"1\" class=\"dataframe\">\n",
       "  <thead>\n",
       "    <tr style=\"text-align: right;\">\n",
       "      <th></th>\n",
       "      <th>ID</th>\n",
       "      <th>SEXO</th>\n",
       "      <th>EDAD</th>\n",
       "      <th>INGRESOS</th>\n",
       "      <th>ESTADOCIVIL</th>\n",
       "      <th>FLAG_COMPRA</th>\n",
       "    </tr>\n",
       "  </thead>\n",
       "  <tbody>\n",
       "    <tr>\n",
       "      <th>0</th>\n",
       "      <td>10001</td>\n",
       "      <td>M</td>\n",
       "      <td>19.0</td>\n",
       "      <td>1500</td>\n",
       "      <td>S</td>\n",
       "      <td>0</td>\n",
       "    </tr>\n",
       "    <tr>\n",
       "      <th>1</th>\n",
       "      <td>10002</td>\n",
       "      <td>M</td>\n",
       "      <td>35.0</td>\n",
       "      <td>1600</td>\n",
       "      <td>C</td>\n",
       "      <td>0</td>\n",
       "    </tr>\n",
       "    <tr>\n",
       "      <th>2</th>\n",
       "      <td>10003</td>\n",
       "      <td>F</td>\n",
       "      <td>26.0</td>\n",
       "      <td>3500</td>\n",
       "      <td>C</td>\n",
       "      <td>0</td>\n",
       "    </tr>\n",
       "    <tr>\n",
       "      <th>3</th>\n",
       "      <td>10004</td>\n",
       "      <td>F</td>\n",
       "      <td>27.0</td>\n",
       "      <td>4700</td>\n",
       "      <td>C</td>\n",
       "      <td>0</td>\n",
       "    </tr>\n",
       "    <tr>\n",
       "      <th>4</th>\n",
       "      <td>10005</td>\n",
       "      <td>M</td>\n",
       "      <td>19.0</td>\n",
       "      <td>6300</td>\n",
       "      <td>S</td>\n",
       "      <td>0</td>\n",
       "    </tr>\n",
       "  </tbody>\n",
       "</table>\n",
       "</div>"
      ],
      "text/plain": [
       "      ID SEXO  EDAD  INGRESOS ESTADOCIVIL  FLAG_COMPRA\n",
       "0  10001    M  19.0      1500           S            0\n",
       "1  10002    M  35.0      1600           C            0\n",
       "2  10003    F  26.0      3500           C            0\n",
       "3  10004    F  27.0      4700           C            0\n",
       "4  10005    M  19.0      6300           S            0"
      ]
     },
     "execution_count": 4,
     "metadata": {},
     "output_type": "execute_result"
    }
   ],
   "source": [
    "# Revición Inicial\n",
    "data.head()"
   ]
  },
  {
   "cell_type": "code",
   "execution_count": 5,
   "metadata": {},
   "outputs": [
    {
     "data": {
      "text/html": [
       "<div>\n",
       "<style scoped>\n",
       "    .dataframe tbody tr th:only-of-type {\n",
       "        vertical-align: middle;\n",
       "    }\n",
       "\n",
       "    .dataframe tbody tr th {\n",
       "        vertical-align: top;\n",
       "    }\n",
       "\n",
       "    .dataframe thead th {\n",
       "        text-align: right;\n",
       "    }\n",
       "</style>\n",
       "<table border=\"1\" class=\"dataframe\">\n",
       "  <thead>\n",
       "    <tr style=\"text-align: right;\">\n",
       "      <th></th>\n",
       "      <th>ID</th>\n",
       "      <th>SEXO</th>\n",
       "      <th>EDAD</th>\n",
       "      <th>INGRESOS</th>\n",
       "      <th>ESTADOCIVIL</th>\n",
       "      <th>FLAG_COMPRA</th>\n",
       "    </tr>\n",
       "  </thead>\n",
       "  <tbody>\n",
       "    <tr>\n",
       "      <th>395</th>\n",
       "      <td>10396</td>\n",
       "      <td>F</td>\n",
       "      <td>46.0</td>\n",
       "      <td>3400</td>\n",
       "      <td>C</td>\n",
       "      <td>1</td>\n",
       "    </tr>\n",
       "    <tr>\n",
       "      <th>396</th>\n",
       "      <td>10397</td>\n",
       "      <td>M</td>\n",
       "      <td>51.0</td>\n",
       "      <td>1900</td>\n",
       "      <td>S</td>\n",
       "      <td>1</td>\n",
       "    </tr>\n",
       "    <tr>\n",
       "      <th>397</th>\n",
       "      <td>10398</td>\n",
       "      <td>F</td>\n",
       "      <td>50.0</td>\n",
       "      <td>1600</td>\n",
       "      <td>S</td>\n",
       "      <td>1</td>\n",
       "    </tr>\n",
       "    <tr>\n",
       "      <th>398</th>\n",
       "      <td>10399</td>\n",
       "      <td>M</td>\n",
       "      <td>36.0</td>\n",
       "      <td>2700</td>\n",
       "      <td>C</td>\n",
       "      <td>0</td>\n",
       "    </tr>\n",
       "    <tr>\n",
       "      <th>399</th>\n",
       "      <td>10400</td>\n",
       "      <td>F</td>\n",
       "      <td>49.0</td>\n",
       "      <td>3000</td>\n",
       "      <td>C</td>\n",
       "      <td>1</td>\n",
       "    </tr>\n",
       "  </tbody>\n",
       "</table>\n",
       "</div>"
      ],
      "text/plain": [
       "        ID SEXO  EDAD  INGRESOS ESTADOCIVIL  FLAG_COMPRA\n",
       "395  10396    F  46.0      3400           C            1\n",
       "396  10397    M  51.0      1900           S            1\n",
       "397  10398    F  50.0      1600           S            1\n",
       "398  10399    M  36.0      2700           C            0\n",
       "399  10400    F  49.0      3000           C            1"
      ]
     },
     "execution_count": 5,
     "metadata": {},
     "output_type": "execute_result"
    }
   ],
   "source": [
    "data.tail()"
   ]
  },
  {
   "cell_type": "code",
   "execution_count": 6,
   "metadata": {},
   "outputs": [
    {
     "data": {
      "text/plain": [
       "(400, 6)"
      ]
     },
     "execution_count": 6,
     "metadata": {},
     "output_type": "execute_result"
    }
   ],
   "source": [
    "data.shape"
   ]
  },
  {
   "cell_type": "code",
   "execution_count": 7,
   "metadata": {},
   "outputs": [
    {
     "name": "stdout",
     "output_type": "stream",
     "text": [
      "<class 'pandas.core.frame.DataFrame'>\n",
      "RangeIndex: 400 entries, 0 to 399\n",
      "Data columns (total 6 columns):\n",
      "ID             400 non-null int64\n",
      "SEXO           400 non-null object\n",
      "EDAD           387 non-null float64\n",
      "INGRESOS       400 non-null int64\n",
      "ESTADOCIVIL    392 non-null object\n",
      "FLAG_COMPRA    400 non-null int64\n",
      "dtypes: float64(1), int64(3), object(2)\n",
      "memory usage: 18.8+ KB\n"
     ]
    }
   ],
   "source": [
    "data.info()"
   ]
  },
  {
   "cell_type": "code",
   "execution_count": 8,
   "metadata": {},
   "outputs": [
    {
     "data": {
      "text/html": [
       "<div>\n",
       "<style scoped>\n",
       "    .dataframe tbody tr th:only-of-type {\n",
       "        vertical-align: middle;\n",
       "    }\n",
       "\n",
       "    .dataframe tbody tr th {\n",
       "        vertical-align: top;\n",
       "    }\n",
       "\n",
       "    .dataframe thead th {\n",
       "        text-align: right;\n",
       "    }\n",
       "</style>\n",
       "<table border=\"1\" class=\"dataframe\">\n",
       "  <thead>\n",
       "    <tr style=\"text-align: right;\">\n",
       "      <th></th>\n",
       "      <th>0</th>\n",
       "    </tr>\n",
       "  </thead>\n",
       "  <tbody>\n",
       "    <tr>\n",
       "      <th>ID</th>\n",
       "      <td>int64</td>\n",
       "    </tr>\n",
       "    <tr>\n",
       "      <th>SEXO</th>\n",
       "      <td>object</td>\n",
       "    </tr>\n",
       "    <tr>\n",
       "      <th>EDAD</th>\n",
       "      <td>float64</td>\n",
       "    </tr>\n",
       "    <tr>\n",
       "      <th>INGRESOS</th>\n",
       "      <td>int64</td>\n",
       "    </tr>\n",
       "    <tr>\n",
       "      <th>ESTADOCIVIL</th>\n",
       "      <td>object</td>\n",
       "    </tr>\n",
       "    <tr>\n",
       "      <th>FLAG_COMPRA</th>\n",
       "      <td>int64</td>\n",
       "    </tr>\n",
       "  </tbody>\n",
       "</table>\n",
       "</div>"
      ],
      "text/plain": [
       "                   0\n",
       "ID             int64\n",
       "SEXO          object\n",
       "EDAD         float64\n",
       "INGRESOS       int64\n",
       "ESTADOCIVIL   object\n",
       "FLAG_COMPRA    int64"
      ]
     },
     "execution_count": 8,
     "metadata": {},
     "output_type": "execute_result"
    }
   ],
   "source": [
    "# Obtenere tipos de datos\n",
    "pd.DataFrame(data.dtypes)"
   ]
  },
  {
   "cell_type": "markdown",
   "metadata": {},
   "source": [
    "# 2. ANÁLISIS DESCRIPTIVO DE LOS DATOS"
   ]
  },
  {
   "cell_type": "code",
   "execution_count": 9,
   "metadata": {},
   "outputs": [
    {
     "data": {
      "text/html": [
       "<div>\n",
       "<style scoped>\n",
       "    .dataframe tbody tr th:only-of-type {\n",
       "        vertical-align: middle;\n",
       "    }\n",
       "\n",
       "    .dataframe tbody tr th {\n",
       "        vertical-align: top;\n",
       "    }\n",
       "\n",
       "    .dataframe thead th {\n",
       "        text-align: right;\n",
       "    }\n",
       "</style>\n",
       "<table border=\"1\" class=\"dataframe\">\n",
       "  <thead>\n",
       "    <tr style=\"text-align: right;\">\n",
       "      <th></th>\n",
       "      <th>ID</th>\n",
       "      <th>SEXO</th>\n",
       "      <th>EDAD</th>\n",
       "      <th>INGRESOS</th>\n",
       "      <th>ESTADOCIVIL</th>\n",
       "      <th>FLAG_COMPRA</th>\n",
       "    </tr>\n",
       "  </thead>\n",
       "  <tbody>\n",
       "    <tr>\n",
       "      <th>count</th>\n",
       "      <td>400.000000</td>\n",
       "      <td>400</td>\n",
       "      <td>387.000000</td>\n",
       "      <td>400.000000</td>\n",
       "      <td>392</td>\n",
       "      <td>400.000000</td>\n",
       "    </tr>\n",
       "    <tr>\n",
       "      <th>unique</th>\n",
       "      <td>NaN</td>\n",
       "      <td>2</td>\n",
       "      <td>NaN</td>\n",
       "      <td>NaN</td>\n",
       "      <td>3</td>\n",
       "      <td>NaN</td>\n",
       "    </tr>\n",
       "    <tr>\n",
       "      <th>top</th>\n",
       "      <td>NaN</td>\n",
       "      <td>F</td>\n",
       "      <td>NaN</td>\n",
       "      <td>NaN</td>\n",
       "      <td>S</td>\n",
       "      <td>NaN</td>\n",
       "    </tr>\n",
       "    <tr>\n",
       "      <th>freq</th>\n",
       "      <td>NaN</td>\n",
       "      <td>204</td>\n",
       "      <td>NaN</td>\n",
       "      <td>NaN</td>\n",
       "      <td>214</td>\n",
       "      <td>NaN</td>\n",
       "    </tr>\n",
       "    <tr>\n",
       "      <th>mean</th>\n",
       "      <td>10200.500000</td>\n",
       "      <td>NaN</td>\n",
       "      <td>37.589147</td>\n",
       "      <td>6476.500000</td>\n",
       "      <td>NaN</td>\n",
       "      <td>0.357500</td>\n",
       "    </tr>\n",
       "    <tr>\n",
       "      <th>std</th>\n",
       "      <td>115.614301</td>\n",
       "      <td>NaN</td>\n",
       "      <td>10.523312</td>\n",
       "      <td>7705.031897</td>\n",
       "      <td>NaN</td>\n",
       "      <td>0.479864</td>\n",
       "    </tr>\n",
       "    <tr>\n",
       "      <th>min</th>\n",
       "      <td>10001.000000</td>\n",
       "      <td>NaN</td>\n",
       "      <td>18.000000</td>\n",
       "      <td>1200.000000</td>\n",
       "      <td>NaN</td>\n",
       "      <td>0.000000</td>\n",
       "    </tr>\n",
       "    <tr>\n",
       "      <th>25%</th>\n",
       "      <td>10100.750000</td>\n",
       "      <td>NaN</td>\n",
       "      <td>29.000000</td>\n",
       "      <td>3500.000000</td>\n",
       "      <td>NaN</td>\n",
       "      <td>0.000000</td>\n",
       "    </tr>\n",
       "    <tr>\n",
       "      <th>50%</th>\n",
       "      <td>10200.500000</td>\n",
       "      <td>NaN</td>\n",
       "      <td>37.000000</td>\n",
       "      <td>5800.000000</td>\n",
       "      <td>NaN</td>\n",
       "      <td>0.000000</td>\n",
       "    </tr>\n",
       "    <tr>\n",
       "      <th>75%</th>\n",
       "      <td>10300.250000</td>\n",
       "      <td>NaN</td>\n",
       "      <td>46.000000</td>\n",
       "      <td>7300.000000</td>\n",
       "      <td>NaN</td>\n",
       "      <td>1.000000</td>\n",
       "    </tr>\n",
       "    <tr>\n",
       "      <th>max</th>\n",
       "      <td>10400.000000</td>\n",
       "      <td>NaN</td>\n",
       "      <td>60.000000</td>\n",
       "      <td>90000.000000</td>\n",
       "      <td>NaN</td>\n",
       "      <td>1.000000</td>\n",
       "    </tr>\n",
       "  </tbody>\n",
       "</table>\n",
       "</div>"
      ],
      "text/plain": [
       "                  ID SEXO        EDAD      INGRESOS ESTADOCIVIL  FLAG_COMPRA\n",
       "count     400.000000  400  387.000000    400.000000         392   400.000000\n",
       "unique           NaN    2         NaN           NaN           3          NaN\n",
       "top              NaN    F         NaN           NaN           S          NaN\n",
       "freq             NaN  204         NaN           NaN         214          NaN\n",
       "mean    10200.500000  NaN   37.589147   6476.500000         NaN     0.357500\n",
       "std       115.614301  NaN   10.523312   7705.031897         NaN     0.479864\n",
       "min     10001.000000  NaN   18.000000   1200.000000         NaN     0.000000\n",
       "25%     10100.750000  NaN   29.000000   3500.000000         NaN     0.000000\n",
       "50%     10200.500000  NaN   37.000000   5800.000000         NaN     0.000000\n",
       "75%     10300.250000  NaN   46.000000   7300.000000         NaN     1.000000\n",
       "max     10400.000000  NaN   60.000000  90000.000000         NaN     1.000000"
      ]
     },
     "execution_count": 9,
     "metadata": {},
     "output_type": "execute_result"
    }
   ],
   "source": [
    "data.describe(include = 'all')"
   ]
  },
  {
   "cell_type": "code",
   "execution_count": 10,
   "metadata": {},
   "outputs": [
    {
     "data": {
      "text/plain": [
       "S    214\n",
       "C    125\n",
       "D     53\n",
       "Name: ESTADOCIVIL, dtype: int64"
      ]
     },
     "execution_count": 10,
     "metadata": {},
     "output_type": "execute_result"
    }
   ],
   "source": [
    "# Frecuencias de estado civil\n",
    "data[\"ESTADOCIVIL\"].value_counts()"
   ]
  },
  {
   "cell_type": "code",
   "execution_count": 11,
   "metadata": {},
   "outputs": [
    {
     "data": {
      "text/plain": [
       "S      0.5350\n",
       "C      0.3125\n",
       "D      0.1325\n",
       "NaN    0.0200\n",
       "Name: ESTADOCIVIL, dtype: float64"
      ]
     },
     "execution_count": 11,
     "metadata": {},
     "output_type": "execute_result"
    }
   ],
   "source": [
    "# Frecuencias relativas de estado civil\n",
    "data[\"ESTADOCIVIL\"].value_counts(normalize = True, dropna = False) \n",
    "# normalize: para frecuenciaas relativas \n",
    "# dropna: eliminar nulos"
   ]
  },
  {
   "cell_type": "code",
   "execution_count": 12,
   "metadata": {},
   "outputs": [
    {
     "data": {
      "text/plain": [
       "(34.8, 43.2]                  0.3450\n",
       "(26.4, 34.8]                  0.1900\n",
       "(17.956999999999997, 26.4]    0.1625\n",
       "(43.2, 51.6]                  0.1600\n",
       "(51.6, 60.0]                  0.1100\n",
       "Name: EDAD, dtype: float64"
      ]
     },
     "execution_count": 12,
     "metadata": {},
     "output_type": "execute_result"
    }
   ],
   "source": [
    "# Edad\n",
    "data[\"EDAD\"].value_counts(bins = 5 , normalize = True)\n",
    "# bins: nro de rangos a agrupar\n",
    "# normalize: para frecuenciaas relativas "
   ]
  },
  {
   "cell_type": "code",
   "execution_count": 13,
   "metadata": {},
   "outputs": [
    {
     "data": {
      "text/plain": [
       "'(30-50]'"
      ]
     },
     "execution_count": 13,
     "metadata": {},
     "output_type": "execute_result"
    }
   ],
   "source": [
    "# Generar rangos según nuestross límites deseados:\n",
    "def genera_rangos(valor):\n",
    "    if pd.isnull(valor):\n",
    "        return(\"Nuloooooooo\")\n",
    "    elif valor <= 30 :\n",
    "        return(\"[18-30]\")\n",
    "    elif valor <= 50 :\n",
    "        return(\"(30-50]\")\n",
    "    elif valor <= 60 :\n",
    "        return(\"(50-60]\")\n",
    "    else:\n",
    "        return('Nan')\n",
    "genera_rangos(35)"
   ]
  },
  {
   "cell_type": "code",
   "execution_count": 14,
   "metadata": {
    "scrolled": true
   },
   "outputs": [],
   "source": [
    "data[\"EDAD_RANGO\"] = data[\"EDAD\"].apply(lambda x: genera_rangos(x))"
   ]
  },
  {
   "cell_type": "code",
   "execution_count": 15,
   "metadata": {},
   "outputs": [
    {
     "data": {
      "text/plain": [
       "(30-50]        0.5775\n",
       "[18-30]        0.2725\n",
       "(50-60]        0.1175\n",
       "Nuloooooooo    0.0325\n",
       "Name: EDAD_RANGO, dtype: float64"
      ]
     },
     "execution_count": 15,
     "metadata": {},
     "output_type": "execute_result"
    }
   ],
   "source": [
    "data[\"EDAD_RANGO\"].value_counts(normalize = True)"
   ]
  },
  {
   "cell_type": "code",
   "execution_count": null,
   "metadata": {},
   "outputs": [],
   "source": []
  },
  {
   "cell_type": "code",
   "execution_count": 16,
   "metadata": {},
   "outputs": [
    {
     "data": {
      "text/html": [
       "<div>\n",
       "<style scoped>\n",
       "    .dataframe tbody tr th:only-of-type {\n",
       "        vertical-align: middle;\n",
       "    }\n",
       "\n",
       "    .dataframe tbody tr th {\n",
       "        vertical-align: top;\n",
       "    }\n",
       "\n",
       "    .dataframe thead th {\n",
       "        text-align: right;\n",
       "    }\n",
       "</style>\n",
       "<table border=\"1\" class=\"dataframe\">\n",
       "  <thead>\n",
       "    <tr style=\"text-align: right;\">\n",
       "      <th></th>\n",
       "      <th>0</th>\n",
       "    </tr>\n",
       "  </thead>\n",
       "  <tbody>\n",
       "    <tr>\n",
       "      <th>ID</th>\n",
       "      <td>int64</td>\n",
       "    </tr>\n",
       "    <tr>\n",
       "      <th>SEXO</th>\n",
       "      <td>object</td>\n",
       "    </tr>\n",
       "    <tr>\n",
       "      <th>EDAD</th>\n",
       "      <td>float64</td>\n",
       "    </tr>\n",
       "    <tr>\n",
       "      <th>INGRESOS</th>\n",
       "      <td>int64</td>\n",
       "    </tr>\n",
       "    <tr>\n",
       "      <th>ESTADOCIVIL</th>\n",
       "      <td>object</td>\n",
       "    </tr>\n",
       "    <tr>\n",
       "      <th>FLAG_COMPRA</th>\n",
       "      <td>int64</td>\n",
       "    </tr>\n",
       "    <tr>\n",
       "      <th>EDAD_RANGO</th>\n",
       "      <td>object</td>\n",
       "    </tr>\n",
       "  </tbody>\n",
       "</table>\n",
       "</div>"
      ],
      "text/plain": [
       "                   0\n",
       "ID             int64\n",
       "SEXO          object\n",
       "EDAD         float64\n",
       "INGRESOS       int64\n",
       "ESTADOCIVIL   object\n",
       "FLAG_COMPRA    int64\n",
       "EDAD_RANGO    object"
      ]
     },
     "execution_count": 16,
     "metadata": {},
     "output_type": "execute_result"
    }
   ],
   "source": [
    "pd.DataFrame(data.dtypes)"
   ]
  },
  {
   "cell_type": "code",
   "execution_count": null,
   "metadata": {},
   "outputs": [],
   "source": []
  },
  {
   "cell_type": "code",
   "execution_count": 17,
   "metadata": {},
   "outputs": [
    {
     "data": {
      "text/plain": [
       "array(['ID', 'SEXO', 'EDAD', 'INGRESOS', 'ESTADOCIVIL', 'FLAG_COMPRA',\n",
       "       'EDAD_RANGO'], dtype=object)"
      ]
     },
     "execution_count": 17,
     "metadata": {},
     "output_type": "execute_result"
    }
   ],
   "source": [
    "# Ver solo las columnas del dataframe:\n",
    "data.columns.values"
   ]
  },
  {
   "cell_type": "code",
   "execution_count": 18,
   "metadata": {
    "scrolled": true
   },
   "outputs": [],
   "source": [
    "# Seleccionar variables categoricas (object)\n",
    "vars_str = data.select_dtypes(include = ['object']).columns.values"
   ]
  },
  {
   "cell_type": "code",
   "execution_count": 19,
   "metadata": {},
   "outputs": [
    {
     "name": "stdout",
     "output_type": "stream",
     "text": [
      "---------------------------------------------\n",
      "F    0.51\n",
      "M    0.49\n",
      "Name: SEXO, dtype: float64\n",
      "---------------------------------------------\n",
      "S      0.5350\n",
      "C      0.3125\n",
      "D      0.1325\n",
      "NaN    0.0200\n",
      "Name: ESTADOCIVIL, dtype: float64\n",
      "---------------------------------------------\n",
      "(30-50]        0.5775\n",
      "[18-30]        0.2725\n",
      "(50-60]        0.1175\n",
      "Nuloooooooo    0.0325\n",
      "Name: EDAD_RANGO, dtype: float64\n"
     ]
    }
   ],
   "source": [
    "for feature in vars_str:\n",
    "    print(\"---------------------------------------------\")\n",
    "    print(data[feature].value_counts(normalize = True, dropna = False) )"
   ]
  },
  {
   "cell_type": "code",
   "execution_count": null,
   "metadata": {},
   "outputs": [],
   "source": []
  },
  {
   "cell_type": "code",
   "execution_count": 20,
   "metadata": {
    "scrolled": true
   },
   "outputs": [
    {
     "data": {
      "text/html": [
       "<div>\n",
       "<style scoped>\n",
       "    .dataframe tbody tr th:only-of-type {\n",
       "        vertical-align: middle;\n",
       "    }\n",
       "\n",
       "    .dataframe tbody tr th {\n",
       "        vertical-align: top;\n",
       "    }\n",
       "\n",
       "    .dataframe thead th {\n",
       "        text-align: right;\n",
       "    }\n",
       "</style>\n",
       "<table border=\"1\" class=\"dataframe\">\n",
       "  <thead>\n",
       "    <tr style=\"text-align: right;\">\n",
       "      <th></th>\n",
       "      <th>ID</th>\n",
       "      <th>SEXO</th>\n",
       "      <th>EDAD</th>\n",
       "      <th>INGRESOS</th>\n",
       "      <th>ESTADOCIVIL</th>\n",
       "      <th>FLAG_COMPRA</th>\n",
       "      <th>EDAD_RANGO</th>\n",
       "      <th>ID</th>\n",
       "      <th>SEXO</th>\n",
       "      <th>EDAD</th>\n",
       "      <th>INGRESOS</th>\n",
       "      <th>ESTADOCIVIL</th>\n",
       "      <th>FLAG_COMPRA</th>\n",
       "      <th>EDAD_RANGO</th>\n",
       "    </tr>\n",
       "  </thead>\n",
       "  <tbody>\n",
       "    <tr>\n",
       "      <th>0</th>\n",
       "      <td>10001</td>\n",
       "      <td>M</td>\n",
       "      <td>19.0</td>\n",
       "      <td>1500</td>\n",
       "      <td>S</td>\n",
       "      <td>0</td>\n",
       "      <td>[18-30]</td>\n",
       "      <td>10001</td>\n",
       "      <td>M</td>\n",
       "      <td>19.0</td>\n",
       "      <td>1500</td>\n",
       "      <td>S</td>\n",
       "      <td>0</td>\n",
       "      <td>[18-30]</td>\n",
       "    </tr>\n",
       "    <tr>\n",
       "      <th>1</th>\n",
       "      <td>10002</td>\n",
       "      <td>M</td>\n",
       "      <td>35.0</td>\n",
       "      <td>1600</td>\n",
       "      <td>C</td>\n",
       "      <td>0</td>\n",
       "      <td>(30-50]</td>\n",
       "      <td>10002</td>\n",
       "      <td>M</td>\n",
       "      <td>35.0</td>\n",
       "      <td>1600</td>\n",
       "      <td>C</td>\n",
       "      <td>0</td>\n",
       "      <td>(30-50]</td>\n",
       "    </tr>\n",
       "    <tr>\n",
       "      <th>2</th>\n",
       "      <td>10003</td>\n",
       "      <td>F</td>\n",
       "      <td>26.0</td>\n",
       "      <td>3500</td>\n",
       "      <td>C</td>\n",
       "      <td>0</td>\n",
       "      <td>[18-30]</td>\n",
       "      <td>10003</td>\n",
       "      <td>F</td>\n",
       "      <td>26.0</td>\n",
       "      <td>3500</td>\n",
       "      <td>C</td>\n",
       "      <td>0</td>\n",
       "      <td>[18-30]</td>\n",
       "    </tr>\n",
       "    <tr>\n",
       "      <th>3</th>\n",
       "      <td>10004</td>\n",
       "      <td>F</td>\n",
       "      <td>27.0</td>\n",
       "      <td>4700</td>\n",
       "      <td>C</td>\n",
       "      <td>0</td>\n",
       "      <td>[18-30]</td>\n",
       "      <td>10004</td>\n",
       "      <td>F</td>\n",
       "      <td>27.0</td>\n",
       "      <td>4700</td>\n",
       "      <td>C</td>\n",
       "      <td>0</td>\n",
       "      <td>[18-30]</td>\n",
       "    </tr>\n",
       "    <tr>\n",
       "      <th>4</th>\n",
       "      <td>10005</td>\n",
       "      <td>M</td>\n",
       "      <td>19.0</td>\n",
       "      <td>6300</td>\n",
       "      <td>S</td>\n",
       "      <td>0</td>\n",
       "      <td>[18-30]</td>\n",
       "      <td>10005</td>\n",
       "      <td>M</td>\n",
       "      <td>19.0</td>\n",
       "      <td>6300</td>\n",
       "      <td>S</td>\n",
       "      <td>0</td>\n",
       "      <td>[18-30]</td>\n",
       "    </tr>\n",
       "    <tr>\n",
       "      <th>5</th>\n",
       "      <td>10006</td>\n",
       "      <td>M</td>\n",
       "      <td>27.0</td>\n",
       "      <td>4800</td>\n",
       "      <td>C</td>\n",
       "      <td>0</td>\n",
       "      <td>[18-30]</td>\n",
       "      <td>10006</td>\n",
       "      <td>M</td>\n",
       "      <td>27.0</td>\n",
       "      <td>4800</td>\n",
       "      <td>C</td>\n",
       "      <td>0</td>\n",
       "      <td>[18-30]</td>\n",
       "    </tr>\n",
       "    <tr>\n",
       "      <th>6</th>\n",
       "      <td>10007</td>\n",
       "      <td>F</td>\n",
       "      <td>27.0</td>\n",
       "      <td>7000</td>\n",
       "      <td>C</td>\n",
       "      <td>0</td>\n",
       "      <td>[18-30]</td>\n",
       "      <td>10007</td>\n",
       "      <td>F</td>\n",
       "      <td>27.0</td>\n",
       "      <td>7000</td>\n",
       "      <td>C</td>\n",
       "      <td>0</td>\n",
       "      <td>[18-30]</td>\n",
       "    </tr>\n",
       "    <tr>\n",
       "      <th>7</th>\n",
       "      <td>10008</td>\n",
       "      <td>F</td>\n",
       "      <td>32.0</td>\n",
       "      <td>80000</td>\n",
       "      <td>C</td>\n",
       "      <td>1</td>\n",
       "      <td>(30-50]</td>\n",
       "      <td>10008</td>\n",
       "      <td>F</td>\n",
       "      <td>32.0</td>\n",
       "      <td>80000</td>\n",
       "      <td>C</td>\n",
       "      <td>1</td>\n",
       "      <td>(30-50]</td>\n",
       "    </tr>\n",
       "    <tr>\n",
       "      <th>8</th>\n",
       "      <td>10009</td>\n",
       "      <td>M</td>\n",
       "      <td>25.0</td>\n",
       "      <td>2700</td>\n",
       "      <td>C</td>\n",
       "      <td>0</td>\n",
       "      <td>[18-30]</td>\n",
       "      <td>10009</td>\n",
       "      <td>M</td>\n",
       "      <td>25.0</td>\n",
       "      <td>2700</td>\n",
       "      <td>C</td>\n",
       "      <td>0</td>\n",
       "      <td>[18-30]</td>\n",
       "    </tr>\n",
       "    <tr>\n",
       "      <th>9</th>\n",
       "      <td>10010</td>\n",
       "      <td>F</td>\n",
       "      <td>NaN</td>\n",
       "      <td>5400</td>\n",
       "      <td>C</td>\n",
       "      <td>0</td>\n",
       "      <td>Nuloooooooo</td>\n",
       "      <td>10010</td>\n",
       "      <td>F</td>\n",
       "      <td>NaN</td>\n",
       "      <td>5400</td>\n",
       "      <td>C</td>\n",
       "      <td>0</td>\n",
       "      <td>Nuloooooooo</td>\n",
       "    </tr>\n",
       "    <tr>\n",
       "      <th>10</th>\n",
       "      <td>10011</td>\n",
       "      <td>F</td>\n",
       "      <td>26.0</td>\n",
       "      <td>6600</td>\n",
       "      <td>NaN</td>\n",
       "      <td>0</td>\n",
       "      <td>[18-30]</td>\n",
       "      <td>10011</td>\n",
       "      <td>F</td>\n",
       "      <td>26.0</td>\n",
       "      <td>6600</td>\n",
       "      <td>NaN</td>\n",
       "      <td>0</td>\n",
       "      <td>[18-30]</td>\n",
       "    </tr>\n",
       "    <tr>\n",
       "      <th>11</th>\n",
       "      <td>10012</td>\n",
       "      <td>F</td>\n",
       "      <td>26.0</td>\n",
       "      <td>4300</td>\n",
       "      <td>C</td>\n",
       "      <td>0</td>\n",
       "      <td>[18-30]</td>\n",
       "      <td>10012</td>\n",
       "      <td>F</td>\n",
       "      <td>26.0</td>\n",
       "      <td>4300</td>\n",
       "      <td>C</td>\n",
       "      <td>0</td>\n",
       "      <td>[18-30]</td>\n",
       "    </tr>\n",
       "    <tr>\n",
       "      <th>12</th>\n",
       "      <td>10013</td>\n",
       "      <td>M</td>\n",
       "      <td>20.0</td>\n",
       "      <td>7100</td>\n",
       "      <td>S</td>\n",
       "      <td>0</td>\n",
       "      <td>[18-30]</td>\n",
       "      <td>10013</td>\n",
       "      <td>M</td>\n",
       "      <td>20.0</td>\n",
       "      <td>7100</td>\n",
       "      <td>S</td>\n",
       "      <td>0</td>\n",
       "      <td>[18-30]</td>\n",
       "    </tr>\n",
       "    <tr>\n",
       "      <th>13</th>\n",
       "      <td>10014</td>\n",
       "      <td>M</td>\n",
       "      <td>32.0</td>\n",
       "      <td>1500</td>\n",
       "      <td>C</td>\n",
       "      <td>0</td>\n",
       "      <td>(30-50]</td>\n",
       "      <td>10014</td>\n",
       "      <td>M</td>\n",
       "      <td>32.0</td>\n",
       "      <td>1500</td>\n",
       "      <td>C</td>\n",
       "      <td>0</td>\n",
       "      <td>(30-50]</td>\n",
       "    </tr>\n",
       "    <tr>\n",
       "      <th>14</th>\n",
       "      <td>10015</td>\n",
       "      <td>M</td>\n",
       "      <td>18.0</td>\n",
       "      <td>6800</td>\n",
       "      <td>S</td>\n",
       "      <td>0</td>\n",
       "      <td>[18-30]</td>\n",
       "      <td>10015</td>\n",
       "      <td>M</td>\n",
       "      <td>18.0</td>\n",
       "      <td>6800</td>\n",
       "      <td>S</td>\n",
       "      <td>0</td>\n",
       "      <td>[18-30]</td>\n",
       "    </tr>\n",
       "    <tr>\n",
       "      <th>15</th>\n",
       "      <td>10016</td>\n",
       "      <td>M</td>\n",
       "      <td>29.0</td>\n",
       "      <td>6600</td>\n",
       "      <td>C</td>\n",
       "      <td>0</td>\n",
       "      <td>[18-30]</td>\n",
       "      <td>10016</td>\n",
       "      <td>M</td>\n",
       "      <td>29.0</td>\n",
       "      <td>6600</td>\n",
       "      <td>C</td>\n",
       "      <td>0</td>\n",
       "      <td>[18-30]</td>\n",
       "    </tr>\n",
       "    <tr>\n",
       "      <th>16</th>\n",
       "      <td>10017</td>\n",
       "      <td>M</td>\n",
       "      <td>47.0</td>\n",
       "      <td>2000</td>\n",
       "      <td>S</td>\n",
       "      <td>1</td>\n",
       "      <td>(30-50]</td>\n",
       "      <td>10017</td>\n",
       "      <td>M</td>\n",
       "      <td>47.0</td>\n",
       "      <td>2000</td>\n",
       "      <td>S</td>\n",
       "      <td>1</td>\n",
       "      <td>(30-50]</td>\n",
       "    </tr>\n",
       "    <tr>\n",
       "      <th>17</th>\n",
       "      <td>10018</td>\n",
       "      <td>M</td>\n",
       "      <td>45.0</td>\n",
       "      <td>2100</td>\n",
       "      <td>S</td>\n",
       "      <td>1</td>\n",
       "      <td>(30-50]</td>\n",
       "      <td>10018</td>\n",
       "      <td>M</td>\n",
       "      <td>45.0</td>\n",
       "      <td>2100</td>\n",
       "      <td>S</td>\n",
       "      <td>1</td>\n",
       "      <td>(30-50]</td>\n",
       "    </tr>\n",
       "    <tr>\n",
       "      <th>18</th>\n",
       "      <td>10019</td>\n",
       "      <td>M</td>\n",
       "      <td>46.0</td>\n",
       "      <td>2300</td>\n",
       "      <td>S</td>\n",
       "      <td>1</td>\n",
       "      <td>(30-50]</td>\n",
       "      <td>10019</td>\n",
       "      <td>M</td>\n",
       "      <td>46.0</td>\n",
       "      <td>2300</td>\n",
       "      <td>S</td>\n",
       "      <td>1</td>\n",
       "      <td>(30-50]</td>\n",
       "    </tr>\n",
       "    <tr>\n",
       "      <th>19</th>\n",
       "      <td>10020</td>\n",
       "      <td>F</td>\n",
       "      <td>48.0</td>\n",
       "      <td>2400</td>\n",
       "      <td>S</td>\n",
       "      <td>1</td>\n",
       "      <td>(30-50]</td>\n",
       "      <td>10020</td>\n",
       "      <td>F</td>\n",
       "      <td>48.0</td>\n",
       "      <td>2400</td>\n",
       "      <td>S</td>\n",
       "      <td>1</td>\n",
       "      <td>(30-50]</td>\n",
       "    </tr>\n",
       "    <tr>\n",
       "      <th>20</th>\n",
       "      <td>10021</td>\n",
       "      <td>M</td>\n",
       "      <td>45.0</td>\n",
       "      <td>1800</td>\n",
       "      <td>NaN</td>\n",
       "      <td>1</td>\n",
       "      <td>(30-50]</td>\n",
       "      <td>10021</td>\n",
       "      <td>M</td>\n",
       "      <td>45.0</td>\n",
       "      <td>1800</td>\n",
       "      <td>NaN</td>\n",
       "      <td>1</td>\n",
       "      <td>(30-50]</td>\n",
       "    </tr>\n",
       "    <tr>\n",
       "      <th>21</th>\n",
       "      <td>10022</td>\n",
       "      <td>F</td>\n",
       "      <td>47.0</td>\n",
       "      <td>4000</td>\n",
       "      <td>C</td>\n",
       "      <td>1</td>\n",
       "      <td>(30-50]</td>\n",
       "      <td>10022</td>\n",
       "      <td>F</td>\n",
       "      <td>47.0</td>\n",
       "      <td>4000</td>\n",
       "      <td>C</td>\n",
       "      <td>1</td>\n",
       "      <td>(30-50]</td>\n",
       "    </tr>\n",
       "    <tr>\n",
       "      <th>22</th>\n",
       "      <td>10023</td>\n",
       "      <td>M</td>\n",
       "      <td>48.0</td>\n",
       "      <td>3400</td>\n",
       "      <td>C</td>\n",
       "      <td>1</td>\n",
       "      <td>(30-50]</td>\n",
       "      <td>10023</td>\n",
       "      <td>M</td>\n",
       "      <td>48.0</td>\n",
       "      <td>3400</td>\n",
       "      <td>C</td>\n",
       "      <td>1</td>\n",
       "      <td>(30-50]</td>\n",
       "    </tr>\n",
       "    <tr>\n",
       "      <th>23</th>\n",
       "      <td>10024</td>\n",
       "      <td>F</td>\n",
       "      <td>45.0</td>\n",
       "      <td>1800</td>\n",
       "      <td>S</td>\n",
       "      <td>1</td>\n",
       "      <td>(30-50]</td>\n",
       "      <td>10024</td>\n",
       "      <td>F</td>\n",
       "      <td>45.0</td>\n",
       "      <td>1800</td>\n",
       "      <td>S</td>\n",
       "      <td>1</td>\n",
       "      <td>(30-50]</td>\n",
       "    </tr>\n",
       "    <tr>\n",
       "      <th>24</th>\n",
       "      <td>10025</td>\n",
       "      <td>M</td>\n",
       "      <td>46.0</td>\n",
       "      <td>1900</td>\n",
       "      <td>S</td>\n",
       "      <td>1</td>\n",
       "      <td>(30-50]</td>\n",
       "      <td>10025</td>\n",
       "      <td>M</td>\n",
       "      <td>46.0</td>\n",
       "      <td>1900</td>\n",
       "      <td>S</td>\n",
       "      <td>1</td>\n",
       "      <td>(30-50]</td>\n",
       "    </tr>\n",
       "    <tr>\n",
       "      <th>25</th>\n",
       "      <td>10026</td>\n",
       "      <td>M</td>\n",
       "      <td>47.0</td>\n",
       "      <td>1600</td>\n",
       "      <td>S</td>\n",
       "      <td>1</td>\n",
       "      <td>(30-50]</td>\n",
       "      <td>10026</td>\n",
       "      <td>M</td>\n",
       "      <td>47.0</td>\n",
       "      <td>1600</td>\n",
       "      <td>S</td>\n",
       "      <td>1</td>\n",
       "      <td>(30-50]</td>\n",
       "    </tr>\n",
       "    <tr>\n",
       "      <th>26</th>\n",
       "      <td>10027</td>\n",
       "      <td>M</td>\n",
       "      <td>49.0</td>\n",
       "      <td>2300</td>\n",
       "      <td>S</td>\n",
       "      <td>1</td>\n",
       "      <td>(30-50]</td>\n",
       "      <td>10027</td>\n",
       "      <td>M</td>\n",
       "      <td>49.0</td>\n",
       "      <td>2300</td>\n",
       "      <td>S</td>\n",
       "      <td>1</td>\n",
       "      <td>(30-50]</td>\n",
       "    </tr>\n",
       "    <tr>\n",
       "      <th>27</th>\n",
       "      <td>10028</td>\n",
       "      <td>F</td>\n",
       "      <td>47.0</td>\n",
       "      <td>2500</td>\n",
       "      <td>C</td>\n",
       "      <td>1</td>\n",
       "      <td>(30-50]</td>\n",
       "      <td>10028</td>\n",
       "      <td>F</td>\n",
       "      <td>47.0</td>\n",
       "      <td>2500</td>\n",
       "      <td>C</td>\n",
       "      <td>1</td>\n",
       "      <td>(30-50]</td>\n",
       "    </tr>\n",
       "    <tr>\n",
       "      <th>28</th>\n",
       "      <td>10029</td>\n",
       "      <td>M</td>\n",
       "      <td>29.0</td>\n",
       "      <td>3500</td>\n",
       "      <td>C</td>\n",
       "      <td>0</td>\n",
       "      <td>[18-30]</td>\n",
       "      <td>10029</td>\n",
       "      <td>M</td>\n",
       "      <td>29.0</td>\n",
       "      <td>3500</td>\n",
       "      <td>C</td>\n",
       "      <td>0</td>\n",
       "      <td>[18-30]</td>\n",
       "    </tr>\n",
       "    <tr>\n",
       "      <th>29</th>\n",
       "      <td>10030</td>\n",
       "      <td>M</td>\n",
       "      <td>NaN</td>\n",
       "      <td>1500</td>\n",
       "      <td>C</td>\n",
       "      <td>0</td>\n",
       "      <td>Nuloooooooo</td>\n",
       "      <td>10030</td>\n",
       "      <td>M</td>\n",
       "      <td>NaN</td>\n",
       "      <td>1500</td>\n",
       "      <td>C</td>\n",
       "      <td>0</td>\n",
       "      <td>Nuloooooooo</td>\n",
       "    </tr>\n",
       "    <tr>\n",
       "      <th>...</th>\n",
       "      <td>...</td>\n",
       "      <td>...</td>\n",
       "      <td>...</td>\n",
       "      <td>...</td>\n",
       "      <td>...</td>\n",
       "      <td>...</td>\n",
       "      <td>...</td>\n",
       "      <td>...</td>\n",
       "      <td>...</td>\n",
       "      <td>...</td>\n",
       "      <td>...</td>\n",
       "      <td>...</td>\n",
       "      <td>...</td>\n",
       "      <td>...</td>\n",
       "    </tr>\n",
       "    <tr>\n",
       "      <th>370</th>\n",
       "      <td>10371</td>\n",
       "      <td>F</td>\n",
       "      <td>60.0</td>\n",
       "      <td>3800</td>\n",
       "      <td>C</td>\n",
       "      <td>1</td>\n",
       "      <td>(50-60]</td>\n",
       "      <td>10371</td>\n",
       "      <td>F</td>\n",
       "      <td>60.0</td>\n",
       "      <td>3800</td>\n",
       "      <td>C</td>\n",
       "      <td>1</td>\n",
       "      <td>(50-60]</td>\n",
       "    </tr>\n",
       "    <tr>\n",
       "      <th>371</th>\n",
       "      <td>10372</td>\n",
       "      <td>M</td>\n",
       "      <td>60.0</td>\n",
       "      <td>6900</td>\n",
       "      <td>C</td>\n",
       "      <td>1</td>\n",
       "      <td>(50-60]</td>\n",
       "      <td>10372</td>\n",
       "      <td>M</td>\n",
       "      <td>60.0</td>\n",
       "      <td>6900</td>\n",
       "      <td>C</td>\n",
       "      <td>1</td>\n",
       "      <td>(50-60]</td>\n",
       "    </tr>\n",
       "    <tr>\n",
       "      <th>372</th>\n",
       "      <td>10373</td>\n",
       "      <td>F</td>\n",
       "      <td>39.0</td>\n",
       "      <td>6000</td>\n",
       "      <td>C</td>\n",
       "      <td>0</td>\n",
       "      <td>(30-50]</td>\n",
       "      <td>10373</td>\n",
       "      <td>F</td>\n",
       "      <td>39.0</td>\n",
       "      <td>6000</td>\n",
       "      <td>C</td>\n",
       "      <td>0</td>\n",
       "      <td>(30-50]</td>\n",
       "    </tr>\n",
       "    <tr>\n",
       "      <th>373</th>\n",
       "      <td>10374</td>\n",
       "      <td>M</td>\n",
       "      <td>59.0</td>\n",
       "      <td>10800</td>\n",
       "      <td>C</td>\n",
       "      <td>1</td>\n",
       "      <td>(50-60]</td>\n",
       "      <td>10374</td>\n",
       "      <td>M</td>\n",
       "      <td>59.0</td>\n",
       "      <td>10800</td>\n",
       "      <td>C</td>\n",
       "      <td>1</td>\n",
       "      <td>(50-60]</td>\n",
       "    </tr>\n",
       "    <tr>\n",
       "      <th>374</th>\n",
       "      <td>10375</td>\n",
       "      <td>F</td>\n",
       "      <td>37.0</td>\n",
       "      <td>6600</td>\n",
       "      <td>C</td>\n",
       "      <td>0</td>\n",
       "      <td>(30-50]</td>\n",
       "      <td>10375</td>\n",
       "      <td>F</td>\n",
       "      <td>37.0</td>\n",
       "      <td>6600</td>\n",
       "      <td>C</td>\n",
       "      <td>0</td>\n",
       "      <td>(30-50]</td>\n",
       "    </tr>\n",
       "    <tr>\n",
       "      <th>375</th>\n",
       "      <td>10376</td>\n",
       "      <td>F</td>\n",
       "      <td>46.0</td>\n",
       "      <td>2600</td>\n",
       "      <td>C</td>\n",
       "      <td>1</td>\n",
       "      <td>(30-50]</td>\n",
       "      <td>10376</td>\n",
       "      <td>F</td>\n",
       "      <td>46.0</td>\n",
       "      <td>2600</td>\n",
       "      <td>C</td>\n",
       "      <td>1</td>\n",
       "      <td>(30-50]</td>\n",
       "    </tr>\n",
       "    <tr>\n",
       "      <th>376</th>\n",
       "      <td>10377</td>\n",
       "      <td>F</td>\n",
       "      <td>46.0</td>\n",
       "      <td>6100</td>\n",
       "      <td>C</td>\n",
       "      <td>0</td>\n",
       "      <td>(30-50]</td>\n",
       "      <td>10377</td>\n",
       "      <td>F</td>\n",
       "      <td>46.0</td>\n",
       "      <td>6100</td>\n",
       "      <td>C</td>\n",
       "      <td>0</td>\n",
       "      <td>(30-50]</td>\n",
       "    </tr>\n",
       "    <tr>\n",
       "      <th>377</th>\n",
       "      <td>10378</td>\n",
       "      <td>F</td>\n",
       "      <td>42.0</td>\n",
       "      <td>4400</td>\n",
       "      <td>C</td>\n",
       "      <td>0</td>\n",
       "      <td>(30-50]</td>\n",
       "      <td>10378</td>\n",
       "      <td>F</td>\n",
       "      <td>42.0</td>\n",
       "      <td>4400</td>\n",
       "      <td>C</td>\n",
       "      <td>0</td>\n",
       "      <td>(30-50]</td>\n",
       "    </tr>\n",
       "    <tr>\n",
       "      <th>378</th>\n",
       "      <td>10379</td>\n",
       "      <td>M</td>\n",
       "      <td>41.0</td>\n",
       "      <td>7200</td>\n",
       "      <td>C</td>\n",
       "      <td>1</td>\n",
       "      <td>(30-50]</td>\n",
       "      <td>10379</td>\n",
       "      <td>M</td>\n",
       "      <td>41.0</td>\n",
       "      <td>7200</td>\n",
       "      <td>C</td>\n",
       "      <td>1</td>\n",
       "      <td>(30-50]</td>\n",
       "    </tr>\n",
       "    <tr>\n",
       "      <th>379</th>\n",
       "      <td>10380</td>\n",
       "      <td>F</td>\n",
       "      <td>58.0</td>\n",
       "      <td>1900</td>\n",
       "      <td>S</td>\n",
       "      <td>1</td>\n",
       "      <td>(50-60]</td>\n",
       "      <td>10380</td>\n",
       "      <td>F</td>\n",
       "      <td>58.0</td>\n",
       "      <td>1900</td>\n",
       "      <td>S</td>\n",
       "      <td>1</td>\n",
       "      <td>(50-60]</td>\n",
       "    </tr>\n",
       "    <tr>\n",
       "      <th>380</th>\n",
       "      <td>10381</td>\n",
       "      <td>M</td>\n",
       "      <td>42.0</td>\n",
       "      <td>5300</td>\n",
       "      <td>C</td>\n",
       "      <td>0</td>\n",
       "      <td>(30-50]</td>\n",
       "      <td>10381</td>\n",
       "      <td>M</td>\n",
       "      <td>42.0</td>\n",
       "      <td>5300</td>\n",
       "      <td>C</td>\n",
       "      <td>0</td>\n",
       "      <td>(30-50]</td>\n",
       "    </tr>\n",
       "    <tr>\n",
       "      <th>381</th>\n",
       "      <td>10382</td>\n",
       "      <td>M</td>\n",
       "      <td>48.0</td>\n",
       "      <td>2700</td>\n",
       "      <td>C</td>\n",
       "      <td>1</td>\n",
       "      <td>(30-50]</td>\n",
       "      <td>10382</td>\n",
       "      <td>M</td>\n",
       "      <td>48.0</td>\n",
       "      <td>2700</td>\n",
       "      <td>C</td>\n",
       "      <td>1</td>\n",
       "      <td>(30-50]</td>\n",
       "    </tr>\n",
       "    <tr>\n",
       "      <th>382</th>\n",
       "      <td>10383</td>\n",
       "      <td>F</td>\n",
       "      <td>44.0</td>\n",
       "      <td>11500</td>\n",
       "      <td>C</td>\n",
       "      <td>1</td>\n",
       "      <td>(30-50]</td>\n",
       "      <td>10383</td>\n",
       "      <td>F</td>\n",
       "      <td>44.0</td>\n",
       "      <td>11500</td>\n",
       "      <td>C</td>\n",
       "      <td>1</td>\n",
       "      <td>(30-50]</td>\n",
       "    </tr>\n",
       "    <tr>\n",
       "      <th>383</th>\n",
       "      <td>10384</td>\n",
       "      <td>M</td>\n",
       "      <td>49.0</td>\n",
       "      <td>2300</td>\n",
       "      <td>S</td>\n",
       "      <td>1</td>\n",
       "      <td>(30-50]</td>\n",
       "      <td>10384</td>\n",
       "      <td>M</td>\n",
       "      <td>49.0</td>\n",
       "      <td>2300</td>\n",
       "      <td>S</td>\n",
       "      <td>1</td>\n",
       "      <td>(30-50]</td>\n",
       "    </tr>\n",
       "    <tr>\n",
       "      <th>384</th>\n",
       "      <td>10385</td>\n",
       "      <td>F</td>\n",
       "      <td>57.0</td>\n",
       "      <td>2700</td>\n",
       "      <td>C</td>\n",
       "      <td>1</td>\n",
       "      <td>(50-60]</td>\n",
       "      <td>10385</td>\n",
       "      <td>F</td>\n",
       "      <td>57.0</td>\n",
       "      <td>2700</td>\n",
       "      <td>C</td>\n",
       "      <td>1</td>\n",
       "      <td>(50-60]</td>\n",
       "    </tr>\n",
       "    <tr>\n",
       "      <th>385</th>\n",
       "      <td>10386</td>\n",
       "      <td>M</td>\n",
       "      <td>56.0</td>\n",
       "      <td>5000</td>\n",
       "      <td>C</td>\n",
       "      <td>1</td>\n",
       "      <td>(50-60]</td>\n",
       "      <td>10386</td>\n",
       "      <td>M</td>\n",
       "      <td>56.0</td>\n",
       "      <td>5000</td>\n",
       "      <td>C</td>\n",
       "      <td>1</td>\n",
       "      <td>(50-60]</td>\n",
       "    </tr>\n",
       "    <tr>\n",
       "      <th>386</th>\n",
       "      <td>10387</td>\n",
       "      <td>F</td>\n",
       "      <td>49.0</td>\n",
       "      <td>3200</td>\n",
       "      <td>C</td>\n",
       "      <td>1</td>\n",
       "      <td>(30-50]</td>\n",
       "      <td>10387</td>\n",
       "      <td>F</td>\n",
       "      <td>49.0</td>\n",
       "      <td>3200</td>\n",
       "      <td>C</td>\n",
       "      <td>1</td>\n",
       "      <td>(30-50]</td>\n",
       "    </tr>\n",
       "    <tr>\n",
       "      <th>387</th>\n",
       "      <td>10388</td>\n",
       "      <td>M</td>\n",
       "      <td>39.0</td>\n",
       "      <td>5900</td>\n",
       "      <td>C</td>\n",
       "      <td>0</td>\n",
       "      <td>(30-50]</td>\n",
       "      <td>10388</td>\n",
       "      <td>M</td>\n",
       "      <td>39.0</td>\n",
       "      <td>5900</td>\n",
       "      <td>C</td>\n",
       "      <td>0</td>\n",
       "      <td>(30-50]</td>\n",
       "    </tr>\n",
       "    <tr>\n",
       "      <th>388</th>\n",
       "      <td>10389</td>\n",
       "      <td>M</td>\n",
       "      <td>47.0</td>\n",
       "      <td>2800</td>\n",
       "      <td>C</td>\n",
       "      <td>1</td>\n",
       "      <td>(30-50]</td>\n",
       "      <td>10389</td>\n",
       "      <td>M</td>\n",
       "      <td>47.0</td>\n",
       "      <td>2800</td>\n",
       "      <td>C</td>\n",
       "      <td>1</td>\n",
       "      <td>(30-50]</td>\n",
       "    </tr>\n",
       "    <tr>\n",
       "      <th>389</th>\n",
       "      <td>10390</td>\n",
       "      <td>F</td>\n",
       "      <td>48.0</td>\n",
       "      <td>2900</td>\n",
       "      <td>C</td>\n",
       "      <td>1</td>\n",
       "      <td>(30-50]</td>\n",
       "      <td>10390</td>\n",
       "      <td>F</td>\n",
       "      <td>48.0</td>\n",
       "      <td>2900</td>\n",
       "      <td>C</td>\n",
       "      <td>1</td>\n",
       "      <td>(30-50]</td>\n",
       "    </tr>\n",
       "    <tr>\n",
       "      <th>390</th>\n",
       "      <td>10391</td>\n",
       "      <td>M</td>\n",
       "      <td>48.0</td>\n",
       "      <td>2700</td>\n",
       "      <td>C</td>\n",
       "      <td>1</td>\n",
       "      <td>(30-50]</td>\n",
       "      <td>10391</td>\n",
       "      <td>M</td>\n",
       "      <td>48.0</td>\n",
       "      <td>2700</td>\n",
       "      <td>C</td>\n",
       "      <td>1</td>\n",
       "      <td>(30-50]</td>\n",
       "    </tr>\n",
       "    <tr>\n",
       "      <th>391</th>\n",
       "      <td>10392</td>\n",
       "      <td>M</td>\n",
       "      <td>47.0</td>\n",
       "      <td>1900</td>\n",
       "      <td>S</td>\n",
       "      <td>1</td>\n",
       "      <td>(30-50]</td>\n",
       "      <td>10392</td>\n",
       "      <td>M</td>\n",
       "      <td>47.0</td>\n",
       "      <td>1900</td>\n",
       "      <td>S</td>\n",
       "      <td>1</td>\n",
       "      <td>(30-50]</td>\n",
       "    </tr>\n",
       "    <tr>\n",
       "      <th>392</th>\n",
       "      <td>10393</td>\n",
       "      <td>F</td>\n",
       "      <td>45.0</td>\n",
       "      <td>3700</td>\n",
       "      <td>C</td>\n",
       "      <td>1</td>\n",
       "      <td>(30-50]</td>\n",
       "      <td>10393</td>\n",
       "      <td>F</td>\n",
       "      <td>45.0</td>\n",
       "      <td>3700</td>\n",
       "      <td>C</td>\n",
       "      <td>1</td>\n",
       "      <td>(30-50]</td>\n",
       "    </tr>\n",
       "    <tr>\n",
       "      <th>393</th>\n",
       "      <td>10394</td>\n",
       "      <td>M</td>\n",
       "      <td>60.0</td>\n",
       "      <td>3500</td>\n",
       "      <td>C</td>\n",
       "      <td>1</td>\n",
       "      <td>(50-60]</td>\n",
       "      <td>10394</td>\n",
       "      <td>M</td>\n",
       "      <td>60.0</td>\n",
       "      <td>3500</td>\n",
       "      <td>C</td>\n",
       "      <td>1</td>\n",
       "      <td>(50-60]</td>\n",
       "    </tr>\n",
       "    <tr>\n",
       "      <th>394</th>\n",
       "      <td>10395</td>\n",
       "      <td>F</td>\n",
       "      <td>39.0</td>\n",
       "      <td>4900</td>\n",
       "      <td>C</td>\n",
       "      <td>0</td>\n",
       "      <td>(30-50]</td>\n",
       "      <td>10395</td>\n",
       "      <td>F</td>\n",
       "      <td>39.0</td>\n",
       "      <td>4900</td>\n",
       "      <td>C</td>\n",
       "      <td>0</td>\n",
       "      <td>(30-50]</td>\n",
       "    </tr>\n",
       "    <tr>\n",
       "      <th>395</th>\n",
       "      <td>10396</td>\n",
       "      <td>F</td>\n",
       "      <td>46.0</td>\n",
       "      <td>3400</td>\n",
       "      <td>C</td>\n",
       "      <td>1</td>\n",
       "      <td>(30-50]</td>\n",
       "      <td>10396</td>\n",
       "      <td>F</td>\n",
       "      <td>46.0</td>\n",
       "      <td>3400</td>\n",
       "      <td>C</td>\n",
       "      <td>1</td>\n",
       "      <td>(30-50]</td>\n",
       "    </tr>\n",
       "    <tr>\n",
       "      <th>396</th>\n",
       "      <td>10397</td>\n",
       "      <td>M</td>\n",
       "      <td>51.0</td>\n",
       "      <td>1900</td>\n",
       "      <td>S</td>\n",
       "      <td>1</td>\n",
       "      <td>(50-60]</td>\n",
       "      <td>10397</td>\n",
       "      <td>M</td>\n",
       "      <td>51.0</td>\n",
       "      <td>1900</td>\n",
       "      <td>S</td>\n",
       "      <td>1</td>\n",
       "      <td>(50-60]</td>\n",
       "    </tr>\n",
       "    <tr>\n",
       "      <th>397</th>\n",
       "      <td>10398</td>\n",
       "      <td>F</td>\n",
       "      <td>50.0</td>\n",
       "      <td>1600</td>\n",
       "      <td>S</td>\n",
       "      <td>1</td>\n",
       "      <td>(30-50]</td>\n",
       "      <td>10398</td>\n",
       "      <td>F</td>\n",
       "      <td>50.0</td>\n",
       "      <td>1600</td>\n",
       "      <td>S</td>\n",
       "      <td>1</td>\n",
       "      <td>(30-50]</td>\n",
       "    </tr>\n",
       "    <tr>\n",
       "      <th>398</th>\n",
       "      <td>10399</td>\n",
       "      <td>M</td>\n",
       "      <td>36.0</td>\n",
       "      <td>2700</td>\n",
       "      <td>C</td>\n",
       "      <td>0</td>\n",
       "      <td>(30-50]</td>\n",
       "      <td>10399</td>\n",
       "      <td>M</td>\n",
       "      <td>36.0</td>\n",
       "      <td>2700</td>\n",
       "      <td>C</td>\n",
       "      <td>0</td>\n",
       "      <td>(30-50]</td>\n",
       "    </tr>\n",
       "    <tr>\n",
       "      <th>399</th>\n",
       "      <td>10400</td>\n",
       "      <td>F</td>\n",
       "      <td>49.0</td>\n",
       "      <td>3000</td>\n",
       "      <td>C</td>\n",
       "      <td>1</td>\n",
       "      <td>(30-50]</td>\n",
       "      <td>10400</td>\n",
       "      <td>F</td>\n",
       "      <td>49.0</td>\n",
       "      <td>3000</td>\n",
       "      <td>C</td>\n",
       "      <td>1</td>\n",
       "      <td>(30-50]</td>\n",
       "    </tr>\n",
       "  </tbody>\n",
       "</table>\n",
       "<p>400 rows × 14 columns</p>\n",
       "</div>"
      ],
      "text/plain": [
       "        ID SEXO  EDAD  INGRESOS ESTADOCIVIL  FLAG_COMPRA   EDAD_RANGO     ID  \\\n",
       "0    10001    M  19.0      1500           S            0      [18-30]  10001   \n",
       "1    10002    M  35.0      1600           C            0      (30-50]  10002   \n",
       "2    10003    F  26.0      3500           C            0      [18-30]  10003   \n",
       "3    10004    F  27.0      4700           C            0      [18-30]  10004   \n",
       "4    10005    M  19.0      6300           S            0      [18-30]  10005   \n",
       "5    10006    M  27.0      4800           C            0      [18-30]  10006   \n",
       "6    10007    F  27.0      7000           C            0      [18-30]  10007   \n",
       "7    10008    F  32.0     80000           C            1      (30-50]  10008   \n",
       "8    10009    M  25.0      2700           C            0      [18-30]  10009   \n",
       "9    10010    F   NaN      5400           C            0  Nuloooooooo  10010   \n",
       "10   10011    F  26.0      6600         NaN            0      [18-30]  10011   \n",
       "11   10012    F  26.0      4300           C            0      [18-30]  10012   \n",
       "12   10013    M  20.0      7100           S            0      [18-30]  10013   \n",
       "13   10014    M  32.0      1500           C            0      (30-50]  10014   \n",
       "14   10015    M  18.0      6800           S            0      [18-30]  10015   \n",
       "15   10016    M  29.0      6600           C            0      [18-30]  10016   \n",
       "16   10017    M  47.0      2000           S            1      (30-50]  10017   \n",
       "17   10018    M  45.0      2100           S            1      (30-50]  10018   \n",
       "18   10019    M  46.0      2300           S            1      (30-50]  10019   \n",
       "19   10020    F  48.0      2400           S            1      (30-50]  10020   \n",
       "20   10021    M  45.0      1800         NaN            1      (30-50]  10021   \n",
       "21   10022    F  47.0      4000           C            1      (30-50]  10022   \n",
       "22   10023    M  48.0      3400           C            1      (30-50]  10023   \n",
       "23   10024    F  45.0      1800           S            1      (30-50]  10024   \n",
       "24   10025    M  46.0      1900           S            1      (30-50]  10025   \n",
       "25   10026    M  47.0      1600           S            1      (30-50]  10026   \n",
       "26   10027    M  49.0      2300           S            1      (30-50]  10027   \n",
       "27   10028    F  47.0      2500           C            1      (30-50]  10028   \n",
       "28   10029    M  29.0      3500           C            0      [18-30]  10029   \n",
       "29   10030    M   NaN      1500           C            0  Nuloooooooo  10030   \n",
       "..     ...  ...   ...       ...         ...          ...          ...    ...   \n",
       "370  10371    F  60.0      3800           C            1      (50-60]  10371   \n",
       "371  10372    M  60.0      6900           C            1      (50-60]  10372   \n",
       "372  10373    F  39.0      6000           C            0      (30-50]  10373   \n",
       "373  10374    M  59.0     10800           C            1      (50-60]  10374   \n",
       "374  10375    F  37.0      6600           C            0      (30-50]  10375   \n",
       "375  10376    F  46.0      2600           C            1      (30-50]  10376   \n",
       "376  10377    F  46.0      6100           C            0      (30-50]  10377   \n",
       "377  10378    F  42.0      4400           C            0      (30-50]  10378   \n",
       "378  10379    M  41.0      7200           C            1      (30-50]  10379   \n",
       "379  10380    F  58.0      1900           S            1      (50-60]  10380   \n",
       "380  10381    M  42.0      5300           C            0      (30-50]  10381   \n",
       "381  10382    M  48.0      2700           C            1      (30-50]  10382   \n",
       "382  10383    F  44.0     11500           C            1      (30-50]  10383   \n",
       "383  10384    M  49.0      2300           S            1      (30-50]  10384   \n",
       "384  10385    F  57.0      2700           C            1      (50-60]  10385   \n",
       "385  10386    M  56.0      5000           C            1      (50-60]  10386   \n",
       "386  10387    F  49.0      3200           C            1      (30-50]  10387   \n",
       "387  10388    M  39.0      5900           C            0      (30-50]  10388   \n",
       "388  10389    M  47.0      2800           C            1      (30-50]  10389   \n",
       "389  10390    F  48.0      2900           C            1      (30-50]  10390   \n",
       "390  10391    M  48.0      2700           C            1      (30-50]  10391   \n",
       "391  10392    M  47.0      1900           S            1      (30-50]  10392   \n",
       "392  10393    F  45.0      3700           C            1      (30-50]  10393   \n",
       "393  10394    M  60.0      3500           C            1      (50-60]  10394   \n",
       "394  10395    F  39.0      4900           C            0      (30-50]  10395   \n",
       "395  10396    F  46.0      3400           C            1      (30-50]  10396   \n",
       "396  10397    M  51.0      1900           S            1      (50-60]  10397   \n",
       "397  10398    F  50.0      1600           S            1      (30-50]  10398   \n",
       "398  10399    M  36.0      2700           C            0      (30-50]  10399   \n",
       "399  10400    F  49.0      3000           C            1      (30-50]  10400   \n",
       "\n",
       "    SEXO  EDAD  INGRESOS ESTADOCIVIL  FLAG_COMPRA   EDAD_RANGO  \n",
       "0      M  19.0      1500           S            0      [18-30]  \n",
       "1      M  35.0      1600           C            0      (30-50]  \n",
       "2      F  26.0      3500           C            0      [18-30]  \n",
       "3      F  27.0      4700           C            0      [18-30]  \n",
       "4      M  19.0      6300           S            0      [18-30]  \n",
       "5      M  27.0      4800           C            0      [18-30]  \n",
       "6      F  27.0      7000           C            0      [18-30]  \n",
       "7      F  32.0     80000           C            1      (30-50]  \n",
       "8      M  25.0      2700           C            0      [18-30]  \n",
       "9      F   NaN      5400           C            0  Nuloooooooo  \n",
       "10     F  26.0      6600         NaN            0      [18-30]  \n",
       "11     F  26.0      4300           C            0      [18-30]  \n",
       "12     M  20.0      7100           S            0      [18-30]  \n",
       "13     M  32.0      1500           C            0      (30-50]  \n",
       "14     M  18.0      6800           S            0      [18-30]  \n",
       "15     M  29.0      6600           C            0      [18-30]  \n",
       "16     M  47.0      2000           S            1      (30-50]  \n",
       "17     M  45.0      2100           S            1      (30-50]  \n",
       "18     M  46.0      2300           S            1      (30-50]  \n",
       "19     F  48.0      2400           S            1      (30-50]  \n",
       "20     M  45.0      1800         NaN            1      (30-50]  \n",
       "21     F  47.0      4000           C            1      (30-50]  \n",
       "22     M  48.0      3400           C            1      (30-50]  \n",
       "23     F  45.0      1800           S            1      (30-50]  \n",
       "24     M  46.0      1900           S            1      (30-50]  \n",
       "25     M  47.0      1600           S            1      (30-50]  \n",
       "26     M  49.0      2300           S            1      (30-50]  \n",
       "27     F  47.0      2500           C            1      (30-50]  \n",
       "28     M  29.0      3500           C            0      [18-30]  \n",
       "29     M   NaN      1500           C            0  Nuloooooooo  \n",
       "..   ...   ...       ...         ...          ...          ...  \n",
       "370    F  60.0      3800           C            1      (50-60]  \n",
       "371    M  60.0      6900           C            1      (50-60]  \n",
       "372    F  39.0      6000           C            0      (30-50]  \n",
       "373    M  59.0     10800           C            1      (50-60]  \n",
       "374    F  37.0      6600           C            0      (30-50]  \n",
       "375    F  46.0      2600           C            1      (30-50]  \n",
       "376    F  46.0      6100           C            0      (30-50]  \n",
       "377    F  42.0      4400           C            0      (30-50]  \n",
       "378    M  41.0      7200           C            1      (30-50]  \n",
       "379    F  58.0      1900           S            1      (50-60]  \n",
       "380    M  42.0      5300           C            0      (30-50]  \n",
       "381    M  48.0      2700           C            1      (30-50]  \n",
       "382    F  44.0     11500           C            1      (30-50]  \n",
       "383    M  49.0      2300           S            1      (30-50]  \n",
       "384    F  57.0      2700           C            1      (50-60]  \n",
       "385    M  56.0      5000           C            1      (50-60]  \n",
       "386    F  49.0      3200           C            1      (30-50]  \n",
       "387    M  39.0      5900           C            0      (30-50]  \n",
       "388    M  47.0      2800           C            1      (30-50]  \n",
       "389    F  48.0      2900           C            1      (30-50]  \n",
       "390    M  48.0      2700           C            1      (30-50]  \n",
       "391    M  47.0      1900           S            1      (30-50]  \n",
       "392    F  45.0      3700           C            1      (30-50]  \n",
       "393    M  60.0      3500           C            1      (50-60]  \n",
       "394    F  39.0      4900           C            0      (30-50]  \n",
       "395    F  46.0      3400           C            1      (30-50]  \n",
       "396    M  51.0      1900           S            1      (50-60]  \n",
       "397    F  50.0      1600           S            1      (30-50]  \n",
       "398    M  36.0      2700           C            0      (30-50]  \n",
       "399    F  49.0      3000           C            1      (30-50]  \n",
       "\n",
       "[400 rows x 14 columns]"
      ]
     },
     "execution_count": 20,
     "metadata": {},
     "output_type": "execute_result"
    }
   ],
   "source": [
    "# Concatenar dataframes\n",
    "pd.concat([data,data], axis = 1)  # axis = 0: concatena por filas, axis = 1: concatena por columnnas"
   ]
  },
  {
   "cell_type": "code",
   "execution_count": null,
   "metadata": {},
   "outputs": [],
   "source": []
  },
  {
   "cell_type": "code",
   "execution_count": 21,
   "metadata": {},
   "outputs": [
    {
     "data": {
      "text/html": [
       "<div>\n",
       "<style scoped>\n",
       "    .dataframe tbody tr th:only-of-type {\n",
       "        vertical-align: middle;\n",
       "    }\n",
       "\n",
       "    .dataframe tbody tr th {\n",
       "        vertical-align: top;\n",
       "    }\n",
       "\n",
       "    .dataframe thead th {\n",
       "        text-align: right;\n",
       "    }\n",
       "</style>\n",
       "<table border=\"1\" class=\"dataframe\">\n",
       "  <thead>\n",
       "    <tr style=\"text-align: right;\">\n",
       "      <th></th>\n",
       "      <th>FREC_ABS</th>\n",
       "    </tr>\n",
       "  </thead>\n",
       "  <tbody>\n",
       "    <tr>\n",
       "      <th>S</th>\n",
       "      <td>214</td>\n",
       "    </tr>\n",
       "    <tr>\n",
       "      <th>C</th>\n",
       "      <td>125</td>\n",
       "    </tr>\n",
       "    <tr>\n",
       "      <th>D</th>\n",
       "      <td>53</td>\n",
       "    </tr>\n",
       "  </tbody>\n",
       "</table>\n",
       "</div>"
      ],
      "text/plain": [
       "   FREC_ABS\n",
       "S       214\n",
       "C       125\n",
       "D        53"
      ]
     },
     "execution_count": 21,
     "metadata": {},
     "output_type": "execute_result"
    }
   ],
   "source": [
    "df1 = pd.DataFrame(data[\"ESTADOCIVIL\"].value_counts())\n",
    "df1 = df1.rename(columns = {'ESTADOCIVIL' : \"FREC_ABS\"})\n",
    "df1.head()"
   ]
  },
  {
   "cell_type": "code",
   "execution_count": 22,
   "metadata": {},
   "outputs": [
    {
     "data": {
      "text/html": [
       "<div>\n",
       "<style scoped>\n",
       "    .dataframe tbody tr th:only-of-type {\n",
       "        vertical-align: middle;\n",
       "    }\n",
       "\n",
       "    .dataframe tbody tr th {\n",
       "        vertical-align: top;\n",
       "    }\n",
       "\n",
       "    .dataframe thead th {\n",
       "        text-align: right;\n",
       "    }\n",
       "</style>\n",
       "<table border=\"1\" class=\"dataframe\">\n",
       "  <thead>\n",
       "    <tr style=\"text-align: right;\">\n",
       "      <th></th>\n",
       "      <th>FREC_REL</th>\n",
       "    </tr>\n",
       "  </thead>\n",
       "  <tbody>\n",
       "    <tr>\n",
       "      <th>S</th>\n",
       "      <td>0.545918</td>\n",
       "    </tr>\n",
       "    <tr>\n",
       "      <th>C</th>\n",
       "      <td>0.318878</td>\n",
       "    </tr>\n",
       "    <tr>\n",
       "      <th>D</th>\n",
       "      <td>0.135204</td>\n",
       "    </tr>\n",
       "  </tbody>\n",
       "</table>\n",
       "</div>"
      ],
      "text/plain": [
       "   FREC_REL\n",
       "S  0.545918\n",
       "C  0.318878\n",
       "D  0.135204"
      ]
     },
     "execution_count": 22,
     "metadata": {},
     "output_type": "execute_result"
    }
   ],
   "source": [
    "df2 = pd.DataFrame(data[\"ESTADOCIVIL\"].value_counts(normalize = True))\n",
    "df2 = df2.rename(columns = {'ESTADOCIVIL' : \"FREC_REL\"})\n",
    "df2.head()"
   ]
  },
  {
   "cell_type": "code",
   "execution_count": 23,
   "metadata": {},
   "outputs": [
    {
     "data": {
      "text/html": [
       "<div>\n",
       "<style scoped>\n",
       "    .dataframe tbody tr th:only-of-type {\n",
       "        vertical-align: middle;\n",
       "    }\n",
       "\n",
       "    .dataframe tbody tr th {\n",
       "        vertical-align: top;\n",
       "    }\n",
       "\n",
       "    .dataframe thead th {\n",
       "        text-align: right;\n",
       "    }\n",
       "</style>\n",
       "<table border=\"1\" class=\"dataframe\">\n",
       "  <thead>\n",
       "    <tr style=\"text-align: right;\">\n",
       "      <th></th>\n",
       "      <th>ESTADOCIVIL</th>\n",
       "      <th>FLAG_COMPRA</th>\n",
       "    </tr>\n",
       "  </thead>\n",
       "  <tbody>\n",
       "    <tr>\n",
       "      <th>0</th>\n",
       "      <td>C</td>\n",
       "      <td>0.248000</td>\n",
       "    </tr>\n",
       "    <tr>\n",
       "      <th>1</th>\n",
       "      <td>D</td>\n",
       "      <td>0.245283</td>\n",
       "    </tr>\n",
       "    <tr>\n",
       "      <th>2</th>\n",
       "      <td>S</td>\n",
       "      <td>0.448598</td>\n",
       "    </tr>\n",
       "  </tbody>\n",
       "</table>\n",
       "</div>"
      ],
      "text/plain": [
       "  ESTADOCIVIL  FLAG_COMPRA\n",
       "0           C     0.248000\n",
       "1           D     0.245283\n",
       "2           S     0.448598"
      ]
     },
     "execution_count": 23,
     "metadata": {},
     "output_type": "execute_result"
    }
   ],
   "source": [
    "df3 = pd.DataFrame(data.groupby(by=['ESTADOCIVIL'], as_index = False )['FLAG_COMPRA'].mean())\n",
    "df3.head()"
   ]
  },
  {
   "cell_type": "code",
   "execution_count": 24,
   "metadata": {},
   "outputs": [
    {
     "data": {
      "text/html": [
       "<div>\n",
       "<style scoped>\n",
       "    .dataframe tbody tr th:only-of-type {\n",
       "        vertical-align: middle;\n",
       "    }\n",
       "\n",
       "    .dataframe tbody tr th {\n",
       "        vertical-align: top;\n",
       "    }\n",
       "\n",
       "    .dataframe thead tr th {\n",
       "        text-align: left;\n",
       "    }\n",
       "\n",
       "    .dataframe thead tr:last-of-type th {\n",
       "        text-align: right;\n",
       "    }\n",
       "</style>\n",
       "<table border=\"1\" class=\"dataframe\">\n",
       "  <thead>\n",
       "    <tr>\n",
       "      <th></th>\n",
       "      <th colspan=\"2\" halign=\"left\">ID</th>\n",
       "    </tr>\n",
       "    <tr>\n",
       "      <th>FLAG_COMPRA</th>\n",
       "      <th>0</th>\n",
       "      <th>1</th>\n",
       "    </tr>\n",
       "    <tr>\n",
       "      <th>ESTADOCIVIL</th>\n",
       "      <th></th>\n",
       "      <th></th>\n",
       "    </tr>\n",
       "  </thead>\n",
       "  <tbody>\n",
       "    <tr>\n",
       "      <th>C</th>\n",
       "      <td>94</td>\n",
       "      <td>31</td>\n",
       "    </tr>\n",
       "    <tr>\n",
       "      <th>D</th>\n",
       "      <td>40</td>\n",
       "      <td>13</td>\n",
       "    </tr>\n",
       "    <tr>\n",
       "      <th>S</th>\n",
       "      <td>118</td>\n",
       "      <td>96</td>\n",
       "    </tr>\n",
       "  </tbody>\n",
       "</table>\n",
       "</div>"
      ],
      "text/plain": [
       "              ID    \n",
       "FLAG_COMPRA    0   1\n",
       "ESTADOCIVIL         \n",
       "C             94  31\n",
       "D             40  13\n",
       "S            118  96"
      ]
     },
     "execution_count": 24,
     "metadata": {},
     "output_type": "execute_result"
    }
   ],
   "source": [
    "data.pivot_table(index = ['ESTADOCIVIL'] , \n",
    "                 columns = ['FLAG_COMPRA'], \n",
    "                 values = ['ID'], \n",
    "                 aggfunc = 'count')       "
   ]
  },
  {
   "cell_type": "code",
   "execution_count": 25,
   "metadata": {
    "scrolled": true
   },
   "outputs": [
    {
     "data": {
      "text/html": [
       "<div>\n",
       "<style scoped>\n",
       "    .dataframe tbody tr th:only-of-type {\n",
       "        vertical-align: middle;\n",
       "    }\n",
       "\n",
       "    .dataframe tbody tr th {\n",
       "        vertical-align: top;\n",
       "    }\n",
       "\n",
       "    .dataframe thead tr th {\n",
       "        text-align: left;\n",
       "    }\n",
       "\n",
       "    .dataframe thead tr:last-of-type th {\n",
       "        text-align: right;\n",
       "    }\n",
       "</style>\n",
       "<table border=\"1\" class=\"dataframe\">\n",
       "  <thead>\n",
       "    <tr>\n",
       "      <th></th>\n",
       "      <th colspan=\"2\" halign=\"left\">FLAG_COMPRA</th>\n",
       "    </tr>\n",
       "    <tr>\n",
       "      <th>SEXO</th>\n",
       "      <th>F</th>\n",
       "      <th>M</th>\n",
       "    </tr>\n",
       "    <tr>\n",
       "      <th>ESTADOCIVIL</th>\n",
       "      <th></th>\n",
       "      <th></th>\n",
       "    </tr>\n",
       "  </thead>\n",
       "  <tbody>\n",
       "    <tr>\n",
       "      <th>C</th>\n",
       "      <td>0.258065</td>\n",
       "      <td>0.238095</td>\n",
       "    </tr>\n",
       "    <tr>\n",
       "      <th>D</th>\n",
       "      <td>0.275862</td>\n",
       "      <td>0.208333</td>\n",
       "    </tr>\n",
       "    <tr>\n",
       "      <th>S</th>\n",
       "      <td>0.481481</td>\n",
       "      <td>0.415094</td>\n",
       "    </tr>\n",
       "  </tbody>\n",
       "</table>\n",
       "</div>"
      ],
      "text/plain": [
       "            FLAG_COMPRA          \n",
       "SEXO                  F         M\n",
       "ESTADOCIVIL                      \n",
       "C              0.258065  0.238095\n",
       "D              0.275862  0.208333\n",
       "S              0.481481  0.415094"
      ]
     },
     "execution_count": 25,
     "metadata": {},
     "output_type": "execute_result"
    }
   ],
   "source": [
    "data.pivot_table(index = ['ESTADOCIVIL'] , \n",
    "                 columns = ['SEXO'], \n",
    "                 values = ['FLAG_COMPRA'], \n",
    "                 aggfunc = 'mean')       "
   ]
  },
  {
   "cell_type": "code",
   "execution_count": null,
   "metadata": {},
   "outputs": [],
   "source": []
  },
  {
   "cell_type": "markdown",
   "metadata": {},
   "source": [
    "# 3. PREPROCESAMIENTO DE DATOS"
   ]
  },
  {
   "cell_type": "markdown",
   "metadata": {},
   "source": [
    "## 3.1 Tratamiento de Valores Nulos"
   ]
  },
  {
   "cell_type": "code",
   "execution_count": 26,
   "metadata": {},
   "outputs": [
    {
     "data": {
      "text/plain": [
       "ID              0\n",
       "SEXO            0\n",
       "EDAD           13\n",
       "INGRESOS        0\n",
       "ESTADOCIVIL     8\n",
       "FLAG_COMPRA     0\n",
       "EDAD_RANGO      0\n",
       "dtype: int64"
      ]
     },
     "execution_count": 26,
     "metadata": {},
     "output_type": "execute_result"
    }
   ],
   "source": [
    "data.isnull().sum()"
   ]
  },
  {
   "cell_type": "code",
   "execution_count": 27,
   "metadata": {},
   "outputs": [],
   "source": [
    "#### Imputar valores missing\n",
    "data[\"EDAD\"].fillna(data[\"EDAD\"].median(), inplace = True)\n",
    "data[\"ESTADOCIVIL\"].fillna(data[\"ESTADOCIVIL\"].mode()[0], inplace = True)"
   ]
  },
  {
   "cell_type": "code",
   "execution_count": 28,
   "metadata": {},
   "outputs": [
    {
     "data": {
      "text/plain": [
       "ID             0\n",
       "SEXO           0\n",
       "EDAD           0\n",
       "INGRESOS       0\n",
       "ESTADOCIVIL    0\n",
       "FLAG_COMPRA    0\n",
       "EDAD_RANGO     0\n",
       "dtype: int64"
      ]
     },
     "execution_count": 28,
     "metadata": {},
     "output_type": "execute_result"
    }
   ],
   "source": [
    "data.isnull().sum()"
   ]
  },
  {
   "cell_type": "markdown",
   "metadata": {},
   "source": [
    "## 3.2 Tratamiento de Outliers"
   ]
  },
  {
   "cell_type": "code",
   "execution_count": 29,
   "metadata": {},
   "outputs": [
    {
     "data": {
      "text/plain": [
       "array([18., 18., 21., 24., 37., 45., 52., 57., 60., 60.])"
      ]
     },
     "execution_count": 29,
     "metadata": {},
     "output_type": "execute_result"
    }
   ],
   "source": [
    "# Percetiles \n",
    "np.nanpercentile(data['EDAD'], [0,1,5,10,50,75,90,95, 99,100])"
   ]
  },
  {
   "cell_type": "code",
   "execution_count": 30,
   "metadata": {},
   "outputs": [
    {
     "data": {
      "text/plain": [
       "52.0"
      ]
     },
     "execution_count": 30,
     "metadata": {},
     "output_type": "execute_result"
    }
   ],
   "source": [
    "# Calcular Percentile 90\n",
    "np.nanpercentile(data['EDAD'], [90])[0]"
   ]
  },
  {
   "cell_type": "code",
   "execution_count": 31,
   "metadata": {
    "scrolled": true
   },
   "outputs": [],
   "source": [
    "# Identificar registros con edad mayor al percentile 90\n",
    "indices_percmayor90 = data['EDAD'] > np.nanpercentile(data['EDAD'], [90])[0]"
   ]
  },
  {
   "cell_type": "code",
   "execution_count": 32,
   "metadata": {},
   "outputs": [],
   "source": [
    "# \"Topeamos\" (reemplazo esos valores por un valor tope (perc 90))\n",
    "data.loc[indices_percmayor90, \"EDAD\"] = 52"
   ]
  },
  {
   "cell_type": "code",
   "execution_count": 33,
   "metadata": {},
   "outputs": [
    {
     "data": {
      "text/plain": [
       "52.0"
      ]
     },
     "execution_count": 33,
     "metadata": {},
     "output_type": "execute_result"
    }
   ],
   "source": [
    "max(data.EDAD)"
   ]
  },
  {
   "cell_type": "markdown",
   "metadata": {},
   "source": [
    "## 3.2 Conversion de Variables"
   ]
  },
  {
   "cell_type": "code",
   "execution_count": 34,
   "metadata": {},
   "outputs": [],
   "source": [
    "df = data.copy()"
   ]
  },
  {
   "cell_type": "code",
   "execution_count": 35,
   "metadata": {
    "scrolled": true
   },
   "outputs": [
    {
     "data": {
      "text/html": [
       "<div>\n",
       "<style scoped>\n",
       "    .dataframe tbody tr th:only-of-type {\n",
       "        vertical-align: middle;\n",
       "    }\n",
       "\n",
       "    .dataframe tbody tr th {\n",
       "        vertical-align: top;\n",
       "    }\n",
       "\n",
       "    .dataframe thead th {\n",
       "        text-align: right;\n",
       "    }\n",
       "</style>\n",
       "<table border=\"1\" class=\"dataframe\">\n",
       "  <thead>\n",
       "    <tr style=\"text-align: right;\">\n",
       "      <th></th>\n",
       "      <th>ID</th>\n",
       "      <th>SEXO</th>\n",
       "      <th>EDAD</th>\n",
       "      <th>INGRESOS</th>\n",
       "      <th>ESTADOCIVIL</th>\n",
       "      <th>FLAG_COMPRA</th>\n",
       "      <th>EDAD_RANGO</th>\n",
       "    </tr>\n",
       "  </thead>\n",
       "  <tbody>\n",
       "    <tr>\n",
       "      <th>0</th>\n",
       "      <td>10001</td>\n",
       "      <td>M</td>\n",
       "      <td>19.0</td>\n",
       "      <td>1500</td>\n",
       "      <td>S</td>\n",
       "      <td>0</td>\n",
       "      <td>[18-30]</td>\n",
       "    </tr>\n",
       "    <tr>\n",
       "      <th>1</th>\n",
       "      <td>10002</td>\n",
       "      <td>M</td>\n",
       "      <td>35.0</td>\n",
       "      <td>1600</td>\n",
       "      <td>C</td>\n",
       "      <td>0</td>\n",
       "      <td>(30-50]</td>\n",
       "    </tr>\n",
       "    <tr>\n",
       "      <th>2</th>\n",
       "      <td>10003</td>\n",
       "      <td>F</td>\n",
       "      <td>26.0</td>\n",
       "      <td>3500</td>\n",
       "      <td>C</td>\n",
       "      <td>0</td>\n",
       "      <td>[18-30]</td>\n",
       "    </tr>\n",
       "    <tr>\n",
       "      <th>3</th>\n",
       "      <td>10004</td>\n",
       "      <td>F</td>\n",
       "      <td>27.0</td>\n",
       "      <td>4700</td>\n",
       "      <td>C</td>\n",
       "      <td>0</td>\n",
       "      <td>[18-30]</td>\n",
       "    </tr>\n",
       "    <tr>\n",
       "      <th>4</th>\n",
       "      <td>10005</td>\n",
       "      <td>M</td>\n",
       "      <td>19.0</td>\n",
       "      <td>6300</td>\n",
       "      <td>S</td>\n",
       "      <td>0</td>\n",
       "      <td>[18-30]</td>\n",
       "    </tr>\n",
       "    <tr>\n",
       "      <th>5</th>\n",
       "      <td>10006</td>\n",
       "      <td>M</td>\n",
       "      <td>27.0</td>\n",
       "      <td>4800</td>\n",
       "      <td>C</td>\n",
       "      <td>0</td>\n",
       "      <td>[18-30]</td>\n",
       "    </tr>\n",
       "    <tr>\n",
       "      <th>6</th>\n",
       "      <td>10007</td>\n",
       "      <td>F</td>\n",
       "      <td>27.0</td>\n",
       "      <td>7000</td>\n",
       "      <td>C</td>\n",
       "      <td>0</td>\n",
       "      <td>[18-30]</td>\n",
       "    </tr>\n",
       "    <tr>\n",
       "      <th>7</th>\n",
       "      <td>10008</td>\n",
       "      <td>F</td>\n",
       "      <td>32.0</td>\n",
       "      <td>80000</td>\n",
       "      <td>C</td>\n",
       "      <td>1</td>\n",
       "      <td>(30-50]</td>\n",
       "    </tr>\n",
       "    <tr>\n",
       "      <th>8</th>\n",
       "      <td>10009</td>\n",
       "      <td>M</td>\n",
       "      <td>25.0</td>\n",
       "      <td>2700</td>\n",
       "      <td>C</td>\n",
       "      <td>0</td>\n",
       "      <td>[18-30]</td>\n",
       "    </tr>\n",
       "    <tr>\n",
       "      <th>9</th>\n",
       "      <td>10010</td>\n",
       "      <td>F</td>\n",
       "      <td>37.0</td>\n",
       "      <td>5400</td>\n",
       "      <td>C</td>\n",
       "      <td>0</td>\n",
       "      <td>Nuloooooooo</td>\n",
       "    </tr>\n",
       "  </tbody>\n",
       "</table>\n",
       "</div>"
      ],
      "text/plain": [
       "      ID SEXO  EDAD  INGRESOS ESTADOCIVIL  FLAG_COMPRA   EDAD_RANGO\n",
       "0  10001    M  19.0      1500           S            0      [18-30]\n",
       "1  10002    M  35.0      1600           C            0      (30-50]\n",
       "2  10003    F  26.0      3500           C            0      [18-30]\n",
       "3  10004    F  27.0      4700           C            0      [18-30]\n",
       "4  10005    M  19.0      6300           S            0      [18-30]\n",
       "5  10006    M  27.0      4800           C            0      [18-30]\n",
       "6  10007    F  27.0      7000           C            0      [18-30]\n",
       "7  10008    F  32.0     80000           C            1      (30-50]\n",
       "8  10009    M  25.0      2700           C            0      [18-30]\n",
       "9  10010    F  37.0      5400           C            0  Nuloooooooo"
      ]
     },
     "execution_count": 35,
     "metadata": {},
     "output_type": "execute_result"
    }
   ],
   "source": [
    "df.head(10)"
   ]
  },
  {
   "cell_type": "code",
   "execution_count": 36,
   "metadata": {},
   "outputs": [],
   "source": [
    "# SEXO -- Variable Dummy\n",
    "dicc_sexo = {'M': 1,\n",
    "             'F': 0}\n",
    "df['SEXO'] = df['SEXO'].map(dicc_sexo)"
   ]
  },
  {
   "cell_type": "code",
   "execution_count": 37,
   "metadata": {
    "scrolled": true
   },
   "outputs": [],
   "source": [
    "# ESTADOCIVIL\n",
    "df_ec_dummies = pd.get_dummies(df[\"ESTADOCIVIL\"], prefix = 'ESTADOCIVIL')#, drop_first = True)"
   ]
  },
  {
   "cell_type": "code",
   "execution_count": 38,
   "metadata": {},
   "outputs": [],
   "source": [
    "del df[\"ESTADOCIVIL\"]"
   ]
  },
  {
   "cell_type": "code",
   "execution_count": 39,
   "metadata": {},
   "outputs": [],
   "source": [
    "df = pd.concat([df,df_ec_dummies], axis = 1)"
   ]
  },
  {
   "cell_type": "code",
   "execution_count": 40,
   "metadata": {
    "scrolled": true
   },
   "outputs": [
    {
     "data": {
      "text/html": [
       "<div>\n",
       "<style scoped>\n",
       "    .dataframe tbody tr th:only-of-type {\n",
       "        vertical-align: middle;\n",
       "    }\n",
       "\n",
       "    .dataframe tbody tr th {\n",
       "        vertical-align: top;\n",
       "    }\n",
       "\n",
       "    .dataframe thead th {\n",
       "        text-align: right;\n",
       "    }\n",
       "</style>\n",
       "<table border=\"1\" class=\"dataframe\">\n",
       "  <thead>\n",
       "    <tr style=\"text-align: right;\">\n",
       "      <th></th>\n",
       "      <th>ID</th>\n",
       "      <th>SEXO</th>\n",
       "      <th>EDAD</th>\n",
       "      <th>INGRESOS</th>\n",
       "      <th>FLAG_COMPRA</th>\n",
       "      <th>EDAD_RANGO</th>\n",
       "      <th>ESTADOCIVIL_C</th>\n",
       "      <th>ESTADOCIVIL_D</th>\n",
       "      <th>ESTADOCIVIL_S</th>\n",
       "    </tr>\n",
       "  </thead>\n",
       "  <tbody>\n",
       "    <tr>\n",
       "      <th>0</th>\n",
       "      <td>10001</td>\n",
       "      <td>1</td>\n",
       "      <td>19.0</td>\n",
       "      <td>1500</td>\n",
       "      <td>0</td>\n",
       "      <td>[18-30]</td>\n",
       "      <td>0</td>\n",
       "      <td>0</td>\n",
       "      <td>1</td>\n",
       "    </tr>\n",
       "    <tr>\n",
       "      <th>1</th>\n",
       "      <td>10002</td>\n",
       "      <td>1</td>\n",
       "      <td>35.0</td>\n",
       "      <td>1600</td>\n",
       "      <td>0</td>\n",
       "      <td>(30-50]</td>\n",
       "      <td>1</td>\n",
       "      <td>0</td>\n",
       "      <td>0</td>\n",
       "    </tr>\n",
       "    <tr>\n",
       "      <th>2</th>\n",
       "      <td>10003</td>\n",
       "      <td>0</td>\n",
       "      <td>26.0</td>\n",
       "      <td>3500</td>\n",
       "      <td>0</td>\n",
       "      <td>[18-30]</td>\n",
       "      <td>1</td>\n",
       "      <td>0</td>\n",
       "      <td>0</td>\n",
       "    </tr>\n",
       "    <tr>\n",
       "      <th>3</th>\n",
       "      <td>10004</td>\n",
       "      <td>0</td>\n",
       "      <td>27.0</td>\n",
       "      <td>4700</td>\n",
       "      <td>0</td>\n",
       "      <td>[18-30]</td>\n",
       "      <td>1</td>\n",
       "      <td>0</td>\n",
       "      <td>0</td>\n",
       "    </tr>\n",
       "    <tr>\n",
       "      <th>4</th>\n",
       "      <td>10005</td>\n",
       "      <td>1</td>\n",
       "      <td>19.0</td>\n",
       "      <td>6300</td>\n",
       "      <td>0</td>\n",
       "      <td>[18-30]</td>\n",
       "      <td>0</td>\n",
       "      <td>0</td>\n",
       "      <td>1</td>\n",
       "    </tr>\n",
       "  </tbody>\n",
       "</table>\n",
       "</div>"
      ],
      "text/plain": [
       "      ID  SEXO  EDAD  INGRESOS  FLAG_COMPRA EDAD_RANGO  ESTADOCIVIL_C  \\\n",
       "0  10001     1  19.0      1500            0    [18-30]              0   \n",
       "1  10002     1  35.0      1600            0    (30-50]              1   \n",
       "2  10003     0  26.0      3500            0    [18-30]              1   \n",
       "3  10004     0  27.0      4700            0    [18-30]              1   \n",
       "4  10005     1  19.0      6300            0    [18-30]              0   \n",
       "\n",
       "   ESTADOCIVIL_D  ESTADOCIVIL_S  \n",
       "0              0              1  \n",
       "1              0              0  \n",
       "2              0              0  \n",
       "3              0              0  \n",
       "4              0              1  "
      ]
     },
     "execution_count": 40,
     "metadata": {},
     "output_type": "execute_result"
    }
   ],
   "source": [
    "df.head()"
   ]
  },
  {
   "cell_type": "code",
   "execution_count": 41,
   "metadata": {},
   "outputs": [
    {
     "data": {
      "text/plain": [
       "array(['[18-30]', '(30-50]', 'Nuloooooooo', '(50-60]'], dtype=object)"
      ]
     },
     "execution_count": 41,
     "metadata": {},
     "output_type": "execute_result"
    }
   ],
   "source": [
    "# EDAD_RANGO\n",
    "df.EDAD_RANGO.unique()"
   ]
  },
  {
   "cell_type": "code",
   "execution_count": 42,
   "metadata": {},
   "outputs": [],
   "source": [
    "dicc_rangoEdad = {'[18-30]': 0,\n",
    "             '(30-50]': 1,\n",
    "             '(50-60]': 2,\n",
    "             'Nuloooooooo' : 9}\n",
    "df['EDAD_RANGO'] = df['EDAD_RANGO'].map(dicc_rangoEdad)"
   ]
  },
  {
   "cell_type": "code",
   "execution_count": 43,
   "metadata": {
    "scrolled": true
   },
   "outputs": [
    {
     "data": {
      "text/html": [
       "<div>\n",
       "<style scoped>\n",
       "    .dataframe tbody tr th:only-of-type {\n",
       "        vertical-align: middle;\n",
       "    }\n",
       "\n",
       "    .dataframe tbody tr th {\n",
       "        vertical-align: top;\n",
       "    }\n",
       "\n",
       "    .dataframe thead th {\n",
       "        text-align: right;\n",
       "    }\n",
       "</style>\n",
       "<table border=\"1\" class=\"dataframe\">\n",
       "  <thead>\n",
       "    <tr style=\"text-align: right;\">\n",
       "      <th></th>\n",
       "      <th>ID</th>\n",
       "      <th>SEXO</th>\n",
       "      <th>EDAD</th>\n",
       "      <th>INGRESOS</th>\n",
       "      <th>FLAG_COMPRA</th>\n",
       "      <th>EDAD_RANGO</th>\n",
       "      <th>ESTADOCIVIL_C</th>\n",
       "      <th>ESTADOCIVIL_D</th>\n",
       "      <th>ESTADOCIVIL_S</th>\n",
       "    </tr>\n",
       "  </thead>\n",
       "  <tbody>\n",
       "    <tr>\n",
       "      <th>0</th>\n",
       "      <td>10001</td>\n",
       "      <td>1</td>\n",
       "      <td>19.0</td>\n",
       "      <td>1500</td>\n",
       "      <td>0</td>\n",
       "      <td>0</td>\n",
       "      <td>0</td>\n",
       "      <td>0</td>\n",
       "      <td>1</td>\n",
       "    </tr>\n",
       "    <tr>\n",
       "      <th>1</th>\n",
       "      <td>10002</td>\n",
       "      <td>1</td>\n",
       "      <td>35.0</td>\n",
       "      <td>1600</td>\n",
       "      <td>0</td>\n",
       "      <td>1</td>\n",
       "      <td>1</td>\n",
       "      <td>0</td>\n",
       "      <td>0</td>\n",
       "    </tr>\n",
       "    <tr>\n",
       "      <th>2</th>\n",
       "      <td>10003</td>\n",
       "      <td>0</td>\n",
       "      <td>26.0</td>\n",
       "      <td>3500</td>\n",
       "      <td>0</td>\n",
       "      <td>0</td>\n",
       "      <td>1</td>\n",
       "      <td>0</td>\n",
       "      <td>0</td>\n",
       "    </tr>\n",
       "    <tr>\n",
       "      <th>3</th>\n",
       "      <td>10004</td>\n",
       "      <td>0</td>\n",
       "      <td>27.0</td>\n",
       "      <td>4700</td>\n",
       "      <td>0</td>\n",
       "      <td>0</td>\n",
       "      <td>1</td>\n",
       "      <td>0</td>\n",
       "      <td>0</td>\n",
       "    </tr>\n",
       "    <tr>\n",
       "      <th>4</th>\n",
       "      <td>10005</td>\n",
       "      <td>1</td>\n",
       "      <td>19.0</td>\n",
       "      <td>6300</td>\n",
       "      <td>0</td>\n",
       "      <td>0</td>\n",
       "      <td>0</td>\n",
       "      <td>0</td>\n",
       "      <td>1</td>\n",
       "    </tr>\n",
       "    <tr>\n",
       "      <th>5</th>\n",
       "      <td>10006</td>\n",
       "      <td>1</td>\n",
       "      <td>27.0</td>\n",
       "      <td>4800</td>\n",
       "      <td>0</td>\n",
       "      <td>0</td>\n",
       "      <td>1</td>\n",
       "      <td>0</td>\n",
       "      <td>0</td>\n",
       "    </tr>\n",
       "    <tr>\n",
       "      <th>6</th>\n",
       "      <td>10007</td>\n",
       "      <td>0</td>\n",
       "      <td>27.0</td>\n",
       "      <td>7000</td>\n",
       "      <td>0</td>\n",
       "      <td>0</td>\n",
       "      <td>1</td>\n",
       "      <td>0</td>\n",
       "      <td>0</td>\n",
       "    </tr>\n",
       "    <tr>\n",
       "      <th>7</th>\n",
       "      <td>10008</td>\n",
       "      <td>0</td>\n",
       "      <td>32.0</td>\n",
       "      <td>80000</td>\n",
       "      <td>1</td>\n",
       "      <td>1</td>\n",
       "      <td>1</td>\n",
       "      <td>0</td>\n",
       "      <td>0</td>\n",
       "    </tr>\n",
       "    <tr>\n",
       "      <th>8</th>\n",
       "      <td>10009</td>\n",
       "      <td>1</td>\n",
       "      <td>25.0</td>\n",
       "      <td>2700</td>\n",
       "      <td>0</td>\n",
       "      <td>0</td>\n",
       "      <td>1</td>\n",
       "      <td>0</td>\n",
       "      <td>0</td>\n",
       "    </tr>\n",
       "    <tr>\n",
       "      <th>9</th>\n",
       "      <td>10010</td>\n",
       "      <td>0</td>\n",
       "      <td>37.0</td>\n",
       "      <td>5400</td>\n",
       "      <td>0</td>\n",
       "      <td>9</td>\n",
       "      <td>1</td>\n",
       "      <td>0</td>\n",
       "      <td>0</td>\n",
       "    </tr>\n",
       "    <tr>\n",
       "      <th>10</th>\n",
       "      <td>10011</td>\n",
       "      <td>0</td>\n",
       "      <td>26.0</td>\n",
       "      <td>6600</td>\n",
       "      <td>0</td>\n",
       "      <td>0</td>\n",
       "      <td>0</td>\n",
       "      <td>0</td>\n",
       "      <td>1</td>\n",
       "    </tr>\n",
       "    <tr>\n",
       "      <th>11</th>\n",
       "      <td>10012</td>\n",
       "      <td>0</td>\n",
       "      <td>26.0</td>\n",
       "      <td>4300</td>\n",
       "      <td>0</td>\n",
       "      <td>0</td>\n",
       "      <td>1</td>\n",
       "      <td>0</td>\n",
       "      <td>0</td>\n",
       "    </tr>\n",
       "    <tr>\n",
       "      <th>12</th>\n",
       "      <td>10013</td>\n",
       "      <td>1</td>\n",
       "      <td>20.0</td>\n",
       "      <td>7100</td>\n",
       "      <td>0</td>\n",
       "      <td>0</td>\n",
       "      <td>0</td>\n",
       "      <td>0</td>\n",
       "      <td>1</td>\n",
       "    </tr>\n",
       "    <tr>\n",
       "      <th>13</th>\n",
       "      <td>10014</td>\n",
       "      <td>1</td>\n",
       "      <td>32.0</td>\n",
       "      <td>1500</td>\n",
       "      <td>0</td>\n",
       "      <td>1</td>\n",
       "      <td>1</td>\n",
       "      <td>0</td>\n",
       "      <td>0</td>\n",
       "    </tr>\n",
       "    <tr>\n",
       "      <th>14</th>\n",
       "      <td>10015</td>\n",
       "      <td>1</td>\n",
       "      <td>18.0</td>\n",
       "      <td>6800</td>\n",
       "      <td>0</td>\n",
       "      <td>0</td>\n",
       "      <td>0</td>\n",
       "      <td>0</td>\n",
       "      <td>1</td>\n",
       "    </tr>\n",
       "    <tr>\n",
       "      <th>15</th>\n",
       "      <td>10016</td>\n",
       "      <td>1</td>\n",
       "      <td>29.0</td>\n",
       "      <td>6600</td>\n",
       "      <td>0</td>\n",
       "      <td>0</td>\n",
       "      <td>1</td>\n",
       "      <td>0</td>\n",
       "      <td>0</td>\n",
       "    </tr>\n",
       "    <tr>\n",
       "      <th>16</th>\n",
       "      <td>10017</td>\n",
       "      <td>1</td>\n",
       "      <td>47.0</td>\n",
       "      <td>2000</td>\n",
       "      <td>1</td>\n",
       "      <td>1</td>\n",
       "      <td>0</td>\n",
       "      <td>0</td>\n",
       "      <td>1</td>\n",
       "    </tr>\n",
       "    <tr>\n",
       "      <th>17</th>\n",
       "      <td>10018</td>\n",
       "      <td>1</td>\n",
       "      <td>45.0</td>\n",
       "      <td>2100</td>\n",
       "      <td>1</td>\n",
       "      <td>1</td>\n",
       "      <td>0</td>\n",
       "      <td>0</td>\n",
       "      <td>1</td>\n",
       "    </tr>\n",
       "    <tr>\n",
       "      <th>18</th>\n",
       "      <td>10019</td>\n",
       "      <td>1</td>\n",
       "      <td>46.0</td>\n",
       "      <td>2300</td>\n",
       "      <td>1</td>\n",
       "      <td>1</td>\n",
       "      <td>0</td>\n",
       "      <td>0</td>\n",
       "      <td>1</td>\n",
       "    </tr>\n",
       "    <tr>\n",
       "      <th>19</th>\n",
       "      <td>10020</td>\n",
       "      <td>0</td>\n",
       "      <td>48.0</td>\n",
       "      <td>2400</td>\n",
       "      <td>1</td>\n",
       "      <td>1</td>\n",
       "      <td>0</td>\n",
       "      <td>0</td>\n",
       "      <td>1</td>\n",
       "    </tr>\n",
       "    <tr>\n",
       "      <th>20</th>\n",
       "      <td>10021</td>\n",
       "      <td>1</td>\n",
       "      <td>45.0</td>\n",
       "      <td>1800</td>\n",
       "      <td>1</td>\n",
       "      <td>1</td>\n",
       "      <td>0</td>\n",
       "      <td>0</td>\n",
       "      <td>1</td>\n",
       "    </tr>\n",
       "    <tr>\n",
       "      <th>21</th>\n",
       "      <td>10022</td>\n",
       "      <td>0</td>\n",
       "      <td>47.0</td>\n",
       "      <td>4000</td>\n",
       "      <td>1</td>\n",
       "      <td>1</td>\n",
       "      <td>1</td>\n",
       "      <td>0</td>\n",
       "      <td>0</td>\n",
       "    </tr>\n",
       "    <tr>\n",
       "      <th>22</th>\n",
       "      <td>10023</td>\n",
       "      <td>1</td>\n",
       "      <td>48.0</td>\n",
       "      <td>3400</td>\n",
       "      <td>1</td>\n",
       "      <td>1</td>\n",
       "      <td>1</td>\n",
       "      <td>0</td>\n",
       "      <td>0</td>\n",
       "    </tr>\n",
       "    <tr>\n",
       "      <th>23</th>\n",
       "      <td>10024</td>\n",
       "      <td>0</td>\n",
       "      <td>45.0</td>\n",
       "      <td>1800</td>\n",
       "      <td>1</td>\n",
       "      <td>1</td>\n",
       "      <td>0</td>\n",
       "      <td>0</td>\n",
       "      <td>1</td>\n",
       "    </tr>\n",
       "    <tr>\n",
       "      <th>24</th>\n",
       "      <td>10025</td>\n",
       "      <td>1</td>\n",
       "      <td>46.0</td>\n",
       "      <td>1900</td>\n",
       "      <td>1</td>\n",
       "      <td>1</td>\n",
       "      <td>0</td>\n",
       "      <td>0</td>\n",
       "      <td>1</td>\n",
       "    </tr>\n",
       "    <tr>\n",
       "      <th>25</th>\n",
       "      <td>10026</td>\n",
       "      <td>1</td>\n",
       "      <td>47.0</td>\n",
       "      <td>1600</td>\n",
       "      <td>1</td>\n",
       "      <td>1</td>\n",
       "      <td>0</td>\n",
       "      <td>0</td>\n",
       "      <td>1</td>\n",
       "    </tr>\n",
       "    <tr>\n",
       "      <th>26</th>\n",
       "      <td>10027</td>\n",
       "      <td>1</td>\n",
       "      <td>49.0</td>\n",
       "      <td>2300</td>\n",
       "      <td>1</td>\n",
       "      <td>1</td>\n",
       "      <td>0</td>\n",
       "      <td>0</td>\n",
       "      <td>1</td>\n",
       "    </tr>\n",
       "    <tr>\n",
       "      <th>27</th>\n",
       "      <td>10028</td>\n",
       "      <td>0</td>\n",
       "      <td>47.0</td>\n",
       "      <td>2500</td>\n",
       "      <td>1</td>\n",
       "      <td>1</td>\n",
       "      <td>1</td>\n",
       "      <td>0</td>\n",
       "      <td>0</td>\n",
       "    </tr>\n",
       "    <tr>\n",
       "      <th>28</th>\n",
       "      <td>10029</td>\n",
       "      <td>1</td>\n",
       "      <td>29.0</td>\n",
       "      <td>3500</td>\n",
       "      <td>0</td>\n",
       "      <td>0</td>\n",
       "      <td>1</td>\n",
       "      <td>0</td>\n",
       "      <td>0</td>\n",
       "    </tr>\n",
       "    <tr>\n",
       "      <th>29</th>\n",
       "      <td>10030</td>\n",
       "      <td>1</td>\n",
       "      <td>37.0</td>\n",
       "      <td>1500</td>\n",
       "      <td>0</td>\n",
       "      <td>9</td>\n",
       "      <td>1</td>\n",
       "      <td>0</td>\n",
       "      <td>0</td>\n",
       "    </tr>\n",
       "    <tr>\n",
       "      <th>...</th>\n",
       "      <td>...</td>\n",
       "      <td>...</td>\n",
       "      <td>...</td>\n",
       "      <td>...</td>\n",
       "      <td>...</td>\n",
       "      <td>...</td>\n",
       "      <td>...</td>\n",
       "      <td>...</td>\n",
       "      <td>...</td>\n",
       "    </tr>\n",
       "    <tr>\n",
       "      <th>370</th>\n",
       "      <td>10371</td>\n",
       "      <td>0</td>\n",
       "      <td>52.0</td>\n",
       "      <td>3800</td>\n",
       "      <td>1</td>\n",
       "      <td>2</td>\n",
       "      <td>1</td>\n",
       "      <td>0</td>\n",
       "      <td>0</td>\n",
       "    </tr>\n",
       "    <tr>\n",
       "      <th>371</th>\n",
       "      <td>10372</td>\n",
       "      <td>1</td>\n",
       "      <td>52.0</td>\n",
       "      <td>6900</td>\n",
       "      <td>1</td>\n",
       "      <td>2</td>\n",
       "      <td>1</td>\n",
       "      <td>0</td>\n",
       "      <td>0</td>\n",
       "    </tr>\n",
       "    <tr>\n",
       "      <th>372</th>\n",
       "      <td>10373</td>\n",
       "      <td>0</td>\n",
       "      <td>39.0</td>\n",
       "      <td>6000</td>\n",
       "      <td>0</td>\n",
       "      <td>1</td>\n",
       "      <td>1</td>\n",
       "      <td>0</td>\n",
       "      <td>0</td>\n",
       "    </tr>\n",
       "    <tr>\n",
       "      <th>373</th>\n",
       "      <td>10374</td>\n",
       "      <td>1</td>\n",
       "      <td>52.0</td>\n",
       "      <td>10800</td>\n",
       "      <td>1</td>\n",
       "      <td>2</td>\n",
       "      <td>1</td>\n",
       "      <td>0</td>\n",
       "      <td>0</td>\n",
       "    </tr>\n",
       "    <tr>\n",
       "      <th>374</th>\n",
       "      <td>10375</td>\n",
       "      <td>0</td>\n",
       "      <td>37.0</td>\n",
       "      <td>6600</td>\n",
       "      <td>0</td>\n",
       "      <td>1</td>\n",
       "      <td>1</td>\n",
       "      <td>0</td>\n",
       "      <td>0</td>\n",
       "    </tr>\n",
       "    <tr>\n",
       "      <th>375</th>\n",
       "      <td>10376</td>\n",
       "      <td>0</td>\n",
       "      <td>46.0</td>\n",
       "      <td>2600</td>\n",
       "      <td>1</td>\n",
       "      <td>1</td>\n",
       "      <td>1</td>\n",
       "      <td>0</td>\n",
       "      <td>0</td>\n",
       "    </tr>\n",
       "    <tr>\n",
       "      <th>376</th>\n",
       "      <td>10377</td>\n",
       "      <td>0</td>\n",
       "      <td>46.0</td>\n",
       "      <td>6100</td>\n",
       "      <td>0</td>\n",
       "      <td>1</td>\n",
       "      <td>1</td>\n",
       "      <td>0</td>\n",
       "      <td>0</td>\n",
       "    </tr>\n",
       "    <tr>\n",
       "      <th>377</th>\n",
       "      <td>10378</td>\n",
       "      <td>0</td>\n",
       "      <td>42.0</td>\n",
       "      <td>4400</td>\n",
       "      <td>0</td>\n",
       "      <td>1</td>\n",
       "      <td>1</td>\n",
       "      <td>0</td>\n",
       "      <td>0</td>\n",
       "    </tr>\n",
       "    <tr>\n",
       "      <th>378</th>\n",
       "      <td>10379</td>\n",
       "      <td>1</td>\n",
       "      <td>41.0</td>\n",
       "      <td>7200</td>\n",
       "      <td>1</td>\n",
       "      <td>1</td>\n",
       "      <td>1</td>\n",
       "      <td>0</td>\n",
       "      <td>0</td>\n",
       "    </tr>\n",
       "    <tr>\n",
       "      <th>379</th>\n",
       "      <td>10380</td>\n",
       "      <td>0</td>\n",
       "      <td>52.0</td>\n",
       "      <td>1900</td>\n",
       "      <td>1</td>\n",
       "      <td>2</td>\n",
       "      <td>0</td>\n",
       "      <td>0</td>\n",
       "      <td>1</td>\n",
       "    </tr>\n",
       "    <tr>\n",
       "      <th>380</th>\n",
       "      <td>10381</td>\n",
       "      <td>1</td>\n",
       "      <td>42.0</td>\n",
       "      <td>5300</td>\n",
       "      <td>0</td>\n",
       "      <td>1</td>\n",
       "      <td>1</td>\n",
       "      <td>0</td>\n",
       "      <td>0</td>\n",
       "    </tr>\n",
       "    <tr>\n",
       "      <th>381</th>\n",
       "      <td>10382</td>\n",
       "      <td>1</td>\n",
       "      <td>48.0</td>\n",
       "      <td>2700</td>\n",
       "      <td>1</td>\n",
       "      <td>1</td>\n",
       "      <td>1</td>\n",
       "      <td>0</td>\n",
       "      <td>0</td>\n",
       "    </tr>\n",
       "    <tr>\n",
       "      <th>382</th>\n",
       "      <td>10383</td>\n",
       "      <td>0</td>\n",
       "      <td>44.0</td>\n",
       "      <td>11500</td>\n",
       "      <td>1</td>\n",
       "      <td>1</td>\n",
       "      <td>1</td>\n",
       "      <td>0</td>\n",
       "      <td>0</td>\n",
       "    </tr>\n",
       "    <tr>\n",
       "      <th>383</th>\n",
       "      <td>10384</td>\n",
       "      <td>1</td>\n",
       "      <td>49.0</td>\n",
       "      <td>2300</td>\n",
       "      <td>1</td>\n",
       "      <td>1</td>\n",
       "      <td>0</td>\n",
       "      <td>0</td>\n",
       "      <td>1</td>\n",
       "    </tr>\n",
       "    <tr>\n",
       "      <th>384</th>\n",
       "      <td>10385</td>\n",
       "      <td>0</td>\n",
       "      <td>52.0</td>\n",
       "      <td>2700</td>\n",
       "      <td>1</td>\n",
       "      <td>2</td>\n",
       "      <td>1</td>\n",
       "      <td>0</td>\n",
       "      <td>0</td>\n",
       "    </tr>\n",
       "    <tr>\n",
       "      <th>385</th>\n",
       "      <td>10386</td>\n",
       "      <td>1</td>\n",
       "      <td>52.0</td>\n",
       "      <td>5000</td>\n",
       "      <td>1</td>\n",
       "      <td>2</td>\n",
       "      <td>1</td>\n",
       "      <td>0</td>\n",
       "      <td>0</td>\n",
       "    </tr>\n",
       "    <tr>\n",
       "      <th>386</th>\n",
       "      <td>10387</td>\n",
       "      <td>0</td>\n",
       "      <td>49.0</td>\n",
       "      <td>3200</td>\n",
       "      <td>1</td>\n",
       "      <td>1</td>\n",
       "      <td>1</td>\n",
       "      <td>0</td>\n",
       "      <td>0</td>\n",
       "    </tr>\n",
       "    <tr>\n",
       "      <th>387</th>\n",
       "      <td>10388</td>\n",
       "      <td>1</td>\n",
       "      <td>39.0</td>\n",
       "      <td>5900</td>\n",
       "      <td>0</td>\n",
       "      <td>1</td>\n",
       "      <td>1</td>\n",
       "      <td>0</td>\n",
       "      <td>0</td>\n",
       "    </tr>\n",
       "    <tr>\n",
       "      <th>388</th>\n",
       "      <td>10389</td>\n",
       "      <td>1</td>\n",
       "      <td>47.0</td>\n",
       "      <td>2800</td>\n",
       "      <td>1</td>\n",
       "      <td>1</td>\n",
       "      <td>1</td>\n",
       "      <td>0</td>\n",
       "      <td>0</td>\n",
       "    </tr>\n",
       "    <tr>\n",
       "      <th>389</th>\n",
       "      <td>10390</td>\n",
       "      <td>0</td>\n",
       "      <td>48.0</td>\n",
       "      <td>2900</td>\n",
       "      <td>1</td>\n",
       "      <td>1</td>\n",
       "      <td>1</td>\n",
       "      <td>0</td>\n",
       "      <td>0</td>\n",
       "    </tr>\n",
       "    <tr>\n",
       "      <th>390</th>\n",
       "      <td>10391</td>\n",
       "      <td>1</td>\n",
       "      <td>48.0</td>\n",
       "      <td>2700</td>\n",
       "      <td>1</td>\n",
       "      <td>1</td>\n",
       "      <td>1</td>\n",
       "      <td>0</td>\n",
       "      <td>0</td>\n",
       "    </tr>\n",
       "    <tr>\n",
       "      <th>391</th>\n",
       "      <td>10392</td>\n",
       "      <td>1</td>\n",
       "      <td>47.0</td>\n",
       "      <td>1900</td>\n",
       "      <td>1</td>\n",
       "      <td>1</td>\n",
       "      <td>0</td>\n",
       "      <td>0</td>\n",
       "      <td>1</td>\n",
       "    </tr>\n",
       "    <tr>\n",
       "      <th>392</th>\n",
       "      <td>10393</td>\n",
       "      <td>0</td>\n",
       "      <td>45.0</td>\n",
       "      <td>3700</td>\n",
       "      <td>1</td>\n",
       "      <td>1</td>\n",
       "      <td>1</td>\n",
       "      <td>0</td>\n",
       "      <td>0</td>\n",
       "    </tr>\n",
       "    <tr>\n",
       "      <th>393</th>\n",
       "      <td>10394</td>\n",
       "      <td>1</td>\n",
       "      <td>52.0</td>\n",
       "      <td>3500</td>\n",
       "      <td>1</td>\n",
       "      <td>2</td>\n",
       "      <td>1</td>\n",
       "      <td>0</td>\n",
       "      <td>0</td>\n",
       "    </tr>\n",
       "    <tr>\n",
       "      <th>394</th>\n",
       "      <td>10395</td>\n",
       "      <td>0</td>\n",
       "      <td>39.0</td>\n",
       "      <td>4900</td>\n",
       "      <td>0</td>\n",
       "      <td>1</td>\n",
       "      <td>1</td>\n",
       "      <td>0</td>\n",
       "      <td>0</td>\n",
       "    </tr>\n",
       "    <tr>\n",
       "      <th>395</th>\n",
       "      <td>10396</td>\n",
       "      <td>0</td>\n",
       "      <td>46.0</td>\n",
       "      <td>3400</td>\n",
       "      <td>1</td>\n",
       "      <td>1</td>\n",
       "      <td>1</td>\n",
       "      <td>0</td>\n",
       "      <td>0</td>\n",
       "    </tr>\n",
       "    <tr>\n",
       "      <th>396</th>\n",
       "      <td>10397</td>\n",
       "      <td>1</td>\n",
       "      <td>51.0</td>\n",
       "      <td>1900</td>\n",
       "      <td>1</td>\n",
       "      <td>2</td>\n",
       "      <td>0</td>\n",
       "      <td>0</td>\n",
       "      <td>1</td>\n",
       "    </tr>\n",
       "    <tr>\n",
       "      <th>397</th>\n",
       "      <td>10398</td>\n",
       "      <td>0</td>\n",
       "      <td>50.0</td>\n",
       "      <td>1600</td>\n",
       "      <td>1</td>\n",
       "      <td>1</td>\n",
       "      <td>0</td>\n",
       "      <td>0</td>\n",
       "      <td>1</td>\n",
       "    </tr>\n",
       "    <tr>\n",
       "      <th>398</th>\n",
       "      <td>10399</td>\n",
       "      <td>1</td>\n",
       "      <td>36.0</td>\n",
       "      <td>2700</td>\n",
       "      <td>0</td>\n",
       "      <td>1</td>\n",
       "      <td>1</td>\n",
       "      <td>0</td>\n",
       "      <td>0</td>\n",
       "    </tr>\n",
       "    <tr>\n",
       "      <th>399</th>\n",
       "      <td>10400</td>\n",
       "      <td>0</td>\n",
       "      <td>49.0</td>\n",
       "      <td>3000</td>\n",
       "      <td>1</td>\n",
       "      <td>1</td>\n",
       "      <td>1</td>\n",
       "      <td>0</td>\n",
       "      <td>0</td>\n",
       "    </tr>\n",
       "  </tbody>\n",
       "</table>\n",
       "<p>400 rows × 9 columns</p>\n",
       "</div>"
      ],
      "text/plain": [
       "        ID  SEXO  EDAD  INGRESOS  FLAG_COMPRA  EDAD_RANGO  ESTADOCIVIL_C  \\\n",
       "0    10001     1  19.0      1500            0           0              0   \n",
       "1    10002     1  35.0      1600            0           1              1   \n",
       "2    10003     0  26.0      3500            0           0              1   \n",
       "3    10004     0  27.0      4700            0           0              1   \n",
       "4    10005     1  19.0      6300            0           0              0   \n",
       "5    10006     1  27.0      4800            0           0              1   \n",
       "6    10007     0  27.0      7000            0           0              1   \n",
       "7    10008     0  32.0     80000            1           1              1   \n",
       "8    10009     1  25.0      2700            0           0              1   \n",
       "9    10010     0  37.0      5400            0           9              1   \n",
       "10   10011     0  26.0      6600            0           0              0   \n",
       "11   10012     0  26.0      4300            0           0              1   \n",
       "12   10013     1  20.0      7100            0           0              0   \n",
       "13   10014     1  32.0      1500            0           1              1   \n",
       "14   10015     1  18.0      6800            0           0              0   \n",
       "15   10016     1  29.0      6600            0           0              1   \n",
       "16   10017     1  47.0      2000            1           1              0   \n",
       "17   10018     1  45.0      2100            1           1              0   \n",
       "18   10019     1  46.0      2300            1           1              0   \n",
       "19   10020     0  48.0      2400            1           1              0   \n",
       "20   10021     1  45.0      1800            1           1              0   \n",
       "21   10022     0  47.0      4000            1           1              1   \n",
       "22   10023     1  48.0      3400            1           1              1   \n",
       "23   10024     0  45.0      1800            1           1              0   \n",
       "24   10025     1  46.0      1900            1           1              0   \n",
       "25   10026     1  47.0      1600            1           1              0   \n",
       "26   10027     1  49.0      2300            1           1              0   \n",
       "27   10028     0  47.0      2500            1           1              1   \n",
       "28   10029     1  29.0      3500            0           0              1   \n",
       "29   10030     1  37.0      1500            0           9              1   \n",
       "..     ...   ...   ...       ...          ...         ...            ...   \n",
       "370  10371     0  52.0      3800            1           2              1   \n",
       "371  10372     1  52.0      6900            1           2              1   \n",
       "372  10373     0  39.0      6000            0           1              1   \n",
       "373  10374     1  52.0     10800            1           2              1   \n",
       "374  10375     0  37.0      6600            0           1              1   \n",
       "375  10376     0  46.0      2600            1           1              1   \n",
       "376  10377     0  46.0      6100            0           1              1   \n",
       "377  10378     0  42.0      4400            0           1              1   \n",
       "378  10379     1  41.0      7200            1           1              1   \n",
       "379  10380     0  52.0      1900            1           2              0   \n",
       "380  10381     1  42.0      5300            0           1              1   \n",
       "381  10382     1  48.0      2700            1           1              1   \n",
       "382  10383     0  44.0     11500            1           1              1   \n",
       "383  10384     1  49.0      2300            1           1              0   \n",
       "384  10385     0  52.0      2700            1           2              1   \n",
       "385  10386     1  52.0      5000            1           2              1   \n",
       "386  10387     0  49.0      3200            1           1              1   \n",
       "387  10388     1  39.0      5900            0           1              1   \n",
       "388  10389     1  47.0      2800            1           1              1   \n",
       "389  10390     0  48.0      2900            1           1              1   \n",
       "390  10391     1  48.0      2700            1           1              1   \n",
       "391  10392     1  47.0      1900            1           1              0   \n",
       "392  10393     0  45.0      3700            1           1              1   \n",
       "393  10394     1  52.0      3500            1           2              1   \n",
       "394  10395     0  39.0      4900            0           1              1   \n",
       "395  10396     0  46.0      3400            1           1              1   \n",
       "396  10397     1  51.0      1900            1           2              0   \n",
       "397  10398     0  50.0      1600            1           1              0   \n",
       "398  10399     1  36.0      2700            0           1              1   \n",
       "399  10400     0  49.0      3000            1           1              1   \n",
       "\n",
       "     ESTADOCIVIL_D  ESTADOCIVIL_S  \n",
       "0                0              1  \n",
       "1                0              0  \n",
       "2                0              0  \n",
       "3                0              0  \n",
       "4                0              1  \n",
       "5                0              0  \n",
       "6                0              0  \n",
       "7                0              0  \n",
       "8                0              0  \n",
       "9                0              0  \n",
       "10               0              1  \n",
       "11               0              0  \n",
       "12               0              1  \n",
       "13               0              0  \n",
       "14               0              1  \n",
       "15               0              0  \n",
       "16               0              1  \n",
       "17               0              1  \n",
       "18               0              1  \n",
       "19               0              1  \n",
       "20               0              1  \n",
       "21               0              0  \n",
       "22               0              0  \n",
       "23               0              1  \n",
       "24               0              1  \n",
       "25               0              1  \n",
       "26               0              1  \n",
       "27               0              0  \n",
       "28               0              0  \n",
       "29               0              0  \n",
       "..             ...            ...  \n",
       "370              0              0  \n",
       "371              0              0  \n",
       "372              0              0  \n",
       "373              0              0  \n",
       "374              0              0  \n",
       "375              0              0  \n",
       "376              0              0  \n",
       "377              0              0  \n",
       "378              0              0  \n",
       "379              0              1  \n",
       "380              0              0  \n",
       "381              0              0  \n",
       "382              0              0  \n",
       "383              0              1  \n",
       "384              0              0  \n",
       "385              0              0  \n",
       "386              0              0  \n",
       "387              0              0  \n",
       "388              0              0  \n",
       "389              0              0  \n",
       "390              0              0  \n",
       "391              0              1  \n",
       "392              0              0  \n",
       "393              0              0  \n",
       "394              0              0  \n",
       "395              0              0  \n",
       "396              0              1  \n",
       "397              0              1  \n",
       "398              0              0  \n",
       "399              0              0  \n",
       "\n",
       "[400 rows x 9 columns]"
      ]
     },
     "execution_count": 43,
     "metadata": {},
     "output_type": "execute_result"
    }
   ],
   "source": [
    "df"
   ]
  },
  {
   "cell_type": "code",
   "execution_count": null,
   "metadata": {},
   "outputs": [],
   "source": []
  },
  {
   "cell_type": "markdown",
   "metadata": {},
   "source": [
    "## 3.3 Preselección de Variables"
   ]
  },
  {
   "cell_type": "code",
   "execution_count": 44,
   "metadata": {},
   "outputs": [
    {
     "data": {
      "text/plain": [
       "['ID',\n",
       " 'SEXO',\n",
       " 'EDAD',\n",
       " 'INGRESOS',\n",
       " 'FLAG_COMPRA',\n",
       " 'EDAD_RANGO',\n",
       " 'ESTADOCIVIL_C',\n",
       " 'ESTADOCIVIL_D',\n",
       " 'ESTADOCIVIL_S']"
      ]
     },
     "execution_count": 44,
     "metadata": {},
     "output_type": "execute_result"
    }
   ],
   "source": [
    "list(df.columns)"
   ]
  },
  {
   "cell_type": "code",
   "execution_count": 45,
   "metadata": {},
   "outputs": [],
   "source": [
    "features_to_model = ['SEXO',\n",
    " 'EDAD',\n",
    " 'INGRESOS',\n",
    " 'EDAD_RANGO',\n",
    " 'ESTADOCIVIL_C',                     \n",
    " 'ESTADOCIVIL_D',\n",
    " 'ESTADOCIVIL_S']"
   ]
  },
  {
   "cell_type": "code",
   "execution_count": 46,
   "metadata": {},
   "outputs": [
    {
     "data": {
      "text/html": [
       "<div>\n",
       "<style scoped>\n",
       "    .dataframe tbody tr th:only-of-type {\n",
       "        vertical-align: middle;\n",
       "    }\n",
       "\n",
       "    .dataframe tbody tr th {\n",
       "        vertical-align: top;\n",
       "    }\n",
       "\n",
       "    .dataframe thead th {\n",
       "        text-align: right;\n",
       "    }\n",
       "</style>\n",
       "<table border=\"1\" class=\"dataframe\">\n",
       "  <thead>\n",
       "    <tr style=\"text-align: right;\">\n",
       "      <th></th>\n",
       "      <th>SEXO</th>\n",
       "      <th>EDAD</th>\n",
       "      <th>INGRESOS</th>\n",
       "      <th>EDAD_RANGO</th>\n",
       "      <th>ESTADOCIVIL_C</th>\n",
       "      <th>ESTADOCIVIL_D</th>\n",
       "      <th>ESTADOCIVIL_S</th>\n",
       "    </tr>\n",
       "  </thead>\n",
       "  <tbody>\n",
       "    <tr>\n",
       "      <th>0</th>\n",
       "      <td>1</td>\n",
       "      <td>19.0</td>\n",
       "      <td>1500</td>\n",
       "      <td>0</td>\n",
       "      <td>0</td>\n",
       "      <td>0</td>\n",
       "      <td>1</td>\n",
       "    </tr>\n",
       "    <tr>\n",
       "      <th>1</th>\n",
       "      <td>1</td>\n",
       "      <td>35.0</td>\n",
       "      <td>1600</td>\n",
       "      <td>1</td>\n",
       "      <td>1</td>\n",
       "      <td>0</td>\n",
       "      <td>0</td>\n",
       "    </tr>\n",
       "    <tr>\n",
       "      <th>2</th>\n",
       "      <td>0</td>\n",
       "      <td>26.0</td>\n",
       "      <td>3500</td>\n",
       "      <td>0</td>\n",
       "      <td>1</td>\n",
       "      <td>0</td>\n",
       "      <td>0</td>\n",
       "    </tr>\n",
       "    <tr>\n",
       "      <th>3</th>\n",
       "      <td>0</td>\n",
       "      <td>27.0</td>\n",
       "      <td>4700</td>\n",
       "      <td>0</td>\n",
       "      <td>1</td>\n",
       "      <td>0</td>\n",
       "      <td>0</td>\n",
       "    </tr>\n",
       "    <tr>\n",
       "      <th>4</th>\n",
       "      <td>1</td>\n",
       "      <td>19.0</td>\n",
       "      <td>6300</td>\n",
       "      <td>0</td>\n",
       "      <td>0</td>\n",
       "      <td>0</td>\n",
       "      <td>1</td>\n",
       "    </tr>\n",
       "  </tbody>\n",
       "</table>\n",
       "</div>"
      ],
      "text/plain": [
       "   SEXO  EDAD  INGRESOS  EDAD_RANGO  ESTADOCIVIL_C  ESTADOCIVIL_D  \\\n",
       "0     1  19.0      1500           0              0              0   \n",
       "1     1  35.0      1600           1              1              0   \n",
       "2     0  26.0      3500           0              1              0   \n",
       "3     0  27.0      4700           0              1              0   \n",
       "4     1  19.0      6300           0              0              0   \n",
       "\n",
       "   ESTADOCIVIL_S  \n",
       "0              1  \n",
       "1              0  \n",
       "2              0  \n",
       "3              0  \n",
       "4              1  "
      ]
     },
     "execution_count": 46,
     "metadata": {},
     "output_type": "execute_result"
    }
   ],
   "source": [
    "X_data = df[features_to_model]\n",
    "X_data.head()"
   ]
  },
  {
   "cell_type": "code",
   "execution_count": 48,
   "metadata": {},
   "outputs": [],
   "source": [
    "y_data = df['FLAG_COMPRA']"
   ]
  },
  {
   "cell_type": "code",
   "execution_count": 49,
   "metadata": {},
   "outputs": [
    {
     "name": "stderr",
     "output_type": "stream",
     "text": [
      "C:\\Users\\Andres\\Anaconda3\\lib\\site-packages\\sklearn\\cross_validation.py:41: DeprecationWarning: This module was deprecated in version 0.18 in favor of the model_selection module into which all the refactored classes and functions are moved. Also note that the interface of the new CV iterators are different from that of this module. This module will be removed in 0.20.\n",
      "  \"This module will be removed in 0.20.\", DeprecationWarning)\n"
     ]
    }
   ],
   "source": [
    "# Separar Data de Training y data de Test\n",
    "from sklearn.cross_validation import train_test_split"
   ]
  },
  {
   "cell_type": "code",
   "execution_count": 50,
   "metadata": {},
   "outputs": [],
   "source": [
    "X_train, X_test, y_train, y_test = train_test_split(X_data, y_data, \n",
    "                                                    train_size = 0.60, \n",
    "                                                    random_state = 20)"
   ]
  },
  {
   "cell_type": "code",
   "execution_count": 51,
   "metadata": {
    "scrolled": false
   },
   "outputs": [],
   "source": [
    "X_train.reset_index(inplace=True,drop=True)\n",
    "X_test.reset_index(inplace=True,drop=True)\n",
    "y_train.reset_index(inplace=True,drop=True)\n",
    "y_test.reset_index(inplace=True,drop=True)"
   ]
  },
  {
   "cell_type": "code",
   "execution_count": null,
   "metadata": {},
   "outputs": [],
   "source": []
  },
  {
   "cell_type": "markdown",
   "metadata": {},
   "source": [
    "# Scaling"
   ]
  },
  {
   "cell_type": "code",
   "execution_count": 52,
   "metadata": {},
   "outputs": [
    {
     "data": {
      "text/html": [
       "<div>\n",
       "<style scoped>\n",
       "    .dataframe tbody tr th:only-of-type {\n",
       "        vertical-align: middle;\n",
       "    }\n",
       "\n",
       "    .dataframe tbody tr th {\n",
       "        vertical-align: top;\n",
       "    }\n",
       "\n",
       "    .dataframe thead th {\n",
       "        text-align: right;\n",
       "    }\n",
       "</style>\n",
       "<table border=\"1\" class=\"dataframe\">\n",
       "  <thead>\n",
       "    <tr style=\"text-align: right;\">\n",
       "      <th></th>\n",
       "      <th>SEXO</th>\n",
       "      <th>EDAD</th>\n",
       "      <th>INGRESOS</th>\n",
       "      <th>EDAD_RANGO</th>\n",
       "      <th>ESTADOCIVIL_C</th>\n",
       "      <th>ESTADOCIVIL_D</th>\n",
       "      <th>ESTADOCIVIL_S</th>\n",
       "    </tr>\n",
       "  </thead>\n",
       "  <tbody>\n",
       "    <tr>\n",
       "      <th>0</th>\n",
       "      <td>0</td>\n",
       "      <td>41.0</td>\n",
       "      <td>6600</td>\n",
       "      <td>1</td>\n",
       "      <td>0</td>\n",
       "      <td>1</td>\n",
       "      <td>0</td>\n",
       "    </tr>\n",
       "    <tr>\n",
       "      <th>1</th>\n",
       "      <td>0</td>\n",
       "      <td>27.0</td>\n",
       "      <td>2500</td>\n",
       "      <td>0</td>\n",
       "      <td>1</td>\n",
       "      <td>0</td>\n",
       "      <td>0</td>\n",
       "    </tr>\n",
       "    <tr>\n",
       "      <th>2</th>\n",
       "      <td>1</td>\n",
       "      <td>22.0</td>\n",
       "      <td>1500</td>\n",
       "      <td>0</td>\n",
       "      <td>0</td>\n",
       "      <td>0</td>\n",
       "      <td>1</td>\n",
       "    </tr>\n",
       "  </tbody>\n",
       "</table>\n",
       "</div>"
      ],
      "text/plain": [
       "   SEXO  EDAD  INGRESOS  EDAD_RANGO  ESTADOCIVIL_C  ESTADOCIVIL_D  \\\n",
       "0     0  41.0      6600           1              0              1   \n",
       "1     0  27.0      2500           0              1              0   \n",
       "2     1  22.0      1500           0              0              0   \n",
       "\n",
       "   ESTADOCIVIL_S  \n",
       "0              0  \n",
       "1              0  \n",
       "2              1  "
      ]
     },
     "execution_count": 52,
     "metadata": {},
     "output_type": "execute_result"
    }
   ],
   "source": [
    "X_train.head(3)"
   ]
  },
  {
   "cell_type": "code",
   "execution_count": 53,
   "metadata": {},
   "outputs": [
    {
     "data": {
      "text/plain": [
       "StandardScaler(copy=True, with_mean=True, with_std=True)"
      ]
     },
     "execution_count": 53,
     "metadata": {},
     "output_type": "execute_result"
    }
   ],
   "source": [
    "from sklearn.preprocessing import StandardScaler\n",
    "scaler = StandardScaler()\n",
    "scaler.fit(X_train)"
   ]
  },
  {
   "cell_type": "code",
   "execution_count": 54,
   "metadata": {},
   "outputs": [
    {
     "data": {
      "text/html": [
       "<div>\n",
       "<style scoped>\n",
       "    .dataframe tbody tr th:only-of-type {\n",
       "        vertical-align: middle;\n",
       "    }\n",
       "\n",
       "    .dataframe tbody tr th {\n",
       "        vertical-align: top;\n",
       "    }\n",
       "\n",
       "    .dataframe thead th {\n",
       "        text-align: right;\n",
       "    }\n",
       "</style>\n",
       "<table border=\"1\" class=\"dataframe\">\n",
       "  <thead>\n",
       "    <tr style=\"text-align: right;\">\n",
       "      <th></th>\n",
       "      <th>SEXO</th>\n",
       "      <th>EDAD</th>\n",
       "      <th>INGRESOS</th>\n",
       "      <th>EDAD_RANGO</th>\n",
       "      <th>ESTADOCIVIL_C</th>\n",
       "      <th>ESTADOCIVIL_D</th>\n",
       "      <th>ESTADOCIVIL_S</th>\n",
       "    </tr>\n",
       "  </thead>\n",
       "  <tbody>\n",
       "    <tr>\n",
       "      <th>0</th>\n",
       "      <td>-0.975305</td>\n",
       "      <td>0.399869</td>\n",
       "      <td>0.073862</td>\n",
       "      <td>-0.070684</td>\n",
       "      <td>-0.67420</td>\n",
       "      <td>2.751623</td>\n",
       "      <td>-1.153298</td>\n",
       "    </tr>\n",
       "    <tr>\n",
       "      <th>1</th>\n",
       "      <td>-0.975305</td>\n",
       "      <td>-1.034025</td>\n",
       "      <td>-0.685593</td>\n",
       "      <td>-0.698984</td>\n",
       "      <td>1.48324</td>\n",
       "      <td>-0.363422</td>\n",
       "      <td>-1.153298</td>\n",
       "    </tr>\n",
       "    <tr>\n",
       "      <th>2</th>\n",
       "      <td>1.025320</td>\n",
       "      <td>-1.546130</td>\n",
       "      <td>-0.870825</td>\n",
       "      <td>-0.698984</td>\n",
       "      <td>-0.67420</td>\n",
       "      <td>-0.363422</td>\n",
       "      <td>0.867078</td>\n",
       "    </tr>\n",
       "  </tbody>\n",
       "</table>\n",
       "</div>"
      ],
      "text/plain": [
       "       SEXO      EDAD  INGRESOS  EDAD_RANGO  ESTADOCIVIL_C  ESTADOCIVIL_D  \\\n",
       "0 -0.975305  0.399869  0.073862   -0.070684       -0.67420       2.751623   \n",
       "1 -0.975305 -1.034025 -0.685593   -0.698984        1.48324      -0.363422   \n",
       "2  1.025320 -1.546130 -0.870825   -0.698984       -0.67420      -0.363422   \n",
       "\n",
       "   ESTADOCIVIL_S  \n",
       "0      -1.153298  \n",
       "1      -1.153298  \n",
       "2       0.867078  "
      ]
     },
     "execution_count": 54,
     "metadata": {},
     "output_type": "execute_result"
    }
   ],
   "source": [
    "X_train_scaler = scaler.transform(X_train)\n",
    "X_train_scaler = pd.DataFrame(X_train_scaler, columns = X_train.columns)\n",
    "X_train_scaler.head(3)"
   ]
  },
  {
   "cell_type": "code",
   "execution_count": 55,
   "metadata": {},
   "outputs": [
    {
     "data": {
      "text/html": [
       "<div>\n",
       "<style scoped>\n",
       "    .dataframe tbody tr th:only-of-type {\n",
       "        vertical-align: middle;\n",
       "    }\n",
       "\n",
       "    .dataframe tbody tr th {\n",
       "        vertical-align: top;\n",
       "    }\n",
       "\n",
       "    .dataframe thead th {\n",
       "        text-align: right;\n",
       "    }\n",
       "</style>\n",
       "<table border=\"1\" class=\"dataframe\">\n",
       "  <thead>\n",
       "    <tr style=\"text-align: right;\">\n",
       "      <th></th>\n",
       "      <th>SEXO</th>\n",
       "      <th>EDAD</th>\n",
       "      <th>INGRESOS</th>\n",
       "      <th>EDAD_RANGO</th>\n",
       "      <th>ESTADOCIVIL_C</th>\n",
       "      <th>ESTADOCIVIL_D</th>\n",
       "      <th>ESTADOCIVIL_S</th>\n",
       "    </tr>\n",
       "  </thead>\n",
       "  <tbody>\n",
       "    <tr>\n",
       "      <th>0</th>\n",
       "      <td>-0.975305</td>\n",
       "      <td>-1.136446</td>\n",
       "      <td>0.073862</td>\n",
       "      <td>-0.698984</td>\n",
       "      <td>-0.67420</td>\n",
       "      <td>-0.363422</td>\n",
       "      <td>0.867078</td>\n",
       "    </tr>\n",
       "    <tr>\n",
       "      <th>1</th>\n",
       "      <td>-0.975305</td>\n",
       "      <td>0.707132</td>\n",
       "      <td>0.981502</td>\n",
       "      <td>-0.070684</td>\n",
       "      <td>1.48324</td>\n",
       "      <td>-0.363422</td>\n",
       "      <td>-1.153298</td>\n",
       "    </tr>\n",
       "    <tr>\n",
       "      <th>2</th>\n",
       "      <td>-0.975305</td>\n",
       "      <td>-0.009815</td>\n",
       "      <td>0.073862</td>\n",
       "      <td>-0.070684</td>\n",
       "      <td>1.48324</td>\n",
       "      <td>-0.363422</td>\n",
       "      <td>-1.153298</td>\n",
       "    </tr>\n",
       "  </tbody>\n",
       "</table>\n",
       "</div>"
      ],
      "text/plain": [
       "       SEXO      EDAD  INGRESOS  EDAD_RANGO  ESTADOCIVIL_C  ESTADOCIVIL_D  \\\n",
       "0 -0.975305 -1.136446  0.073862   -0.698984       -0.67420      -0.363422   \n",
       "1 -0.975305  0.707132  0.981502   -0.070684        1.48324      -0.363422   \n",
       "2 -0.975305 -0.009815  0.073862   -0.070684        1.48324      -0.363422   \n",
       "\n",
       "   ESTADOCIVIL_S  \n",
       "0       0.867078  \n",
       "1      -1.153298  \n",
       "2      -1.153298  "
      ]
     },
     "execution_count": 55,
     "metadata": {},
     "output_type": "execute_result"
    }
   ],
   "source": [
    "X_test_scaler = scaler.transform(X_test)\n",
    "X_test_scaler = pd.DataFrame(X_test_scaler, columns = X_test.columns)\n",
    "X_test_scaler.head(3)"
   ]
  },
  {
   "cell_type": "code",
   "execution_count": 56,
   "metadata": {},
   "outputs": [],
   "source": [
    "X_train = X_train_scaler.copy()\n",
    "X_test = X_test_scaler.copy()"
   ]
  },
  {
   "cell_type": "code",
   "execution_count": 57,
   "metadata": {},
   "outputs": [
    {
     "name": "stdout",
     "output_type": "stream",
     "text": [
      "(240, 7)\n",
      "(160, 7)\n"
     ]
    }
   ],
   "source": [
    "print(X_train.shape)\n",
    "print(X_test.shape)"
   ]
  },
  {
   "cell_type": "markdown",
   "metadata": {},
   "source": [
    "# 4. MODELAMIENTO"
   ]
  },
  {
   "cell_type": "code",
   "execution_count": 58,
   "metadata": {},
   "outputs": [],
   "source": [
    "def print_mc(matriz_conf):\n",
    "    matriz_conf = pd.DataFrame(matriz_conf)\n",
    "    matriz_conf.index = [\"Real_0\",\"Real_1\"]\n",
    "    matriz_conf.columns = [\"Pred_0\",\"Pred_1\"]\n",
    "    print(matriz_conf)"
   ]
  },
  {
   "cell_type": "code",
   "execution_count": 59,
   "metadata": {},
   "outputs": [],
   "source": [
    "################################## CURVA ROC ###############################\n",
    "def graficar_roc(y_test,y_pred_proba):\n",
    "    import matplotlib.pyplot as plt\n",
    "    from sklearn import metrics as mt\n",
    "    from sklearn.cross_validation import train_test_split\n",
    "\n",
    "    fpr, tpr, thresholds  = mt.roc_curve(y_test.astype('int'),y_pred_proba[:,1], pos_label = 1)\n",
    "\n",
    "    roc_auc = mt.auc(fpr, tpr)\n",
    "\n",
    "    print ('ROC AUC: %0.4f' % roc_auc)\n",
    "    gini_print = (2*roc_auc - 1)\n",
    "\n",
    "    # Plot of a ROC curve for a specific class\n",
    "    plt.figure(figsize=(8,6))\n",
    "    plt.plot(fpr, tpr, label='ROC curve (area = %0.4f) \\nGini (2*roc_auc - 1) = %0.4f' %(roc_auc,gini_print))\n",
    "    plt.plot([0, 1], [0, 1], 'k--')\n",
    "    plt.xlim([0.0, 1.0])\n",
    "    plt.ylim([0.0, 1.05])\n",
    "    plt.xlabel('False Positive Rate')\n",
    "    plt.ylabel('True Positive Rate')\n",
    "    plt.title('ROC Curve')\n",
    "    plt.legend(loc=\"lower right\")\n",
    "    plt.show()"
   ]
  },
  {
   "cell_type": "markdown",
   "metadata": {},
   "source": [
    "### 4.1 REGRESION LOGISTICA"
   ]
  },
  {
   "cell_type": "markdown",
   "metadata": {},
   "source": [
    "### 4.1.1 Entrenamiento y Predicción"
   ]
  },
  {
   "cell_type": "code",
   "execution_count": 60,
   "metadata": {},
   "outputs": [],
   "source": [
    "from sklearn.linear_model import LogisticRegression"
   ]
  },
  {
   "cell_type": "code",
   "execution_count": 61,
   "metadata": {},
   "outputs": [],
   "source": [
    "# Crear objeto modelo (Instanciar)\n",
    "model_regl = LogisticRegression()"
   ]
  },
  {
   "cell_type": "code",
   "execution_count": 62,
   "metadata": {},
   "outputs": [],
   "source": [
    "# Entrenar (ajustar) el modelo:\n",
    "model = model_regl.fit(X_train,y_train)"
   ]
  },
  {
   "cell_type": "code",
   "execution_count": 63,
   "metadata": {},
   "outputs": [],
   "source": [
    "# Generar las predicciones:\n",
    "pred_train = model.predict(X_train)\n",
    "pred_test = model.predict(X_test)\n",
    "\n",
    "# Generar las probabilidades\n",
    "pred_proba_train = model.predict_proba(X_train)\n",
    "pred_proba_test = model.predict_proba(X_test)"
   ]
  },
  {
   "cell_type": "markdown",
   "metadata": {},
   "source": [
    "### 4.1.2 Evaluación del Modelo"
   ]
  },
  {
   "cell_type": "code",
   "execution_count": 64,
   "metadata": {},
   "outputs": [],
   "source": [
    "from sklearn import metrics as mt"
   ]
  },
  {
   "cell_type": "code",
   "execution_count": 65,
   "metadata": {},
   "outputs": [
    {
     "name": "stdout",
     "output_type": "stream",
     "text": [
      "Metricas del Training...\n"
     ]
    }
   ],
   "source": [
    "# Sobre el Training Data\n",
    "print(\"Metricas del Training...\")"
   ]
  },
  {
   "cell_type": "code",
   "execution_count": 66,
   "metadata": {},
   "outputs": [
    {
     "name": "stdout",
     "output_type": "stream",
     "text": [
      "        Pred_0  Pred_1\n",
      "Real_0     149      11\n",
      "Real_1      21      59\n"
     ]
    }
   ],
   "source": [
    "matriz_conf = mt.confusion_matrix(y_train,pred_train)\n",
    "print_mc(matriz_conf)"
   ]
  },
  {
   "cell_type": "code",
   "execution_count": 81,
   "metadata": {},
   "outputs": [
    {
     "name": "stdout",
     "output_type": "stream",
     "text": [
      "Accuracy - Train: 0.866666666667\n"
     ]
    }
   ],
   "source": [
    "accuracy_train = mt.accuracy_score(y_train,pred_train)\n",
    "print(\"Accuracy - Train:\", accuracy_train) # 0.845833333333"
   ]
  },
  {
   "cell_type": "code",
   "execution_count": 82,
   "metadata": {},
   "outputs": [
    {
     "name": "stdout",
     "output_type": "stream",
     "text": [
      "             precision    recall  f1-score   support\n",
      "\n",
      "          0      0.876     0.931     0.903       160\n",
      "          1      0.843     0.738     0.787        80\n",
      "\n",
      "avg / total      0.865     0.867     0.864       240\n",
      "\n"
     ]
    }
   ],
   "source": [
    "print(mt.classification_report(y_train,pred_train,digits = 3))"
   ]
  },
  {
   "cell_type": "code",
   "execution_count": 83,
   "metadata": {},
   "outputs": [
    {
     "name": "stdout",
     "output_type": "stream",
     "text": [
      "ROC AUC: 0.9209\n"
     ]
    },
    {
     "data": {
      "image/png": "[encoded data removed]",
      "text/plain": [
       "<matplotlib.figure.Figure at 0x7d8d0e8908>"
      ]
     },
     "metadata": {},
     "output_type": "display_data"
    }
   ],
   "source": [
    "graficar_roc(y_train,pred_proba_train) # 0.9170"
   ]
  },
  {
   "cell_type": "code",
   "execution_count": 84,
   "metadata": {},
   "outputs": [
    {
     "name": "stdout",
     "output_type": "stream",
     "text": [
      "Metricas del testing...\n"
     ]
    }
   ],
   "source": [
    "# Sobre el testing Data\n",
    "print(\"Metricas del testing...\")"
   ]
  },
  {
   "cell_type": "code",
   "execution_count": 85,
   "metadata": {},
   "outputs": [
    {
     "name": "stdout",
     "output_type": "stream",
     "text": [
      "        Pred_0  Pred_1\n",
      "Real_0      96       1\n",
      "Real_1      21      42\n"
     ]
    }
   ],
   "source": [
    "matriz_conf = mt.confusion_matrix(y_test,pred_test)\n",
    "print_mc(matriz_conf)"
   ]
  },
  {
   "cell_type": "code",
   "execution_count": 86,
   "metadata": {},
   "outputs": [
    {
     "name": "stdout",
     "output_type": "stream",
     "text": [
      "Accuracy - test: 0.8625\n"
     ]
    }
   ],
   "source": [
    "accuracy_test = mt.accuracy_score(y_test,pred_test)\n",
    "print(\"Accuracy - test:\", accuracy_test) # 0.8375"
   ]
  },
  {
   "cell_type": "code",
   "execution_count": 87,
   "metadata": {},
   "outputs": [
    {
     "name": "stdout",
     "output_type": "stream",
     "text": [
      "             precision    recall  f1-score   support\n",
      "\n",
      "          0      0.821     0.990     0.897        97\n",
      "          1      0.977     0.667     0.792        63\n",
      "\n",
      "avg / total      0.882     0.863     0.856       160\n",
      "\n"
     ]
    }
   ],
   "source": [
    "print(mt.classification_report(y_test,pred_test,digits = 3))"
   ]
  },
  {
   "cell_type": "code",
   "execution_count": 88,
   "metadata": {},
   "outputs": [
    {
     "name": "stdout",
     "output_type": "stream",
     "text": [
      "ROC AUC: 0.9509\n"
     ]
    },
    {
     "data": {
      "image/png": "[encoded data removed]",
      "text/plain": [
       "<matplotlib.figure.Figure at 0x7d8b80e7b8>"
      ]
     },
     "metadata": {},
     "output_type": "display_data"
    }
   ],
   "source": [
    "graficar_roc(y_test,pred_proba_test) # 0.9514"
   ]
  },
  {
   "cell_type": "code",
   "execution_count": null,
   "metadata": {
    "collapsed": true
   },
   "outputs": [],
   "source": []
  },
  {
   "cell_type": "markdown",
   "metadata": {},
   "source": [
    "### 4.2 DECISION TREE"
   ]
  },
  {
   "cell_type": "markdown",
   "metadata": {},
   "source": [
    "### 4.2.1 Entrenamiento y Predicción"
   ]
  },
  {
   "cell_type": "code",
   "execution_count": 89,
   "metadata": {
    "collapsed": true
   },
   "outputs": [],
   "source": [
    "from sklearn.tree import DecisionTreeClassifier"
   ]
  },
  {
   "cell_type": "code",
   "execution_count": 90,
   "metadata": {
    "collapsed": true
   },
   "outputs": [],
   "source": [
    "# Crear objeto modelo (Instanciar)\n",
    "model_tree = DecisionTreeClassifier(max_depth=5)"
   ]
  },
  {
   "cell_type": "code",
   "execution_count": 91,
   "metadata": {
    "collapsed": true
   },
   "outputs": [],
   "source": [
    "# Entrenar (ajustar) el modelo:\n",
    "model = model_tree.fit(X_train,y_train)"
   ]
  },
  {
   "cell_type": "code",
   "execution_count": 92,
   "metadata": {
    "collapsed": true
   },
   "outputs": [],
   "source": [
    "# Generar las predicciones:\n",
    "pred_train = model.predict(X_train)\n",
    "pred_test = model.predict(X_test)\n",
    "\n",
    "# Generar las probabilidades\n",
    "pred_proba_train = model.predict_proba(X_train)\n",
    "pred_proba_test = model.predict_proba(X_test)"
   ]
  },
  {
   "cell_type": "markdown",
   "metadata": {},
   "source": [
    "### 4.2.2 Evaluación del Modelo"
   ]
  },
  {
   "cell_type": "code",
   "execution_count": 93,
   "metadata": {
    "collapsed": true
   },
   "outputs": [],
   "source": [
    "from sklearn import metrics as mt"
   ]
  },
  {
   "cell_type": "code",
   "execution_count": 94,
   "metadata": {},
   "outputs": [
    {
     "name": "stdout",
     "output_type": "stream",
     "text": [
      "Metricas del Training...\n"
     ]
    }
   ],
   "source": [
    "# Sobre el Training Data\n",
    "print(\"Metricas del Training...\")"
   ]
  },
  {
   "cell_type": "code",
   "execution_count": 95,
   "metadata": {},
   "outputs": [
    {
     "name": "stdout",
     "output_type": "stream",
     "text": [
      "        Pred_0  Pred_1\n",
      "Real_0     157       3\n",
      "Real_1       6      74\n"
     ]
    }
   ],
   "source": [
    "matriz_conf = mt.confusion_matrix(y_train,pred_train)\n",
    "print_mc(matriz_conf)"
   ]
  },
  {
   "cell_type": "code",
   "execution_count": 96,
   "metadata": {},
   "outputs": [
    {
     "name": "stdout",
     "output_type": "stream",
     "text": [
      "Accuracy - Train: 0.9625\n"
     ]
    }
   ],
   "source": [
    "accuracy_train = mt.accuracy_score(y_train,pred_train)\n",
    "print(\"Accuracy - Train:\", accuracy_train) # 0.845833333333"
   ]
  },
  {
   "cell_type": "code",
   "execution_count": 97,
   "metadata": {},
   "outputs": [
    {
     "name": "stdout",
     "output_type": "stream",
     "text": [
      "             precision    recall  f1-score   support\n",
      "\n",
      "          0      0.963     0.981     0.972       160\n",
      "          1      0.961     0.925     0.943        80\n",
      "\n",
      "avg / total      0.962     0.963     0.962       240\n",
      "\n"
     ]
    }
   ],
   "source": [
    "print(mt.classification_report(y_train,pred_train,digits = 3))"
   ]
  },
  {
   "cell_type": "code",
   "execution_count": 98,
   "metadata": {},
   "outputs": [
    {
     "name": "stdout",
     "output_type": "stream",
     "text": [
      "ROC AUC: 0.9903\n"
     ]
    },
    {
     "data": {
      "image/png": "[encoded data removed]",
      "text/plain": [
       "<matplotlib.figure.Figure at 0x7d8d328550>"
      ]
     },
     "metadata": {},
     "output_type": "display_data"
    }
   ],
   "source": [
    "graficar_roc(y_train,pred_proba_train) # 0.9170"
   ]
  },
  {
   "cell_type": "code",
   "execution_count": 99,
   "metadata": {},
   "outputs": [
    {
     "name": "stdout",
     "output_type": "stream",
     "text": [
      "Metricas del testing...\n"
     ]
    }
   ],
   "source": [
    "# Sobre el testing Data\n",
    "print(\"Metricas del testing...\")"
   ]
  },
  {
   "cell_type": "code",
   "execution_count": 100,
   "metadata": {},
   "outputs": [
    {
     "name": "stdout",
     "output_type": "stream",
     "text": [
      "        Pred_0  Pred_1\n",
      "Real_0      95       2\n",
      "Real_1      13      50\n"
     ]
    }
   ],
   "source": [
    "matriz_conf = mt.confusion_matrix(y_test,pred_test)\n",
    "print_mc(matriz_conf)"
   ]
  },
  {
   "cell_type": "code",
   "execution_count": 101,
   "metadata": {},
   "outputs": [
    {
     "name": "stdout",
     "output_type": "stream",
     "text": [
      "Accuracy - test: 0.90625\n"
     ]
    }
   ],
   "source": [
    "accuracy_test = mt.accuracy_score(y_test,pred_test)\n",
    "print(\"Accuracy - test:\", accuracy_test) # 0.8375"
   ]
  },
  {
   "cell_type": "code",
   "execution_count": 102,
   "metadata": {},
   "outputs": [
    {
     "name": "stdout",
     "output_type": "stream",
     "text": [
      "             precision    recall  f1-score   support\n",
      "\n",
      "          0      0.880     0.979     0.927        97\n",
      "          1      0.962     0.794     0.870        63\n",
      "\n",
      "avg / total      0.912     0.906     0.904       160\n",
      "\n"
     ]
    }
   ],
   "source": [
    "print(mt.classification_report(y_test,pred_test,digits = 3))"
   ]
  },
  {
   "cell_type": "code",
   "execution_count": 103,
   "metadata": {
    "scrolled": true
   },
   "outputs": [
    {
     "name": "stdout",
     "output_type": "stream",
     "text": [
      "ROC AUC: 0.9551\n"
     ]
    },
    {
     "data": {
      "image/png": "[encoded data removed]",
      "text/plain": [
       "<matplotlib.figure.Figure at 0x7d8d647048>"
      ]
     },
     "metadata": {},
     "output_type": "display_data"
    }
   ],
   "source": [
    "graficar_roc(y_test,pred_proba_test) # 0.9514"
   ]
  },
  {
   "cell_type": "code",
   "execution_count": null,
   "metadata": {},
   "outputs": [],
   "source": []
  },
  {
   "cell_type": "markdown",
   "metadata": {
    "collapsed": true
   },
   "source": [
    "# MODELOS ENSAMBLADOS"
   ]
  },
  {
   "cell_type": "markdown",
   "metadata": {},
   "source": [
    "## 5.1 RANDOM FOREST"
   ]
  },
  {
   "cell_type": "markdown",
   "metadata": {},
   "source": [
    "### 5.1.1 Entrenamiento y Predicción"
   ]
  },
  {
   "cell_type": "code",
   "execution_count": 104,
   "metadata": {
    "collapsed": true
   },
   "outputs": [],
   "source": [
    "from sklearn.ensemble import RandomForestClassifier"
   ]
  },
  {
   "cell_type": "code",
   "execution_count": 105,
   "metadata": {
    "collapsed": true
   },
   "outputs": [],
   "source": [
    "# Crear objeto modelo (Instanciar)\n",
    "model_rf = RandomForestClassifier(max_depth=5, n_estimators= 50, random_state=100 , max_features = 5)"
   ]
  },
  {
   "cell_type": "code",
   "execution_count": 106,
   "metadata": {
    "collapsed": true
   },
   "outputs": [],
   "source": [
    "# Entrenar (ajustar) el modelo:\n",
    "model = model_rf.fit(X_train,y_train)"
   ]
  },
  {
   "cell_type": "code",
   "execution_count": 107,
   "metadata": {
    "collapsed": true
   },
   "outputs": [],
   "source": [
    "# Generar las predicciones:\n",
    "pred_train = model.predict(X_train)\n",
    "pred_test = model.predict(X_test)\n",
    "\n",
    "# Generar las probabilidades\n",
    "pred_proba_train = model.predict_proba(X_train)\n",
    "pred_proba_test = model.predict_proba(X_test)"
   ]
  },
  {
   "cell_type": "markdown",
   "metadata": {},
   "source": [
    "### 5.1.2 Evaluación del Modelo"
   ]
  },
  {
   "cell_type": "code",
   "execution_count": 108,
   "metadata": {
    "collapsed": true
   },
   "outputs": [],
   "source": [
    "from sklearn import metrics as mt"
   ]
  },
  {
   "cell_type": "code",
   "execution_count": 109,
   "metadata": {},
   "outputs": [
    {
     "name": "stdout",
     "output_type": "stream",
     "text": [
      "Metricas del Training...\n"
     ]
    }
   ],
   "source": [
    "# Sobre el Training Data\n",
    "print(\"Metricas del Training...\")"
   ]
  },
  {
   "cell_type": "code",
   "execution_count": 110,
   "metadata": {},
   "outputs": [
    {
     "name": "stdout",
     "output_type": "stream",
     "text": [
      "        Pred_0  Pred_1\n",
      "Real_0     155       5\n",
      "Real_1       5      75\n"
     ]
    }
   ],
   "source": [
    "matriz_conf = mt.confusion_matrix(y_train,pred_train)\n",
    "print_mc(matriz_conf)"
   ]
  },
  {
   "cell_type": "code",
   "execution_count": 111,
   "metadata": {},
   "outputs": [
    {
     "name": "stdout",
     "output_type": "stream",
     "text": [
      "Accuracy - Train: 0.958333333333\n"
     ]
    }
   ],
   "source": [
    "accuracy_train = mt.accuracy_score(y_train,pred_train)\n",
    "print(\"Accuracy - Train:\", accuracy_train) # 0.845833333333"
   ]
  },
  {
   "cell_type": "code",
   "execution_count": 112,
   "metadata": {},
   "outputs": [
    {
     "name": "stdout",
     "output_type": "stream",
     "text": [
      "             precision    recall  f1-score   support\n",
      "\n",
      "          0      0.969     0.969     0.969       160\n",
      "          1      0.938     0.938     0.938        80\n",
      "\n",
      "avg / total      0.958     0.958     0.958       240\n",
      "\n"
     ]
    }
   ],
   "source": [
    "print(mt.classification_report(y_train,pred_train,digits = 3))"
   ]
  },
  {
   "cell_type": "code",
   "execution_count": 113,
   "metadata": {},
   "outputs": [
    {
     "name": "stdout",
     "output_type": "stream",
     "text": [
      "ROC AUC: 0.9938\n"
     ]
    },
    {
     "data": {
      "image/png": "[encoded data removed]",
      "text/plain": [
       "<matplotlib.figure.Figure at 0x7d8d873978>"
      ]
     },
     "metadata": {},
     "output_type": "display_data"
    }
   ],
   "source": [
    "graficar_roc(y_train,pred_proba_train) # 0.9170"
   ]
  },
  {
   "cell_type": "code",
   "execution_count": 114,
   "metadata": {},
   "outputs": [
    {
     "name": "stdout",
     "output_type": "stream",
     "text": [
      "Metricas del testing...\n"
     ]
    }
   ],
   "source": [
    "# Sobre el testing Data\n",
    "print(\"Metricas del testing...\")"
   ]
  },
  {
   "cell_type": "code",
   "execution_count": 115,
   "metadata": {},
   "outputs": [
    {
     "name": "stdout",
     "output_type": "stream",
     "text": [
      "        Pred_0  Pred_1\n",
      "Real_0      94       3\n",
      "Real_1      13      50\n"
     ]
    }
   ],
   "source": [
    "matriz_conf = mt.confusion_matrix(y_test,pred_test)\n",
    "print_mc(matriz_conf)"
   ]
  },
  {
   "cell_type": "code",
   "execution_count": 116,
   "metadata": {},
   "outputs": [
    {
     "name": "stdout",
     "output_type": "stream",
     "text": [
      "Accuracy - test: 0.9\n"
     ]
    }
   ],
   "source": [
    "accuracy_test = mt.accuracy_score(y_test,pred_test)\n",
    "print(\"Accuracy - test:\", accuracy_test) # 0.8375"
   ]
  },
  {
   "cell_type": "code",
   "execution_count": 117,
   "metadata": {},
   "outputs": [
    {
     "name": "stdout",
     "output_type": "stream",
     "text": [
      "             precision    recall  f1-score   support\n",
      "\n",
      "          0      0.879     0.969     0.922        97\n",
      "          1      0.943     0.794     0.862        63\n",
      "\n",
      "avg / total      0.904     0.900     0.898       160\n",
      "\n"
     ]
    }
   ],
   "source": [
    "print(mt.classification_report(y_test,pred_test,digits = 3))"
   ]
  },
  {
   "cell_type": "code",
   "execution_count": 118,
   "metadata": {},
   "outputs": [
    {
     "name": "stdout",
     "output_type": "stream",
     "text": [
      "ROC AUC: 0.9815\n"
     ]
    },
    {
     "data": {
      "image/png": "[encoded data removed]",
      "text/plain": [
       "<matplotlib.figure.Figure at 0x7d8d652128>"
      ]
     },
     "metadata": {},
     "output_type": "display_data"
    }
   ],
   "source": [
    "graficar_roc(y_test,pred_proba_test) # 0.9514"
   ]
  },
  {
   "cell_type": "markdown",
   "metadata": {},
   "source": [
    "### 5.1.3 Variables Importantes"
   ]
  },
  {
   "cell_type": "code",
   "execution_count": 119,
   "metadata": {
    "collapsed": true
   },
   "outputs": [],
   "source": [
    "features = pd.DataFrame()\n",
    "features['feature'] = X_train.columns\n",
    "features['importance'] = model.feature_importances_"
   ]
  },
  {
   "cell_type": "code",
   "execution_count": 120,
   "metadata": {
    "scrolled": true
   },
   "outputs": [
    {
     "data": {
      "text/html": [
       "<div>\n",
       "<style>\n",
       "    .dataframe thead tr:only-child th {\n",
       "        text-align: right;\n",
       "    }\n",
       "\n",
       "    .dataframe thead th {\n",
       "        text-align: left;\n",
       "    }\n",
       "\n",
       "    .dataframe tbody tr th {\n",
       "        vertical-align: top;\n",
       "    }\n",
       "</style>\n",
       "<table border=\"1\" class=\"dataframe\">\n",
       "  <thead>\n",
       "    <tr style=\"text-align: right;\">\n",
       "      <th></th>\n",
       "      <th>feature</th>\n",
       "      <th>importance</th>\n",
       "    </tr>\n",
       "  </thead>\n",
       "  <tbody>\n",
       "    <tr>\n",
       "      <th>0</th>\n",
       "      <td>EDAD</td>\n",
       "      <td>0.497732</td>\n",
       "    </tr>\n",
       "    <tr>\n",
       "      <th>1</th>\n",
       "      <td>INGRESOS</td>\n",
       "      <td>0.385549</td>\n",
       "    </tr>\n",
       "    <tr>\n",
       "      <th>2</th>\n",
       "      <td>EDAD_RANGO</td>\n",
       "      <td>0.057010</td>\n",
       "    </tr>\n",
       "    <tr>\n",
       "      <th>3</th>\n",
       "      <td>ESTADOCIVIL_D</td>\n",
       "      <td>0.022905</td>\n",
       "    </tr>\n",
       "    <tr>\n",
       "      <th>4</th>\n",
       "      <td>SEXO</td>\n",
       "      <td>0.017808</td>\n",
       "    </tr>\n",
       "    <tr>\n",
       "      <th>5</th>\n",
       "      <td>ESTADOCIVIL_S</td>\n",
       "      <td>0.011853</td>\n",
       "    </tr>\n",
       "    <tr>\n",
       "      <th>6</th>\n",
       "      <td>ESTADOCIVIL_C</td>\n",
       "      <td>0.007143</td>\n",
       "    </tr>\n",
       "  </tbody>\n",
       "</table>\n",
       "</div>"
      ],
      "text/plain": [
       "         feature  importance\n",
       "0           EDAD    0.497732\n",
       "1       INGRESOS    0.385549\n",
       "2     EDAD_RANGO    0.057010\n",
       "3  ESTADOCIVIL_D    0.022905\n",
       "4           SEXO    0.017808\n",
       "5  ESTADOCIVIL_S    0.011853\n",
       "6  ESTADOCIVIL_C    0.007143"
      ]
     },
     "execution_count": 120,
     "metadata": {},
     "output_type": "execute_result"
    }
   ],
   "source": [
    "ftrs = features.sort_values(by = ['importance','feature'],ascending=False)\n",
    "ftrs = ftrs.reset_index(drop = True)\n",
    "ftrs"
   ]
  },
  {
   "cell_type": "code",
   "execution_count": 121,
   "metadata": {
    "collapsed": true
   },
   "outputs": [],
   "source": [
    "import seaborn as sns\n",
    "import matplotlib.pyplot as plt\n",
    "\n",
    "%matplotlib inline"
   ]
  },
  {
   "cell_type": "code",
   "execution_count": 122,
   "metadata": {},
   "outputs": [
    {
     "data": {
      "image/png": "[encoded data removed]",
      "text/plain": [
       "<matplotlib.figure.Figure at 0x7d8da2db38>"
      ]
     },
     "metadata": {},
     "output_type": "display_data"
    }
   ],
   "source": [
    "fig, ax = plt.subplots(nrows=1, ncols=1, figsize=(10, 5))\n",
    "g = sns.barplot(x='feature', y='importance', data=ftrs, order=ftrs['feature'], ax=ax, palette='BuGn_r')"
   ]
  },
  {
   "cell_type": "code",
   "execution_count": null,
   "metadata": {
    "collapsed": true
   },
   "outputs": [],
   "source": []
  },
  {
   "cell_type": "code",
   "execution_count": null,
   "metadata": {},
   "outputs": [],
   "source": []
  },
  {
   "cell_type": "markdown",
   "metadata": {},
   "source": [
    "## 5.2 GRADIENT BOOSTING MACHINE"
   ]
  },
  {
   "cell_type": "markdown",
   "metadata": {},
   "source": [
    "### 5.2.1 Entrenamiento y Predicción"
   ]
  },
  {
   "cell_type": "code",
   "execution_count": 123,
   "metadata": {
    "collapsed": true
   },
   "outputs": [],
   "source": [
    "from sklearn.ensemble import GradientBoostingClassifier"
   ]
  },
  {
   "cell_type": "code",
   "execution_count": 124,
   "metadata": {
    "collapsed": true
   },
   "outputs": [],
   "source": [
    "# Crear objeto modelo (Instanciar)\n",
    "model_gbm = GradientBoostingClassifier(max_depth=4, n_estimators= 50, random_state=100 , max_features = 5)"
   ]
  },
  {
   "cell_type": "code",
   "execution_count": 125,
   "metadata": {},
   "outputs": [],
   "source": [
    "# Entrenar (ajustar) el modelo:\n",
    "model = model_gbm.fit(X_train,y_train)"
   ]
  },
  {
   "cell_type": "code",
   "execution_count": 126,
   "metadata": {
    "collapsed": true
   },
   "outputs": [],
   "source": [
    "# Generar las predicciones:\n",
    "pred_train = model.predict(X_train)\n",
    "pred_test = model.predict(X_test)\n",
    "\n",
    "# Generar las probabilidades\n",
    "pred_proba_train = model.predict_proba(X_train)\n",
    "pred_proba_test = model.predict_proba(X_test)"
   ]
  },
  {
   "cell_type": "markdown",
   "metadata": {},
   "source": [
    "### 5.2.2 Evaluación del Modelo"
   ]
  },
  {
   "cell_type": "code",
   "execution_count": 127,
   "metadata": {
    "collapsed": true
   },
   "outputs": [],
   "source": [
    "from sklearn import metrics as mt"
   ]
  },
  {
   "cell_type": "code",
   "execution_count": 128,
   "metadata": {},
   "outputs": [
    {
     "name": "stdout",
     "output_type": "stream",
     "text": [
      "Metricas del Training...\n"
     ]
    }
   ],
   "source": [
    "# Sobre el Training Data\n",
    "print(\"Metricas del Training...\")"
   ]
  },
  {
   "cell_type": "code",
   "execution_count": 129,
   "metadata": {},
   "outputs": [
    {
     "name": "stdout",
     "output_type": "stream",
     "text": [
      "        Pred_0  Pred_1\n",
      "Real_0     160       0\n",
      "Real_1       4      76\n"
     ]
    }
   ],
   "source": [
    "matriz_conf = mt.confusion_matrix(y_train,pred_train)\n",
    "print_mc(matriz_conf)"
   ]
  },
  {
   "cell_type": "code",
   "execution_count": 130,
   "metadata": {},
   "outputs": [
    {
     "name": "stdout",
     "output_type": "stream",
     "text": [
      "Accuracy - Train: 0.983333333333\n"
     ]
    }
   ],
   "source": [
    "accuracy_train = mt.accuracy_score(y_train,pred_train)\n",
    "print(\"Accuracy - Train:\", accuracy_train) # 0.845833333333"
   ]
  },
  {
   "cell_type": "code",
   "execution_count": 131,
   "metadata": {},
   "outputs": [
    {
     "name": "stdout",
     "output_type": "stream",
     "text": [
      "             precision    recall  f1-score   support\n",
      "\n",
      "          0      0.976     1.000     0.988       160\n",
      "          1      1.000     0.950     0.974        80\n",
      "\n",
      "avg / total      0.984     0.983     0.983       240\n",
      "\n"
     ]
    }
   ],
   "source": [
    "print(mt.classification_report(y_train,pred_train,digits = 3))"
   ]
  },
  {
   "cell_type": "code",
   "execution_count": 132,
   "metadata": {},
   "outputs": [
    {
     "name": "stdout",
     "output_type": "stream",
     "text": [
      "ROC AUC: 0.9993\n"
     ]
    },
    {
     "data": {
      "image/png": "[encoded data removed]",
      "text/plain": [
       "<matplotlib.figure.Figure at 0x7d8dc4f128>"
      ]
     },
     "metadata": {},
     "output_type": "display_data"
    }
   ],
   "source": [
    "graficar_roc(y_train,pred_proba_train) # 0.9170"
   ]
  },
  {
   "cell_type": "code",
   "execution_count": 133,
   "metadata": {},
   "outputs": [
    {
     "name": "stdout",
     "output_type": "stream",
     "text": [
      "Metricas del testing...\n"
     ]
    }
   ],
   "source": [
    "# Sobre el testing Data\n",
    "print(\"Metricas del testing...\")"
   ]
  },
  {
   "cell_type": "code",
   "execution_count": 134,
   "metadata": {},
   "outputs": [
    {
     "name": "stdout",
     "output_type": "stream",
     "text": [
      "        Pred_0  Pred_1\n",
      "Real_0      95       2\n",
      "Real_1      10      53\n"
     ]
    }
   ],
   "source": [
    "matriz_conf = mt.confusion_matrix(y_test,pred_test)\n",
    "print_mc(matriz_conf)"
   ]
  },
  {
   "cell_type": "code",
   "execution_count": 135,
   "metadata": {},
   "outputs": [
    {
     "name": "stdout",
     "output_type": "stream",
     "text": [
      "Accuracy - test: 0.925\n"
     ]
    }
   ],
   "source": [
    "accuracy_test = mt.accuracy_score(y_test,pred_test)\n",
    "print(\"Accuracy - test:\", accuracy_test) # 0.8375"
   ]
  },
  {
   "cell_type": "code",
   "execution_count": 136,
   "metadata": {},
   "outputs": [
    {
     "name": "stdout",
     "output_type": "stream",
     "text": [
      "             precision    recall  f1-score   support\n",
      "\n",
      "          0      0.905     0.979     0.941        97\n",
      "          1      0.964     0.841     0.898        63\n",
      "\n",
      "avg / total      0.928     0.925     0.924       160\n",
      "\n"
     ]
    }
   ],
   "source": [
    "print(mt.classification_report(y_test,pred_test,digits = 3))"
   ]
  },
  {
   "cell_type": "code",
   "execution_count": 137,
   "metadata": {},
   "outputs": [
    {
     "name": "stdout",
     "output_type": "stream",
     "text": [
      "ROC AUC: 0.9872\n"
     ]
    },
    {
     "data": {
      "image/png": "[encoded data removed]",
      "text/plain": [
       "<matplotlib.figure.Figure at 0x7d8db661d0>"
      ]
     },
     "metadata": {},
     "output_type": "display_data"
    }
   ],
   "source": [
    "graficar_roc(y_test,pred_proba_test) # 0.9514"
   ]
  },
  {
   "cell_type": "markdown",
   "metadata": {},
   "source": [
    "### 5.1.3 Variables Importantes"
   ]
  },
  {
   "cell_type": "code",
   "execution_count": 138,
   "metadata": {
    "collapsed": true
   },
   "outputs": [],
   "source": [
    "features = pd.DataFrame()\n",
    "features['feature'] = X_train.columns\n",
    "features['importance'] = model.feature_importances_"
   ]
  },
  {
   "cell_type": "code",
   "execution_count": 139,
   "metadata": {
    "scrolled": true
   },
   "outputs": [
    {
     "data": {
      "text/html": [
       "<div>\n",
       "<style>\n",
       "    .dataframe thead tr:only-child th {\n",
       "        text-align: right;\n",
       "    }\n",
       "\n",
       "    .dataframe thead th {\n",
       "        text-align: left;\n",
       "    }\n",
       "\n",
       "    .dataframe tbody tr th {\n",
       "        vertical-align: top;\n",
       "    }\n",
       "</style>\n",
       "<table border=\"1\" class=\"dataframe\">\n",
       "  <thead>\n",
       "    <tr style=\"text-align: right;\">\n",
       "      <th></th>\n",
       "      <th>feature</th>\n",
       "      <th>importance</th>\n",
       "    </tr>\n",
       "  </thead>\n",
       "  <tbody>\n",
       "    <tr>\n",
       "      <th>0</th>\n",
       "      <td>INGRESOS</td>\n",
       "      <td>0.545495</td>\n",
       "    </tr>\n",
       "    <tr>\n",
       "      <th>1</th>\n",
       "      <td>EDAD</td>\n",
       "      <td>0.322131</td>\n",
       "    </tr>\n",
       "    <tr>\n",
       "      <th>2</th>\n",
       "      <td>EDAD_RANGO</td>\n",
       "      <td>0.041674</td>\n",
       "    </tr>\n",
       "    <tr>\n",
       "      <th>3</th>\n",
       "      <td>SEXO</td>\n",
       "      <td>0.033059</td>\n",
       "    </tr>\n",
       "    <tr>\n",
       "      <th>4</th>\n",
       "      <td>ESTADOCIVIL_S</td>\n",
       "      <td>0.029248</td>\n",
       "    </tr>\n",
       "    <tr>\n",
       "      <th>5</th>\n",
       "      <td>ESTADOCIVIL_D</td>\n",
       "      <td>0.015920</td>\n",
       "    </tr>\n",
       "    <tr>\n",
       "      <th>6</th>\n",
       "      <td>ESTADOCIVIL_C</td>\n",
       "      <td>0.012473</td>\n",
       "    </tr>\n",
       "  </tbody>\n",
       "</table>\n",
       "</div>"
      ],
      "text/plain": [
       "         feature  importance\n",
       "0       INGRESOS    0.545495\n",
       "1           EDAD    0.322131\n",
       "2     EDAD_RANGO    0.041674\n",
       "3           SEXO    0.033059\n",
       "4  ESTADOCIVIL_S    0.029248\n",
       "5  ESTADOCIVIL_D    0.015920\n",
       "6  ESTADOCIVIL_C    0.012473"
      ]
     },
     "execution_count": 139,
     "metadata": {},
     "output_type": "execute_result"
    }
   ],
   "source": [
    "ftrs = features.sort_values(by = ['importance','feature'],ascending=False)\n",
    "ftrs = ftrs.reset_index(drop = True)\n",
    "ftrs"
   ]
  },
  {
   "cell_type": "code",
   "execution_count": 140,
   "metadata": {
    "collapsed": true
   },
   "outputs": [],
   "source": [
    "import seaborn as sns\n",
    "import matplotlib.pyplot as plt\n",
    "\n",
    "%matplotlib inline"
   ]
  },
  {
   "cell_type": "code",
   "execution_count": 141,
   "metadata": {},
   "outputs": [
    {
     "data": {
      "image/png": "[encoded data removed]",
      "text/plain": [
       "<matplotlib.figure.Figure at 0x7d8dbbccc0>"
      ]
     },
     "metadata": {},
     "output_type": "display_data"
    }
   ],
   "source": [
    "fig, ax = plt.subplots(nrows=1, ncols=1, figsize=(10, 5))\n",
    "g = sns.barplot(x='feature', y='importance', data=ftrs, order=ftrs['feature'], ax=ax, palette='BuGn_r')"
   ]
  },
  {
   "cell_type": "code",
   "execution_count": null,
   "metadata": {
    "collapsed": true
   },
   "outputs": [],
   "source": []
  },
  {
   "cell_type": "markdown",
   "metadata": {},
   "source": [
    "# Croos Validation"
   ]
  },
  {
   "cell_type": "code",
   "execution_count": null,
   "metadata": {
    "collapsed": true
   },
   "outputs": [],
   "source": [
    "X_train_cv = X_train.copy()\n",
    "y_train_cv = y_train.copy()"
   ]
  },
  {
   "cell_type": "code",
   "execution_count": null,
   "metadata": {
    "collapsed": true
   },
   "outputs": [],
   "source": [
    "# Instanciar Modelo Base:\n",
    "from sklearn.ensemble import RandomForestClassifier\n",
    "model_rf = RandomForestClassifier(max_depth=5, n_estimators= 50, random_state=100 , max_features = 5)"
   ]
  },
  {
   "cell_type": "code",
   "execution_count": null,
   "metadata": {
    "collapsed": true
   },
   "outputs": [],
   "source": [
    "# Cros Validation\n",
    "from sklearn.base import clone\n",
    "from sklearn import cross_validation\n",
    "from sklearn.metrics import roc_auc_score\n",
    "k = 5 # n folds\n",
    "metric = 'roc_auc' # métrica que nosotros usaremos para evaluar cv score\n",
    "\n",
    "cv = cross_validation.KFold(len(X_train_cv), n_folds=k, random_state = 123, shuffle = True)\n",
    "#cv = cross_validation.StratifiedKFold(y_train_cv, n_folds=k, random_state = 851, shuffle = True) # 16\n",
    "\n",
    "results_train = []\n",
    "results_test = []\n",
    "list_models = [] "
   ]
  },
  {
   "cell_type": "code",
   "execution_count": null,
   "metadata": {
    "scrolled": true
   },
   "outputs": [],
   "source": [
    "i = 1\n",
    "for traincv, testcv in cv:\n",
    "    model = clone(model_rf)\n",
    "    # Entrenar el modelo\n",
    "    model = model.fit(X_train_cv.values[traincv], y_train_cv[traincv])\n",
    "    # Calcular probabilidades\n",
    "    probas_train = model.predict_proba(X_train_cv.values[traincv])[:,1]\n",
    "    probas_test = model.predict_proba(X_train_cv.values[testcv])[:,1]\n",
    "    # Calcular indicadores\n",
    "    metric_train = roc_auc_score(y_train_cv[traincv],probas_train)\n",
    "    metric_test = roc_auc_score(y_train_cv[testcv],probas_test)\n",
    "    # Almacenar metricas y modelos\n",
    "    results_train.append(metric_train)\n",
    "    results_test.append(metric_test)\n",
    "    list_models.append(model)\n",
    "    \n",
    "    print(\"Ok - \",str(i),\": \", str(round(metric_train,6)), str(round(metric_test,6)))\n",
    "    print(\"Mean Target: \", str(round(y_train_cv[traincv].mean(),4)), str(round(y_train_cv[testcv].mean(),4)))\n",
    "\n",
    "    i = i + 1\n",
    "\n",
    "result_final_train = np.mean(results_train)\n",
    "result_final_test = np.mean(results_test)\n",
    "\n",
    "print(\"CV roc - train :\",result_final_train)\n",
    "print(\"CV roc - test  :\",result_final_test)"
   ]
  },
  {
   "cell_type": "markdown",
   "metadata": {},
   "source": [
    "#### Calcular las predicciones sobre el X_test .."
   ]
  },
  {
   "cell_type": "code",
   "execution_count": null,
   "metadata": {},
   "outputs": [],
   "source": [
    "df_probas_subm = pd.DataFrame()\n",
    "i = 1\n",
    "for model in list_models:\n",
    "    probas_tmp = model.predict_proba(X_test)[:,1]\n",
    "    df_probas_subm[\"model\"+str(i)] = probas_tmp\n",
    "    i += 1"
   ]
  },
  {
   "cell_type": "code",
   "execution_count": null,
   "metadata": {},
   "outputs": [],
   "source": [
    "df_probas_subm.head()"
   ]
  },
  {
   "cell_type": "code",
   "execution_count": null,
   "metadata": {
    "scrolled": true
   },
   "outputs": [],
   "source": [
    "y_probas_subm = df_probas_subm.apply(np.mean, axis = 1)\n",
    "y_probas_subm"
   ]
  },
  {
   "cell_type": "code",
   "execution_count": null,
   "metadata": {},
   "outputs": [],
   "source": [
    "roc_auc_score(y_test,y_probas_subm)"
   ]
  },
  {
   "cell_type": "code",
   "execution_count": null,
   "metadata": {
    "collapsed": true
   },
   "outputs": [],
   "source": []
  },
  {
   "cell_type": "markdown",
   "metadata": {},
   "source": [
    "# Stacking Ensembling"
   ]
  },
  {
   "cell_type": "code",
   "execution_count": 142,
   "metadata": {},
   "outputs": [],
   "source": [
    "model_regl = LogisticRegression()\n",
    "model_rf = RandomForestClassifier(max_depth=5, n_estimators= 50, random_state=100 , max_features = 5)\n",
    "model_gbm = GradientBoostingClassifier(max_depth=4, n_estimators= 50, random_state=100 , max_features = 5)"
   ]
  },
  {
   "cell_type": "code",
   "execution_count": 160,
   "metadata": {},
   "outputs": [],
   "source": [
    "model_regl = model_regl.fit(X_train,y_train)\n",
    "model_rf = model_rf.fit(X_train,y_train)\n",
    "model_gbm = model_gbm.fit(X_train,y_train)"
   ]
  },
  {
   "cell_type": "code",
   "execution_count": 144,
   "metadata": {
    "collapsed": true
   },
   "outputs": [],
   "source": [
    "# Probabilidades\n",
    "pred_proba_test_regl = model_regl.predict_proba(X_test)[:,1]\n",
    "pred_proba_test_rf = model_rf.predict_proba(X_test)[:,1]\n",
    "pred_proba_test_gbm = model_gbm.predict_proba(X_test)[:,1]"
   ]
  },
  {
   "cell_type": "code",
   "execution_count": 153,
   "metadata": {
    "scrolled": true
   },
   "outputs": [],
   "source": [
    "roc_regl = mt.roc_auc_score(y_test,pred_proba_test_regl)\n",
    "roc_rf = mt.roc_auc_score(y_test,pred_proba_test_rf)\n",
    "roc_gbm = mt.roc_auc_score(y_test,pred_proba_test_gbm)"
   ]
  },
  {
   "cell_type": "code",
   "execution_count": 158,
   "metadata": {},
   "outputs": [
    {
     "name": "stdout",
     "output_type": "stream",
     "text": [
      "REG LOG:  0.950908198331\n",
      "RF:       0.981508754705\n",
      "GBM:      0.987154311897\n"
     ]
    }
   ],
   "source": [
    "print(\"REG LOG: \",roc_regl)\n",
    "print(\"RF:      \",roc_rf)\n",
    "print(\"GBM:     \",roc_gbm)"
   ]
  },
  {
   "cell_type": "code",
   "execution_count": null,
   "metadata": {
    "collapsed": true
   },
   "outputs": [],
   "source": []
  },
  {
   "cell_type": "code",
   "execution_count": null,
   "metadata": {
    "collapsed": true
   },
   "outputs": [],
   "source": []
  },
  {
   "cell_type": "code",
   "execution_count": null,
   "metadata": {
    "collapsed": true
   },
   "outputs": [],
   "source": []
  },
  {
   "cell_type": "code",
   "execution_count": null,
   "metadata": {
    "collapsed": true
   },
   "outputs": [],
   "source": []
  },
  {
   "cell_type": "code",
   "execution_count": null,
   "metadata": {
    "collapsed": true
   },
   "outputs": [],
   "source": []
  }
 ],
 "metadata": {
  "kernelspec": {
   "display_name": "Python 3",
   "language": "python",
   "name": "python3"
  },
  "language_info": {
   "codemirror_mode": {
    "name": "ipython",
    "version": 3
   },
   "file_extension": ".py",
   "mimetype": "text/x-python",
   "name": "python",
   "nbconvert_exporter": "python",
   "pygments_lexer": "ipython3",
   "version": "3.6.4"
  }
 },
 "nbformat": 4,
 "nbformat_minor": 2
}
