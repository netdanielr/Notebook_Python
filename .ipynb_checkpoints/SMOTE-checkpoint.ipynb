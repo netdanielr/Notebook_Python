{
 "cells": [
  {
   "cell_type": "markdown",
   "metadata": {},
   "source": [
    "## SMOTE\n",
    "\n",
    "Tecnica de OVERSAMPLING"
   ]
  },
  {
   "cell_type": "code",
   "execution_count": 1,
   "metadata": {
    "collapsed": true
   },
   "outputs": [],
   "source": [
    "import pandas as pd\n"
   ]
  },
  {
   "cell_type": "code",
   "execution_count": 3,
   "metadata": {},
   "outputs": [],
   "source": [
    "dataset = pd.read_csv(\"DS_Credito Hipotecario_Sin_Nulls_Solo_Numeros.csv\")"
   ]
  },
  {
   "cell_type": "code",
   "execution_count": 4,
   "metadata": {},
   "outputs": [
    {
     "name": "stdout",
     "output_type": "stream",
     "text": [
      "<class 'pandas.core.frame.DataFrame'>\n",
      "RangeIndex: 434 entries, 0 to 433\n",
      "Data columns (total 5 columns):\n",
      "INGRESOS_SOLICITANTE      434 non-null int64\n",
      "INGRESOS_COSOLICITANTE    434 non-null float64\n",
      "MONTO_PRESTAMO_MILES      434 non-null int64\n",
      "PLAZO_PRESTAMO_MESES      434 non-null int64\n",
      "FLAG_CRED_HIPO            434 non-null object\n",
      "dtypes: float64(1), int64(3), object(1)\n",
      "memory usage: 17.0+ KB\n"
     ]
    }
   ],
   "source": [
    "dataset.info()"
   ]
  },
  {
   "cell_type": "code",
   "execution_count": 5,
   "metadata": {},
   "outputs": [
    {
     "data": {
      "text/plain": [
       "FLAG_CRED_HIPO\n",
       "N    131\n",
       "Y    303\n",
       "dtype: int64"
      ]
     },
     "execution_count": 5,
     "metadata": {},
     "output_type": "execute_result"
    }
   ],
   "source": [
    "dataset.groupby(\"FLAG_CRED_HIPO\").agg(\"size\")"
   ]
  },
  {
   "cell_type": "code",
   "execution_count": 10,
   "metadata": {
    "collapsed": true
   },
   "outputs": [],
   "source": [
    "import seaborn as sns\n",
    "\n",
    "## da visualizacion a las librerias de ploteo en jupyter\n",
    "%matplotlib inline"
   ]
  },
  {
   "cell_type": "code",
   "execution_count": 9,
   "metadata": {},
   "outputs": [
    {
     "data": {
      "text/plain": [
       "<matplotlib.axes._subplots.AxesSubplot at 0xa8a1e80>"
      ]
     },
     "execution_count": 9,
     "metadata": {},
     "output_type": "execute_result"
    },
    {
     "data": {
      "image/png": "[encoded data removed]",
      "text/plain": [
       "<matplotlib.figure.Figure at 0xa8ddbe0>"
      ]
     },
     "metadata": {},
     "output_type": "display_data"
    }
   ],
   "source": [
    "sns.countplot(x=\"FLAG_CRED_HIPO\" ,  data = dataset)"
   ]
  },
  {
   "cell_type": "code",
   "execution_count": 14,
   "metadata": {},
   "outputs": [],
   "source": [
    "## La clase minoritaria es \"N\"\n",
    "\n",
    "t = dataset[[\"FLAG_CRED_HIPO\"]]\n",
    "n_samples = t.shape[0]\n",
    "n_samples_Y = (t==\"Y\").sum()\n",
    "n_samples_N = (t==\"N\").sum()\n"
   ]
  },
  {
   "cell_type": "code",
   "execution_count": 15,
   "metadata": {},
   "outputs": [
    {
     "data": {
      "text/plain": [
       "FLAG_CRED_HIPO    172.0\n",
       "dtype: float64"
      ]
     },
     "execution_count": 15,
     "metadata": {},
     "output_type": "execute_result"
    }
   ],
   "source": [
    "n_samples_N_new = 0.50*n_samples_Y/(0.5) - n_samples_N\n",
    "n_samples_N_new"
   ]
  },
  {
   "cell_type": "code",
   "execution_count": 17,
   "metadata": {
    "collapsed": true
   },
   "outputs": [],
   "source": [
    "# seleccionando los puntos base para nueva data de SMOTE\n",
    "sel_ = dataset.loc[dataset[\"FLAG_CRED_HIPO\"] == \"N\"].iloc[: , :-1].sample(n = int(n_samples_N_new) , replace = True , random_state = 10)"
   ]
  },
  {
   "cell_type": "code",
   "execution_count": 25,
   "metadata": {},
   "outputs": [
    {
     "data": {
      "text/html": [
       "<div>\n",
       "<style>\n",
       "    .dataframe thead tr:only-child th {\n",
       "        text-align: right;\n",
       "    }\n",
       "\n",
       "    .dataframe thead th {\n",
       "        text-align: left;\n",
       "    }\n",
       "\n",
       "    .dataframe tbody tr th {\n",
       "        vertical-align: top;\n",
       "    }\n",
       "</style>\n",
       "<table border=\"1\" class=\"dataframe\">\n",
       "  <thead>\n",
       "    <tr style=\"text-align: right;\">\n",
       "      <th></th>\n",
       "      <th>FLAG_CRED_HIPO</th>\n",
       "      <th>INGRESOS_COSOLICITANTE</th>\n",
       "      <th>INGRESOS_SOLICITANTE</th>\n",
       "      <th>MONTO_PRESTAMO_MILES</th>\n",
       "      <th>PLAZO_PRESTAMO_MESES</th>\n",
       "    </tr>\n",
       "  </thead>\n",
       "  <tbody>\n",
       "    <tr>\n",
       "      <th>0</th>\n",
       "      <td>N</td>\n",
       "      <td>1508.0</td>\n",
       "      <td>4583.0</td>\n",
       "      <td>128.0</td>\n",
       "      <td>360</td>\n",
       "    </tr>\n",
       "    <tr>\n",
       "      <th>1</th>\n",
       "      <td>Y</td>\n",
       "      <td>0.0</td>\n",
       "      <td>3000.0</td>\n",
       "      <td>66.0</td>\n",
       "      <td>360</td>\n",
       "    </tr>\n",
       "    <tr>\n",
       "      <th>2</th>\n",
       "      <td>Y</td>\n",
       "      <td>2358.0</td>\n",
       "      <td>2583.0</td>\n",
       "      <td>120.0</td>\n",
       "      <td>360</td>\n",
       "    </tr>\n",
       "    <tr>\n",
       "      <th>3</th>\n",
       "      <td>Y</td>\n",
       "      <td>0.0</td>\n",
       "      <td>6000.0</td>\n",
       "      <td>141.0</td>\n",
       "      <td>360</td>\n",
       "    </tr>\n",
       "    <tr>\n",
       "      <th>4</th>\n",
       "      <td>Y</td>\n",
       "      <td>4196.0</td>\n",
       "      <td>5417.0</td>\n",
       "      <td>267.0</td>\n",
       "      <td>360</td>\n",
       "    </tr>\n",
       "  </tbody>\n",
       "</table>\n",
       "</div>"
      ],
      "text/plain": [
       "  FLAG_CRED_HIPO  INGRESOS_COSOLICITANTE  INGRESOS_SOLICITANTE  \\\n",
       "0              N                  1508.0                4583.0   \n",
       "1              Y                     0.0                3000.0   \n",
       "2              Y                  2358.0                2583.0   \n",
       "3              Y                     0.0                6000.0   \n",
       "4              Y                  4196.0                5417.0   \n",
       "\n",
       "   MONTO_PRESTAMO_MILES  PLAZO_PRESTAMO_MESES  \n",
       "0                 128.0                   360  \n",
       "1                  66.0                   360  \n",
       "2                 120.0                   360  \n",
       "3                 141.0                   360  \n",
       "4                 267.0                   360  "
      ]
     },
     "execution_count": 25,
     "metadata": {},
     "output_type": "execute_result"
    }
   ],
   "source": [
    "import numpy as np\n",
    "import random\n",
    "# randoms para generacion de nueva data (p1-o---------o-rnd-----o-p2)\n",
    "steps = np.random.uniform(size = int(n_samples_N_new[0]))\n",
    "\n",
    "# funcion para seleccionar un row aleatorio de un dataframe\n",
    "def random_row_df(df):\n",
    "    index_random = random.choice(range(len(df)))\n",
    "    i = 0\n",
    "    for index,row in df.iterrows():\n",
    "        if i==index_random:\n",
    "            d = {}\n",
    "            indexs = row.index.tolist()\n",
    "            values = row.values.tolist()\n",
    "            for j in range(len(indexs)):\n",
    "                d[indexs[j]] = [values[j]]\n",
    "            df_row = pd.DataFrame(d)\n",
    "            break\n",
    "        i = i + 1\n",
    "    return df_row\n",
    "    \n",
    "# generacion de nueva data (rows) con SMOTE\n",
    "\n",
    "i=0\n",
    "df_news = None\n",
    "for index , row in sel_.iterrows():\n",
    "    d = {}\n",
    "    indexs = row.index.tolist()\n",
    "    values = row.values.tolist()\n",
    "    for j in range(len(indexs)):\n",
    "        d[indexs[j]] = [values [j]]\n",
    "    df_initial = pd.DataFrame(d)\n",
    "    \n",
    "    step = steps[i]\n",
    "    \n",
    "    #SMOTE\n",
    "    # df_new ES EL PUNTO SINTETICO Y TOMADO COMO MUESTRA DE \n",
    "    # LA CLASE MINORITARIA (N)\n",
    "    df_new = df_initial - step * (df_initial - random_row_df(sel_))\n",
    "    \n",
    "    #se concatena todos nuevos rows generados del SMOTE\n",
    "    df_news = pd.concat([df_news , df_new])\n",
    "    i = i +1 \n",
    "\n",
    "df_news[\"FLAG_CRED_HIPO\"] = \"N\"\n",
    "dataset_smoted = pd.concat([dataset , df_news])\n",
    "\n",
    "# reseto de indices\n",
    "dataset_smoted.reset_index(drop = True , inplace = True)\n",
    "\n",
    "# transformacion de columns a entero\n",
    "dataset_smoted[\"PLAZO_PRESTAMO_MESES\"] = dataset_smoted[\"PLAZO_PRESTAMO_MESES\"].astype(int)\n",
    "\n",
    "dataset_smoted.head()    "
   ]
  },
  {
   "cell_type": "code",
   "execution_count": 26,
   "metadata": {},
   "outputs": [
    {
     "name": "stdout",
     "output_type": "stream",
     "text": [
      "<class 'pandas.core.frame.DataFrame'>\n",
      "RangeIndex: 606 entries, 0 to 605\n",
      "Data columns (total 5 columns):\n",
      "FLAG_CRED_HIPO            606 non-null object\n",
      "INGRESOS_COSOLICITANTE    606 non-null float64\n",
      "INGRESOS_SOLICITANTE      606 non-null float64\n",
      "MONTO_PRESTAMO_MILES      606 non-null float64\n",
      "PLAZO_PRESTAMO_MESES      606 non-null int32\n",
      "dtypes: float64(3), int32(1), object(1)\n",
      "memory usage: 21.4+ KB\n"
     ]
    }
   ],
   "source": [
    "dataset_smoted.info()"
   ]
  },
  {
   "cell_type": "code",
   "execution_count": 27,
   "metadata": {},
   "outputs": [
    {
     "data": {
      "text/plain": [
       "FLAG_CRED_HIPO\n",
       "N    303\n",
       "Y    303\n",
       "dtype: int64"
      ]
     },
     "execution_count": 27,
     "metadata": {},
     "output_type": "execute_result"
    }
   ],
   "source": [
    "dataset_smoted.groupby(\"FLAG_CRED_HIPO\").agg(\"size\")"
   ]
  },
  {
   "cell_type": "code",
   "execution_count": 28,
   "metadata": {},
   "outputs": [
    {
     "data": {
      "text/plain": [
       "<matplotlib.axes._subplots.AxesSubplot at 0xba6a940>"
      ]
     },
     "execution_count": 28,
     "metadata": {},
     "output_type": "execute_result"
    },
    {
     "data": {
      "image/png": "[encoded data removed]",
      "text/plain": [
       "<matplotlib.figure.Figure at 0xa957438>"
      ]
     },
     "metadata": {},
     "output_type": "display_data"
    }
   ],
   "source": [
    "sns.countplot(x=\"FLAG_CRED_HIPO\" ,  data = dataset_smoted)"
   ]
  },
  {
   "cell_type": "code",
   "execution_count": null,
   "metadata": {
    "collapsed": true
   },
   "outputs": [],
   "source": []
  }
 ],
 "metadata": {
  "kernelspec": {
   "display_name": "Python 3",
   "language": "python",
   "name": "python3"
  },
  "language_info": {
   "codemirror_mode": {
    "name": "ipython",
    "version": 3
   },
   "file_extension": ".py",
   "mimetype": "text/x-python",
   "name": "python",
   "nbconvert_exporter": "python",
   "pygments_lexer": "ipython3",
   "version": "3.6.1"
  }
 },
 "nbformat": 4,
 "nbformat_minor": 2
}
