{
 "cells": [
  {
   "cell_type": "code",
   "execution_count": 1,
   "metadata": {},
   "outputs": [],
   "source": [
    "import numpy as np\n",
    "import pandas as pd\n",
    "from matplotlib import pyplot as plt\n",
    "import seaborn as sns\n",
    "%matplotlib inline"
   ]
  },
  {
   "cell_type": "code",
   "execution_count": 2,
   "metadata": {},
   "outputs": [],
   "source": [
    "#Carga de Archivos"
   ]
  },
  {
   "cell_type": "code",
   "execution_count": 3,
   "metadata": {
    "scrolled": true
   },
   "outputs": [
    {
     "name": "stdout",
     "output_type": "stream",
     "text": [
      "Rows and Columns in Train :  (58532, 8)\n",
      "Rows and Columns in Test :  (16746, 8)\n",
      "Rows and Columns in Health Camp Details :  (44, 6)\n",
      "Rows and Columns in Patient Profile :  (29828, 11)\n",
      "Rows and Columns in First Format Health Camp Attended :  (5491, 4)\n",
      "Rows and Columns in Second Format Health Camp Attended :  (3629, 3)\n",
      "Rows and Columns in Third Format Health Camp Attended :  (4343, 4)\n"
     ]
    }
   ],
   "source": [
    "train = pd.read_csv(\"dato\\Train.csv\",header=0, parse_dates=['Registration_Date'])\n",
    "test = pd.read_csv(\"dato\\Test.csv\",header=0, parse_dates=['Registration_Date'])\n",
    "campdetail = pd.read_csv(\"dato\\Health_Camp_Detail.csv\",header=0,parse_dates=['Camp_Start_Date','Camp_End_Date'])\n",
    "patient = pd.read_csv(\"dato\\Patient_Profile.csv\",header=0, parse_dates=['First_Interaction'])\n",
    "camp1 = pd.read_csv(\"dato\\First_Health_Camp_Attended.csv\")\n",
    "camp2 = pd.read_csv(\"dato\\Second_Health_Camp_Attended.csv\")\n",
    "camp3 = pd.read_csv(\"dato\\Third_Health_Camp_Attended.csv\")\n",
    "print (\"Rows and Columns in Train : \", train.shape)\n",
    "print (\"Rows and Columns in Test : \", test.shape)\n",
    "print (\"Rows and Columns in Health Camp Details : \", campdetail.shape)\n",
    "print (\"Rows and Columns in Patient Profile : \", patient.shape)\n",
    "print (\"Rows and Columns in First Format Health Camp Attended : \", camp1.shape)\n",
    "print (\"Rows and Columns in Second Format Health Camp Attended : \", camp2.shape)\n",
    "print (\"Rows and Columns in Third Format Health Camp Attended : \", camp3.shape)"
   ]
  },
  {
   "cell_type": "code",
   "execution_count": 4,
   "metadata": {},
   "outputs": [],
   "source": [
    "train['flagdata'] = train.apply(lambda row: 1,axis = 1)\n",
    "test['flagdata'] = test.apply(lambda row: 2,axis = 1)\n"
   ]
  },
  {
   "cell_type": "code",
   "execution_count": 5,
   "metadata": {},
   "outputs": [],
   "source": [
    "datatrain = pd.concat([train, test])"
   ]
  },
  {
   "cell_type": "code",
   "execution_count": 6,
   "metadata": {},
   "outputs": [],
   "source": [
    "datatrain['PatCamp_ID'] = datatrain[['Patient_ID', 'Health_Camp_ID']].apply(lambda x: '_'.join(x.astype(str)),axis=1)"
   ]
  },
  {
   "cell_type": "code",
   "execution_count": 7,
   "metadata": {},
   "outputs": [
    {
     "data": {
      "text/html": [
       "<div>\n",
       "<style scoped>\n",
       "    .dataframe tbody tr th:only-of-type {\n",
       "        vertical-align: middle;\n",
       "    }\n",
       "\n",
       "    .dataframe tbody tr th {\n",
       "        vertical-align: top;\n",
       "    }\n",
       "\n",
       "    .dataframe thead th {\n",
       "        text-align: right;\n",
       "    }\n",
       "</style>\n",
       "<table border=\"1\" class=\"dataframe\">\n",
       "  <thead>\n",
       "    <tr style=\"text-align: right;\">\n",
       "      <th></th>\n",
       "      <th>Patient_ID</th>\n",
       "      <th>Health_Camp_ID</th>\n",
       "      <th>Registration_Date</th>\n",
       "      <th>Var1</th>\n",
       "      <th>Var2</th>\n",
       "      <th>Var3</th>\n",
       "      <th>Var4</th>\n",
       "      <th>Var5</th>\n",
       "      <th>flagdata</th>\n",
       "      <th>PatCamp_ID</th>\n",
       "    </tr>\n",
       "  </thead>\n",
       "  <tbody>\n",
       "    <tr>\n",
       "      <th>0</th>\n",
       "      <td>489652</td>\n",
       "      <td>6578</td>\n",
       "      <td>2005-09-10</td>\n",
       "      <td>4</td>\n",
       "      <td>0</td>\n",
       "      <td>0</td>\n",
       "      <td>0</td>\n",
       "      <td>2</td>\n",
       "      <td>1</td>\n",
       "      <td>489652_6578</td>\n",
       "    </tr>\n",
       "    <tr>\n",
       "      <th>1</th>\n",
       "      <td>507246</td>\n",
       "      <td>6578</td>\n",
       "      <td>2005-08-18</td>\n",
       "      <td>45</td>\n",
       "      <td>5</td>\n",
       "      <td>0</td>\n",
       "      <td>0</td>\n",
       "      <td>7</td>\n",
       "      <td>1</td>\n",
       "      <td>507246_6578</td>\n",
       "    </tr>\n",
       "    <tr>\n",
       "      <th>2</th>\n",
       "      <td>524931</td>\n",
       "      <td>6535</td>\n",
       "      <td>2004-02-07</td>\n",
       "      <td>0</td>\n",
       "      <td>0</td>\n",
       "      <td>0</td>\n",
       "      <td>0</td>\n",
       "      <td>0</td>\n",
       "      <td>1</td>\n",
       "      <td>524931_6535</td>\n",
       "    </tr>\n",
       "    <tr>\n",
       "      <th>3</th>\n",
       "      <td>494493</td>\n",
       "      <td>6570</td>\n",
       "      <td>2005-05-20</td>\n",
       "      <td>0</td>\n",
       "      <td>0</td>\n",
       "      <td>0</td>\n",
       "      <td>0</td>\n",
       "      <td>0</td>\n",
       "      <td>1</td>\n",
       "      <td>494493_6570</td>\n",
       "    </tr>\n",
       "    <tr>\n",
       "      <th>4</th>\n",
       "      <td>523001</td>\n",
       "      <td>6562</td>\n",
       "      <td>2005-05-22</td>\n",
       "      <td>0</td>\n",
       "      <td>0</td>\n",
       "      <td>0</td>\n",
       "      <td>0</td>\n",
       "      <td>0</td>\n",
       "      <td>1</td>\n",
       "      <td>523001_6562</td>\n",
       "    </tr>\n",
       "  </tbody>\n",
       "</table>\n",
       "</div>"
      ],
      "text/plain": [
       "   Patient_ID  Health_Camp_ID Registration_Date  Var1  Var2  Var3  Var4  Var5  \\\n",
       "0      489652            6578        2005-09-10     4     0     0     0     2   \n",
       "1      507246            6578        2005-08-18    45     5     0     0     7   \n",
       "2      524931            6535        2004-02-07     0     0     0     0     0   \n",
       "3      494493            6570        2005-05-20     0     0     0     0     0   \n",
       "4      523001            6562        2005-05-22     0     0     0     0     0   \n",
       "\n",
       "   flagdata   PatCamp_ID  \n",
       "0         1  489652_6578  \n",
       "1         1  507246_6578  \n",
       "2         1  524931_6535  \n",
       "3         1  494493_6570  \n",
       "4         1  523001_6562  "
      ]
     },
     "execution_count": 7,
     "metadata": {},
     "output_type": "execute_result"
    }
   ],
   "source": [
    "datatrain.head()"
   ]
  },
  {
   "cell_type": "code",
   "execution_count": 8,
   "metadata": {},
   "outputs": [
    {
     "data": {
      "text/html": [
       "<div>\n",
       "<style scoped>\n",
       "    .dataframe tbody tr th:only-of-type {\n",
       "        vertical-align: middle;\n",
       "    }\n",
       "\n",
       "    .dataframe tbody tr th {\n",
       "        vertical-align: top;\n",
       "    }\n",
       "\n",
       "    .dataframe thead th {\n",
       "        text-align: right;\n",
       "    }\n",
       "</style>\n",
       "<table border=\"1\" class=\"dataframe\">\n",
       "  <thead>\n",
       "    <tr style=\"text-align: right;\">\n",
       "      <th></th>\n",
       "      <th>0</th>\n",
       "    </tr>\n",
       "  </thead>\n",
       "  <tbody>\n",
       "    <tr>\n",
       "      <th>Patient_ID</th>\n",
       "      <td>int64</td>\n",
       "    </tr>\n",
       "    <tr>\n",
       "      <th>Health_Camp_ID</th>\n",
       "      <td>int64</td>\n",
       "    </tr>\n",
       "    <tr>\n",
       "      <th>Registration_Date</th>\n",
       "      <td>datetime64[ns]</td>\n",
       "    </tr>\n",
       "    <tr>\n",
       "      <th>Var1</th>\n",
       "      <td>int64</td>\n",
       "    </tr>\n",
       "    <tr>\n",
       "      <th>Var2</th>\n",
       "      <td>int64</td>\n",
       "    </tr>\n",
       "    <tr>\n",
       "      <th>Var3</th>\n",
       "      <td>int64</td>\n",
       "    </tr>\n",
       "    <tr>\n",
       "      <th>Var4</th>\n",
       "      <td>int64</td>\n",
       "    </tr>\n",
       "    <tr>\n",
       "      <th>Var5</th>\n",
       "      <td>int64</td>\n",
       "    </tr>\n",
       "    <tr>\n",
       "      <th>flagdata</th>\n",
       "      <td>int64</td>\n",
       "    </tr>\n",
       "    <tr>\n",
       "      <th>PatCamp_ID</th>\n",
       "      <td>object</td>\n",
       "    </tr>\n",
       "  </tbody>\n",
       "</table>\n",
       "</div>"
      ],
      "text/plain": [
       "                                0\n",
       "Patient_ID                  int64\n",
       "Health_Camp_ID              int64\n",
       "Registration_Date  datetime64[ns]\n",
       "Var1                        int64\n",
       "Var2                        int64\n",
       "Var3                        int64\n",
       "Var4                        int64\n",
       "Var5                        int64\n",
       "flagdata                    int64\n",
       "PatCamp_ID                 object"
      ]
     },
     "execution_count": 8,
     "metadata": {},
     "output_type": "execute_result"
    }
   ],
   "source": [
    "pd.DataFrame(datatrain.dtypes)"
   ]
  },
  {
   "cell_type": "code",
   "execution_count": 9,
   "metadata": {},
   "outputs": [],
   "source": [
    "# completando datos de campamento y paciente"
   ]
  },
  {
   "cell_type": "code",
   "execution_count": 10,
   "metadata": {},
   "outputs": [],
   "source": [
    "datatrain = datatrain.merge(campdetail, left_on = ['Health_Camp_ID'],\n",
    "                right_on= ['Health_Camp_ID'],\n",
    "                how = 'inner')"
   ]
  },
  {
   "cell_type": "code",
   "execution_count": 11,
   "metadata": {},
   "outputs": [],
   "source": [
    "datatrain = datatrain.merge(patient, left_on = ['Patient_ID'],\n",
    "                right_on= ['Patient_ID'],\n",
    "                how = 'inner')"
   ]
  },
  {
   "cell_type": "code",
   "execution_count": 12,
   "metadata": {},
   "outputs": [
    {
     "data": {
      "text/plain": [
       "(75278, 25)"
      ]
     },
     "execution_count": 12,
     "metadata": {},
     "output_type": "execute_result"
    }
   ],
   "source": [
    "datatrain.shape"
   ]
  },
  {
   "cell_type": "code",
   "execution_count": 13,
   "metadata": {},
   "outputs": [
    {
     "data": {
      "text/html": [
       "<div>\n",
       "<style scoped>\n",
       "    .dataframe tbody tr th:only-of-type {\n",
       "        vertical-align: middle;\n",
       "    }\n",
       "\n",
       "    .dataframe tbody tr th {\n",
       "        vertical-align: top;\n",
       "    }\n",
       "\n",
       "    .dataframe thead th {\n",
       "        text-align: right;\n",
       "    }\n",
       "</style>\n",
       "<table border=\"1\" class=\"dataframe\">\n",
       "  <thead>\n",
       "    <tr style=\"text-align: right;\">\n",
       "      <th></th>\n",
       "      <th>Patient_ID</th>\n",
       "      <th>Health_Camp_ID</th>\n",
       "      <th>Registration_Date</th>\n",
       "      <th>Var1</th>\n",
       "      <th>Var2</th>\n",
       "      <th>Var3</th>\n",
       "      <th>Var4</th>\n",
       "      <th>Var5</th>\n",
       "      <th>flagdata</th>\n",
       "      <th>PatCamp_ID</th>\n",
       "      <th>...</th>\n",
       "      <th>Online_Follower</th>\n",
       "      <th>LinkedIn_Shared</th>\n",
       "      <th>Twitter_Shared</th>\n",
       "      <th>Facebook_Shared</th>\n",
       "      <th>Income</th>\n",
       "      <th>Education_Score</th>\n",
       "      <th>Age</th>\n",
       "      <th>First_Interaction</th>\n",
       "      <th>City_Type</th>\n",
       "      <th>Employer_Category</th>\n",
       "    </tr>\n",
       "  </thead>\n",
       "  <tbody>\n",
       "    <tr>\n",
       "      <th>0</th>\n",
       "      <td>489652</td>\n",
       "      <td>6578</td>\n",
       "      <td>2005-09-10</td>\n",
       "      <td>4</td>\n",
       "      <td>0</td>\n",
       "      <td>0</td>\n",
       "      <td>0</td>\n",
       "      <td>2</td>\n",
       "      <td>1</td>\n",
       "      <td>489652_6578</td>\n",
       "      <td>...</td>\n",
       "      <td>0</td>\n",
       "      <td>0</td>\n",
       "      <td>0</td>\n",
       "      <td>0</td>\n",
       "      <td>NaN</td>\n",
       "      <td>NaN</td>\n",
       "      <td>NaN</td>\n",
       "      <td>2004-12-06</td>\n",
       "      <td>NaN</td>\n",
       "      <td>NaN</td>\n",
       "    </tr>\n",
       "    <tr>\n",
       "      <th>1</th>\n",
       "      <td>489652</td>\n",
       "      <td>6570</td>\n",
       "      <td>2005-05-01</td>\n",
       "      <td>0</td>\n",
       "      <td>0</td>\n",
       "      <td>0</td>\n",
       "      <td>0</td>\n",
       "      <td>0</td>\n",
       "      <td>1</td>\n",
       "      <td>489652_6570</td>\n",
       "      <td>...</td>\n",
       "      <td>0</td>\n",
       "      <td>0</td>\n",
       "      <td>0</td>\n",
       "      <td>0</td>\n",
       "      <td>NaN</td>\n",
       "      <td>NaN</td>\n",
       "      <td>NaN</td>\n",
       "      <td>2004-12-06</td>\n",
       "      <td>NaN</td>\n",
       "      <td>NaN</td>\n",
       "    </tr>\n",
       "    <tr>\n",
       "      <th>2</th>\n",
       "      <td>489652</td>\n",
       "      <td>6527</td>\n",
       "      <td>2005-05-08</td>\n",
       "      <td>0</td>\n",
       "      <td>0</td>\n",
       "      <td>0</td>\n",
       "      <td>0</td>\n",
       "      <td>0</td>\n",
       "      <td>1</td>\n",
       "      <td>489652_6527</td>\n",
       "      <td>...</td>\n",
       "      <td>0</td>\n",
       "      <td>0</td>\n",
       "      <td>0</td>\n",
       "      <td>0</td>\n",
       "      <td>NaN</td>\n",
       "      <td>NaN</td>\n",
       "      <td>NaN</td>\n",
       "      <td>2004-12-06</td>\n",
       "      <td>NaN</td>\n",
       "      <td>NaN</td>\n",
       "    </tr>\n",
       "    <tr>\n",
       "      <th>3</th>\n",
       "      <td>489652</td>\n",
       "      <td>6539</td>\n",
       "      <td>2004-12-06</td>\n",
       "      <td>0</td>\n",
       "      <td>0</td>\n",
       "      <td>0</td>\n",
       "      <td>0</td>\n",
       "      <td>0</td>\n",
       "      <td>1</td>\n",
       "      <td>489652_6539</td>\n",
       "      <td>...</td>\n",
       "      <td>0</td>\n",
       "      <td>0</td>\n",
       "      <td>0</td>\n",
       "      <td>0</td>\n",
       "      <td>NaN</td>\n",
       "      <td>NaN</td>\n",
       "      <td>NaN</td>\n",
       "      <td>2004-12-06</td>\n",
       "      <td>NaN</td>\n",
       "      <td>NaN</td>\n",
       "    </tr>\n",
       "    <tr>\n",
       "      <th>4</th>\n",
       "      <td>489652</td>\n",
       "      <td>6543</td>\n",
       "      <td>2005-11-26</td>\n",
       "      <td>4</td>\n",
       "      <td>0</td>\n",
       "      <td>0</td>\n",
       "      <td>0</td>\n",
       "      <td>2</td>\n",
       "      <td>1</td>\n",
       "      <td>489652_6543</td>\n",
       "      <td>...</td>\n",
       "      <td>0</td>\n",
       "      <td>0</td>\n",
       "      <td>0</td>\n",
       "      <td>0</td>\n",
       "      <td>NaN</td>\n",
       "      <td>NaN</td>\n",
       "      <td>NaN</td>\n",
       "      <td>2004-12-06</td>\n",
       "      <td>NaN</td>\n",
       "      <td>NaN</td>\n",
       "    </tr>\n",
       "  </tbody>\n",
       "</table>\n",
       "<p>5 rows × 25 columns</p>\n",
       "</div>"
      ],
      "text/plain": [
       "   Patient_ID  Health_Camp_ID Registration_Date  Var1  Var2  Var3  Var4  Var5  \\\n",
       "0      489652            6578        2005-09-10     4     0     0     0     2   \n",
       "1      489652            6570        2005-05-01     0     0     0     0     0   \n",
       "2      489652            6527        2005-05-08     0     0     0     0     0   \n",
       "3      489652            6539        2004-12-06     0     0     0     0     0   \n",
       "4      489652            6543        2005-11-26     4     0     0     0     2   \n",
       "\n",
       "   flagdata   PatCamp_ID        ...         Online_Follower LinkedIn_Shared  \\\n",
       "0         1  489652_6578        ...                       0               0   \n",
       "1         1  489652_6570        ...                       0               0   \n",
       "2         1  489652_6527        ...                       0               0   \n",
       "3         1  489652_6539        ...                       0               0   \n",
       "4         1  489652_6543        ...                       0               0   \n",
       "\n",
       "  Twitter_Shared Facebook_Shared  Income  Education_Score  Age  \\\n",
       "0              0               0     NaN              NaN  NaN   \n",
       "1              0               0     NaN              NaN  NaN   \n",
       "2              0               0     NaN              NaN  NaN   \n",
       "3              0               0     NaN              NaN  NaN   \n",
       "4              0               0     NaN              NaN  NaN   \n",
       "\n",
       "   First_Interaction  City_Type  Employer_Category  \n",
       "0         2004-12-06        NaN                NaN  \n",
       "1         2004-12-06        NaN                NaN  \n",
       "2         2004-12-06        NaN                NaN  \n",
       "3         2004-12-06        NaN                NaN  \n",
       "4         2004-12-06        NaN                NaN  \n",
       "\n",
       "[5 rows x 25 columns]"
      ]
     },
     "execution_count": 13,
     "metadata": {},
     "output_type": "execute_result"
    }
   ],
   "source": [
    "datatrain.head()"
   ]
  },
  {
   "cell_type": "code",
   "execution_count": 14,
   "metadata": {},
   "outputs": [
    {
     "data": {
      "text/html": [
       "<div>\n",
       "<style scoped>\n",
       "    .dataframe tbody tr th:only-of-type {\n",
       "        vertical-align: middle;\n",
       "    }\n",
       "\n",
       "    .dataframe tbody tr th {\n",
       "        vertical-align: top;\n",
       "    }\n",
       "\n",
       "    .dataframe thead th {\n",
       "        text-align: right;\n",
       "    }\n",
       "</style>\n",
       "<table border=\"1\" class=\"dataframe\">\n",
       "  <thead>\n",
       "    <tr style=\"text-align: right;\">\n",
       "      <th></th>\n",
       "      <th>Patient_ID</th>\n",
       "      <th>Health_Camp_ID</th>\n",
       "      <th>Donation</th>\n",
       "      <th>Health_Score</th>\n",
       "    </tr>\n",
       "  </thead>\n",
       "  <tbody>\n",
       "    <tr>\n",
       "      <th>0</th>\n",
       "      <td>506181</td>\n",
       "      <td>6560</td>\n",
       "      <td>40</td>\n",
       "      <td>0.439024</td>\n",
       "    </tr>\n",
       "    <tr>\n",
       "      <th>1</th>\n",
       "      <td>494977</td>\n",
       "      <td>6560</td>\n",
       "      <td>20</td>\n",
       "      <td>0.097561</td>\n",
       "    </tr>\n",
       "    <tr>\n",
       "      <th>2</th>\n",
       "      <td>518680</td>\n",
       "      <td>6560</td>\n",
       "      <td>10</td>\n",
       "      <td>0.048780</td>\n",
       "    </tr>\n",
       "    <tr>\n",
       "      <th>3</th>\n",
       "      <td>509916</td>\n",
       "      <td>6560</td>\n",
       "      <td>30</td>\n",
       "      <td>0.634146</td>\n",
       "    </tr>\n",
       "    <tr>\n",
       "      <th>4</th>\n",
       "      <td>488006</td>\n",
       "      <td>6560</td>\n",
       "      <td>20</td>\n",
       "      <td>0.024390</td>\n",
       "    </tr>\n",
       "  </tbody>\n",
       "</table>\n",
       "</div>"
      ],
      "text/plain": [
       "   Patient_ID  Health_Camp_ID  Donation  Health_Score\n",
       "0      506181            6560        40      0.439024\n",
       "1      494977            6560        20      0.097561\n",
       "2      518680            6560        10      0.048780\n",
       "3      509916            6560        30      0.634146\n",
       "4      488006            6560        20      0.024390"
      ]
     },
     "execution_count": 14,
     "metadata": {},
     "output_type": "execute_result"
    }
   ],
   "source": [
    "camp1.head()"
   ]
  },
  {
   "cell_type": "code",
   "execution_count": 15,
   "metadata": {},
   "outputs": [
    {
     "data": {
      "text/html": [
       "<div>\n",
       "<style scoped>\n",
       "    .dataframe tbody tr th:only-of-type {\n",
       "        vertical-align: middle;\n",
       "    }\n",
       "\n",
       "    .dataframe tbody tr th {\n",
       "        vertical-align: top;\n",
       "    }\n",
       "\n",
       "    .dataframe thead th {\n",
       "        text-align: right;\n",
       "    }\n",
       "</style>\n",
       "<table border=\"1\" class=\"dataframe\">\n",
       "  <thead>\n",
       "    <tr style=\"text-align: right;\">\n",
       "      <th></th>\n",
       "      <th>Patient_ID</th>\n",
       "      <th>Health_Camp_ID</th>\n",
       "      <th>Health Score</th>\n",
       "    </tr>\n",
       "  </thead>\n",
       "  <tbody>\n",
       "    <tr>\n",
       "      <th>0</th>\n",
       "      <td>526631</td>\n",
       "      <td>6536</td>\n",
       "      <td>0.875136</td>\n",
       "    </tr>\n",
       "    <tr>\n",
       "      <th>1</th>\n",
       "      <td>509122</td>\n",
       "      <td>6536</td>\n",
       "      <td>0.755700</td>\n",
       "    </tr>\n",
       "    <tr>\n",
       "      <th>2</th>\n",
       "      <td>498864</td>\n",
       "      <td>6536</td>\n",
       "      <td>0.673181</td>\n",
       "    </tr>\n",
       "    <tr>\n",
       "      <th>3</th>\n",
       "      <td>515398</td>\n",
       "      <td>6536</td>\n",
       "      <td>0.722041</td>\n",
       "    </tr>\n",
       "    <tr>\n",
       "      <th>4</th>\n",
       "      <td>504624</td>\n",
       "      <td>6536</td>\n",
       "      <td>0.464712</td>\n",
       "    </tr>\n",
       "  </tbody>\n",
       "</table>\n",
       "</div>"
      ],
      "text/plain": [
       "   Patient_ID  Health_Camp_ID  Health Score\n",
       "0      526631            6536      0.875136\n",
       "1      509122            6536      0.755700\n",
       "2      498864            6536      0.673181\n",
       "3      515398            6536      0.722041\n",
       "4      504624            6536      0.464712"
      ]
     },
     "execution_count": 15,
     "metadata": {},
     "output_type": "execute_result"
    }
   ],
   "source": [
    "camp2.head()"
   ]
  },
  {
   "cell_type": "code",
   "execution_count": 16,
   "metadata": {},
   "outputs": [
    {
     "data": {
      "text/html": [
       "<div>\n",
       "<style scoped>\n",
       "    .dataframe tbody tr th:only-of-type {\n",
       "        vertical-align: middle;\n",
       "    }\n",
       "\n",
       "    .dataframe tbody tr th {\n",
       "        vertical-align: top;\n",
       "    }\n",
       "\n",
       "    .dataframe thead th {\n",
       "        text-align: right;\n",
       "    }\n",
       "</style>\n",
       "<table border=\"1\" class=\"dataframe\">\n",
       "  <thead>\n",
       "    <tr style=\"text-align: right;\">\n",
       "      <th></th>\n",
       "      <th>Patient_ID</th>\n",
       "      <th>Health_Camp_ID</th>\n",
       "      <th>Number_of_stall_visited</th>\n",
       "      <th>Last_Stall_Visited_Number</th>\n",
       "    </tr>\n",
       "  </thead>\n",
       "  <tbody>\n",
       "    <tr>\n",
       "      <th>0</th>\n",
       "      <td>517875</td>\n",
       "      <td>6527</td>\n",
       "      <td>3</td>\n",
       "      <td>1</td>\n",
       "    </tr>\n",
       "    <tr>\n",
       "      <th>1</th>\n",
       "      <td>504692</td>\n",
       "      <td>6578</td>\n",
       "      <td>1</td>\n",
       "      <td>1</td>\n",
       "    </tr>\n",
       "    <tr>\n",
       "      <th>2</th>\n",
       "      <td>504692</td>\n",
       "      <td>6527</td>\n",
       "      <td>3</td>\n",
       "      <td>1</td>\n",
       "    </tr>\n",
       "    <tr>\n",
       "      <th>3</th>\n",
       "      <td>493167</td>\n",
       "      <td>6527</td>\n",
       "      <td>4</td>\n",
       "      <td>4</td>\n",
       "    </tr>\n",
       "    <tr>\n",
       "      <th>4</th>\n",
       "      <td>501825</td>\n",
       "      <td>6527</td>\n",
       "      <td>2</td>\n",
       "      <td>4</td>\n",
       "    </tr>\n",
       "  </tbody>\n",
       "</table>\n",
       "</div>"
      ],
      "text/plain": [
       "   Patient_ID  Health_Camp_ID  Number_of_stall_visited  \\\n",
       "0      517875            6527                        3   \n",
       "1      504692            6578                        1   \n",
       "2      504692            6527                        3   \n",
       "3      493167            6527                        4   \n",
       "4      501825            6527                        2   \n",
       "\n",
       "   Last_Stall_Visited_Number  \n",
       "0                          1  \n",
       "1                          1  \n",
       "2                          1  \n",
       "3                          4  \n",
       "4                          4  "
      ]
     },
     "execution_count": 16,
     "metadata": {},
     "output_type": "execute_result"
    }
   ],
   "source": [
    "camp3.head()"
   ]
  },
  {
   "cell_type": "code",
   "execution_count": 17,
   "metadata": {},
   "outputs": [],
   "source": [
    "## agregamos el campo llave"
   ]
  },
  {
   "cell_type": "code",
   "execution_count": 18,
   "metadata": {},
   "outputs": [],
   "source": [
    "camp1['PatCamp_ID'] = camp1[['Patient_ID', 'Health_Camp_ID']].apply(lambda x: '_'.join(x.astype(str)),axis=1)\n",
    "camp2['PatCamp_ID'] = camp2[['Patient_ID', 'Health_Camp_ID']].apply(lambda x: '_'.join(x.astype(str)),axis=1)\n",
    "camp3['PatCamp_ID'] = camp3[['Patient_ID', 'Health_Camp_ID']].apply(lambda x: '_'.join(x.astype(str)),axis=1)"
   ]
  },
  {
   "cell_type": "code",
   "execution_count": 19,
   "metadata": {},
   "outputs": [],
   "source": [
    "## eliminamos los campos inecesarios"
   ]
  },
  {
   "cell_type": "code",
   "execution_count": 20,
   "metadata": {},
   "outputs": [],
   "source": [
    "del camp1[\"Patient_ID\"]\n",
    "del camp1[\"Health_Camp_ID\"]"
   ]
  },
  {
   "cell_type": "code",
   "execution_count": 21,
   "metadata": {},
   "outputs": [],
   "source": [
    "del camp2[\"Patient_ID\"]\n",
    "del camp2[\"Health_Camp_ID\"]"
   ]
  },
  {
   "cell_type": "code",
   "execution_count": 22,
   "metadata": {},
   "outputs": [],
   "source": [
    "del camp3[\"Patient_ID\"]\n",
    "del camp3[\"Health_Camp_ID\"]"
   ]
  },
  {
   "cell_type": "code",
   "execution_count": 23,
   "metadata": {},
   "outputs": [
    {
     "data": {
      "text/html": [
       "<div>\n",
       "<style scoped>\n",
       "    .dataframe tbody tr th:only-of-type {\n",
       "        vertical-align: middle;\n",
       "    }\n",
       "\n",
       "    .dataframe tbody tr th {\n",
       "        vertical-align: top;\n",
       "    }\n",
       "\n",
       "    .dataframe thead th {\n",
       "        text-align: right;\n",
       "    }\n",
       "</style>\n",
       "<table border=\"1\" class=\"dataframe\">\n",
       "  <thead>\n",
       "    <tr style=\"text-align: right;\">\n",
       "      <th></th>\n",
       "      <th>Donation</th>\n",
       "      <th>Health_Score</th>\n",
       "      <th>PatCamp_ID</th>\n",
       "    </tr>\n",
       "  </thead>\n",
       "  <tbody>\n",
       "    <tr>\n",
       "      <th>0</th>\n",
       "      <td>40</td>\n",
       "      <td>0.439024</td>\n",
       "      <td>506181_6560</td>\n",
       "    </tr>\n",
       "    <tr>\n",
       "      <th>1</th>\n",
       "      <td>20</td>\n",
       "      <td>0.097561</td>\n",
       "      <td>494977_6560</td>\n",
       "    </tr>\n",
       "    <tr>\n",
       "      <th>2</th>\n",
       "      <td>10</td>\n",
       "      <td>0.048780</td>\n",
       "      <td>518680_6560</td>\n",
       "    </tr>\n",
       "    <tr>\n",
       "      <th>3</th>\n",
       "      <td>30</td>\n",
       "      <td>0.634146</td>\n",
       "      <td>509916_6560</td>\n",
       "    </tr>\n",
       "    <tr>\n",
       "      <th>4</th>\n",
       "      <td>20</td>\n",
       "      <td>0.024390</td>\n",
       "      <td>488006_6560</td>\n",
       "    </tr>\n",
       "  </tbody>\n",
       "</table>\n",
       "</div>"
      ],
      "text/plain": [
       "   Donation  Health_Score   PatCamp_ID\n",
       "0        40      0.439024  506181_6560\n",
       "1        20      0.097561  494977_6560\n",
       "2        10      0.048780  518680_6560\n",
       "3        30      0.634146  509916_6560\n",
       "4        20      0.024390  488006_6560"
      ]
     },
     "execution_count": 23,
     "metadata": {},
     "output_type": "execute_result"
    }
   ],
   "source": [
    "camp1.head()"
   ]
  },
  {
   "cell_type": "code",
   "execution_count": 24,
   "metadata": {},
   "outputs": [
    {
     "data": {
      "text/html": [
       "<div>\n",
       "<style scoped>\n",
       "    .dataframe tbody tr th:only-of-type {\n",
       "        vertical-align: middle;\n",
       "    }\n",
       "\n",
       "    .dataframe tbody tr th {\n",
       "        vertical-align: top;\n",
       "    }\n",
       "\n",
       "    .dataframe thead th {\n",
       "        text-align: right;\n",
       "    }\n",
       "</style>\n",
       "<table border=\"1\" class=\"dataframe\">\n",
       "  <thead>\n",
       "    <tr style=\"text-align: right;\">\n",
       "      <th></th>\n",
       "      <th>Health Score</th>\n",
       "      <th>PatCamp_ID</th>\n",
       "    </tr>\n",
       "  </thead>\n",
       "  <tbody>\n",
       "    <tr>\n",
       "      <th>0</th>\n",
       "      <td>0.875136</td>\n",
       "      <td>526631_6536</td>\n",
       "    </tr>\n",
       "    <tr>\n",
       "      <th>1</th>\n",
       "      <td>0.755700</td>\n",
       "      <td>509122_6536</td>\n",
       "    </tr>\n",
       "    <tr>\n",
       "      <th>2</th>\n",
       "      <td>0.673181</td>\n",
       "      <td>498864_6536</td>\n",
       "    </tr>\n",
       "    <tr>\n",
       "      <th>3</th>\n",
       "      <td>0.722041</td>\n",
       "      <td>515398_6536</td>\n",
       "    </tr>\n",
       "    <tr>\n",
       "      <th>4</th>\n",
       "      <td>0.464712</td>\n",
       "      <td>504624_6536</td>\n",
       "    </tr>\n",
       "  </tbody>\n",
       "</table>\n",
       "</div>"
      ],
      "text/plain": [
       "   Health Score   PatCamp_ID\n",
       "0      0.875136  526631_6536\n",
       "1      0.755700  509122_6536\n",
       "2      0.673181  498864_6536\n",
       "3      0.722041  515398_6536\n",
       "4      0.464712  504624_6536"
      ]
     },
     "execution_count": 24,
     "metadata": {},
     "output_type": "execute_result"
    }
   ],
   "source": [
    "camp2.head()"
   ]
  },
  {
   "cell_type": "code",
   "execution_count": 25,
   "metadata": {},
   "outputs": [
    {
     "data": {
      "text/html": [
       "<div>\n",
       "<style scoped>\n",
       "    .dataframe tbody tr th:only-of-type {\n",
       "        vertical-align: middle;\n",
       "    }\n",
       "\n",
       "    .dataframe tbody tr th {\n",
       "        vertical-align: top;\n",
       "    }\n",
       "\n",
       "    .dataframe thead th {\n",
       "        text-align: right;\n",
       "    }\n",
       "</style>\n",
       "<table border=\"1\" class=\"dataframe\">\n",
       "  <thead>\n",
       "    <tr style=\"text-align: right;\">\n",
       "      <th></th>\n",
       "      <th>Number_of_stall_visited</th>\n",
       "      <th>Last_Stall_Visited_Number</th>\n",
       "      <th>PatCamp_ID</th>\n",
       "    </tr>\n",
       "  </thead>\n",
       "  <tbody>\n",
       "    <tr>\n",
       "      <th>0</th>\n",
       "      <td>3</td>\n",
       "      <td>1</td>\n",
       "      <td>517875_6527</td>\n",
       "    </tr>\n",
       "    <tr>\n",
       "      <th>1</th>\n",
       "      <td>1</td>\n",
       "      <td>1</td>\n",
       "      <td>504692_6578</td>\n",
       "    </tr>\n",
       "    <tr>\n",
       "      <th>2</th>\n",
       "      <td>3</td>\n",
       "      <td>1</td>\n",
       "      <td>504692_6527</td>\n",
       "    </tr>\n",
       "    <tr>\n",
       "      <th>3</th>\n",
       "      <td>4</td>\n",
       "      <td>4</td>\n",
       "      <td>493167_6527</td>\n",
       "    </tr>\n",
       "    <tr>\n",
       "      <th>4</th>\n",
       "      <td>2</td>\n",
       "      <td>4</td>\n",
       "      <td>501825_6527</td>\n",
       "    </tr>\n",
       "  </tbody>\n",
       "</table>\n",
       "</div>"
      ],
      "text/plain": [
       "   Number_of_stall_visited  Last_Stall_Visited_Number   PatCamp_ID\n",
       "0                        3                          1  517875_6527\n",
       "1                        1                          1  504692_6578\n",
       "2                        3                          1  504692_6527\n",
       "3                        4                          4  493167_6527\n",
       "4                        2                          4  501825_6527"
      ]
     },
     "execution_count": 25,
     "metadata": {},
     "output_type": "execute_result"
    }
   ],
   "source": [
    "camp3.head()"
   ]
  },
  {
   "cell_type": "code",
   "execution_count": 26,
   "metadata": {},
   "outputs": [],
   "source": [
    "# agregamos la informacion de los campamentos a nuestra data "
   ]
  },
  {
   "cell_type": "code",
   "execution_count": 27,
   "metadata": {},
   "outputs": [],
   "source": [
    "datatrain = pd.merge(datatrain,camp1, how=\"left\", on = \"PatCamp_ID\")"
   ]
  },
  {
   "cell_type": "code",
   "execution_count": 28,
   "metadata": {},
   "outputs": [],
   "source": [
    "datatrain = pd.merge(datatrain,camp2, how=\"left\", on = \"PatCamp_ID\")"
   ]
  },
  {
   "cell_type": "code",
   "execution_count": 29,
   "metadata": {},
   "outputs": [],
   "source": [
    "datatrain = pd.merge(datatrain,camp3, how=\"left\", on = \"PatCamp_ID\")"
   ]
  },
  {
   "cell_type": "code",
   "execution_count": 30,
   "metadata": {},
   "outputs": [
    {
     "data": {
      "text/plain": [
       "(75278, 30)"
      ]
     },
     "execution_count": 30,
     "metadata": {},
     "output_type": "execute_result"
    }
   ],
   "source": [
    "datatrain.shape"
   ]
  },
  {
   "cell_type": "code",
   "execution_count": 31,
   "metadata": {},
   "outputs": [
    {
     "data": {
      "text/html": [
       "<div>\n",
       "<style scoped>\n",
       "    .dataframe tbody tr th:only-of-type {\n",
       "        vertical-align: middle;\n",
       "    }\n",
       "\n",
       "    .dataframe tbody tr th {\n",
       "        vertical-align: top;\n",
       "    }\n",
       "\n",
       "    .dataframe thead th {\n",
       "        text-align: right;\n",
       "    }\n",
       "</style>\n",
       "<table border=\"1\" class=\"dataframe\">\n",
       "  <thead>\n",
       "    <tr style=\"text-align: right;\">\n",
       "      <th></th>\n",
       "      <th>Patient_ID</th>\n",
       "      <th>Health_Camp_ID</th>\n",
       "      <th>Registration_Date</th>\n",
       "      <th>Var1</th>\n",
       "      <th>Var2</th>\n",
       "      <th>Var3</th>\n",
       "      <th>Var4</th>\n",
       "      <th>Var5</th>\n",
       "      <th>flagdata</th>\n",
       "      <th>PatCamp_ID</th>\n",
       "      <th>...</th>\n",
       "      <th>Education_Score</th>\n",
       "      <th>Age</th>\n",
       "      <th>First_Interaction</th>\n",
       "      <th>City_Type</th>\n",
       "      <th>Employer_Category</th>\n",
       "      <th>Donation</th>\n",
       "      <th>Health_Score</th>\n",
       "      <th>Health Score</th>\n",
       "      <th>Number_of_stall_visited</th>\n",
       "      <th>Last_Stall_Visited_Number</th>\n",
       "    </tr>\n",
       "  </thead>\n",
       "  <tbody>\n",
       "    <tr>\n",
       "      <th>0</th>\n",
       "      <td>489652</td>\n",
       "      <td>6578</td>\n",
       "      <td>2005-09-10</td>\n",
       "      <td>4</td>\n",
       "      <td>0</td>\n",
       "      <td>0</td>\n",
       "      <td>0</td>\n",
       "      <td>2</td>\n",
       "      <td>1</td>\n",
       "      <td>489652_6578</td>\n",
       "      <td>...</td>\n",
       "      <td>NaN</td>\n",
       "      <td>NaN</td>\n",
       "      <td>2004-12-06</td>\n",
       "      <td>NaN</td>\n",
       "      <td>NaN</td>\n",
       "      <td>NaN</td>\n",
       "      <td>NaN</td>\n",
       "      <td>NaN</td>\n",
       "      <td>2.0</td>\n",
       "      <td>1.0</td>\n",
       "    </tr>\n",
       "    <tr>\n",
       "      <th>1</th>\n",
       "      <td>489652</td>\n",
       "      <td>6570</td>\n",
       "      <td>2005-05-01</td>\n",
       "      <td>0</td>\n",
       "      <td>0</td>\n",
       "      <td>0</td>\n",
       "      <td>0</td>\n",
       "      <td>0</td>\n",
       "      <td>1</td>\n",
       "      <td>489652_6570</td>\n",
       "      <td>...</td>\n",
       "      <td>NaN</td>\n",
       "      <td>NaN</td>\n",
       "      <td>2004-12-06</td>\n",
       "      <td>NaN</td>\n",
       "      <td>NaN</td>\n",
       "      <td>NaN</td>\n",
       "      <td>NaN</td>\n",
       "      <td>NaN</td>\n",
       "      <td>NaN</td>\n",
       "      <td>NaN</td>\n",
       "    </tr>\n",
       "    <tr>\n",
       "      <th>2</th>\n",
       "      <td>489652</td>\n",
       "      <td>6527</td>\n",
       "      <td>2005-05-08</td>\n",
       "      <td>0</td>\n",
       "      <td>0</td>\n",
       "      <td>0</td>\n",
       "      <td>0</td>\n",
       "      <td>0</td>\n",
       "      <td>1</td>\n",
       "      <td>489652_6527</td>\n",
       "      <td>...</td>\n",
       "      <td>NaN</td>\n",
       "      <td>NaN</td>\n",
       "      <td>2004-12-06</td>\n",
       "      <td>NaN</td>\n",
       "      <td>NaN</td>\n",
       "      <td>NaN</td>\n",
       "      <td>NaN</td>\n",
       "      <td>NaN</td>\n",
       "      <td>2.0</td>\n",
       "      <td>4.0</td>\n",
       "    </tr>\n",
       "    <tr>\n",
       "      <th>3</th>\n",
       "      <td>489652</td>\n",
       "      <td>6539</td>\n",
       "      <td>2004-12-06</td>\n",
       "      <td>0</td>\n",
       "      <td>0</td>\n",
       "      <td>0</td>\n",
       "      <td>0</td>\n",
       "      <td>0</td>\n",
       "      <td>1</td>\n",
       "      <td>489652_6539</td>\n",
       "      <td>...</td>\n",
       "      <td>NaN</td>\n",
       "      <td>NaN</td>\n",
       "      <td>2004-12-06</td>\n",
       "      <td>NaN</td>\n",
       "      <td>NaN</td>\n",
       "      <td>NaN</td>\n",
       "      <td>NaN</td>\n",
       "      <td>NaN</td>\n",
       "      <td>NaN</td>\n",
       "      <td>NaN</td>\n",
       "    </tr>\n",
       "    <tr>\n",
       "      <th>4</th>\n",
       "      <td>489652</td>\n",
       "      <td>6543</td>\n",
       "      <td>2005-11-26</td>\n",
       "      <td>4</td>\n",
       "      <td>0</td>\n",
       "      <td>0</td>\n",
       "      <td>0</td>\n",
       "      <td>2</td>\n",
       "      <td>1</td>\n",
       "      <td>489652_6543</td>\n",
       "      <td>...</td>\n",
       "      <td>NaN</td>\n",
       "      <td>NaN</td>\n",
       "      <td>2004-12-06</td>\n",
       "      <td>NaN</td>\n",
       "      <td>NaN</td>\n",
       "      <td>NaN</td>\n",
       "      <td>NaN</td>\n",
       "      <td>NaN</td>\n",
       "      <td>NaN</td>\n",
       "      <td>NaN</td>\n",
       "    </tr>\n",
       "  </tbody>\n",
       "</table>\n",
       "<p>5 rows × 30 columns</p>\n",
       "</div>"
      ],
      "text/plain": [
       "   Patient_ID  Health_Camp_ID Registration_Date  Var1  Var2  Var3  Var4  Var5  \\\n",
       "0      489652            6578        2005-09-10     4     0     0     0     2   \n",
       "1      489652            6570        2005-05-01     0     0     0     0     0   \n",
       "2      489652            6527        2005-05-08     0     0     0     0     0   \n",
       "3      489652            6539        2004-12-06     0     0     0     0     0   \n",
       "4      489652            6543        2005-11-26     4     0     0     0     2   \n",
       "\n",
       "   flagdata   PatCamp_ID            ...             Education_Score Age  \\\n",
       "0         1  489652_6578            ...                         NaN NaN   \n",
       "1         1  489652_6570            ...                         NaN NaN   \n",
       "2         1  489652_6527            ...                         NaN NaN   \n",
       "3         1  489652_6539            ...                         NaN NaN   \n",
       "4         1  489652_6543            ...                         NaN NaN   \n",
       "\n",
       "  First_Interaction City_Type  Employer_Category  Donation  Health_Score  \\\n",
       "0        2004-12-06       NaN                NaN       NaN           NaN   \n",
       "1        2004-12-06       NaN                NaN       NaN           NaN   \n",
       "2        2004-12-06       NaN                NaN       NaN           NaN   \n",
       "3        2004-12-06       NaN                NaN       NaN           NaN   \n",
       "4        2004-12-06       NaN                NaN       NaN           NaN   \n",
       "\n",
       "   Health Score  Number_of_stall_visited  Last_Stall_Visited_Number  \n",
       "0           NaN                      2.0                        1.0  \n",
       "1           NaN                      NaN                        NaN  \n",
       "2           NaN                      2.0                        4.0  \n",
       "3           NaN                      NaN                        NaN  \n",
       "4           NaN                      NaN                        NaN  \n",
       "\n",
       "[5 rows x 30 columns]"
      ]
     },
     "execution_count": 31,
     "metadata": {},
     "output_type": "execute_result"
    }
   ],
   "source": [
    "datatrain.head()"
   ]
  },
  {
   "cell_type": "code",
   "execution_count": 32,
   "metadata": {
    "scrolled": true
   },
   "outputs": [
    {
     "data": {
      "text/html": [
       "<div>\n",
       "<style scoped>\n",
       "    .dataframe tbody tr th:only-of-type {\n",
       "        vertical-align: middle;\n",
       "    }\n",
       "\n",
       "    .dataframe tbody tr th {\n",
       "        vertical-align: top;\n",
       "    }\n",
       "\n",
       "    .dataframe thead th {\n",
       "        text-align: right;\n",
       "    }\n",
       "</style>\n",
       "<table border=\"1\" class=\"dataframe\">\n",
       "  <thead>\n",
       "    <tr style=\"text-align: right;\">\n",
       "      <th></th>\n",
       "      <th>0</th>\n",
       "    </tr>\n",
       "  </thead>\n",
       "  <tbody>\n",
       "    <tr>\n",
       "      <th>Patient_ID</th>\n",
       "      <td>int64</td>\n",
       "    </tr>\n",
       "    <tr>\n",
       "      <th>Health_Camp_ID</th>\n",
       "      <td>int64</td>\n",
       "    </tr>\n",
       "    <tr>\n",
       "      <th>Registration_Date</th>\n",
       "      <td>datetime64[ns]</td>\n",
       "    </tr>\n",
       "    <tr>\n",
       "      <th>Var1</th>\n",
       "      <td>int64</td>\n",
       "    </tr>\n",
       "    <tr>\n",
       "      <th>Var2</th>\n",
       "      <td>int64</td>\n",
       "    </tr>\n",
       "    <tr>\n",
       "      <th>Var3</th>\n",
       "      <td>int64</td>\n",
       "    </tr>\n",
       "    <tr>\n",
       "      <th>Var4</th>\n",
       "      <td>int64</td>\n",
       "    </tr>\n",
       "    <tr>\n",
       "      <th>Var5</th>\n",
       "      <td>int64</td>\n",
       "    </tr>\n",
       "    <tr>\n",
       "      <th>flagdata</th>\n",
       "      <td>int64</td>\n",
       "    </tr>\n",
       "    <tr>\n",
       "      <th>PatCamp_ID</th>\n",
       "      <td>object</td>\n",
       "    </tr>\n",
       "    <tr>\n",
       "      <th>Camp_Start_Date</th>\n",
       "      <td>datetime64[ns]</td>\n",
       "    </tr>\n",
       "    <tr>\n",
       "      <th>Camp_End_Date</th>\n",
       "      <td>datetime64[ns]</td>\n",
       "    </tr>\n",
       "    <tr>\n",
       "      <th>Category1</th>\n",
       "      <td>object</td>\n",
       "    </tr>\n",
       "    <tr>\n",
       "      <th>Category2</th>\n",
       "      <td>object</td>\n",
       "    </tr>\n",
       "    <tr>\n",
       "      <th>Category3</th>\n",
       "      <td>int64</td>\n",
       "    </tr>\n",
       "    <tr>\n",
       "      <th>Online_Follower</th>\n",
       "      <td>int64</td>\n",
       "    </tr>\n",
       "    <tr>\n",
       "      <th>LinkedIn_Shared</th>\n",
       "      <td>int64</td>\n",
       "    </tr>\n",
       "    <tr>\n",
       "      <th>Twitter_Shared</th>\n",
       "      <td>int64</td>\n",
       "    </tr>\n",
       "    <tr>\n",
       "      <th>Facebook_Shared</th>\n",
       "      <td>int64</td>\n",
       "    </tr>\n",
       "    <tr>\n",
       "      <th>Income</th>\n",
       "      <td>float64</td>\n",
       "    </tr>\n",
       "    <tr>\n",
       "      <th>Education_Score</th>\n",
       "      <td>float64</td>\n",
       "    </tr>\n",
       "    <tr>\n",
       "      <th>Age</th>\n",
       "      <td>float64</td>\n",
       "    </tr>\n",
       "    <tr>\n",
       "      <th>First_Interaction</th>\n",
       "      <td>datetime64[ns]</td>\n",
       "    </tr>\n",
       "    <tr>\n",
       "      <th>City_Type</th>\n",
       "      <td>object</td>\n",
       "    </tr>\n",
       "    <tr>\n",
       "      <th>Employer_Category</th>\n",
       "      <td>object</td>\n",
       "    </tr>\n",
       "    <tr>\n",
       "      <th>Donation</th>\n",
       "      <td>float64</td>\n",
       "    </tr>\n",
       "    <tr>\n",
       "      <th>Health_Score</th>\n",
       "      <td>float64</td>\n",
       "    </tr>\n",
       "    <tr>\n",
       "      <th>Health Score</th>\n",
       "      <td>float64</td>\n",
       "    </tr>\n",
       "    <tr>\n",
       "      <th>Number_of_stall_visited</th>\n",
       "      <td>float64</td>\n",
       "    </tr>\n",
       "    <tr>\n",
       "      <th>Last_Stall_Visited_Number</th>\n",
       "      <td>float64</td>\n",
       "    </tr>\n",
       "  </tbody>\n",
       "</table>\n",
       "</div>"
      ],
      "text/plain": [
       "                                        0\n",
       "Patient_ID                          int64\n",
       "Health_Camp_ID                      int64\n",
       "Registration_Date          datetime64[ns]\n",
       "Var1                                int64\n",
       "Var2                                int64\n",
       "Var3                                int64\n",
       "Var4                                int64\n",
       "Var5                                int64\n",
       "flagdata                            int64\n",
       "PatCamp_ID                         object\n",
       "Camp_Start_Date            datetime64[ns]\n",
       "Camp_End_Date              datetime64[ns]\n",
       "Category1                          object\n",
       "Category2                          object\n",
       "Category3                           int64\n",
       "Online_Follower                     int64\n",
       "LinkedIn_Shared                     int64\n",
       "Twitter_Shared                      int64\n",
       "Facebook_Shared                     int64\n",
       "Income                            float64\n",
       "Education_Score                   float64\n",
       "Age                               float64\n",
       "First_Interaction          datetime64[ns]\n",
       "City_Type                          object\n",
       "Employer_Category                  object\n",
       "Donation                          float64\n",
       "Health_Score                      float64\n",
       "Health Score                      float64\n",
       "Number_of_stall_visited           float64\n",
       "Last_Stall_Visited_Number         float64"
      ]
     },
     "execution_count": 32,
     "metadata": {},
     "output_type": "execute_result"
    }
   ],
   "source": [
    "pd.DataFrame(datatrain.dtypes)"
   ]
  },
  {
   "cell_type": "code",
   "execution_count": 33,
   "metadata": {},
   "outputs": [],
   "source": [
    "# imputando missing"
   ]
  },
  {
   "cell_type": "code",
   "execution_count": 34,
   "metadata": {},
   "outputs": [],
   "source": [
    "datatrain.Health_Score = datatrain.Health_Score.fillna(0)"
   ]
  },
  {
   "cell_type": "code",
   "execution_count": 35,
   "metadata": {},
   "outputs": [],
   "source": [
    "datatrain[\"Health Score\"] = datatrain[\"Health Score\"].fillna(0)"
   ]
  },
  {
   "cell_type": "code",
   "execution_count": 36,
   "metadata": {},
   "outputs": [],
   "source": [
    "datatrain.Number_of_stall_visited = datatrain.Number_of_stall_visited.fillna(0)"
   ]
  },
  {
   "cell_type": "code",
   "execution_count": 37,
   "metadata": {},
   "outputs": [],
   "source": [
    "# agregamos el target dependiendo del capamento"
   ]
  },
  {
   "cell_type": "code",
   "execution_count": 38,
   "metadata": {},
   "outputs": [],
   "source": [
    "datatrain[\"SumHealth\"] = datatrain['Health_Score'] + datatrain['Health Score'] + datatrain['Number_of_stall_visited']"
   ]
  },
  {
   "cell_type": "code",
   "execution_count": 39,
   "metadata": {},
   "outputs": [
    {
     "data": {
      "text/plain": [
       "array([2.        , 0.        , 1.        , ..., 0.85470086, 0.36363636,\n",
       "       0.27272727])"
      ]
     },
     "execution_count": 39,
     "metadata": {},
     "output_type": "execute_result"
    }
   ],
   "source": [
    "datatrain.SumHealth.unique()"
   ]
  },
  {
   "cell_type": "code",
   "execution_count": 40,
   "metadata": {},
   "outputs": [],
   "source": [
    "datatrain[\"Target\"] = datatrain[\"SumHealth\"].apply(lambda x: 1 if x>0 else 0)"
   ]
  },
  {
   "cell_type": "code",
   "execution_count": 41,
   "metadata": {},
   "outputs": [
    {
     "data": {
      "text/html": [
       "<div>\n",
       "<style scoped>\n",
       "    .dataframe tbody tr th:only-of-type {\n",
       "        vertical-align: middle;\n",
       "    }\n",
       "\n",
       "    .dataframe tbody tr th {\n",
       "        vertical-align: top;\n",
       "    }\n",
       "\n",
       "    .dataframe thead th {\n",
       "        text-align: right;\n",
       "    }\n",
       "</style>\n",
       "<table border=\"1\" class=\"dataframe\">\n",
       "  <thead>\n",
       "    <tr style=\"text-align: right;\">\n",
       "      <th></th>\n",
       "      <th>Patient_ID</th>\n",
       "      <th>Health_Camp_ID</th>\n",
       "      <th>Registration_Date</th>\n",
       "      <th>Var1</th>\n",
       "      <th>Var2</th>\n",
       "      <th>Var3</th>\n",
       "      <th>Var4</th>\n",
       "      <th>Var5</th>\n",
       "      <th>flagdata</th>\n",
       "      <th>PatCamp_ID</th>\n",
       "      <th>...</th>\n",
       "      <th>First_Interaction</th>\n",
       "      <th>City_Type</th>\n",
       "      <th>Employer_Category</th>\n",
       "      <th>Donation</th>\n",
       "      <th>Health_Score</th>\n",
       "      <th>Health Score</th>\n",
       "      <th>Number_of_stall_visited</th>\n",
       "      <th>Last_Stall_Visited_Number</th>\n",
       "      <th>SumHealth</th>\n",
       "      <th>Target</th>\n",
       "    </tr>\n",
       "  </thead>\n",
       "  <tbody>\n",
       "    <tr>\n",
       "      <th>count</th>\n",
       "      <td>75278.000000</td>\n",
       "      <td>75278.000000</td>\n",
       "      <td>74944</td>\n",
       "      <td>75278.000000</td>\n",
       "      <td>75278.000000</td>\n",
       "      <td>75278.000000</td>\n",
       "      <td>75278.000000</td>\n",
       "      <td>75278.000000</td>\n",
       "      <td>75278.000000</td>\n",
       "      <td>75278</td>\n",
       "      <td>...</td>\n",
       "      <td>75278</td>\n",
       "      <td>42070</td>\n",
       "      <td>15203</td>\n",
       "      <td>5491.000000</td>\n",
       "      <td>75278.000000</td>\n",
       "      <td>75278.000000</td>\n",
       "      <td>75278.000000</td>\n",
       "      <td>4343.000000</td>\n",
       "      <td>75278.000000</td>\n",
       "      <td>75278.000000</td>\n",
       "    </tr>\n",
       "    <tr>\n",
       "      <th>unique</th>\n",
       "      <td>NaN</td>\n",
       "      <td>NaN</td>\n",
       "      <td>1201</td>\n",
       "      <td>NaN</td>\n",
       "      <td>NaN</td>\n",
       "      <td>NaN</td>\n",
       "      <td>NaN</td>\n",
       "      <td>NaN</td>\n",
       "      <td>NaN</td>\n",
       "      <td>75278</td>\n",
       "      <td>...</td>\n",
       "      <td>1474</td>\n",
       "      <td>9</td>\n",
       "      <td>14</td>\n",
       "      <td>NaN</td>\n",
       "      <td>NaN</td>\n",
       "      <td>NaN</td>\n",
       "      <td>NaN</td>\n",
       "      <td>NaN</td>\n",
       "      <td>NaN</td>\n",
       "      <td>NaN</td>\n",
       "    </tr>\n",
       "    <tr>\n",
       "      <th>top</th>\n",
       "      <td>NaN</td>\n",
       "      <td>NaN</td>\n",
       "      <td>2006-03-28 00:00:00</td>\n",
       "      <td>NaN</td>\n",
       "      <td>NaN</td>\n",
       "      <td>NaN</td>\n",
       "      <td>NaN</td>\n",
       "      <td>NaN</td>\n",
       "      <td>NaN</td>\n",
       "      <td>497344_6549</td>\n",
       "      <td>...</td>\n",
       "      <td>2004-09-08 00:00:00</td>\n",
       "      <td>B</td>\n",
       "      <td>Technology</td>\n",
       "      <td>NaN</td>\n",
       "      <td>NaN</td>\n",
       "      <td>NaN</td>\n",
       "      <td>NaN</td>\n",
       "      <td>NaN</td>\n",
       "      <td>NaN</td>\n",
       "      <td>NaN</td>\n",
       "    </tr>\n",
       "    <tr>\n",
       "      <th>freq</th>\n",
       "      <td>NaN</td>\n",
       "      <td>NaN</td>\n",
       "      <td>868</td>\n",
       "      <td>NaN</td>\n",
       "      <td>NaN</td>\n",
       "      <td>NaN</td>\n",
       "      <td>NaN</td>\n",
       "      <td>NaN</td>\n",
       "      <td>NaN</td>\n",
       "      <td>1</td>\n",
       "      <td>...</td>\n",
       "      <td>1497</td>\n",
       "      <td>8273</td>\n",
       "      <td>3533</td>\n",
       "      <td>NaN</td>\n",
       "      <td>NaN</td>\n",
       "      <td>NaN</td>\n",
       "      <td>NaN</td>\n",
       "      <td>NaN</td>\n",
       "      <td>NaN</td>\n",
       "      <td>NaN</td>\n",
       "    </tr>\n",
       "    <tr>\n",
       "      <th>first</th>\n",
       "      <td>NaN</td>\n",
       "      <td>NaN</td>\n",
       "      <td>2003-10-19 00:00:00</td>\n",
       "      <td>NaN</td>\n",
       "      <td>NaN</td>\n",
       "      <td>NaN</td>\n",
       "      <td>NaN</td>\n",
       "      <td>NaN</td>\n",
       "      <td>NaN</td>\n",
       "      <td>NaN</td>\n",
       "      <td>...</td>\n",
       "      <td>2002-10-19 00:00:00</td>\n",
       "      <td>NaN</td>\n",
       "      <td>NaN</td>\n",
       "      <td>NaN</td>\n",
       "      <td>NaN</td>\n",
       "      <td>NaN</td>\n",
       "      <td>NaN</td>\n",
       "      <td>NaN</td>\n",
       "      <td>NaN</td>\n",
       "      <td>NaN</td>\n",
       "    </tr>\n",
       "    <tr>\n",
       "      <th>last</th>\n",
       "      <td>NaN</td>\n",
       "      <td>NaN</td>\n",
       "      <td>2007-02-09 00:00:00</td>\n",
       "      <td>NaN</td>\n",
       "      <td>NaN</td>\n",
       "      <td>NaN</td>\n",
       "      <td>NaN</td>\n",
       "      <td>NaN</td>\n",
       "      <td>NaN</td>\n",
       "      <td>NaN</td>\n",
       "      <td>...</td>\n",
       "      <td>2007-02-06 00:00:00</td>\n",
       "      <td>NaN</td>\n",
       "      <td>NaN</td>\n",
       "      <td>NaN</td>\n",
       "      <td>NaN</td>\n",
       "      <td>NaN</td>\n",
       "      <td>NaN</td>\n",
       "      <td>NaN</td>\n",
       "      <td>NaN</td>\n",
       "      <td>NaN</td>\n",
       "    </tr>\n",
       "    <tr>\n",
       "      <th>mean</th>\n",
       "      <td>507233.325660</td>\n",
       "      <td>6547.597319</td>\n",
       "      <td>NaN</td>\n",
       "      <td>0.796156</td>\n",
       "      <td>0.238556</td>\n",
       "      <td>0.000385</td>\n",
       "      <td>0.022424</td>\n",
       "      <td>0.248386</td>\n",
       "      <td>1.222455</td>\n",
       "      <td>NaN</td>\n",
       "      <td>...</td>\n",
       "      <td>NaN</td>\n",
       "      <td>NaN</td>\n",
       "      <td>NaN</td>\n",
       "      <td>32.453105</td>\n",
       "      <td>0.037886</td>\n",
       "      <td>0.026261</td>\n",
       "      <td>0.175483</td>\n",
       "      <td>2.433571</td>\n",
       "      <td>0.239630</td>\n",
       "      <td>0.178605</td>\n",
       "    </tr>\n",
       "    <tr>\n",
       "      <th>std</th>\n",
       "      <td>12404.734886</td>\n",
       "      <td>19.272983</td>\n",
       "      <td>NaN</td>\n",
       "      <td>7.626687</td>\n",
       "      <td>3.769594</td>\n",
       "      <td>0.019624</td>\n",
       "      <td>0.199570</td>\n",
       "      <td>1.213938</td>\n",
       "      <td>0.415898</td>\n",
       "      <td>NaN</td>\n",
       "      <td>...</td>\n",
       "      <td>NaN</td>\n",
       "      <td>NaN</td>\n",
       "      <td>NaN</td>\n",
       "      <td>24.243966</td>\n",
       "      <td>0.156052</td>\n",
       "      <td>0.129754</td>\n",
       "      <td>0.821761</td>\n",
       "      <td>1.467017</td>\n",
       "      <td>0.831851</td>\n",
       "      <td>0.383023</td>\n",
       "    </tr>\n",
       "    <tr>\n",
       "      <th>min</th>\n",
       "      <td>485679.000000</td>\n",
       "      <td>6523.000000</td>\n",
       "      <td>NaN</td>\n",
       "      <td>0.000000</td>\n",
       "      <td>0.000000</td>\n",
       "      <td>0.000000</td>\n",
       "      <td>0.000000</td>\n",
       "      <td>0.000000</td>\n",
       "      <td>1.000000</td>\n",
       "      <td>NaN</td>\n",
       "      <td>...</td>\n",
       "      <td>NaN</td>\n",
       "      <td>NaN</td>\n",
       "      <td>NaN</td>\n",
       "      <td>10.000000</td>\n",
       "      <td>0.000000</td>\n",
       "      <td>0.000000</td>\n",
       "      <td>0.000000</td>\n",
       "      <td>0.000000</td>\n",
       "      <td>0.000000</td>\n",
       "      <td>0.000000</td>\n",
       "    </tr>\n",
       "    <tr>\n",
       "      <th>25%</th>\n",
       "      <td>496505.250000</td>\n",
       "      <td>6534.000000</td>\n",
       "      <td>NaN</td>\n",
       "      <td>0.000000</td>\n",
       "      <td>0.000000</td>\n",
       "      <td>0.000000</td>\n",
       "      <td>0.000000</td>\n",
       "      <td>0.000000</td>\n",
       "      <td>1.000000</td>\n",
       "      <td>NaN</td>\n",
       "      <td>...</td>\n",
       "      <td>NaN</td>\n",
       "      <td>NaN</td>\n",
       "      <td>NaN</td>\n",
       "      <td>20.000000</td>\n",
       "      <td>0.000000</td>\n",
       "      <td>0.000000</td>\n",
       "      <td>0.000000</td>\n",
       "      <td>1.000000</td>\n",
       "      <td>0.000000</td>\n",
       "      <td>0.000000</td>\n",
       "    </tr>\n",
       "    <tr>\n",
       "      <th>50%</th>\n",
       "      <td>507276.500000</td>\n",
       "      <td>6541.000000</td>\n",
       "      <td>NaN</td>\n",
       "      <td>0.000000</td>\n",
       "      <td>0.000000</td>\n",
       "      <td>0.000000</td>\n",
       "      <td>0.000000</td>\n",
       "      <td>0.000000</td>\n",
       "      <td>1.000000</td>\n",
       "      <td>NaN</td>\n",
       "      <td>...</td>\n",
       "      <td>NaN</td>\n",
       "      <td>NaN</td>\n",
       "      <td>NaN</td>\n",
       "      <td>30.000000</td>\n",
       "      <td>0.000000</td>\n",
       "      <td>0.000000</td>\n",
       "      <td>0.000000</td>\n",
       "      <td>2.000000</td>\n",
       "      <td>0.000000</td>\n",
       "      <td>0.000000</td>\n",
       "    </tr>\n",
       "    <tr>\n",
       "      <th>75%</th>\n",
       "      <td>517919.000000</td>\n",
       "      <td>6562.000000</td>\n",
       "      <td>NaN</td>\n",
       "      <td>0.000000</td>\n",
       "      <td>0.000000</td>\n",
       "      <td>0.000000</td>\n",
       "      <td>0.000000</td>\n",
       "      <td>0.000000</td>\n",
       "      <td>1.000000</td>\n",
       "      <td>NaN</td>\n",
       "      <td>...</td>\n",
       "      <td>NaN</td>\n",
       "      <td>NaN</td>\n",
       "      <td>NaN</td>\n",
       "      <td>40.000000</td>\n",
       "      <td>0.000000</td>\n",
       "      <td>0.000000</td>\n",
       "      <td>0.000000</td>\n",
       "      <td>3.000000</td>\n",
       "      <td>0.000000</td>\n",
       "      <td>0.000000</td>\n",
       "    </tr>\n",
       "    <tr>\n",
       "      <th>max</th>\n",
       "      <td>528657.000000</td>\n",
       "      <td>6587.000000</td>\n",
       "      <td>NaN</td>\n",
       "      <td>288.000000</td>\n",
       "      <td>156.000000</td>\n",
       "      <td>1.000000</td>\n",
       "      <td>4.000000</td>\n",
       "      <td>31.000000</td>\n",
       "      <td>2.000000</td>\n",
       "      <td>NaN</td>\n",
       "      <td>...</td>\n",
       "      <td>NaN</td>\n",
       "      <td>NaN</td>\n",
       "      <td>NaN</td>\n",
       "      <td>330.000000</td>\n",
       "      <td>1.000000</td>\n",
       "      <td>1.000000</td>\n",
       "      <td>7.000000</td>\n",
       "      <td>7.000000</td>\n",
       "      <td>7.000000</td>\n",
       "      <td>1.000000</td>\n",
       "    </tr>\n",
       "  </tbody>\n",
       "</table>\n",
       "<p>13 rows × 32 columns</p>\n",
       "</div>"
      ],
      "text/plain": [
       "           Patient_ID  Health_Camp_ID    Registration_Date          Var1  \\\n",
       "count    75278.000000    75278.000000                74944  75278.000000   \n",
       "unique            NaN             NaN                 1201           NaN   \n",
       "top               NaN             NaN  2006-03-28 00:00:00           NaN   \n",
       "freq              NaN             NaN                  868           NaN   \n",
       "first             NaN             NaN  2003-10-19 00:00:00           NaN   \n",
       "last              NaN             NaN  2007-02-09 00:00:00           NaN   \n",
       "mean    507233.325660     6547.597319                  NaN      0.796156   \n",
       "std      12404.734886       19.272983                  NaN      7.626687   \n",
       "min     485679.000000     6523.000000                  NaN      0.000000   \n",
       "25%     496505.250000     6534.000000                  NaN      0.000000   \n",
       "50%     507276.500000     6541.000000                  NaN      0.000000   \n",
       "75%     517919.000000     6562.000000                  NaN      0.000000   \n",
       "max     528657.000000     6587.000000                  NaN    288.000000   \n",
       "\n",
       "                Var2          Var3          Var4          Var5      flagdata  \\\n",
       "count   75278.000000  75278.000000  75278.000000  75278.000000  75278.000000   \n",
       "unique           NaN           NaN           NaN           NaN           NaN   \n",
       "top              NaN           NaN           NaN           NaN           NaN   \n",
       "freq             NaN           NaN           NaN           NaN           NaN   \n",
       "first            NaN           NaN           NaN           NaN           NaN   \n",
       "last             NaN           NaN           NaN           NaN           NaN   \n",
       "mean        0.238556      0.000385      0.022424      0.248386      1.222455   \n",
       "std         3.769594      0.019624      0.199570      1.213938      0.415898   \n",
       "min         0.000000      0.000000      0.000000      0.000000      1.000000   \n",
       "25%         0.000000      0.000000      0.000000      0.000000      1.000000   \n",
       "50%         0.000000      0.000000      0.000000      0.000000      1.000000   \n",
       "75%         0.000000      0.000000      0.000000      0.000000      1.000000   \n",
       "max       156.000000      1.000000      4.000000     31.000000      2.000000   \n",
       "\n",
       "         PatCamp_ID      ...         First_Interaction City_Type  \\\n",
       "count         75278      ...                     75278     42070   \n",
       "unique        75278      ...                      1474         9   \n",
       "top     497344_6549      ...       2004-09-08 00:00:00         B   \n",
       "freq              1      ...                      1497      8273   \n",
       "first           NaN      ...       2002-10-19 00:00:00       NaN   \n",
       "last            NaN      ...       2007-02-06 00:00:00       NaN   \n",
       "mean            NaN      ...                       NaN       NaN   \n",
       "std             NaN      ...                       NaN       NaN   \n",
       "min             NaN      ...                       NaN       NaN   \n",
       "25%             NaN      ...                       NaN       NaN   \n",
       "50%             NaN      ...                       NaN       NaN   \n",
       "75%             NaN      ...                       NaN       NaN   \n",
       "max             NaN      ...                       NaN       NaN   \n",
       "\n",
       "       Employer_Category     Donation  Health_Score  Health Score  \\\n",
       "count              15203  5491.000000  75278.000000  75278.000000   \n",
       "unique                14          NaN           NaN           NaN   \n",
       "top           Technology          NaN           NaN           NaN   \n",
       "freq                3533          NaN           NaN           NaN   \n",
       "first                NaN          NaN           NaN           NaN   \n",
       "last                 NaN          NaN           NaN           NaN   \n",
       "mean                 NaN    32.453105      0.037886      0.026261   \n",
       "std                  NaN    24.243966      0.156052      0.129754   \n",
       "min                  NaN    10.000000      0.000000      0.000000   \n",
       "25%                  NaN    20.000000      0.000000      0.000000   \n",
       "50%                  NaN    30.000000      0.000000      0.000000   \n",
       "75%                  NaN    40.000000      0.000000      0.000000   \n",
       "max                  NaN   330.000000      1.000000      1.000000   \n",
       "\n",
       "        Number_of_stall_visited  Last_Stall_Visited_Number     SumHealth  \\\n",
       "count              75278.000000                4343.000000  75278.000000   \n",
       "unique                      NaN                        NaN           NaN   \n",
       "top                         NaN                        NaN           NaN   \n",
       "freq                        NaN                        NaN           NaN   \n",
       "first                       NaN                        NaN           NaN   \n",
       "last                        NaN                        NaN           NaN   \n",
       "mean                   0.175483                   2.433571      0.239630   \n",
       "std                    0.821761                   1.467017      0.831851   \n",
       "min                    0.000000                   0.000000      0.000000   \n",
       "25%                    0.000000                   1.000000      0.000000   \n",
       "50%                    0.000000                   2.000000      0.000000   \n",
       "75%                    0.000000                   3.000000      0.000000   \n",
       "max                    7.000000                   7.000000      7.000000   \n",
       "\n",
       "              Target  \n",
       "count   75278.000000  \n",
       "unique           NaN  \n",
       "top              NaN  \n",
       "freq             NaN  \n",
       "first            NaN  \n",
       "last             NaN  \n",
       "mean        0.178605  \n",
       "std         0.383023  \n",
       "min         0.000000  \n",
       "25%         0.000000  \n",
       "50%         0.000000  \n",
       "75%         0.000000  \n",
       "max         1.000000  \n",
       "\n",
       "[13 rows x 32 columns]"
      ]
     },
     "execution_count": 41,
     "metadata": {},
     "output_type": "execute_result"
    }
   ],
   "source": [
    "datatrain.describe(include = 'all')"
   ]
  },
  {
   "cell_type": "code",
   "execution_count": 42,
   "metadata": {},
   "outputs": [],
   "source": [
    "datamatriz = datatrain.copy()\n",
    "datamatriz = pd.DataFrame(datamatriz)"
   ]
  },
  {
   "cell_type": "code",
   "execution_count": 43,
   "metadata": {},
   "outputs": [],
   "source": [
    "# creacion de variables"
   ]
  },
  {
   "cell_type": "code",
   "execution_count": 44,
   "metadata": {},
   "outputs": [],
   "source": [
    "colname = 'Registration_Date'\n",
    "datamatriz[colname+\"_year\"] = datamatriz[colname].dt.year\n",
    "datamatriz[colname+\"_month\"] = datamatriz[colname].dt.month\n",
    "datamatriz[colname+\"_day\"] = datamatriz[colname].dt.day \n",
    "datamatriz[colname+\"_weekday\"] = datamatriz[colname].dt.weekday # monday:0 , tuesday: 1 , ...\n",
    "datamatriz[colname+'_weekend'] = [1 if weekday >= 5 else 0 for weekday in datamatriz[colname+\"_weekday\"]]"
   ]
  },
  {
   "cell_type": "code",
   "execution_count": 45,
   "metadata": {},
   "outputs": [],
   "source": [
    "colname = 'Camp_Start_Date'\n",
    "datamatriz[colname+\"_year\"] = datamatriz[colname].dt.year\n",
    "datamatriz[colname+\"_month\"] = datamatriz[colname].dt.month\n",
    "datamatriz[colname+\"_day\"] = datamatriz[colname].dt.day \n",
    "datamatriz[colname+\"_weekday\"] = datamatriz[colname].dt.weekday # monday:0 , tuesday: 1 , ...\n",
    "datamatriz[colname+'_weekend'] = [1 if weekday >= 5 else 0 for weekday in datamatriz[colname+\"_weekday\"]]"
   ]
  },
  {
   "cell_type": "code",
   "execution_count": 46,
   "metadata": {},
   "outputs": [],
   "source": [
    "colname = 'Camp_End_Date'\n",
    "datamatriz[colname+\"_year\"] = datamatriz[colname].dt.year\n",
    "datamatriz[colname+\"_month\"] = datamatriz[colname].dt.month\n",
    "datamatriz[colname+\"_day\"] = datamatriz[colname].dt.day \n",
    "datamatriz[colname+\"_weekday\"] = datamatriz[colname].dt.weekday # monday:0 , tuesday: 1 , ...\n",
    "datamatriz[colname+'_weekend'] = [1 if weekday >= 5 else 0 for weekday in datamatriz[colname+\"_weekday\"]]"
   ]
  },
  {
   "cell_type": "code",
   "execution_count": 47,
   "metadata": {},
   "outputs": [],
   "source": [
    "colname = 'First_Interaction'\n",
    "datamatriz[colname+\"_year\"] = datamatriz[colname].dt.year\n",
    "datamatriz[colname+\"_month\"] = datamatriz[colname].dt.month\n",
    "datamatriz[colname+\"_day\"] = datamatriz[colname].dt.day \n",
    "datamatriz[colname+\"_weekday\"] = datamatriz[colname].dt.weekday # monday:0 , tuesday: 1 , ...\n",
    "datamatriz[colname+'_weekend'] = [1 if weekday >= 5 else 0 for weekday in datamatriz[colname+\"_weekday\"]]"
   ]
  },
  {
   "cell_type": "code",
   "execution_count": 48,
   "metadata": {},
   "outputs": [],
   "source": [
    "datamatriz['Dias_Durac_Camp'] = datamatriz.apply(lambda row: (row['Camp_End_Date'] - row['Camp_Start_Date']).days,axis = 1)"
   ]
  },
  {
   "cell_type": "code",
   "execution_count": 49,
   "metadata": {},
   "outputs": [],
   "source": [
    "datamatriz['Dias_Despues_1ra_Interaccion'] = datamatriz.apply(lambda row: (row['Registration_Date'] - row['First_Interaction']).days,axis = 1)"
   ]
  },
  {
   "cell_type": "code",
   "execution_count": 50,
   "metadata": {},
   "outputs": [],
   "source": [
    "datamatriz['dif_1rainteraccion'] = datamatriz.apply(lambda row: (row['Registration_Date'] - row['Camp_Start_Date']).days,axis = 1)"
   ]
  },
  {
   "cell_type": "code",
   "execution_count": 51,
   "metadata": {},
   "outputs": [],
   "source": [
    "datamatriz['dif_1rainteraccion'] = datamatriz.apply(lambda row: (row['Registration_Date'] - row['Camp_Start_Date']).days,axis = 1)"
   ]
  },
  {
   "cell_type": "code",
   "execution_count": 52,
   "metadata": {},
   "outputs": [],
   "source": [
    "datamatriz['dif_final_camp'] = datamatriz.apply(lambda row: (row['Camp_End_Date'] - row['Registration_Date']).days,axis = 1)"
   ]
  },
  {
   "cell_type": "code",
   "execution_count": 53,
   "metadata": {},
   "outputs": [],
   "source": [
    "datamatriz['prev_dia'] = datamatriz.apply(lambda row: (row['Registration_Date'] - row['First_Interaction']).days,axis = 1)"
   ]
  },
  {
   "cell_type": "code",
   "execution_count": 54,
   "metadata": {},
   "outputs": [],
   "source": [
    "datamatriz['FlagDonation'] = datamatriz[\"Donation\"].apply(lambda x: 1 if x>0 else 0)"
   ]
  },
  {
   "cell_type": "code",
   "execution_count": 55,
   "metadata": {},
   "outputs": [],
   "source": [
    "datamatriz[\"Qty_Interac\"]= datamatriz.apply(lambda row: (row['Online_Follower'] +\n",
    "                                                         row['LinkedIn_Shared'] +\n",
    "                                                         row['Twitter_Shared'] +\n",
    "                                                         row['Facebook_Shared'] \n",
    "                                                        ),axis = 1)"
   ]
  },
  {
   "cell_type": "code",
   "execution_count": 56,
   "metadata": {},
   "outputs": [],
   "source": [
    "# City_Type\n",
    "Dicc_City_Type = {'A':1, 'B':2, 'C':3, 'D':4, 'E':5, 'F':6, 'G':7, 'H':8, 'I':9, 'J':10}\n",
    "datamatriz['City_Type'] = datamatriz['City_Type'].map(Dicc_City_Type)"
   ]
  },
  {
   "cell_type": "code",
   "execution_count": 57,
   "metadata": {},
   "outputs": [],
   "source": [
    "Dicc_Employer_Category = {'Otros':0, 'Others':1, 'Consulting':2, 'Education':3, 'Transport':4,\n",
    "       'Software Industry':5, 'Technology':6, 'Real Estate':7, 'BFSI':8, 'Food':9,\n",
    "       'Manufacturing':10, 'Retail':11, 'Health':12, 'Telecom':13, 'Broadcasting':14}\n",
    "\n",
    "datamatriz['Employer_Category'] = datamatriz['Employer_Category'].map(Dicc_Employer_Category)"
   ]
  },
  {
   "cell_type": "code",
   "execution_count": 58,
   "metadata": {},
   "outputs": [],
   "source": [
    "# Dicc_Category1\n",
    "Dicc_Category1 = {'First':1, 'Second':2, 'Third':3}\n",
    "datamatriz['Category1'] = datamatriz['Category1'].map(Dicc_Category1)"
   ]
  },
  {
   "cell_type": "code",
   "execution_count": 59,
   "metadata": {},
   "outputs": [],
   "source": [
    "# Dicc_Category2\n",
    "Dicc_Category2 = {'A':1, 'B':2, 'C':3, 'D':4, 'E':5, 'F':6, 'G':7}\n",
    "datamatriz['Category2'] = datamatriz['Category2'].map(Dicc_Category2)"
   ]
  },
  {
   "cell_type": "code",
   "execution_count": 60,
   "metadata": {},
   "outputs": [],
   "source": [
    "# imputando missing"
   ]
  },
  {
   "cell_type": "code",
   "execution_count": 61,
   "metadata": {},
   "outputs": [],
   "source": [
    "datamatriz.fillna(-99, inplace=True)"
   ]
  },
  {
   "cell_type": "code",
   "execution_count": 63,
   "metadata": {},
   "outputs": [],
   "source": [
    "#datamatriz[\"Income\"].fillna(dftemp[\"Income\"].median(), inplace = True)"
   ]
  },
  {
   "cell_type": "code",
   "execution_count": 64,
   "metadata": {},
   "outputs": [],
   "source": [
    "#datamatriz[\"Education_Score\"].fillna(dftemp[\"Education_Score\"].mean(), inplace = True)"
   ]
  },
  {
   "cell_type": "code",
   "execution_count": 65,
   "metadata": {},
   "outputs": [],
   "source": [
    "#datamatriz[\"Age\"].fillna(dftemp[\"Age\"].median(), inplace = True)"
   ]
  },
  {
   "cell_type": "code",
   "execution_count": 66,
   "metadata": {},
   "outputs": [],
   "source": [
    "#datamatriz.City_Type = datamatriz.City_Type.fillna('J')"
   ]
  },
  {
   "cell_type": "code",
   "execution_count": 67,
   "metadata": {},
   "outputs": [],
   "source": [
    "#datamatriz.Employer_Category = datamatriz.Employer_Category.fillna('Otros')"
   ]
  },
  {
   "cell_type": "code",
   "execution_count": null,
   "metadata": {},
   "outputs": [],
   "source": []
  },
  {
   "cell_type": "code",
   "execution_count": null,
   "metadata": {},
   "outputs": [],
   "source": []
  },
  {
   "cell_type": "code",
   "execution_count": 68,
   "metadata": {
    "scrolled": true
   },
   "outputs": [
    {
     "data": {
      "text/plain": [
       "Patient_ID                      0\n",
       "Health_Camp_ID                  0\n",
       "Registration_Date               0\n",
       "Var1                            0\n",
       "Var2                            0\n",
       "Var3                            0\n",
       "Var4                            0\n",
       "Var5                            0\n",
       "flagdata                        0\n",
       "PatCamp_ID                      0\n",
       "Camp_Start_Date                 0\n",
       "Camp_End_Date                   0\n",
       "Category1                       0\n",
       "Category2                       0\n",
       "Category3                       0\n",
       "Online_Follower                 0\n",
       "LinkedIn_Shared                 0\n",
       "Twitter_Shared                  0\n",
       "Facebook_Shared                 0\n",
       "Income                          0\n",
       "Education_Score                 0\n",
       "Age                             0\n",
       "First_Interaction               0\n",
       "City_Type                       0\n",
       "Employer_Category               0\n",
       "Donation                        0\n",
       "Health_Score                    0\n",
       "Health Score                    0\n",
       "Number_of_stall_visited         0\n",
       "Last_Stall_Visited_Number       0\n",
       "SumHealth                       0\n",
       "Target                          0\n",
       "Registration_Date_year          0\n",
       "Registration_Date_month         0\n",
       "Registration_Date_day           0\n",
       "Registration_Date_weekday       0\n",
       "Registration_Date_weekend       0\n",
       "Camp_Start_Date_year            0\n",
       "Camp_Start_Date_month           0\n",
       "Camp_Start_Date_day             0\n",
       "Camp_Start_Date_weekday         0\n",
       "Camp_Start_Date_weekend         0\n",
       "Camp_End_Date_year              0\n",
       "Camp_End_Date_month             0\n",
       "Camp_End_Date_day               0\n",
       "Camp_End_Date_weekday           0\n",
       "Camp_End_Date_weekend           0\n",
       "First_Interaction_year          0\n",
       "First_Interaction_month         0\n",
       "First_Interaction_day           0\n",
       "First_Interaction_weekday       0\n",
       "First_Interaction_weekend       0\n",
       "Dias_Durac_Camp                 0\n",
       "Dias_Despues_1ra_Interaccion    0\n",
       "dif_1rainteraccion              0\n",
       "dif_final_camp                  0\n",
       "prev_dia                        0\n",
       "FlagDonation                    0\n",
       "Qty_Interac                     0\n",
       "dtype: int64"
      ]
     },
     "execution_count": 68,
     "metadata": {},
     "output_type": "execute_result"
    }
   ],
   "source": [
    "datamatriz.isnull().sum()"
   ]
  },
  {
   "cell_type": "code",
   "execution_count": 69,
   "metadata": {},
   "outputs": [],
   "source": [
    "# Ordenando en funcion al inicio de campamento / fin de campamento / cod paciente.\n",
    "datamatriz = datamatriz.sort_values(['Camp_Start_Date', 'Camp_End_Date', 'Patient_ID']).reset_index(drop=True)"
   ]
  },
  {
   "cell_type": "code",
   "execution_count": 70,
   "metadata": {},
   "outputs": [],
   "source": [
    "# preseleccion de variable"
   ]
  },
  {
   "cell_type": "code",
   "execution_count": 71,
   "metadata": {},
   "outputs": [
    {
     "data": {
      "text/plain": [
       "['Patient_ID',\n",
       " 'Health_Camp_ID',\n",
       " 'Registration_Date',\n",
       " 'Var1',\n",
       " 'Var2',\n",
       " 'Var3',\n",
       " 'Var4',\n",
       " 'Var5',\n",
       " 'flagdata',\n",
       " 'PatCamp_ID',\n",
       " 'Camp_Start_Date',\n",
       " 'Camp_End_Date',\n",
       " 'Category1',\n",
       " 'Category2',\n",
       " 'Category3',\n",
       " 'Online_Follower',\n",
       " 'LinkedIn_Shared',\n",
       " 'Twitter_Shared',\n",
       " 'Facebook_Shared',\n",
       " 'Income',\n",
       " 'Education_Score',\n",
       " 'Age',\n",
       " 'First_Interaction',\n",
       " 'City_Type',\n",
       " 'Employer_Category',\n",
       " 'Donation',\n",
       " 'Health_Score',\n",
       " 'Health Score',\n",
       " 'Number_of_stall_visited',\n",
       " 'Last_Stall_Visited_Number',\n",
       " 'SumHealth',\n",
       " 'Target',\n",
       " 'Registration_Date_year',\n",
       " 'Registration_Date_month',\n",
       " 'Registration_Date_day',\n",
       " 'Registration_Date_weekday',\n",
       " 'Registration_Date_weekend',\n",
       " 'Camp_Start_Date_year',\n",
       " 'Camp_Start_Date_month',\n",
       " 'Camp_Start_Date_day',\n",
       " 'Camp_Start_Date_weekday',\n",
       " 'Camp_Start_Date_weekend',\n",
       " 'Camp_End_Date_year',\n",
       " 'Camp_End_Date_month',\n",
       " 'Camp_End_Date_day',\n",
       " 'Camp_End_Date_weekday',\n",
       " 'Camp_End_Date_weekend',\n",
       " 'First_Interaction_year',\n",
       " 'First_Interaction_month',\n",
       " 'First_Interaction_day',\n",
       " 'First_Interaction_weekday',\n",
       " 'First_Interaction_weekend',\n",
       " 'Dias_Durac_Camp',\n",
       " 'Dias_Despues_1ra_Interaccion',\n",
       " 'dif_1rainteraccion',\n",
       " 'dif_final_camp',\n",
       " 'prev_dia',\n",
       " 'FlagDonation',\n",
       " 'Qty_Interac']"
      ]
     },
     "execution_count": 71,
     "metadata": {},
     "output_type": "execute_result"
    }
   ],
   "source": [
    "df = pd.DataFrame(datamatriz)\n",
    "list(df.columns)"
   ]
  },
  {
   "cell_type": "code",
   "execution_count": 72,
   "metadata": {},
   "outputs": [],
   "source": [
    "features_to_model =[\n",
    " 'Var1',\n",
    " 'Var2',\n",
    " 'Var3',\n",
    " 'Var4',\n",
    " 'Var5',\n",
    " 'flagdata',\n",
    " 'Category1',\n",
    " 'Category2',\n",
    " 'Category3',\n",
    " 'Online_Follower',\n",
    " 'LinkedIn_Shared',\n",
    " 'Twitter_Shared',\n",
    " 'Facebook_Shared',\n",
    " 'Income',\n",
    " 'Education_Score',\n",
    " 'Age',\n",
    " 'City_Type',\n",
    " 'Employer_Category',\n",
    " 'Donation',\n",
    " 'Registration_Date_year',\n",
    " 'Registration_Date_month',\n",
    " 'Registration_Date_day',\n",
    " 'Registration_Date_weekday',\n",
    " 'Registration_Date_weekend',\n",
    " 'Camp_Start_Date_year',\n",
    " 'Camp_Start_Date_month',\n",
    " 'Camp_Start_Date_day',\n",
    " 'Camp_Start_Date_weekday',\n",
    " 'Camp_Start_Date_weekend',\n",
    " 'Camp_End_Date_year',\n",
    " 'Camp_End_Date_month',\n",
    " 'Camp_End_Date_day',\n",
    " 'Camp_End_Date_weekday',\n",
    " 'Camp_End_Date_weekend',\n",
    " 'First_Interaction_year',\n",
    " 'First_Interaction_month',\n",
    " 'First_Interaction_day',\n",
    " 'First_Interaction_weekday',\n",
    " 'First_Interaction_weekend',\n",
    " 'Dias_Durac_Camp',\n",
    " 'Dias_Despues_1ra_Interaccion',\n",
    " 'dif_1rainteraccion',\n",
    " 'dif_final_camp',\n",
    " 'prev_dia',\n",
    " 'FlagDonation',\n",
    " 'Qty_Interac']"
   ]
  },
  {
   "cell_type": "code",
   "execution_count": 73,
   "metadata": {},
   "outputs": [],
   "source": [
    "X_data = df[features_to_model]"
   ]
  },
  {
   "cell_type": "code",
   "execution_count": 74,
   "metadata": {},
   "outputs": [],
   "source": [
    "X_data = X_data[X_data[features_to_model]['flagdata'] == 1]"
   ]
  },
  {
   "cell_type": "code",
   "execution_count": 75,
   "metadata": {},
   "outputs": [],
   "source": [
    "features_Y =[\n",
    " 'Target',\n",
    " 'flagdata']"
   ]
  },
  {
   "cell_type": "code",
   "execution_count": 76,
   "metadata": {
    "scrolled": true
   },
   "outputs": [],
   "source": [
    "y_data = df[features_Y]\n",
    "y_data = y_data[y_data[features_Y]['flagdata'] == 1]"
   ]
  },
  {
   "cell_type": "code",
   "execution_count": 77,
   "metadata": {},
   "outputs": [],
   "source": [
    "del X_data[\"flagdata\"]"
   ]
  },
  {
   "cell_type": "code",
   "execution_count": 78,
   "metadata": {},
   "outputs": [],
   "source": [
    "del y_data[\"flagdata\"]"
   ]
  },
  {
   "cell_type": "code",
   "execution_count": 79,
   "metadata": {
    "scrolled": true
   },
   "outputs": [
    {
     "name": "stdout",
     "output_type": "stream",
     "text": [
      "<class 'pandas.core.frame.DataFrame'>\n",
      "Int64Index: 58532 entries, 0 to 62390\n",
      "Data columns (total 1 columns):\n",
      "Target    58532 non-null int64\n",
      "dtypes: int64(1)\n",
      "memory usage: 914.6 KB\n"
     ]
    }
   ],
   "source": [
    "y_data.info()"
   ]
  },
  {
   "cell_type": "code",
   "execution_count": 80,
   "metadata": {
    "scrolled": true
   },
   "outputs": [
    {
     "name": "stdout",
     "output_type": "stream",
     "text": [
      "<class 'pandas.core.frame.DataFrame'>\n",
      "Int64Index: 58532 entries, 0 to 62390\n",
      "Data columns (total 45 columns):\n",
      "Var1                            58532 non-null int64\n",
      "Var2                            58532 non-null int64\n",
      "Var3                            58532 non-null int64\n",
      "Var4                            58532 non-null int64\n",
      "Var5                            58532 non-null int64\n",
      "Category1                       58532 non-null int64\n",
      "Category2                       58532 non-null int64\n",
      "Category3                       58532 non-null int64\n",
      "Online_Follower                 58532 non-null int64\n",
      "LinkedIn_Shared                 58532 non-null int64\n",
      "Twitter_Shared                  58532 non-null int64\n",
      "Facebook_Shared                 58532 non-null int64\n",
      "Income                          58532 non-null float64\n",
      "Education_Score                 58532 non-null float64\n",
      "Age                             58532 non-null float64\n",
      "City_Type                       58532 non-null float64\n",
      "Employer_Category               58532 non-null float64\n",
      "Donation                        58532 non-null float64\n",
      "Registration_Date_year          58532 non-null float64\n",
      "Registration_Date_month         58532 non-null float64\n",
      "Registration_Date_day           58532 non-null float64\n",
      "Registration_Date_weekday       58532 non-null float64\n",
      "Registration_Date_weekend       58532 non-null int64\n",
      "Camp_Start_Date_year            58532 non-null int64\n",
      "Camp_Start_Date_month           58532 non-null int64\n",
      "Camp_Start_Date_day             58532 non-null int64\n",
      "Camp_Start_Date_weekday         58532 non-null int64\n",
      "Camp_Start_Date_weekend         58532 non-null int64\n",
      "Camp_End_Date_year              58532 non-null int64\n",
      "Camp_End_Date_month             58532 non-null int64\n",
      "Camp_End_Date_day               58532 non-null int64\n",
      "Camp_End_Date_weekday           58532 non-null int64\n",
      "Camp_End_Date_weekend           58532 non-null int64\n",
      "First_Interaction_year          58532 non-null int64\n",
      "First_Interaction_month         58532 non-null int64\n",
      "First_Interaction_day           58532 non-null int64\n",
      "First_Interaction_weekday       58532 non-null int64\n",
      "First_Interaction_weekend       58532 non-null int64\n",
      "Dias_Durac_Camp                 58532 non-null int64\n",
      "Dias_Despues_1ra_Interaccion    58532 non-null float64\n",
      "dif_1rainteraccion              58532 non-null float64\n",
      "dif_final_camp                  58532 non-null float64\n",
      "prev_dia                        58532 non-null float64\n",
      "FlagDonation                    58532 non-null int64\n",
      "Qty_Interac                     58532 non-null int64\n",
      "dtypes: float64(14), int64(31)\n",
      "memory usage: 20.5 MB\n"
     ]
    }
   ],
   "source": [
    "X_data.info()"
   ]
  },
  {
   "cell_type": "code",
   "execution_count": 81,
   "metadata": {},
   "outputs": [],
   "source": [
    "# modelamiento "
   ]
  },
  {
   "cell_type": "code",
   "execution_count": 82,
   "metadata": {},
   "outputs": [
    {
     "name": "stderr",
     "output_type": "stream",
     "text": [
      "C:\\Users\\Andres\\Anaconda3\\lib\\site-packages\\sklearn\\cross_validation.py:41: DeprecationWarning: This module was deprecated in version 0.18 in favor of the model_selection module into which all the refactored classes and functions are moved. Also note that the interface of the new CV iterators are different from that of this module. This module will be removed in 0.20.\n",
      "  \"This module will be removed in 0.20.\", DeprecationWarning)\n"
     ]
    }
   ],
   "source": [
    "#separar daa de training y data de prueba\n",
    "#from sklearn import cross_validation\n",
    "from sklearn.cross_validation import train_test_split"
   ]
  },
  {
   "cell_type": "code",
   "execution_count": 83,
   "metadata": {},
   "outputs": [],
   "source": [
    "# como la seleccion de la data es manual se omite esta parte\n",
    "\n",
    "X_train, X_test, y_train, y_test = train_test_split(X_data,y_data,\n",
    "                                                                     train_size= 0.70 ,\n",
    "                                                                     random_state = 20)"
   ]
  },
  {
   "cell_type": "code",
   "execution_count": 84,
   "metadata": {
    "scrolled": true
   },
   "outputs": [
    {
     "name": "stdout",
     "output_type": "stream",
     "text": [
      "<class 'pandas.core.frame.DataFrame'>\n",
      "Int64Index: 17560 entries, 22806 to 25397\n",
      "Data columns (total 1 columns):\n",
      "Target    17560 non-null int64\n",
      "dtypes: int64(1)\n",
      "memory usage: 274.4 KB\n"
     ]
    }
   ],
   "source": [
    "y_test.info()"
   ]
  },
  {
   "cell_type": "code",
   "execution_count": 85,
   "metadata": {},
   "outputs": [],
   "source": [
    "def print_mc(matriz_conf):\n",
    "    matriz_conf = pd.DataFrame(matriz_conf)\n",
    "    matriz_conf.index = [\"Real_0\",\"Real_1\"]\n",
    "    matriz_conf.columns = [\"Pred_0\",\"Pred_1\"]\n",
    "    print(matriz_conf)"
   ]
  },
  {
   "cell_type": "code",
   "execution_count": 86,
   "metadata": {},
   "outputs": [],
   "source": [
    "################################## CURVA ROC ###############################\n",
    "def graficar_roc(y_test,y_pred_proba):\n",
    "    import matplotlib.pyplot as plt\n",
    "    from sklearn import metrics as mt\n",
    "    from sklearn.cross_validation import train_test_split\n",
    "\n",
    "    fpr, tpr, thresholds  = mt.roc_curve(y_test.astype('int'),y_pred_proba[:,1], pos_label = 1)\n",
    "\n",
    "    roc_auc = mt.auc(fpr, tpr)\n",
    "\n",
    "    print ('ROC AUC: %0.4f' % roc_auc)\n",
    "    gini_print = (2*roc_auc - 1)\n",
    "\n",
    "    # Plot of a ROC curve for a specific class\n",
    "    plt.figure(figsize=(8,6))\n",
    "    plt.plot(fpr, tpr, label='ROC curve (area = %0.4f) \\nGini (2*roc_auc - 1) = %0.4f' %(roc_auc,gini_print))\n",
    "    plt.plot([0, 1], [0, 1], 'k--')\n",
    "    plt.xlim([0.0, 1.0])\n",
    "    plt.ylim([0.0, 1.05])\n",
    "    plt.xlabel('False Positive Rate')\n",
    "    plt.ylabel('True Positive Rate')\n",
    "    plt.title('ROC Curve')\n",
    "    plt.legend(loc=\"lower right\")\n",
    "    plt.show()"
   ]
  },
  {
   "cell_type": "code",
   "execution_count": 87,
   "metadata": {},
   "outputs": [],
   "source": [
    "# aplicando el arbol"
   ]
  },
  {
   "cell_type": "code",
   "execution_count": 88,
   "metadata": {},
   "outputs": [],
   "source": [
    "from sklearn.tree import DecisionTreeClassifier"
   ]
  },
  {
   "cell_type": "code",
   "execution_count": 89,
   "metadata": {},
   "outputs": [],
   "source": [
    "#declarar el modelo a usar\n",
    "model = DecisionTreeClassifier(max_depth=6)"
   ]
  },
  {
   "cell_type": "code",
   "execution_count": 90,
   "metadata": {},
   "outputs": [
    {
     "data": {
      "text/plain": [
       "array([-99.,   1.,   3.,  14.,   6.,   2.,   5.,   9.,   8.,   4.,   7.,\n",
       "        11.,  12.,  10.,  13.])"
      ]
     },
     "execution_count": 90,
     "metadata": {},
     "output_type": "execute_result"
    }
   ],
   "source": [
    "X_train.Employer_Category.unique()"
   ]
  },
  {
   "cell_type": "code",
   "execution_count": 91,
   "metadata": {},
   "outputs": [],
   "source": [
    "#entrenar  (ajustar) el modelo\n",
    "model = model.fit(X_train , y_train)"
   ]
  },
  {
   "cell_type": "code",
   "execution_count": 92,
   "metadata": {},
   "outputs": [
    {
     "data": {
      "text/plain": [
       "array([[0., 1.],\n",
       "       [1., 0.],\n",
       "       [1., 0.],\n",
       "       ...,\n",
       "       [0., 1.],\n",
       "       [1., 0.],\n",
       "       [1., 0.]])"
      ]
     },
     "execution_count": 92,
     "metadata": {},
     "output_type": "execute_result"
    }
   ],
   "source": [
    "# codigo para crear las probabilidades utilizando \"predict_proba\"\n",
    "model.predict_proba(X_test)"
   ]
  },
  {
   "cell_type": "code",
   "execution_count": 93,
   "metadata": {},
   "outputs": [],
   "source": [
    "pred_train = model.predict(X_train)\n",
    "pred_test = model.predict(X_test)"
   ]
  },
  {
   "cell_type": "code",
   "execution_count": 94,
   "metadata": {},
   "outputs": [],
   "source": [
    "# Evaluacion del modelo"
   ]
  },
  {
   "cell_type": "code",
   "execution_count": 95,
   "metadata": {},
   "outputs": [],
   "source": [
    "from sklearn.metrics  import confusion_matrix\n",
    "from sklearn.metrics  import accuracy_score"
   ]
  },
  {
   "cell_type": "code",
   "execution_count": 97,
   "metadata": {},
   "outputs": [
    {
     "data": {
      "text/plain": [
       "array([[30223,  1353],\n",
       "       [ 1538,  7858]], dtype=int64)"
      ]
     },
     "execution_count": 97,
     "metadata": {},
     "output_type": "execute_result"
    }
   ],
   "source": [
    "confusion_matrix(y_train,pred_train)"
   ]
  },
  {
   "cell_type": "code",
   "execution_count": 98,
   "metadata": {},
   "outputs": [
    {
     "name": "stdout",
     "output_type": "stream",
     "text": [
      "el accuracy del modelo en data de testing es:  0.9310933940774487\n"
     ]
    }
   ],
   "source": [
    "accuracy_train = accuracy_score(y_test,pred_test)\n",
    "print(\"el accuracy del modelo en data de testing es: \" , accuracy_train)"
   ]
  },
  {
   "cell_type": "code",
   "execution_count": 99,
   "metadata": {},
   "outputs": [],
   "source": [
    "pred_proba_train = model.predict_proba(X_train)\n",
    "pred_proba_test = model.predict_proba(X_test)"
   ]
  },
  {
   "cell_type": "code",
   "execution_count": 100,
   "metadata": {},
   "outputs": [
    {
     "name": "stdout",
     "output_type": "stream",
     "text": [
      "ROC AUC: 0.9797\n"
     ]
    },
    {
     "data": {
      "image/png": "[encoded data removed]",
      "text/plain": [
       "<matplotlib.figure.Figure at 0x16705135198>"
      ]
     },
     "metadata": {},
     "output_type": "display_data"
    }
   ],
   "source": [
    "graficar_roc(y_test,pred_proba_test) "
   ]
  },
  {
   "cell_type": "code",
   "execution_count": 101,
   "metadata": {},
   "outputs": [],
   "source": [
    "X_testNew = df[features_to_model]"
   ]
  },
  {
   "cell_type": "code",
   "execution_count": 102,
   "metadata": {},
   "outputs": [],
   "source": [
    "X_testNew = X_testNew[X_testNew['flagdata'] == 2]"
   ]
  },
  {
   "cell_type": "code",
   "execution_count": 103,
   "metadata": {},
   "outputs": [],
   "source": [
    "del X_testNew[\"flagdata\"]"
   ]
  },
  {
   "cell_type": "code",
   "execution_count": 105,
   "metadata": {},
   "outputs": [],
   "source": [
    "df_predic = pd.DataFrame(model.predict_proba(X_testNew))"
   ]
  },
  {
   "cell_type": "code",
   "execution_count": 106,
   "metadata": {},
   "outputs": [
    {
     "data": {
      "text/plain": [
       "array([0.        , 0.43010753, 0.72972973, 0.7880117 , 0.73737374,\n",
       "       0.83910615, 0.38063439, 0.57486631, 0.77020202, 0.66165414,\n",
       "       0.65811966, 0.79130435, 1.        , 0.22979798, 0.58787879,\n",
       "       0.359     ])"
      ]
     },
     "execution_count": 106,
     "metadata": {},
     "output_type": "execute_result"
    }
   ],
   "source": [
    "df_predic[1].unique()"
   ]
  },
  {
   "cell_type": "code",
   "execution_count": 108,
   "metadata": {
    "scrolled": true
   },
   "outputs": [
    {
     "data": {
      "text/html": [
       "<div>\n",
       "<style scoped>\n",
       "    .dataframe tbody tr th:only-of-type {\n",
       "        vertical-align: middle;\n",
       "    }\n",
       "\n",
       "    .dataframe tbody tr th {\n",
       "        vertical-align: top;\n",
       "    }\n",
       "\n",
       "    .dataframe thead th {\n",
       "        text-align: right;\n",
       "    }\n",
       "</style>\n",
       "<table border=\"1\" class=\"dataframe\">\n",
       "  <thead>\n",
       "    <tr style=\"text-align: right;\">\n",
       "      <th></th>\n",
       "      <th>feature</th>\n",
       "      <th>importance</th>\n",
       "    </tr>\n",
       "  </thead>\n",
       "  <tbody>\n",
       "    <tr>\n",
       "      <th>0</th>\n",
       "      <td>FlagDonation</td>\n",
       "      <td>0.477889</td>\n",
       "    </tr>\n",
       "    <tr>\n",
       "      <th>1</th>\n",
       "      <td>Category1</td>\n",
       "      <td>0.416648</td>\n",
       "    </tr>\n",
       "    <tr>\n",
       "      <th>2</th>\n",
       "      <td>dif_1rainteraccion</td>\n",
       "      <td>0.072545</td>\n",
       "    </tr>\n",
       "    <tr>\n",
       "      <th>3</th>\n",
       "      <td>Dias_Durac_Camp</td>\n",
       "      <td>0.010338</td>\n",
       "    </tr>\n",
       "    <tr>\n",
       "      <th>4</th>\n",
       "      <td>Age</td>\n",
       "      <td>0.009931</td>\n",
       "    </tr>\n",
       "    <tr>\n",
       "      <th>5</th>\n",
       "      <td>Dias_Despues_1ra_Interaccion</td>\n",
       "      <td>0.006663</td>\n",
       "    </tr>\n",
       "    <tr>\n",
       "      <th>6</th>\n",
       "      <td>dif_final_camp</td>\n",
       "      <td>0.003608</td>\n",
       "    </tr>\n",
       "    <tr>\n",
       "      <th>7</th>\n",
       "      <td>Education_Score</td>\n",
       "      <td>0.001398</td>\n",
       "    </tr>\n",
       "    <tr>\n",
       "      <th>8</th>\n",
       "      <td>City_Type</td>\n",
       "      <td>0.000529</td>\n",
       "    </tr>\n",
       "    <tr>\n",
       "      <th>9</th>\n",
       "      <td>Income</td>\n",
       "      <td>0.000453</td>\n",
       "    </tr>\n",
       "    <tr>\n",
       "      <th>10</th>\n",
       "      <td>prev_dia</td>\n",
       "      <td>0.000000</td>\n",
       "    </tr>\n",
       "    <tr>\n",
       "      <th>11</th>\n",
       "      <td>Var5</td>\n",
       "      <td>0.000000</td>\n",
       "    </tr>\n",
       "    <tr>\n",
       "      <th>12</th>\n",
       "      <td>Var4</td>\n",
       "      <td>0.000000</td>\n",
       "    </tr>\n",
       "    <tr>\n",
       "      <th>13</th>\n",
       "      <td>Var3</td>\n",
       "      <td>0.000000</td>\n",
       "    </tr>\n",
       "    <tr>\n",
       "      <th>14</th>\n",
       "      <td>Var2</td>\n",
       "      <td>0.000000</td>\n",
       "    </tr>\n",
       "    <tr>\n",
       "      <th>15</th>\n",
       "      <td>Var1</td>\n",
       "      <td>0.000000</td>\n",
       "    </tr>\n",
       "    <tr>\n",
       "      <th>16</th>\n",
       "      <td>Twitter_Shared</td>\n",
       "      <td>0.000000</td>\n",
       "    </tr>\n",
       "    <tr>\n",
       "      <th>17</th>\n",
       "      <td>Registration_Date_year</td>\n",
       "      <td>0.000000</td>\n",
       "    </tr>\n",
       "    <tr>\n",
       "      <th>18</th>\n",
       "      <td>Registration_Date_weekend</td>\n",
       "      <td>0.000000</td>\n",
       "    </tr>\n",
       "    <tr>\n",
       "      <th>19</th>\n",
       "      <td>Registration_Date_weekday</td>\n",
       "      <td>0.000000</td>\n",
       "    </tr>\n",
       "    <tr>\n",
       "      <th>20</th>\n",
       "      <td>Registration_Date_month</td>\n",
       "      <td>0.000000</td>\n",
       "    </tr>\n",
       "    <tr>\n",
       "      <th>21</th>\n",
       "      <td>Registration_Date_day</td>\n",
       "      <td>0.000000</td>\n",
       "    </tr>\n",
       "    <tr>\n",
       "      <th>22</th>\n",
       "      <td>Qty_Interac</td>\n",
       "      <td>0.000000</td>\n",
       "    </tr>\n",
       "    <tr>\n",
       "      <th>23</th>\n",
       "      <td>Online_Follower</td>\n",
       "      <td>0.000000</td>\n",
       "    </tr>\n",
       "    <tr>\n",
       "      <th>24</th>\n",
       "      <td>LinkedIn_Shared</td>\n",
       "      <td>0.000000</td>\n",
       "    </tr>\n",
       "    <tr>\n",
       "      <th>25</th>\n",
       "      <td>First_Interaction_year</td>\n",
       "      <td>0.000000</td>\n",
       "    </tr>\n",
       "    <tr>\n",
       "      <th>26</th>\n",
       "      <td>First_Interaction_weekend</td>\n",
       "      <td>0.000000</td>\n",
       "    </tr>\n",
       "    <tr>\n",
       "      <th>27</th>\n",
       "      <td>First_Interaction_weekday</td>\n",
       "      <td>0.000000</td>\n",
       "    </tr>\n",
       "    <tr>\n",
       "      <th>28</th>\n",
       "      <td>First_Interaction_month</td>\n",
       "      <td>0.000000</td>\n",
       "    </tr>\n",
       "    <tr>\n",
       "      <th>29</th>\n",
       "      <td>First_Interaction_day</td>\n",
       "      <td>0.000000</td>\n",
       "    </tr>\n",
       "    <tr>\n",
       "      <th>30</th>\n",
       "      <td>Facebook_Shared</td>\n",
       "      <td>0.000000</td>\n",
       "    </tr>\n",
       "    <tr>\n",
       "      <th>31</th>\n",
       "      <td>Employer_Category</td>\n",
       "      <td>0.000000</td>\n",
       "    </tr>\n",
       "    <tr>\n",
       "      <th>32</th>\n",
       "      <td>Donation</td>\n",
       "      <td>0.000000</td>\n",
       "    </tr>\n",
       "    <tr>\n",
       "      <th>33</th>\n",
       "      <td>Category3</td>\n",
       "      <td>0.000000</td>\n",
       "    </tr>\n",
       "    <tr>\n",
       "      <th>34</th>\n",
       "      <td>Category2</td>\n",
       "      <td>0.000000</td>\n",
       "    </tr>\n",
       "    <tr>\n",
       "      <th>35</th>\n",
       "      <td>Camp_Start_Date_year</td>\n",
       "      <td>0.000000</td>\n",
       "    </tr>\n",
       "    <tr>\n",
       "      <th>36</th>\n",
       "      <td>Camp_Start_Date_weekend</td>\n",
       "      <td>0.000000</td>\n",
       "    </tr>\n",
       "    <tr>\n",
       "      <th>37</th>\n",
       "      <td>Camp_Start_Date_weekday</td>\n",
       "      <td>0.000000</td>\n",
       "    </tr>\n",
       "    <tr>\n",
       "      <th>38</th>\n",
       "      <td>Camp_Start_Date_month</td>\n",
       "      <td>0.000000</td>\n",
       "    </tr>\n",
       "    <tr>\n",
       "      <th>39</th>\n",
       "      <td>Camp_Start_Date_day</td>\n",
       "      <td>0.000000</td>\n",
       "    </tr>\n",
       "    <tr>\n",
       "      <th>40</th>\n",
       "      <td>Camp_End_Date_year</td>\n",
       "      <td>0.000000</td>\n",
       "    </tr>\n",
       "    <tr>\n",
       "      <th>41</th>\n",
       "      <td>Camp_End_Date_weekend</td>\n",
       "      <td>0.000000</td>\n",
       "    </tr>\n",
       "    <tr>\n",
       "      <th>42</th>\n",
       "      <td>Camp_End_Date_weekday</td>\n",
       "      <td>0.000000</td>\n",
       "    </tr>\n",
       "    <tr>\n",
       "      <th>43</th>\n",
       "      <td>Camp_End_Date_month</td>\n",
       "      <td>0.000000</td>\n",
       "    </tr>\n",
       "    <tr>\n",
       "      <th>44</th>\n",
       "      <td>Camp_End_Date_day</td>\n",
       "      <td>0.000000</td>\n",
       "    </tr>\n",
       "  </tbody>\n",
       "</table>\n",
       "</div>"
      ],
      "text/plain": [
       "                         feature  importance\n",
       "0                   FlagDonation    0.477889\n",
       "1                      Category1    0.416648\n",
       "2             dif_1rainteraccion    0.072545\n",
       "3                Dias_Durac_Camp    0.010338\n",
       "4                            Age    0.009931\n",
       "5   Dias_Despues_1ra_Interaccion    0.006663\n",
       "6                 dif_final_camp    0.003608\n",
       "7                Education_Score    0.001398\n",
       "8                      City_Type    0.000529\n",
       "9                         Income    0.000453\n",
       "10                      prev_dia    0.000000\n",
       "11                          Var5    0.000000\n",
       "12                          Var4    0.000000\n",
       "13                          Var3    0.000000\n",
       "14                          Var2    0.000000\n",
       "15                          Var1    0.000000\n",
       "16                Twitter_Shared    0.000000\n",
       "17        Registration_Date_year    0.000000\n",
       "18     Registration_Date_weekend    0.000000\n",
       "19     Registration_Date_weekday    0.000000\n",
       "20       Registration_Date_month    0.000000\n",
       "21         Registration_Date_day    0.000000\n",
       "22                   Qty_Interac    0.000000\n",
       "23               Online_Follower    0.000000\n",
       "24               LinkedIn_Shared    0.000000\n",
       "25        First_Interaction_year    0.000000\n",
       "26     First_Interaction_weekend    0.000000\n",
       "27     First_Interaction_weekday    0.000000\n",
       "28       First_Interaction_month    0.000000\n",
       "29         First_Interaction_day    0.000000\n",
       "30               Facebook_Shared    0.000000\n",
       "31             Employer_Category    0.000000\n",
       "32                      Donation    0.000000\n",
       "33                     Category3    0.000000\n",
       "34                     Category2    0.000000\n",
       "35          Camp_Start_Date_year    0.000000\n",
       "36       Camp_Start_Date_weekend    0.000000\n",
       "37       Camp_Start_Date_weekday    0.000000\n",
       "38         Camp_Start_Date_month    0.000000\n",
       "39           Camp_Start_Date_day    0.000000\n",
       "40            Camp_End_Date_year    0.000000\n",
       "41         Camp_End_Date_weekend    0.000000\n",
       "42         Camp_End_Date_weekday    0.000000\n",
       "43           Camp_End_Date_month    0.000000\n",
       "44             Camp_End_Date_day    0.000000"
      ]
     },
     "execution_count": 108,
     "metadata": {},
     "output_type": "execute_result"
    }
   ],
   "source": [
    "features = pd.DataFrame()\n",
    "features['feature'] = X_testNew.columns\n",
    "features['importance'] = model.feature_importances_\n",
    "ftrs = features.sort_values(by = ['importance','feature'],ascending=False)\n",
    "ftrs = ftrs.reset_index(drop = True)\n",
    "ftrs"
   ]
  },
  {
   "cell_type": "code",
   "execution_count": 109,
   "metadata": {},
   "outputs": [],
   "source": [
    "import seaborn as sns\n",
    "import matplotlib.pyplot as plt\n",
    "\n",
    "%matplotlib inline"
   ]
  },
  {
   "cell_type": "code",
   "execution_count": 110,
   "metadata": {},
   "outputs": [
    {
     "data": {
      "image/png": "[encoded data removed]",
      "text/plain": [
       "<matplotlib.figure.Figure at 0x167051f4048>"
      ]
     },
     "metadata": {},
     "output_type": "display_data"
    }
   ],
   "source": [
    "fig, ax = plt.subplots(nrows=1, ncols=1, figsize=(30, 7))\n",
    "g = sns.barplot(x='feature', y='importance', data=ftrs, order=ftrs['feature'], ax=ax, palette='BuGn_r')"
   ]
  },
  {
   "cell_type": "code",
   "execution_count": 121,
   "metadata": {},
   "outputs": [],
   "source": [
    "features =[\n",
    " 'Patient_ID',\n",
    " 'Health_Camp_ID']\n",
    "X_testNew = df[df['flagdata'] == 2]\n",
    "X_testNew = X_testNew[features]\n",
    "\n",
    "X_testNew.to_csv('testnew.csv', header=True, index=False,sep=\";\")"
   ]
  },
  {
   "cell_type": "code",
   "execution_count": 122,
   "metadata": {},
   "outputs": [],
   "source": [
    "df_predic[1].to_csv('prediccion02.csv', header=True, index=False)"
   ]
  },
  {
   "cell_type": "code",
   "execution_count": 115,
   "metadata": {
    "scrolled": true
   },
   "outputs": [
    {
     "name": "stdout",
     "output_type": "stream",
     "text": [
      "<class 'pandas.core.frame.DataFrame'>\n",
      "RangeIndex: 75278 entries, 0 to 75277\n",
      "Data columns (total 59 columns):\n",
      "Patient_ID                      75278 non-null int64\n",
      "Health_Camp_ID                  75278 non-null int64\n",
      "Registration_Date               75278 non-null object\n",
      "Var1                            75278 non-null int64\n",
      "Var2                            75278 non-null int64\n",
      "Var3                            75278 non-null int64\n",
      "Var4                            75278 non-null int64\n",
      "Var5                            75278 non-null int64\n",
      "flagdata                        75278 non-null int64\n",
      "PatCamp_ID                      75278 non-null object\n",
      "Camp_Start_Date                 75278 non-null datetime64[ns]\n",
      "Camp_End_Date                   75278 non-null datetime64[ns]\n",
      "Category1                       75278 non-null int64\n",
      "Category2                       75278 non-null int64\n",
      "Category3                       75278 non-null int64\n",
      "Online_Follower                 75278 non-null int64\n",
      "LinkedIn_Shared                 75278 non-null int64\n",
      "Twitter_Shared                  75278 non-null int64\n",
      "Facebook_Shared                 75278 non-null int64\n",
      "Income                          75278 non-null float64\n",
      "Education_Score                 75278 non-null float64\n",
      "Age                             75278 non-null float64\n",
      "First_Interaction               75278 non-null datetime64[ns]\n",
      "City_Type                       75278 non-null float64\n",
      "Employer_Category               75278 non-null float64\n",
      "Donation                        75278 non-null float64\n",
      "Health_Score                    75278 non-null float64\n",
      "Health Score                    75278 non-null float64\n",
      "Number_of_stall_visited         75278 non-null float64\n",
      "Last_Stall_Visited_Number       75278 non-null float64\n",
      "SumHealth                       75278 non-null float64\n",
      "Target                          75278 non-null int64\n",
      "Registration_Date_year          75278 non-null float64\n",
      "Registration_Date_month         75278 non-null float64\n",
      "Registration_Date_day           75278 non-null float64\n",
      "Registration_Date_weekday       75278 non-null float64\n",
      "Registration_Date_weekend       75278 non-null int64\n",
      "Camp_Start_Date_year            75278 non-null int64\n",
      "Camp_Start_Date_month           75278 non-null int64\n",
      "Camp_Start_Date_day             75278 non-null int64\n",
      "Camp_Start_Date_weekday         75278 non-null int64\n",
      "Camp_Start_Date_weekend         75278 non-null int64\n",
      "Camp_End_Date_year              75278 non-null int64\n",
      "Camp_End_Date_month             75278 non-null int64\n",
      "Camp_End_Date_day               75278 non-null int64\n",
      "Camp_End_Date_weekday           75278 non-null int64\n",
      "Camp_End_Date_weekend           75278 non-null int64\n",
      "First_Interaction_year          75278 non-null int64\n",
      "First_Interaction_month         75278 non-null int64\n",
      "First_Interaction_day           75278 non-null int64\n",
      "First_Interaction_weekday       75278 non-null int64\n",
      "First_Interaction_weekend       75278 non-null int64\n",
      "Dias_Durac_Camp                 75278 non-null int64\n",
      "Dias_Despues_1ra_Interaccion    75278 non-null float64\n",
      "dif_1rainteraccion              75278 non-null float64\n",
      "dif_final_camp                  75278 non-null float64\n",
      "prev_dia                        75278 non-null float64\n",
      "FlagDonation                    75278 non-null int64\n",
      "Qty_Interac                     75278 non-null int64\n",
      "dtypes: datetime64[ns](3), float64(19), int64(35), object(2)\n",
      "memory usage: 33.9+ MB\n"
     ]
    }
   ],
   "source": [
    "df.info()"
   ]
  },
  {
   "cell_type": "markdown",
   "metadata": {},
   "source": [
    "## REGRESION LOGISTICA"
   ]
  },
  {
   "cell_type": "markdown",
   "metadata": {},
   "source": [
    "### Entrenamiento y Predicción"
   ]
  },
  {
   "cell_type": "code",
   "execution_count": 181,
   "metadata": {},
   "outputs": [],
   "source": [
    "from sklearn.linear_model import LogisticRegression"
   ]
  },
  {
   "cell_type": "code",
   "execution_count": 182,
   "metadata": {},
   "outputs": [],
   "source": [
    "# Crear objeto modelo (Instanciar)\n",
    "model_regl = LogisticRegression()"
   ]
  },
  {
   "cell_type": "code",
   "execution_count": 183,
   "metadata": {},
   "outputs": [
    {
     "name": "stderr",
     "output_type": "stream",
     "text": [
      "C:\\Users\\Andres\\Anaconda3\\lib\\site-packages\\sklearn\\utils\\validation.py:578: DataConversionWarning: A column-vector y was passed when a 1d array was expected. Please change the shape of y to (n_samples, ), for example using ravel().\n",
      "  y = column_or_1d(y, warn=True)\n"
     ]
    }
   ],
   "source": [
    "# Entrenar (ajustar) el modelo:\n",
    "model = model_regl.fit(X_train,y_train)"
   ]
  },
  {
   "cell_type": "code",
   "execution_count": 184,
   "metadata": {},
   "outputs": [],
   "source": [
    "# Generar las predicciones:\n",
    "pred_train = model.predict(X_train)\n",
    "pred_test = model.predict(X_test)\n",
    "\n",
    "# Generar las probabilidades\n",
    "pred_proba_train = model.predict_proba(X_train)\n",
    "pred_proba_test = model.predict_proba(X_test)"
   ]
  },
  {
   "cell_type": "markdown",
   "metadata": {},
   "source": [
    "## Evaluación del Modelo"
   ]
  },
  {
   "cell_type": "code",
   "execution_count": 185,
   "metadata": {},
   "outputs": [],
   "source": [
    "from sklearn import metrics as mt"
   ]
  },
  {
   "cell_type": "code",
   "execution_count": 186,
   "metadata": {},
   "outputs": [
    {
     "name": "stdout",
     "output_type": "stream",
     "text": [
      "Metricas del Training...\n"
     ]
    }
   ],
   "source": [
    "# Sobre el Training Data\n",
    "print(\"Metricas del Training...\")"
   ]
  },
  {
   "cell_type": "code",
   "execution_count": 187,
   "metadata": {},
   "outputs": [
    {
     "name": "stdout",
     "output_type": "stream",
     "text": [
      "        Pred_0  Pred_1\n",
      "Real_0   29714    1862\n",
      "Real_1    1614    7782\n"
     ]
    }
   ],
   "source": [
    "matriz_conf = mt.confusion_matrix(y_train,pred_train)\n",
    "print_mc(matriz_conf)"
   ]
  },
  {
   "cell_type": "code",
   "execution_count": 188,
   "metadata": {},
   "outputs": [
    {
     "name": "stdout",
     "output_type": "stream",
     "text": [
      "Accuracy - Train: 0.9151615737576881\n"
     ]
    }
   ],
   "source": [
    "accuracy_train = mt.accuracy_score(y_train,pred_train)\n",
    "print(\"Accuracy - Train:\", accuracy_train)"
   ]
  },
  {
   "cell_type": "code",
   "execution_count": 189,
   "metadata": {},
   "outputs": [
    {
     "name": "stdout",
     "output_type": "stream",
     "text": [
      "             precision    recall  f1-score   support\n",
      "\n",
      "          0      0.948     0.941     0.945     31576\n",
      "          1      0.807     0.828     0.817      9396\n",
      "\n",
      "avg / total      0.916     0.915     0.916     40972\n",
      "\n"
     ]
    }
   ],
   "source": [
    "print(mt.classification_report(y_train,pred_train,digits = 3))"
   ]
  },
  {
   "cell_type": "code",
   "execution_count": 190,
   "metadata": {},
   "outputs": [
    {
     "name": "stdout",
     "output_type": "stream",
     "text": [
      "ROC AUC: 0.9735\n"
     ]
    },
    {
     "data": {
      "image/png": "[encoded data removed]",
      "text/plain": [
       "<matplotlib.figure.Figure at 0x1670aab6be0>"
      ]
     },
     "metadata": {},
     "output_type": "display_data"
    }
   ],
   "source": [
    "graficar_roc(y_train,pred_proba_train)"
   ]
  },
  {
   "cell_type": "code",
   "execution_count": 191,
   "metadata": {},
   "outputs": [
    {
     "name": "stdout",
     "output_type": "stream",
     "text": [
      "Metricas del testing...\n"
     ]
    }
   ],
   "source": [
    "# Sobre el testing Data\n",
    "print(\"Metricas del testing...\")"
   ]
  },
  {
   "cell_type": "code",
   "execution_count": 192,
   "metadata": {},
   "outputs": [
    {
     "name": "stdout",
     "output_type": "stream",
     "text": [
      "        Pred_0  Pred_1\n",
      "Real_0   12712     799\n",
      "Real_1     687    3362\n"
     ]
    }
   ],
   "source": [
    "matriz_conf = mt.confusion_matrix(y_test,pred_test)\n",
    "print_mc(matriz_conf)"
   ]
  },
  {
   "cell_type": "code",
   "execution_count": 193,
   "metadata": {},
   "outputs": [
    {
     "name": "stdout",
     "output_type": "stream",
     "text": [
      "Accuracy - test: 0.915375854214123\n"
     ]
    }
   ],
   "source": [
    "accuracy_test = mt.accuracy_score(y_test,pred_test)\n",
    "print(\"Accuracy - test:\", accuracy_test) "
   ]
  },
  {
   "cell_type": "code",
   "execution_count": 194,
   "metadata": {},
   "outputs": [
    {
     "name": "stdout",
     "output_type": "stream",
     "text": [
      "             precision    recall  f1-score   support\n",
      "\n",
      "          0      0.949     0.941     0.945     13511\n",
      "          1      0.808     0.830     0.819      4049\n",
      "\n",
      "avg / total      0.916     0.915     0.916     17560\n",
      "\n"
     ]
    }
   ],
   "source": [
    "print(mt.classification_report(y_test,pred_test,digits = 3))"
   ]
  },
  {
   "cell_type": "code",
   "execution_count": 195,
   "metadata": {},
   "outputs": [
    {
     "name": "stdout",
     "output_type": "stream",
     "text": [
      "ROC AUC: 0.9739\n"
     ]
    },
    {
     "data": {
      "image/png": "[encoded data removed]",
      "text/plain": [
       "<matplotlib.figure.Figure at 0x1670a6e8fd0>"
      ]
     },
     "metadata": {},
     "output_type": "display_data"
    }
   ],
   "source": [
    "graficar_roc(y_test,pred_proba_test)"
   ]
  },
  {
   "cell_type": "code",
   "execution_count": null,
   "metadata": {},
   "outputs": [],
   "source": []
  },
  {
   "cell_type": "code",
   "execution_count": null,
   "metadata": {},
   "outputs": [],
   "source": []
  },
  {
   "cell_type": "markdown",
   "metadata": {},
   "source": [
    "# MODELOS ENSAMBLADOS"
   ]
  },
  {
   "cell_type": "markdown",
   "metadata": {},
   "source": [
    "## RANDOM FOREST"
   ]
  },
  {
   "cell_type": "markdown",
   "metadata": {},
   "source": [
    "### Entrenamiento y Predicción"
   ]
  },
  {
   "cell_type": "code",
   "execution_count": 123,
   "metadata": {},
   "outputs": [],
   "source": [
    "from sklearn.ensemble import RandomForestClassifier"
   ]
  },
  {
   "cell_type": "code",
   "execution_count": 124,
   "metadata": {},
   "outputs": [],
   "source": [
    "# Crear objeto modelo (Instanciar)\n",
    "model_rf = RandomForestClassifier(max_depth=5, n_estimators= 50, \n",
    "                                  random_state=100 , max_features = 5)"
   ]
  },
  {
   "cell_type": "code",
   "execution_count": 217,
   "metadata": {},
   "outputs": [
    {
     "name": "stderr",
     "output_type": "stream",
     "text": [
      "C:\\Users\\Andres\\Anaconda3\\lib\\site-packages\\ipykernel_launcher.py:2: DataConversionWarning: A column-vector y was passed when a 1d array was expected. Please change the shape of y to (n_samples,), for example using ravel().\n",
      "  \n"
     ]
    }
   ],
   "source": [
    "# Entrenar (ajustar) el modelo:\n",
    "modelRF = model_rf.fit(X_train,y_train)"
   ]
  },
  {
   "cell_type": "code",
   "execution_count": 218,
   "metadata": {},
   "outputs": [],
   "source": [
    "# Generar las predicciones:\n",
    "pred_train = modelRF.predict(X_train)\n",
    "pred_test = modelRF.predict(X_test)\n",
    "\n",
    "# Generar las probabilidades\n",
    "pred_proba_train = modelRF.predict_proba(X_train)\n",
    "pred_proba_test = modelRF.predict_proba(X_test)"
   ]
  },
  {
   "cell_type": "markdown",
   "metadata": {},
   "source": [
    "### Evaluación del Modelo"
   ]
  },
  {
   "cell_type": "code",
   "execution_count": 219,
   "metadata": {},
   "outputs": [],
   "source": [
    "from sklearn import metrics as mt"
   ]
  },
  {
   "cell_type": "code",
   "execution_count": 220,
   "metadata": {},
   "outputs": [
    {
     "name": "stdout",
     "output_type": "stream",
     "text": [
      "Metricas del Training...\n"
     ]
    }
   ],
   "source": [
    "# Sobre el Training Data\n",
    "print(\"Metricas del Training...\")"
   ]
  },
  {
   "cell_type": "code",
   "execution_count": 221,
   "metadata": {},
   "outputs": [
    {
     "name": "stdout",
     "output_type": "stream",
     "text": [
      "        Pred_0  Pred_1\n",
      "Real_0   29980    1596\n",
      "Real_1    1524    7872\n"
     ]
    }
   ],
   "source": [
    "matriz_conf = mt.confusion_matrix(y_train,pred_train)\n",
    "print_mc(matriz_conf)"
   ]
  },
  {
   "cell_type": "code",
   "execution_count": 130,
   "metadata": {},
   "outputs": [
    {
     "name": "stdout",
     "output_type": "stream",
     "text": [
      "Accuracy - Train: 0.9238504344430343\n"
     ]
    }
   ],
   "source": [
    "accuracy_train = mt.accuracy_score(y_train,pred_train)\n",
    "print(\"Accuracy - Train:\", accuracy_train)"
   ]
  },
  {
   "cell_type": "code",
   "execution_count": 131,
   "metadata": {},
   "outputs": [
    {
     "name": "stdout",
     "output_type": "stream",
     "text": [
      "             precision    recall  f1-score   support\n",
      "\n",
      "          0      0.952     0.949     0.951     31576\n",
      "          1      0.831     0.838     0.835      9396\n",
      "\n",
      "avg / total      0.924     0.924     0.924     40972\n",
      "\n"
     ]
    }
   ],
   "source": [
    "print(mt.classification_report(y_train,pred_train,digits = 3))"
   ]
  },
  {
   "cell_type": "code",
   "execution_count": 132,
   "metadata": {},
   "outputs": [
    {
     "name": "stdout",
     "output_type": "stream",
     "text": [
      "ROC AUC: 0.9778\n"
     ]
    },
    {
     "data": {
      "image/png": "[encoded data removed]",
      "text/plain": [
       "<matplotlib.figure.Figure at 0x16709de7da0>"
      ]
     },
     "metadata": {},
     "output_type": "display_data"
    }
   ],
   "source": [
    "graficar_roc(y_train,pred_proba_train)"
   ]
  },
  {
   "cell_type": "code",
   "execution_count": 133,
   "metadata": {},
   "outputs": [
    {
     "name": "stdout",
     "output_type": "stream",
     "text": [
      "Metricas del testing...\n"
     ]
    }
   ],
   "source": [
    "# Sobre el testing Data\n",
    "print(\"Metricas del testing...\")"
   ]
  },
  {
   "cell_type": "code",
   "execution_count": 134,
   "metadata": {},
   "outputs": [
    {
     "name": "stdout",
     "output_type": "stream",
     "text": [
      "        Pred_0  Pred_1\n",
      "Real_0   12821     690\n",
      "Real_1     651    3398\n"
     ]
    }
   ],
   "source": [
    "matriz_conf = mt.confusion_matrix(y_test,pred_test)\n",
    "print_mc(matriz_conf)"
   ]
  },
  {
   "cell_type": "code",
   "execution_count": 135,
   "metadata": {},
   "outputs": [
    {
     "name": "stdout",
     "output_type": "stream",
     "text": [
      "Accuracy - test: 0.923633257403189\n"
     ]
    }
   ],
   "source": [
    "accuracy_test = mt.accuracy_score(y_test,pred_test)\n",
    "print(\"Accuracy - test:\", accuracy_test)"
   ]
  },
  {
   "cell_type": "code",
   "execution_count": 136,
   "metadata": {},
   "outputs": [
    {
     "name": "stdout",
     "output_type": "stream",
     "text": [
      "             precision    recall  f1-score   support\n",
      "\n",
      "          0      0.952     0.949     0.950     13511\n",
      "          1      0.831     0.839     0.835      4049\n",
      "\n",
      "avg / total      0.924     0.924     0.924     17560\n",
      "\n"
     ]
    }
   ],
   "source": [
    "print(mt.classification_report(y_test,pred_test,digits = 3))"
   ]
  },
  {
   "cell_type": "code",
   "execution_count": 223,
   "metadata": {},
   "outputs": [],
   "source": [
    "df_predicRF = pd.DataFrame(modelRF.predict_proba(X_testReal))\n"
   ]
  },
  {
   "cell_type": "code",
   "execution_count": 225,
   "metadata": {},
   "outputs": [],
   "source": [
    "df_predicRF[1].to_csv('prediccionRF.csv', header=True, index=False)"
   ]
  },
  {
   "cell_type": "code",
   "execution_count": 137,
   "metadata": {},
   "outputs": [
    {
     "name": "stdout",
     "output_type": "stream",
     "text": [
      "ROC AUC: 0.9781\n"
     ]
    },
    {
     "data": {
      "image/png": "[encoded data removed]",
      "text/plain": [
       "<matplotlib.figure.Figure at 0x1670a24c828>"
      ]
     },
     "metadata": {},
     "output_type": "display_data"
    }
   ],
   "source": [
    "graficar_roc(y_test,pred_proba_test) "
   ]
  },
  {
   "cell_type": "code",
   "execution_count": 138,
   "metadata": {},
   "outputs": [],
   "source": [
    "features = pd.DataFrame()\n",
    "features['feature'] = X_train.columns\n",
    "features['importance'] = model.feature_importances_"
   ]
  },
  {
   "cell_type": "code",
   "execution_count": 139,
   "metadata": {},
   "outputs": [
    {
     "data": {
      "text/html": [
       "<div>\n",
       "<style scoped>\n",
       "    .dataframe tbody tr th:only-of-type {\n",
       "        vertical-align: middle;\n",
       "    }\n",
       "\n",
       "    .dataframe tbody tr th {\n",
       "        vertical-align: top;\n",
       "    }\n",
       "\n",
       "    .dataframe thead th {\n",
       "        text-align: right;\n",
       "    }\n",
       "</style>\n",
       "<table border=\"1\" class=\"dataframe\">\n",
       "  <thead>\n",
       "    <tr style=\"text-align: right;\">\n",
       "      <th></th>\n",
       "      <th>feature</th>\n",
       "      <th>importance</th>\n",
       "    </tr>\n",
       "  </thead>\n",
       "  <tbody>\n",
       "    <tr>\n",
       "      <th>0</th>\n",
       "      <td>Donation</td>\n",
       "      <td>2.638670e-01</td>\n",
       "    </tr>\n",
       "    <tr>\n",
       "      <th>1</th>\n",
       "      <td>FlagDonation</td>\n",
       "      <td>2.299009e-01</td>\n",
       "    </tr>\n",
       "    <tr>\n",
       "      <th>2</th>\n",
       "      <td>Category1</td>\n",
       "      <td>1.460776e-01</td>\n",
       "    </tr>\n",
       "    <tr>\n",
       "      <th>3</th>\n",
       "      <td>Category2</td>\n",
       "      <td>5.675386e-02</td>\n",
       "    </tr>\n",
       "    <tr>\n",
       "      <th>4</th>\n",
       "      <td>Camp_Start_Date_weekday</td>\n",
       "      <td>4.077523e-02</td>\n",
       "    </tr>\n",
       "    <tr>\n",
       "      <th>5</th>\n",
       "      <td>Camp_End_Date_day</td>\n",
       "      <td>3.176552e-02</td>\n",
       "    </tr>\n",
       "    <tr>\n",
       "      <th>6</th>\n",
       "      <td>Camp_Start_Date_month</td>\n",
       "      <td>2.790228e-02</td>\n",
       "    </tr>\n",
       "    <tr>\n",
       "      <th>7</th>\n",
       "      <td>Camp_Start_Date_day</td>\n",
       "      <td>2.385737e-02</td>\n",
       "    </tr>\n",
       "    <tr>\n",
       "      <th>8</th>\n",
       "      <td>Camp_End_Date_weekday</td>\n",
       "      <td>2.205099e-02</td>\n",
       "    </tr>\n",
       "    <tr>\n",
       "      <th>9</th>\n",
       "      <td>Camp_End_Date_month</td>\n",
       "      <td>1.666331e-02</td>\n",
       "    </tr>\n",
       "    <tr>\n",
       "      <th>10</th>\n",
       "      <td>Camp_Start_Date_weekend</td>\n",
       "      <td>1.646434e-02</td>\n",
       "    </tr>\n",
       "    <tr>\n",
       "      <th>11</th>\n",
       "      <td>Registration_Date_year</td>\n",
       "      <td>1.464575e-02</td>\n",
       "    </tr>\n",
       "    <tr>\n",
       "      <th>12</th>\n",
       "      <td>Camp_Start_Date_year</td>\n",
       "      <td>1.410043e-02</td>\n",
       "    </tr>\n",
       "    <tr>\n",
       "      <th>13</th>\n",
       "      <td>dif_final_camp</td>\n",
       "      <td>1.348568e-02</td>\n",
       "    </tr>\n",
       "    <tr>\n",
       "      <th>14</th>\n",
       "      <td>Dias_Durac_Camp</td>\n",
       "      <td>1.334590e-02</td>\n",
       "    </tr>\n",
       "    <tr>\n",
       "      <th>15</th>\n",
       "      <td>dif_1rainteraccion</td>\n",
       "      <td>1.300503e-02</td>\n",
       "    </tr>\n",
       "    <tr>\n",
       "      <th>16</th>\n",
       "      <td>Registration_Date_month</td>\n",
       "      <td>1.177382e-02</td>\n",
       "    </tr>\n",
       "    <tr>\n",
       "      <th>17</th>\n",
       "      <td>Age</td>\n",
       "      <td>5.807033e-03</td>\n",
       "    </tr>\n",
       "    <tr>\n",
       "      <th>18</th>\n",
       "      <td>Camp_End_Date_year</td>\n",
       "      <td>5.757355e-03</td>\n",
       "    </tr>\n",
       "    <tr>\n",
       "      <th>19</th>\n",
       "      <td>Income</td>\n",
       "      <td>4.574577e-03</td>\n",
       "    </tr>\n",
       "    <tr>\n",
       "      <th>20</th>\n",
       "      <td>City_Type</td>\n",
       "      <td>4.216051e-03</td>\n",
       "    </tr>\n",
       "    <tr>\n",
       "      <th>21</th>\n",
       "      <td>Education_Score</td>\n",
       "      <td>3.425096e-03</td>\n",
       "    </tr>\n",
       "    <tr>\n",
       "      <th>22</th>\n",
       "      <td>prev_dia</td>\n",
       "      <td>3.232030e-03</td>\n",
       "    </tr>\n",
       "    <tr>\n",
       "      <th>23</th>\n",
       "      <td>Dias_Despues_1ra_Interaccion</td>\n",
       "      <td>2.378219e-03</td>\n",
       "    </tr>\n",
       "    <tr>\n",
       "      <th>24</th>\n",
       "      <td>Employer_Category</td>\n",
       "      <td>2.033080e-03</td>\n",
       "    </tr>\n",
       "    <tr>\n",
       "      <th>25</th>\n",
       "      <td>First_Interaction_year</td>\n",
       "      <td>1.998641e-03</td>\n",
       "    </tr>\n",
       "    <tr>\n",
       "      <th>26</th>\n",
       "      <td>Camp_End_Date_weekend</td>\n",
       "      <td>1.814154e-03</td>\n",
       "    </tr>\n",
       "    <tr>\n",
       "      <th>27</th>\n",
       "      <td>Registration_Date_day</td>\n",
       "      <td>1.514766e-03</td>\n",
       "    </tr>\n",
       "    <tr>\n",
       "      <th>28</th>\n",
       "      <td>First_Interaction_month</td>\n",
       "      <td>1.479796e-03</td>\n",
       "    </tr>\n",
       "    <tr>\n",
       "      <th>29</th>\n",
       "      <td>Qty_Interac</td>\n",
       "      <td>1.249097e-03</td>\n",
       "    </tr>\n",
       "    <tr>\n",
       "      <th>30</th>\n",
       "      <td>Var5</td>\n",
       "      <td>1.005968e-03</td>\n",
       "    </tr>\n",
       "    <tr>\n",
       "      <th>31</th>\n",
       "      <td>Var1</td>\n",
       "      <td>9.644642e-04</td>\n",
       "    </tr>\n",
       "    <tr>\n",
       "      <th>32</th>\n",
       "      <td>Registration_Date_weekday</td>\n",
       "      <td>7.361865e-04</td>\n",
       "    </tr>\n",
       "    <tr>\n",
       "      <th>33</th>\n",
       "      <td>LinkedIn_Shared</td>\n",
       "      <td>4.399760e-04</td>\n",
       "    </tr>\n",
       "    <tr>\n",
       "      <th>34</th>\n",
       "      <td>Online_Follower</td>\n",
       "      <td>3.314892e-04</td>\n",
       "    </tr>\n",
       "    <tr>\n",
       "      <th>35</th>\n",
       "      <td>First_Interaction_weekday</td>\n",
       "      <td>1.660544e-04</td>\n",
       "    </tr>\n",
       "    <tr>\n",
       "      <th>36</th>\n",
       "      <td>First_Interaction_day</td>\n",
       "      <td>1.328086e-04</td>\n",
       "    </tr>\n",
       "    <tr>\n",
       "      <th>37</th>\n",
       "      <td>Registration_Date_weekend</td>\n",
       "      <td>8.905484e-05</td>\n",
       "    </tr>\n",
       "    <tr>\n",
       "      <th>38</th>\n",
       "      <td>Var2</td>\n",
       "      <td>8.708817e-05</td>\n",
       "    </tr>\n",
       "    <tr>\n",
       "      <th>39</th>\n",
       "      <td>First_Interaction_weekend</td>\n",
       "      <td>5.019617e-05</td>\n",
       "    </tr>\n",
       "    <tr>\n",
       "      <th>40</th>\n",
       "      <td>Facebook_Shared</td>\n",
       "      <td>3.659920e-05</td>\n",
       "    </tr>\n",
       "    <tr>\n",
       "      <th>41</th>\n",
       "      <td>Var4</td>\n",
       "      <td>3.278688e-05</td>\n",
       "    </tr>\n",
       "    <tr>\n",
       "      <th>42</th>\n",
       "      <td>Var3</td>\n",
       "      <td>1.220882e-05</td>\n",
       "    </tr>\n",
       "    <tr>\n",
       "      <th>43</th>\n",
       "      <td>Twitter_Shared</td>\n",
       "      <td>1.427055e-07</td>\n",
       "    </tr>\n",
       "    <tr>\n",
       "      <th>44</th>\n",
       "      <td>Category3</td>\n",
       "      <td>0.000000e+00</td>\n",
       "    </tr>\n",
       "  </tbody>\n",
       "</table>\n",
       "</div>"
      ],
      "text/plain": [
       "                         feature    importance\n",
       "0                       Donation  2.638670e-01\n",
       "1                   FlagDonation  2.299009e-01\n",
       "2                      Category1  1.460776e-01\n",
       "3                      Category2  5.675386e-02\n",
       "4        Camp_Start_Date_weekday  4.077523e-02\n",
       "5              Camp_End_Date_day  3.176552e-02\n",
       "6          Camp_Start_Date_month  2.790228e-02\n",
       "7            Camp_Start_Date_day  2.385737e-02\n",
       "8          Camp_End_Date_weekday  2.205099e-02\n",
       "9            Camp_End_Date_month  1.666331e-02\n",
       "10       Camp_Start_Date_weekend  1.646434e-02\n",
       "11        Registration_Date_year  1.464575e-02\n",
       "12          Camp_Start_Date_year  1.410043e-02\n",
       "13                dif_final_camp  1.348568e-02\n",
       "14               Dias_Durac_Camp  1.334590e-02\n",
       "15            dif_1rainteraccion  1.300503e-02\n",
       "16       Registration_Date_month  1.177382e-02\n",
       "17                           Age  5.807033e-03\n",
       "18            Camp_End_Date_year  5.757355e-03\n",
       "19                        Income  4.574577e-03\n",
       "20                     City_Type  4.216051e-03\n",
       "21               Education_Score  3.425096e-03\n",
       "22                      prev_dia  3.232030e-03\n",
       "23  Dias_Despues_1ra_Interaccion  2.378219e-03\n",
       "24             Employer_Category  2.033080e-03\n",
       "25        First_Interaction_year  1.998641e-03\n",
       "26         Camp_End_Date_weekend  1.814154e-03\n",
       "27         Registration_Date_day  1.514766e-03\n",
       "28       First_Interaction_month  1.479796e-03\n",
       "29                   Qty_Interac  1.249097e-03\n",
       "30                          Var5  1.005968e-03\n",
       "31                          Var1  9.644642e-04\n",
       "32     Registration_Date_weekday  7.361865e-04\n",
       "33               LinkedIn_Shared  4.399760e-04\n",
       "34               Online_Follower  3.314892e-04\n",
       "35     First_Interaction_weekday  1.660544e-04\n",
       "36         First_Interaction_day  1.328086e-04\n",
       "37     Registration_Date_weekend  8.905484e-05\n",
       "38                          Var2  8.708817e-05\n",
       "39     First_Interaction_weekend  5.019617e-05\n",
       "40               Facebook_Shared  3.659920e-05\n",
       "41                          Var4  3.278688e-05\n",
       "42                          Var3  1.220882e-05\n",
       "43                Twitter_Shared  1.427055e-07\n",
       "44                     Category3  0.000000e+00"
      ]
     },
     "execution_count": 139,
     "metadata": {},
     "output_type": "execute_result"
    }
   ],
   "source": [
    "ftrs = features.sort_values(by = ['importance','feature'],ascending=False)\n",
    "ftrs = ftrs.reset_index(drop = True)\n",
    "ftrs"
   ]
  },
  {
   "cell_type": "code",
   "execution_count": 140,
   "metadata": {},
   "outputs": [],
   "source": [
    "import seaborn as sns\n",
    "import matplotlib.pyplot as plt\n",
    "\n",
    "%matplotlib inline"
   ]
  },
  {
   "cell_type": "code",
   "execution_count": 144,
   "metadata": {},
   "outputs": [
    {
     "data": {
      "image/png": "[encoded data removed]",
      "text/plain": [
       "<matplotlib.figure.Figure at 0x1670a710630>"
      ]
     },
     "metadata": {},
     "output_type": "display_data"
    }
   ],
   "source": [
    "fig, ax = plt.subplots(nrows=1, ncols=1, figsize=(20, 10))\n",
    "g = sns.barplot(x='feature', y='importance', data=ftrs, order=ftrs['feature'], ax=ax, palette='BuGn_r')"
   ]
  },
  {
   "cell_type": "markdown",
   "metadata": {},
   "source": [
    "## GRADIENT BOOSTING MACHINE"
   ]
  },
  {
   "cell_type": "markdown",
   "metadata": {},
   "source": [
    "### Entrenamiento y Predicción"
   ]
  },
  {
   "cell_type": "code",
   "execution_count": 146,
   "metadata": {},
   "outputs": [],
   "source": [
    "from sklearn.ensemble import GradientBoostingClassifier"
   ]
  },
  {
   "cell_type": "code",
   "execution_count": 147,
   "metadata": {},
   "outputs": [],
   "source": [
    "# Crear objeto modelo (Instanciar)\n",
    "model_gbm = GradientBoostingClassifier(max_depth=4, n_estimators= 50, \n",
    "                                       random_state=100 , max_features = 5)"
   ]
  },
  {
   "cell_type": "code",
   "execution_count": 148,
   "metadata": {},
   "outputs": [
    {
     "name": "stderr",
     "output_type": "stream",
     "text": [
      "C:\\Users\\Andres\\Anaconda3\\lib\\site-packages\\sklearn\\utils\\validation.py:578: DataConversionWarning: A column-vector y was passed when a 1d array was expected. Please change the shape of y to (n_samples, ), for example using ravel().\n",
      "  y = column_or_1d(y, warn=True)\n"
     ]
    }
   ],
   "source": [
    "# Entrenar (ajustar) el modelo:\n",
    "model = model_gbm.fit(X_train,y_train)"
   ]
  },
  {
   "cell_type": "code",
   "execution_count": 149,
   "metadata": {},
   "outputs": [],
   "source": [
    "# Generar las predicciones:\n",
    "pred_train = model.predict(X_train)\n",
    "pred_test = model.predict(X_test)\n",
    "\n",
    "# Generar las probabilidades\n",
    "pred_proba_train = model.predict_proba(X_train)\n",
    "pred_proba_test = model.predict_proba(X_test)"
   ]
  },
  {
   "cell_type": "markdown",
   "metadata": {},
   "source": [
    "### Evaluación del Modelo"
   ]
  },
  {
   "cell_type": "code",
   "execution_count": 150,
   "metadata": {},
   "outputs": [],
   "source": [
    "from sklearn import metrics as mt"
   ]
  },
  {
   "cell_type": "code",
   "execution_count": 151,
   "metadata": {},
   "outputs": [
    {
     "name": "stdout",
     "output_type": "stream",
     "text": [
      "Metricas del Training...\n"
     ]
    }
   ],
   "source": [
    "# Sobre el Training Data\n",
    "print(\"Metricas del Training...\")"
   ]
  },
  {
   "cell_type": "code",
   "execution_count": 152,
   "metadata": {},
   "outputs": [
    {
     "name": "stdout",
     "output_type": "stream",
     "text": [
      "        Pred_0  Pred_1\n",
      "Real_0   30109    1467\n",
      "Real_1    1359    8037\n"
     ]
    }
   ],
   "source": [
    "matriz_conf = mt.confusion_matrix(y_train,pred_train)\n",
    "print_mc(matriz_conf)"
   ]
  },
  {
   "cell_type": "code",
   "execution_count": 153,
   "metadata": {},
   "outputs": [
    {
     "name": "stdout",
     "output_type": "stream",
     "text": [
      "Accuracy - Train: 0.931026066582056\n"
     ]
    }
   ],
   "source": [
    "accuracy_train = mt.accuracy_score(y_train,pred_train)\n",
    "print(\"Accuracy - Train:\", accuracy_train) "
   ]
  },
  {
   "cell_type": "code",
   "execution_count": 154,
   "metadata": {},
   "outputs": [
    {
     "name": "stdout",
     "output_type": "stream",
     "text": [
      "             precision    recall  f1-score   support\n",
      "\n",
      "          0      0.957     0.954     0.955     31576\n",
      "          1      0.846     0.855     0.850      9396\n",
      "\n",
      "avg / total      0.931     0.931     0.931     40972\n",
      "\n"
     ]
    }
   ],
   "source": [
    "print(mt.classification_report(y_train,pred_train,digits = 3))"
   ]
  },
  {
   "cell_type": "code",
   "execution_count": 155,
   "metadata": {},
   "outputs": [
    {
     "name": "stdout",
     "output_type": "stream",
     "text": [
      "ROC AUC: 0.9808\n"
     ]
    },
    {
     "data": {
      "image/png": "[encoded data removed]",
      "text/plain": [
       "<matplotlib.figure.Figure at 0x1670aa866a0>"
      ]
     },
     "metadata": {},
     "output_type": "display_data"
    }
   ],
   "source": [
    "graficar_roc(y_train,pred_proba_train) "
   ]
  },
  {
   "cell_type": "code",
   "execution_count": 156,
   "metadata": {},
   "outputs": [
    {
     "name": "stdout",
     "output_type": "stream",
     "text": [
      "Metricas del testing...\n"
     ]
    }
   ],
   "source": [
    "# Sobre el testing Data\n",
    "print(\"Metricas del testing...\")"
   ]
  },
  {
   "cell_type": "code",
   "execution_count": 157,
   "metadata": {},
   "outputs": [
    {
     "name": "stdout",
     "output_type": "stream",
     "text": [
      "        Pred_0  Pred_1\n",
      "Real_0   12874     637\n",
      "Real_1     570    3479\n"
     ]
    }
   ],
   "source": [
    "matriz_conf = mt.confusion_matrix(y_test,pred_test)\n",
    "print_mc(matriz_conf)"
   ]
  },
  {
   "cell_type": "code",
   "execution_count": 158,
   "metadata": {},
   "outputs": [
    {
     "name": "stdout",
     "output_type": "stream",
     "text": [
      "Accuracy - test: 0.9312642369020501\n"
     ]
    }
   ],
   "source": [
    "accuracy_test = mt.accuracy_score(y_test,pred_test)\n",
    "print(\"Accuracy - test:\", accuracy_test)"
   ]
  },
  {
   "cell_type": "code",
   "execution_count": 159,
   "metadata": {},
   "outputs": [
    {
     "name": "stdout",
     "output_type": "stream",
     "text": [
      "             precision    recall  f1-score   support\n",
      "\n",
      "          0      0.958     0.953     0.955     13511\n",
      "          1      0.845     0.859     0.852      4049\n",
      "\n",
      "avg / total      0.932     0.931     0.931     17560\n",
      "\n"
     ]
    }
   ],
   "source": [
    "print(mt.classification_report(y_test,pred_test,digits = 3))"
   ]
  },
  {
   "cell_type": "code",
   "execution_count": 212,
   "metadata": {},
   "outputs": [],
   "source": [
    "# probando GBM \n",
    "X_testReal = df[features_to_model]\n",
    "X_testReal = X_testReal[X_testReal['flagdata'] == 2]\n",
    "del X_testReal[\"flagdata\"]\n"
   ]
  },
  {
   "cell_type": "code",
   "execution_count": 213,
   "metadata": {},
   "outputs": [],
   "source": [
    "df_predicGBM = pd.DataFrame(model.predict_proba(X_testReal))"
   ]
  },
  {
   "cell_type": "code",
   "execution_count": 214,
   "metadata": {},
   "outputs": [],
   "source": [
    "\n",
    "df_predicGBM[1].to_csv('prediccionGBM.csv', header=True, index=False)"
   ]
  },
  {
   "cell_type": "code",
   "execution_count": 211,
   "metadata": {},
   "outputs": [
    {
     "data": {
      "text/html": [
       "<div>\n",
       "<style scoped>\n",
       "    .dataframe tbody tr th:only-of-type {\n",
       "        vertical-align: middle;\n",
       "    }\n",
       "\n",
       "    .dataframe tbody tr th {\n",
       "        vertical-align: top;\n",
       "    }\n",
       "\n",
       "    .dataframe thead th {\n",
       "        text-align: right;\n",
       "    }\n",
       "</style>\n",
       "<table border=\"1\" class=\"dataframe\">\n",
       "  <thead>\n",
       "    <tr style=\"text-align: right;\">\n",
       "      <th></th>\n",
       "      <th>Patient_ID</th>\n",
       "      <th>Health_Camp_ID</th>\n",
       "    </tr>\n",
       "  </thead>\n",
       "  <tbody>\n",
       "    <tr>\n",
       "      <th>51999</th>\n",
       "      <td>485738</td>\n",
       "      <td>6537</td>\n",
       "    </tr>\n",
       "    <tr>\n",
       "      <th>52002</th>\n",
       "      <td>485750</td>\n",
       "      <td>6537</td>\n",
       "    </tr>\n",
       "    <tr>\n",
       "      <th>52004</th>\n",
       "      <td>485753</td>\n",
       "      <td>6537</td>\n",
       "    </tr>\n",
       "    <tr>\n",
       "      <th>52005</th>\n",
       "      <td>485758</td>\n",
       "      <td>6537</td>\n",
       "    </tr>\n",
       "    <tr>\n",
       "      <th>52008</th>\n",
       "      <td>485775</td>\n",
       "      <td>6537</td>\n",
       "    </tr>\n",
       "  </tbody>\n",
       "</table>\n",
       "</div>"
      ],
      "text/plain": [
       "       Patient_ID  Health_Camp_ID\n",
       "51999      485738            6537\n",
       "52002      485750            6537\n",
       "52004      485753            6537\n",
       "52005      485758            6537\n",
       "52008      485775            6537"
      ]
     },
     "execution_count": 211,
     "metadata": {},
     "output_type": "execute_result"
    }
   ],
   "source": [
    "X_testNew.head()"
   ]
  },
  {
   "cell_type": "code",
   "execution_count": 160,
   "metadata": {},
   "outputs": [
    {
     "name": "stdout",
     "output_type": "stream",
     "text": [
      "ROC AUC: 0.9813\n"
     ]
    },
    {
     "data": {
      "image/png": "[encoded data removed]",
      "text/plain": [
       "<matplotlib.figure.Figure at 0x1670a6ffeb8>"
      ]
     },
     "metadata": {},
     "output_type": "display_data"
    }
   ],
   "source": [
    "graficar_roc(y_test,pred_proba_test) "
   ]
  },
  {
   "cell_type": "code",
   "execution_count": 161,
   "metadata": {},
   "outputs": [],
   "source": [
    "features = pd.DataFrame()\n",
    "features['feature'] = X_train.columns\n",
    "features['importance'] = model.feature_importances_"
   ]
  },
  {
   "cell_type": "code",
   "execution_count": 162,
   "metadata": {},
   "outputs": [
    {
     "data": {
      "text/html": [
       "<div>\n",
       "<style scoped>\n",
       "    .dataframe tbody tr th:only-of-type {\n",
       "        vertical-align: middle;\n",
       "    }\n",
       "\n",
       "    .dataframe tbody tr th {\n",
       "        vertical-align: top;\n",
       "    }\n",
       "\n",
       "    .dataframe thead th {\n",
       "        text-align: right;\n",
       "    }\n",
       "</style>\n",
       "<table border=\"1\" class=\"dataframe\">\n",
       "  <thead>\n",
       "    <tr style=\"text-align: right;\">\n",
       "      <th></th>\n",
       "      <th>feature</th>\n",
       "      <th>importance</th>\n",
       "    </tr>\n",
       "  </thead>\n",
       "  <tbody>\n",
       "    <tr>\n",
       "      <th>0</th>\n",
       "      <td>FlagDonation</td>\n",
       "      <td>0.276008</td>\n",
       "    </tr>\n",
       "    <tr>\n",
       "      <th>1</th>\n",
       "      <td>Donation</td>\n",
       "      <td>0.228599</td>\n",
       "    </tr>\n",
       "    <tr>\n",
       "      <th>2</th>\n",
       "      <td>Category1</td>\n",
       "      <td>0.120601</td>\n",
       "    </tr>\n",
       "    <tr>\n",
       "      <th>3</th>\n",
       "      <td>Category2</td>\n",
       "      <td>0.058972</td>\n",
       "    </tr>\n",
       "    <tr>\n",
       "      <th>4</th>\n",
       "      <td>dif_1rainteraccion</td>\n",
       "      <td>0.043936</td>\n",
       "    </tr>\n",
       "    <tr>\n",
       "      <th>5</th>\n",
       "      <td>dif_final_camp</td>\n",
       "      <td>0.034438</td>\n",
       "    </tr>\n",
       "    <tr>\n",
       "      <th>6</th>\n",
       "      <td>Camp_End_Date_day</td>\n",
       "      <td>0.025316</td>\n",
       "    </tr>\n",
       "    <tr>\n",
       "      <th>7</th>\n",
       "      <td>Dias_Durac_Camp</td>\n",
       "      <td>0.024117</td>\n",
       "    </tr>\n",
       "    <tr>\n",
       "      <th>8</th>\n",
       "      <td>Camp_Start_Date_weekday</td>\n",
       "      <td>0.021445</td>\n",
       "    </tr>\n",
       "    <tr>\n",
       "      <th>9</th>\n",
       "      <td>Camp_Start_Date_month</td>\n",
       "      <td>0.014218</td>\n",
       "    </tr>\n",
       "    <tr>\n",
       "      <th>10</th>\n",
       "      <td>Camp_End_Date_weekday</td>\n",
       "      <td>0.013266</td>\n",
       "    </tr>\n",
       "    <tr>\n",
       "      <th>11</th>\n",
       "      <td>Camp_End_Date_month</td>\n",
       "      <td>0.013159</td>\n",
       "    </tr>\n",
       "    <tr>\n",
       "      <th>12</th>\n",
       "      <td>Education_Score</td>\n",
       "      <td>0.012947</td>\n",
       "    </tr>\n",
       "    <tr>\n",
       "      <th>13</th>\n",
       "      <td>Camp_Start_Date_day</td>\n",
       "      <td>0.011109</td>\n",
       "    </tr>\n",
       "    <tr>\n",
       "      <th>14</th>\n",
       "      <td>prev_dia</td>\n",
       "      <td>0.011088</td>\n",
       "    </tr>\n",
       "    <tr>\n",
       "      <th>15</th>\n",
       "      <td>Registration_Date_year</td>\n",
       "      <td>0.009866</td>\n",
       "    </tr>\n",
       "    <tr>\n",
       "      <th>16</th>\n",
       "      <td>Registration_Date_month</td>\n",
       "      <td>0.008153</td>\n",
       "    </tr>\n",
       "    <tr>\n",
       "      <th>17</th>\n",
       "      <td>Age</td>\n",
       "      <td>0.008021</td>\n",
       "    </tr>\n",
       "    <tr>\n",
       "      <th>18</th>\n",
       "      <td>Camp_Start_Date_weekend</td>\n",
       "      <td>0.007913</td>\n",
       "    </tr>\n",
       "    <tr>\n",
       "      <th>19</th>\n",
       "      <td>Camp_Start_Date_year</td>\n",
       "      <td>0.007039</td>\n",
       "    </tr>\n",
       "    <tr>\n",
       "      <th>20</th>\n",
       "      <td>Registration_Date_day</td>\n",
       "      <td>0.006977</td>\n",
       "    </tr>\n",
       "    <tr>\n",
       "      <th>21</th>\n",
       "      <td>Income</td>\n",
       "      <td>0.006358</td>\n",
       "    </tr>\n",
       "    <tr>\n",
       "      <th>22</th>\n",
       "      <td>City_Type</td>\n",
       "      <td>0.006011</td>\n",
       "    </tr>\n",
       "    <tr>\n",
       "      <th>23</th>\n",
       "      <td>Dias_Despues_1ra_Interaccion</td>\n",
       "      <td>0.005379</td>\n",
       "    </tr>\n",
       "    <tr>\n",
       "      <th>24</th>\n",
       "      <td>Camp_End_Date_year</td>\n",
       "      <td>0.004687</td>\n",
       "    </tr>\n",
       "    <tr>\n",
       "      <th>25</th>\n",
       "      <td>First_Interaction_month</td>\n",
       "      <td>0.003930</td>\n",
       "    </tr>\n",
       "    <tr>\n",
       "      <th>26</th>\n",
       "      <td>Var5</td>\n",
       "      <td>0.003578</td>\n",
       "    </tr>\n",
       "    <tr>\n",
       "      <th>27</th>\n",
       "      <td>Employer_Category</td>\n",
       "      <td>0.002433</td>\n",
       "    </tr>\n",
       "    <tr>\n",
       "      <th>28</th>\n",
       "      <td>Camp_End_Date_weekend</td>\n",
       "      <td>0.002089</td>\n",
       "    </tr>\n",
       "    <tr>\n",
       "      <th>29</th>\n",
       "      <td>First_Interaction_year</td>\n",
       "      <td>0.001508</td>\n",
       "    </tr>\n",
       "    <tr>\n",
       "      <th>30</th>\n",
       "      <td>Var2</td>\n",
       "      <td>0.001437</td>\n",
       "    </tr>\n",
       "    <tr>\n",
       "      <th>31</th>\n",
       "      <td>First_Interaction_day</td>\n",
       "      <td>0.001303</td>\n",
       "    </tr>\n",
       "    <tr>\n",
       "      <th>32</th>\n",
       "      <td>Registration_Date_weekday</td>\n",
       "      <td>0.001185</td>\n",
       "    </tr>\n",
       "    <tr>\n",
       "      <th>33</th>\n",
       "      <td>First_Interaction_weekday</td>\n",
       "      <td>0.001128</td>\n",
       "    </tr>\n",
       "    <tr>\n",
       "      <th>34</th>\n",
       "      <td>Online_Follower</td>\n",
       "      <td>0.000486</td>\n",
       "    </tr>\n",
       "    <tr>\n",
       "      <th>35</th>\n",
       "      <td>Var1</td>\n",
       "      <td>0.000376</td>\n",
       "    </tr>\n",
       "    <tr>\n",
       "      <th>36</th>\n",
       "      <td>Qty_Interac</td>\n",
       "      <td>0.000359</td>\n",
       "    </tr>\n",
       "    <tr>\n",
       "      <th>37</th>\n",
       "      <td>Twitter_Shared</td>\n",
       "      <td>0.000210</td>\n",
       "    </tr>\n",
       "    <tr>\n",
       "      <th>38</th>\n",
       "      <td>LinkedIn_Shared</td>\n",
       "      <td>0.000114</td>\n",
       "    </tr>\n",
       "    <tr>\n",
       "      <th>39</th>\n",
       "      <td>Facebook_Shared</td>\n",
       "      <td>0.000111</td>\n",
       "    </tr>\n",
       "    <tr>\n",
       "      <th>40</th>\n",
       "      <td>Registration_Date_weekend</td>\n",
       "      <td>0.000068</td>\n",
       "    </tr>\n",
       "    <tr>\n",
       "      <th>41</th>\n",
       "      <td>Var4</td>\n",
       "      <td>0.000061</td>\n",
       "    </tr>\n",
       "    <tr>\n",
       "      <th>42</th>\n",
       "      <td>Var3</td>\n",
       "      <td>0.000000</td>\n",
       "    </tr>\n",
       "    <tr>\n",
       "      <th>43</th>\n",
       "      <td>First_Interaction_weekend</td>\n",
       "      <td>0.000000</td>\n",
       "    </tr>\n",
       "    <tr>\n",
       "      <th>44</th>\n",
       "      <td>Category3</td>\n",
       "      <td>0.000000</td>\n",
       "    </tr>\n",
       "  </tbody>\n",
       "</table>\n",
       "</div>"
      ],
      "text/plain": [
       "                         feature  importance\n",
       "0                   FlagDonation    0.276008\n",
       "1                       Donation    0.228599\n",
       "2                      Category1    0.120601\n",
       "3                      Category2    0.058972\n",
       "4             dif_1rainteraccion    0.043936\n",
       "5                 dif_final_camp    0.034438\n",
       "6              Camp_End_Date_day    0.025316\n",
       "7                Dias_Durac_Camp    0.024117\n",
       "8        Camp_Start_Date_weekday    0.021445\n",
       "9          Camp_Start_Date_month    0.014218\n",
       "10         Camp_End_Date_weekday    0.013266\n",
       "11           Camp_End_Date_month    0.013159\n",
       "12               Education_Score    0.012947\n",
       "13           Camp_Start_Date_day    0.011109\n",
       "14                      prev_dia    0.011088\n",
       "15        Registration_Date_year    0.009866\n",
       "16       Registration_Date_month    0.008153\n",
       "17                           Age    0.008021\n",
       "18       Camp_Start_Date_weekend    0.007913\n",
       "19          Camp_Start_Date_year    0.007039\n",
       "20         Registration_Date_day    0.006977\n",
       "21                        Income    0.006358\n",
       "22                     City_Type    0.006011\n",
       "23  Dias_Despues_1ra_Interaccion    0.005379\n",
       "24            Camp_End_Date_year    0.004687\n",
       "25       First_Interaction_month    0.003930\n",
       "26                          Var5    0.003578\n",
       "27             Employer_Category    0.002433\n",
       "28         Camp_End_Date_weekend    0.002089\n",
       "29        First_Interaction_year    0.001508\n",
       "30                          Var2    0.001437\n",
       "31         First_Interaction_day    0.001303\n",
       "32     Registration_Date_weekday    0.001185\n",
       "33     First_Interaction_weekday    0.001128\n",
       "34               Online_Follower    0.000486\n",
       "35                          Var1    0.000376\n",
       "36                   Qty_Interac    0.000359\n",
       "37                Twitter_Shared    0.000210\n",
       "38               LinkedIn_Shared    0.000114\n",
       "39               Facebook_Shared    0.000111\n",
       "40     Registration_Date_weekend    0.000068\n",
       "41                          Var4    0.000061\n",
       "42                          Var3    0.000000\n",
       "43     First_Interaction_weekend    0.000000\n",
       "44                     Category3    0.000000"
      ]
     },
     "execution_count": 162,
     "metadata": {},
     "output_type": "execute_result"
    }
   ],
   "source": [
    "ftrs = features.sort_values(by = ['importance','feature'],ascending=False)\n",
    "ftrs = ftrs.reset_index(drop = True)\n",
    "ftrs"
   ]
  },
  {
   "cell_type": "code",
   "execution_count": 163,
   "metadata": {},
   "outputs": [],
   "source": [
    "import seaborn as sns\n",
    "import matplotlib.pyplot as plt\n",
    "\n",
    "%matplotlib inline"
   ]
  },
  {
   "cell_type": "code",
   "execution_count": 164,
   "metadata": {},
   "outputs": [
    {
     "data": {
      "image/png": "[encoded data removed]",
      "text/plain": [
       "<matplotlib.figure.Figure at 0x1670a64edd8>"
      ]
     },
     "metadata": {},
     "output_type": "display_data"
    }
   ],
   "source": [
    "fig, ax = plt.subplots(nrows=1, ncols=1, figsize=(10, 5))\n",
    "g = sns.barplot(x='feature', y='importance', data=ftrs, order=ftrs['feature'], ax=ax, palette='BuGn_r')"
   ]
  },
  {
   "cell_type": "markdown",
   "metadata": {},
   "source": [
    "## Croos Validation\n"
   ]
  },
  {
   "cell_type": "code",
   "execution_count": 169,
   "metadata": {},
   "outputs": [],
   "source": [
    "X_train_cv = X_train.copy()\n",
    "y_train_cv = y_train.copy()"
   ]
  },
  {
   "cell_type": "code",
   "execution_count": 174,
   "metadata": {},
   "outputs": [
    {
     "data": {
      "text/plain": [
       "(40972, 45)"
      ]
     },
     "execution_count": 174,
     "metadata": {},
     "output_type": "execute_result"
    }
   ],
   "source": [
    "X_train_cv.shape"
   ]
  },
  {
   "cell_type": "code",
   "execution_count": 175,
   "metadata": {},
   "outputs": [
    {
     "data": {
      "text/plain": [
       "(40972, 1)"
      ]
     },
     "execution_count": 175,
     "metadata": {},
     "output_type": "execute_result"
    }
   ],
   "source": [
    "y_train_cv.shape"
   ]
  },
  {
   "cell_type": "code",
   "execution_count": 170,
   "metadata": {},
   "outputs": [],
   "source": [
    "# Instanciar Modelo Base:\n",
    "from sklearn.ensemble import RandomForestClassifier\n",
    "model_rf = RandomForestClassifier(max_depth=5, n_estimators= 50, \n",
    "                                  random_state=100 , max_features = 5)"
   ]
  },
  {
   "cell_type": "code",
   "execution_count": 171,
   "metadata": {},
   "outputs": [],
   "source": [
    "# Cros Validation\n",
    "from sklearn.base import clone\n",
    "from sklearn import cross_validation\n",
    "from sklearn.metrics import roc_auc_score\n",
    "k = 5 # n folds\n",
    "metric = 'roc_auc' # métrica que nosotros usaremos para evaluar cv score\n",
    "\n",
    "cv = cross_validation.KFold(len(X_train_cv), n_folds=k, random_state = 123, shuffle = True)\n",
    "#cv = cross_validation.StratifiedKFold(y_train_cv, n_folds=k, random_state = 851, shuffle = True) # 16\n",
    "\n",
    "results_train = []\n",
    "results_test = []\n",
    "list_models = [] "
   ]
  },
  {
   "cell_type": "markdown",
   "metadata": {},
   "source": [
    "i = 1\n",
    "for traincv, testcv in cv:\n",
    "    model = clone(model_rf)\n",
    "    # Entrenar el modelo\n",
    "    model = model.fit(X_train_cv.values[traincv], y_train_cv[traincv])\n",
    "    # Calcular probabilidades\n",
    "    probas_train = model.predict_proba(X_train_cv.values[traincv])[:,1]\n",
    "    probas_test = model.predict_proba(X_train_cv.values[testcv])[:,1]\n",
    "    # Calcular indicadores\n",
    "    metric_train = roc_auc_score(y_train_cv[traincv],probas_train)\n",
    "    metric_test = roc_auc_score(y_train_cv[testcv],probas_test)\n",
    "    # Almacenar metricas y modelos\n",
    "    results_train.append(metric_train)\n",
    "    results_test.append(metric_test)\n",
    "    list_models.append(model)\n",
    "    \n",
    "    print(\"Ok - \",str(i),\": \", str(round(metric_train,6)), str(round(metric_test,6)))\n",
    "    print(\"Mean Target: \", str(round(y_train_cv[traincv].mean(),4)), str(round(y_train_cv[testcv].mean(),4)))\n",
    "\n",
    "    i = i + 1\n",
    "\n",
    "result_final_train = np.mean(results_train)\n",
    "result_final_test = np.mean(results_test)\n",
    "\n",
    "print(\"CV roc - train :\",result_final_train)\n",
    "print(\"CV roc - test  :\",result_final_test)"
   ]
  },
  {
   "cell_type": "code",
   "execution_count": null,
   "metadata": {},
   "outputs": [],
   "source": []
  },
  {
   "cell_type": "code",
   "execution_count": null,
   "metadata": {},
   "outputs": [],
   "source": []
  },
  {
   "cell_type": "markdown",
   "metadata": {},
   "source": [
    "## Stacking Ensembling"
   ]
  },
  {
   "cell_type": "code",
   "execution_count": 196,
   "metadata": {},
   "outputs": [],
   "source": [
    "model_regl = LogisticRegression()\n",
    "model_rf = RandomForestClassifier(max_depth=5, n_estimators= 50, random_state=100 , max_features = 5)\n",
    "model_gbm = GradientBoostingClassifier(max_depth=4, n_estimators= 50, random_state=100 , max_features = 5)"
   ]
  },
  {
   "cell_type": "code",
   "execution_count": 197,
   "metadata": {},
   "outputs": [
    {
     "name": "stderr",
     "output_type": "stream",
     "text": [
      "C:\\Users\\Andres\\Anaconda3\\lib\\site-packages\\sklearn\\utils\\validation.py:578: DataConversionWarning: A column-vector y was passed when a 1d array was expected. Please change the shape of y to (n_samples, ), for example using ravel().\n",
      "  y = column_or_1d(y, warn=True)\n",
      "C:\\Users\\Andres\\Anaconda3\\lib\\site-packages\\ipykernel_launcher.py:2: DataConversionWarning: A column-vector y was passed when a 1d array was expected. Please change the shape of y to (n_samples,), for example using ravel().\n",
      "  \n",
      "C:\\Users\\Andres\\Anaconda3\\lib\\site-packages\\sklearn\\utils\\validation.py:578: DataConversionWarning: A column-vector y was passed when a 1d array was expected. Please change the shape of y to (n_samples, ), for example using ravel().\n",
      "  y = column_or_1d(y, warn=True)\n"
     ]
    }
   ],
   "source": [
    "model_regl = model_regl.fit(X_train,y_train)\n",
    "model_rf = model_rf.fit(X_train,y_train)\n",
    "model_gbm = model_gbm.fit(X_train,y_train)"
   ]
  },
  {
   "cell_type": "code",
   "execution_count": 198,
   "metadata": {},
   "outputs": [],
   "source": [
    "# Probabilidades - Training\n",
    "pred_proba_train_regl = pd.DataFrame(model_regl.predict_proba(X_train)[:,1],columns = [\"pre_rlog\"])\n",
    "pred_proba_train_rf = pd.DataFrame(model_rf.predict_proba(X_train)[:,1],columns = [\"pre_rf\"])\n",
    "pred_proba_train_gbm = pd.DataFrame(model_gbm.predict_proba(X_train)[:,1],columns = [\"pre_rgbm\"])"
   ]
  },
  {
   "cell_type": "code",
   "execution_count": 199,
   "metadata": {},
   "outputs": [],
   "source": [
    "# Probabilidades - testing\n",
    "pred_proba_test_regl = pd.DataFrame(model_regl.predict_proba(X_test)[:,1],columns = [\"pre_rlog\"])\n",
    "pred_proba_test_rf = pd.DataFrame(model_rf.predict_proba(X_test)[:,1],columns = [\"pre_rf\"])\n",
    "pred_proba_test_gbm = pd.DataFrame(model_gbm.predict_proba(X_test)[:,1],columns = [\"pre_rgbm\"])"
   ]
  },
  {
   "cell_type": "code",
   "execution_count": 200,
   "metadata": {},
   "outputs": [],
   "source": [
    "roc_regl = mt.roc_auc_score(y_test,pred_proba_test_regl)\n",
    "roc_rf = mt.roc_auc_score(y_test,pred_proba_test_rf)\n",
    "roc_gbm = mt.roc_auc_score(y_test,pred_proba_test_gbm)"
   ]
  },
  {
   "cell_type": "code",
   "execution_count": 201,
   "metadata": {},
   "outputs": [
    {
     "name": "stdout",
     "output_type": "stream",
     "text": [
      "REG LOG:  0.9739026252659235\n",
      "RF:       0.978076286970804\n",
      "GBM:      0.9812962971053341\n"
     ]
    }
   ],
   "source": [
    "print(\"REG LOG: \",roc_regl)\n",
    "print(\"RF:      \",roc_rf)\n",
    "print(\"GBM:     \",roc_gbm)"
   ]
  },
  {
   "cell_type": "code",
   "execution_count": 202,
   "metadata": {},
   "outputs": [
    {
     "data": {
      "text/html": [
       "<div>\n",
       "<style scoped>\n",
       "    .dataframe tbody tr th:only-of-type {\n",
       "        vertical-align: middle;\n",
       "    }\n",
       "\n",
       "    .dataframe tbody tr th {\n",
       "        vertical-align: top;\n",
       "    }\n",
       "\n",
       "    .dataframe thead th {\n",
       "        text-align: right;\n",
       "    }\n",
       "</style>\n",
       "<table border=\"1\" class=\"dataframe\">\n",
       "  <thead>\n",
       "    <tr style=\"text-align: right;\">\n",
       "      <th></th>\n",
       "      <th>pre_rlog</th>\n",
       "      <th>pre_rf</th>\n",
       "      <th>pre_rgbm</th>\n",
       "    </tr>\n",
       "  </thead>\n",
       "  <tbody>\n",
       "    <tr>\n",
       "      <th>0</th>\n",
       "      <td>0.002854</td>\n",
       "      <td>0.079391</td>\n",
       "      <td>0.012163</td>\n",
       "    </tr>\n",
       "    <tr>\n",
       "      <th>1</th>\n",
       "      <td>0.000043</td>\n",
       "      <td>0.013618</td>\n",
       "      <td>0.009207</td>\n",
       "    </tr>\n",
       "    <tr>\n",
       "      <th>2</th>\n",
       "      <td>1.000000</td>\n",
       "      <td>0.561609</td>\n",
       "      <td>0.950162</td>\n",
       "    </tr>\n",
       "    <tr>\n",
       "      <th>3</th>\n",
       "      <td>0.780632</td>\n",
       "      <td>0.603837</td>\n",
       "      <td>0.736244</td>\n",
       "    </tr>\n",
       "    <tr>\n",
       "      <th>4</th>\n",
       "      <td>0.000002</td>\n",
       "      <td>0.045565</td>\n",
       "      <td>0.011758</td>\n",
       "    </tr>\n",
       "  </tbody>\n",
       "</table>\n",
       "</div>"
      ],
      "text/plain": [
       "   pre_rlog    pre_rf  pre_rgbm\n",
       "0  0.002854  0.079391  0.012163\n",
       "1  0.000043  0.013618  0.009207\n",
       "2  1.000000  0.561609  0.950162\n",
       "3  0.780632  0.603837  0.736244\n",
       "4  0.000002  0.045565  0.011758"
      ]
     },
     "execution_count": 202,
     "metadata": {},
     "output_type": "execute_result"
    }
   ],
   "source": [
    "# Crear New DF Train:\n",
    "df_train_2 = pd.concat([pred_proba_train_regl, \n",
    "                        pred_proba_train_rf, \n",
    "                        pred_proba_train_gbm], axis = 1)\n",
    "df_train_2.head()"
   ]
  },
  {
   "cell_type": "code",
   "execution_count": 203,
   "metadata": {},
   "outputs": [
    {
     "data": {
      "text/html": [
       "<div>\n",
       "<style scoped>\n",
       "    .dataframe tbody tr th:only-of-type {\n",
       "        vertical-align: middle;\n",
       "    }\n",
       "\n",
       "    .dataframe tbody tr th {\n",
       "        vertical-align: top;\n",
       "    }\n",
       "\n",
       "    .dataframe thead th {\n",
       "        text-align: right;\n",
       "    }\n",
       "</style>\n",
       "<table border=\"1\" class=\"dataframe\">\n",
       "  <thead>\n",
       "    <tr style=\"text-align: right;\">\n",
       "      <th></th>\n",
       "      <th>pre_rlog</th>\n",
       "      <th>pre_rf</th>\n",
       "      <th>pre_rgbm</th>\n",
       "    </tr>\n",
       "  </thead>\n",
       "  <tbody>\n",
       "    <tr>\n",
       "      <th>0</th>\n",
       "      <td>1.000000</td>\n",
       "      <td>0.768787</td>\n",
       "      <td>0.971817</td>\n",
       "    </tr>\n",
       "    <tr>\n",
       "      <th>1</th>\n",
       "      <td>0.000458</td>\n",
       "      <td>0.032862</td>\n",
       "      <td>0.011946</td>\n",
       "    </tr>\n",
       "    <tr>\n",
       "      <th>2</th>\n",
       "      <td>0.000002</td>\n",
       "      <td>0.045565</td>\n",
       "      <td>0.011758</td>\n",
       "    </tr>\n",
       "    <tr>\n",
       "      <th>3</th>\n",
       "      <td>0.000396</td>\n",
       "      <td>0.053318</td>\n",
       "      <td>0.011020</td>\n",
       "    </tr>\n",
       "    <tr>\n",
       "      <th>4</th>\n",
       "      <td>0.011781</td>\n",
       "      <td>0.077287</td>\n",
       "      <td>0.017129</td>\n",
       "    </tr>\n",
       "  </tbody>\n",
       "</table>\n",
       "</div>"
      ],
      "text/plain": [
       "   pre_rlog    pre_rf  pre_rgbm\n",
       "0  1.000000  0.768787  0.971817\n",
       "1  0.000458  0.032862  0.011946\n",
       "2  0.000002  0.045565  0.011758\n",
       "3  0.000396  0.053318  0.011020\n",
       "4  0.011781  0.077287  0.017129"
      ]
     },
     "execution_count": 203,
     "metadata": {},
     "output_type": "execute_result"
    }
   ],
   "source": [
    "# Crear New DF Test:\n",
    "df_test_2 = pd.concat([pred_proba_test_regl, \n",
    "                        pred_proba_test_rf, \n",
    "                        pred_proba_test_gbm], axis = 1)\n",
    "df_test_2.head()"
   ]
  },
  {
   "cell_type": "code",
   "execution_count": null,
   "metadata": {},
   "outputs": [],
   "source": []
  },
  {
   "cell_type": "markdown",
   "metadata": {},
   "source": [
    "# Modelo NIVEL 2"
   ]
  },
  {
   "cell_type": "code",
   "execution_count": 176,
   "metadata": {},
   "outputs": [],
   "source": [
    "from sklearn.neural_network import MLPClassifier"
   ]
  },
  {
   "cell_type": "code",
   "execution_count": 177,
   "metadata": {},
   "outputs": [],
   "source": [
    "model_rn_stacking = MLPClassifier(hidden_layer_sizes=(100), max_iter=100,\n",
    "                                 random_state = 20, activation = 'tanh')"
   ]
  },
  {
   "cell_type": "code",
   "execution_count": 204,
   "metadata": {},
   "outputs": [
    {
     "name": "stderr",
     "output_type": "stream",
     "text": [
      "C:\\Users\\Andres\\Anaconda3\\lib\\site-packages\\sklearn\\neural_network\\multilayer_perceptron.py:912: DataConversionWarning: A column-vector y was passed when a 1d array was expected. Please change the shape of y to (n_samples, ), for example using ravel().\n",
      "  y = column_or_1d(y, warn=True)\n"
     ]
    }
   ],
   "source": [
    "model_rn_stacking = model_rn_stacking.fit(df_train_2,y_train)"
   ]
  },
  {
   "cell_type": "code",
   "execution_count": 205,
   "metadata": {},
   "outputs": [],
   "source": [
    "prob_stack_train = model_rn_stacking.predict_proba(df_train_2)[:,1]\n",
    "prob_stack_test = model_rn_stacking.predict_proba(df_test_2)[:,1]"
   ]
  },
  {
   "cell_type": "code",
   "execution_count": 206,
   "metadata": {},
   "outputs": [],
   "source": [
    "roc_stack_train = mt.roc_auc_score(y_train,prob_stack_train)\n",
    "roc_stack_test = mt.roc_auc_score(y_test,prob_stack_test)"
   ]
  },
  {
   "cell_type": "code",
   "execution_count": 207,
   "metadata": {},
   "outputs": [
    {
     "name": "stdout",
     "output_type": "stream",
     "text": [
      "ROC STACK - TRAIN: 0.980271684038176\n",
      "ROC STACK - TEST:  0.9807621787422774\n"
     ]
    }
   ],
   "source": [
    "print(\"ROC STACK - TRAIN:\", roc_stack_train)\n",
    "print(\"ROC STACK - TEST: \", roc_stack_test)"
   ]
  },
  {
   "cell_type": "code",
   "execution_count": 208,
   "metadata": {},
   "outputs": [
    {
     "name": "stdout",
     "output_type": "stream",
     "text": [
      "REG LOG:  0.9739026252659235\n",
      "RF:       0.978076286970804\n",
      "GBM:      0.9812962971053341\n"
     ]
    }
   ],
   "source": [
    "print(\"REG LOG: \",roc_regl)\n",
    "print(\"RF:      \",roc_rf)\n",
    "print(\"GBM:     \",roc_gbm)"
   ]
  },
  {
   "cell_type": "code",
   "execution_count": null,
   "metadata": {},
   "outputs": [],
   "source": []
  }
 ],
 "metadata": {
  "kernelspec": {
   "display_name": "Python 3",
   "language": "python",
   "name": "python3"
  },
  "language_info": {
   "codemirror_mode": {
    "name": "ipython",
    "version": 3
   },
   "file_extension": ".py",
   "mimetype": "text/x-python",
   "name": "python",
   "nbconvert_exporter": "python",
   "pygments_lexer": "ipython3",
   "version": "3.6.4"
  }
 },
 "nbformat": 4,
 "nbformat_minor": 2
}
