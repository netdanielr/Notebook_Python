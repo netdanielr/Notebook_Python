{
 "cells": [
  {
   "cell_type": "markdown",
   "metadata": {},
   "source": [
    "# SMOTE"
   ]
  },
  {
   "cell_type": "code",
   "execution_count": 3,
   "metadata": {},
   "outputs": [],
   "source": [
    "import pandas as pd"
   ]
  },
  {
   "cell_type": "code",
   "execution_count": 4,
   "metadata": {},
   "outputs": [],
   "source": [
    "dataset = pd.read_csv(\"c:\\datos\\DS_Credito Hipotecario_Sin_Nulls_Solo_Numeros.csv\")"
   ]
  },
  {
   "cell_type": "code",
   "execution_count": 5,
   "metadata": {},
   "outputs": [
    {
     "data": {
      "text/html": [
       "<div>\n",
       "<style scoped>\n",
       "    .dataframe tbody tr th:only-of-type {\n",
       "        vertical-align: middle;\n",
       "    }\n",
       "\n",
       "    .dataframe tbody tr th {\n",
       "        vertical-align: top;\n",
       "    }\n",
       "\n",
       "    .dataframe thead th {\n",
       "        text-align: right;\n",
       "    }\n",
       "</style>\n",
       "<table border=\"1\" class=\"dataframe\">\n",
       "  <thead>\n",
       "    <tr style=\"text-align: right;\">\n",
       "      <th></th>\n",
       "      <th>INGRESOS_SOLICITANTE</th>\n",
       "      <th>INGRESOS_COSOLICITANTE</th>\n",
       "      <th>MONTO_PRESTAMO_MILES</th>\n",
       "      <th>PLAZO_PRESTAMO_MESES</th>\n",
       "      <th>FLAG_CRED_HIPO</th>\n",
       "    </tr>\n",
       "  </thead>\n",
       "  <tbody>\n",
       "    <tr>\n",
       "      <th>0</th>\n",
       "      <td>4583</td>\n",
       "      <td>1508.0</td>\n",
       "      <td>128</td>\n",
       "      <td>360</td>\n",
       "      <td>N</td>\n",
       "    </tr>\n",
       "    <tr>\n",
       "      <th>1</th>\n",
       "      <td>3000</td>\n",
       "      <td>0.0</td>\n",
       "      <td>66</td>\n",
       "      <td>360</td>\n",
       "      <td>Y</td>\n",
       "    </tr>\n",
       "    <tr>\n",
       "      <th>2</th>\n",
       "      <td>2583</td>\n",
       "      <td>2358.0</td>\n",
       "      <td>120</td>\n",
       "      <td>360</td>\n",
       "      <td>Y</td>\n",
       "    </tr>\n",
       "    <tr>\n",
       "      <th>3</th>\n",
       "      <td>6000</td>\n",
       "      <td>0.0</td>\n",
       "      <td>141</td>\n",
       "      <td>360</td>\n",
       "      <td>Y</td>\n",
       "    </tr>\n",
       "    <tr>\n",
       "      <th>4</th>\n",
       "      <td>5417</td>\n",
       "      <td>4196.0</td>\n",
       "      <td>267</td>\n",
       "      <td>360</td>\n",
       "      <td>Y</td>\n",
       "    </tr>\n",
       "  </tbody>\n",
       "</table>\n",
       "</div>"
      ],
      "text/plain": [
       "   INGRESOS_SOLICITANTE  INGRESOS_COSOLICITANTE  MONTO_PRESTAMO_MILES  \\\n",
       "0                  4583                  1508.0                   128   \n",
       "1                  3000                     0.0                    66   \n",
       "2                  2583                  2358.0                   120   \n",
       "3                  6000                     0.0                   141   \n",
       "4                  5417                  4196.0                   267   \n",
       "\n",
       "   PLAZO_PRESTAMO_MESES FLAG_CRED_HIPO  \n",
       "0                   360              N  \n",
       "1                   360              Y  \n",
       "2                   360              Y  \n",
       "3                   360              Y  \n",
       "4                   360              Y  "
      ]
     },
     "execution_count": 5,
     "metadata": {},
     "output_type": "execute_result"
    }
   ],
   "source": [
    "dataset.head()"
   ]
  },
  {
   "cell_type": "code",
   "execution_count": 6,
   "metadata": {},
   "outputs": [
    {
     "name": "stdout",
     "output_type": "stream",
     "text": [
      "<class 'pandas.core.frame.DataFrame'>\n",
      "RangeIndex: 434 entries, 0 to 433\n",
      "Data columns (total 5 columns):\n",
      "INGRESOS_SOLICITANTE      434 non-null int64\n",
      "INGRESOS_COSOLICITANTE    434 non-null float64\n",
      "MONTO_PRESTAMO_MILES      434 non-null int64\n",
      "PLAZO_PRESTAMO_MESES      434 non-null int64\n",
      "FLAG_CRED_HIPO            434 non-null object\n",
      "dtypes: float64(1), int64(3), object(1)\n",
      "memory usage: 17.0+ KB\n"
     ]
    }
   ],
   "source": [
    "dataset.info()"
   ]
  },
  {
   "cell_type": "code",
   "execution_count": 7,
   "metadata": {},
   "outputs": [
    {
     "data": {
      "text/plain": [
       "FLAG_CRED_HIPO\n",
       "N    131\n",
       "Y    303\n",
       "dtype: int64"
      ]
     },
     "execution_count": 7,
     "metadata": {},
     "output_type": "execute_result"
    }
   ],
   "source": [
    "dataset.groupby(\"FLAG_CRED_HIPO\").agg(\"size\")"
   ]
  },
  {
   "cell_type": "code",
   "execution_count": 8,
   "metadata": {},
   "outputs": [],
   "source": [
    "import seaborn as sns\n",
    "#permite visualización de las librearias de ploteo de ploteo en jupyter\n",
    "%matplotlib inline"
   ]
  },
  {
   "cell_type": "code",
   "execution_count": 9,
   "metadata": {},
   "outputs": [
    {
     "data": {
      "text/plain": [
       "<matplotlib.axes._subplots.AxesSubplot at 0x21d506c57f0>"
      ]
     },
     "execution_count": 9,
     "metadata": {},
     "output_type": "execute_result"
    },
    {
     "data": {
      "image/png": "[encoded data removed]",
      "text/plain": [
       "<matplotlib.figure.Figure at 0x21d4e2a5630>"
      ]
     },
     "metadata": {},
     "output_type": "display_data"
    }
   ],
   "source": [
    "sns.countplot(x=\"FLAG_CRED_HIPO\", data = dataset)"
   ]
  },
  {
   "cell_type": "code",
   "execution_count": 10,
   "metadata": {},
   "outputs": [],
   "source": [
    "## la calase minoritaria es \"N\"\n",
    "t = dataset[[\"FLAG_CRED_HIPO\"]]\n",
    "n_samples = t.shape[0]\n",
    "n_samples_Y = (t==\"Y\").sum()\n",
    "n_samples_N = (t==\"N\").sum()"
   ]
  },
  {
   "cell_type": "code",
   "execution_count": 11,
   "metadata": {},
   "outputs": [],
   "source": [
    "n_samples_N_new = 0.50*n_samples_Y/(0.5)-n_samples_N"
   ]
  },
  {
   "cell_type": "code",
   "execution_count": 12,
   "metadata": {},
   "outputs": [
    {
     "data": {
      "text/plain": [
       "FLAG_CRED_HIPO    172.0\n",
       "dtype: float64"
      ]
     },
     "execution_count": 12,
     "metadata": {},
     "output_type": "execute_result"
    }
   ],
   "source": [
    "n_samples_N_new"
   ]
  },
  {
   "cell_type": "code",
   "execution_count": 13,
   "metadata": {},
   "outputs": [],
   "source": [
    "# Seleccionando los puntos base para la nueva data SMOTE\n",
    "sel_ = dataset.loc[dataset[\"FLAG_CRED_HIPO\"] == \"N\"].iloc[:,:-1].sample(n=int(n_samples_N_new),replace=True,random_state=10)"
   ]
  },
  {
   "cell_type": "code",
   "execution_count": 14,
   "metadata": {},
   "outputs": [
    {
     "ename": "SyntaxError",
     "evalue": "invalid syntax (<ipython-input-14-d8734eef8f11>, line 3)",
     "output_type": "error",
     "traceback": [
      "\u001b[1;36m  File \u001b[1;32m\"<ipython-input-14-d8734eef8f11>\"\u001b[1;36m, line \u001b[1;32m3\u001b[0m\n\u001b[1;33m    steps = np.random.uniform(size = in(n_samples_N_new[0]))\u001b[0m\n\u001b[1;37m                                      ^\u001b[0m\n\u001b[1;31mSyntaxError\u001b[0m\u001b[1;31m:\u001b[0m invalid syntax\n"
     ]
    }
   ],
   "source": [
    "import numpy as np\n",
    "\n",
    "steps = np.random.uniform(size = in(n_samples_N_new[0]))\n",
    "\n",
    "def random_row_df(df)\n",
    "    index_random = random.choise(range(len(df)))\n",
    "    i = 0\n",
    "    for index, row in df.interrows():\n",
    "        if i==index_random:\n",
    "            d={}\n",
    "            index =row.index.tolist()\n",
    "            values = row.values.tolist()\n",
    "            for j in range(len(indexs))\n",
    "                d[index[j]] = [values[j]]\n",
    "            df_row = pd.DataFrame(d)\n",
    "            break\n",
    "        i = i + 1\n",
    "    return df_row\n",
    "# generacion de nueva data (rows) con SMOTE\n",
    "\n",
    "i = 0\n",
    "\n",
    "df_news = None\n",
    "\n",
    "for index , row in sel.iterrows():\n",
    "    d = {}\n",
    "    indexs = row.index.tolist()\n",
    "    values = row-values.tolist()\n",
    "    for j in range(len(indexs)):\n",
    "        d[indexs[j]] = [values[j]]\n",
    "        df_inicial = pd.DataFrame(d)\n",
    "        \n",
    "        step = steps[i]\n",
    "        \n",
    "        #SMOTE\n",
    "        df_new = df_initial - step * (df_initial - random_row_df(sel_))\n",
    "        \n",
    "        # se concatena todos nuevos rows generados del SMOTE\n",
    "        df_news = pd.concat([df_news , df_new])\n",
    "        i = i +1\n",
    "    \n",
    "df_news[\"FLAG_CRED_HIPO\"]=\"N\"\n",
    "\n",
    "dataset_smoted = pd.concat([dataset, df_news])\n",
    "\n",
    "dataset_smoted.reset_index(drop = True , inplace = True)\n",
    "\n",
    "dataset_smoted[\"PLAZO_PRESTAMO_MESES\"] = dataset_smoted[\"PLAZO_PRESTAMO_MESES\"] .astype(int)\n",
    "dataset_smoted.head()"
   ]
  },
  {
   "cell_type": "code",
   "execution_count": null,
   "metadata": {},
   "outputs": [],
   "source": []
  }
 ],
 "metadata": {
  "kernelspec": {
   "display_name": "Python 3",
   "language": "python",
   "name": "python3"
  },
  "language_info": {
   "codemirror_mode": {
    "name": "ipython",
    "version": 3
   },
   "file_extension": ".py",
   "mimetype": "text/x-python",
   "name": "python",
   "nbconvert_exporter": "python",
   "pygments_lexer": "ipython3",
   "version": "3.6.4"
  }
 },
 "nbformat": 4,
 "nbformat_minor": 2
}
