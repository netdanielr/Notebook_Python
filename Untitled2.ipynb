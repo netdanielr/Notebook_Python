{
 "cells": [
  {
   "cell_type": "code",
   "execution_count": 2,
   "metadata": {},
   "outputs": [],
   "source": [
    "# Librerias\n",
    "%matplotlib inline\n",
    "import matplotlib.pyplot as plt\n",
    "from scipy import stats\n",
    "import numpy as np\n",
    "import pandas as pd\n",
    "from sklearn.svm  import SVC\n",
    "\n",
    "# sombreado de grilla\n",
    "plt.style.use(\"fivethirtyeight\")\n"
   ]
  },
  {
   "cell_type": "code",
   "execution_count": null,
   "metadata": {},
   "outputs": [],
   "source": [
    "# creando dataset\n",
    "from sklearn.datasets.samples_generator import make_blobs\n",
    "x,y = make_blobs(n_samples = 50, center = 2)"
   ]
  },
  {
   "cell_type": "code",
   "execution_count": null,
   "metadata": {},
   "outputs": [],
   "source": [
    "# creamos rectas\n",
    "xfit = np.linspace(-1 , 3.5)\n",
    "plt.figure(figsize=(8,8))\n",
    "\n",
    "plt.scatter(X[:,0] , X[:,1] , c=y , s = 50)\n",
    "for m,b in[(1,0.65) , (0.5,1.6) , (-0.2,2.9)]:\n",
    "    plt.plot(cfit, m * xfit + b , '-k')\n",
    "    \n",
    "    plt.xlim(-1,3.5)"
   ]
  },
  {
   "cell_type": "code",
   "execution_count": null,
   "metadata": {},
   "outputs": [],
   "source": [
    "# creamos rectas\n",
    "xfit = np.linspace(-1 , 3.5)\n",
    "plt.figure(figsize=(8,8))\n",
    "\n",
    "plt.scatter(X[:,0] , X[:,1] , c=y , s = 50)\n",
    "for m,b in [(1,0.65,0.33) , (0.5,1.6,0.55) , (-0.2,2.9,...)]:\n",
    "    yfit = m * xfit + b\n",
    "    plt.plot(xfit, yfit, \"-k\")\n",
    "    \n",
    "    \n",
    "    \n",
    "        plt.xlim(-1,3.5)"
   ]
  },
  {
   "cell_type": "code",
   "execution_count": null,
   "metadata": {},
   "outputs": [],
   "source": []
  },
  {
   "cell_type": "code",
   "execution_count": null,
   "metadata": {},
   "outputs": [],
   "source": []
  },
  {
   "cell_type": "code",
   "execution_count": null,
   "metadata": {},
   "outputs": [],
   "source": []
  },
  {
   "cell_type": "code",
   "execution_count": null,
   "metadata": {},
   "outputs": [],
   "source": []
  }
 ],
 "metadata": {
  "kernelspec": {
   "display_name": "Python 3",
   "language": "python",
   "name": "python3"
  },
  "language_info": {
   "codemirror_mode": {
    "name": "ipython",
    "version": 3
   },
   "file_extension": ".py",
   "mimetype": "text/x-python",
   "name": "python",
   "nbconvert_exporter": "python",
   "pygments_lexer": "ipython3",
   "version": "3.6.4"
  }
 },
 "nbformat": 4,
 "nbformat_minor": 2
}
