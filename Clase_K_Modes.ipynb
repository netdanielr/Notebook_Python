{
 "cells": [
  {
   "cell_type": "code",
   "execution_count": 1,
   "metadata": {},
   "outputs": [
    {
     "name": "stdout",
     "output_type": "stream",
     "text": [
      "Collecting kmodes\n",
      "  Downloading https://files.pythonhosted.org/packages/1a/d5/54e0efa2ddf33234761f8c35471f4a2280bb4cef44fd39fa08f1e663946a/kmodes-0.9-py2.py3-none-any.whl\n",
      "Requirement already satisfied: scikit-learn<0.20.0,>=0.19.0 in c:\\users\\andres\\anaconda3\\lib\\site-packages (from kmodes)\n",
      "Requirement already satisfied: numpy>=1.10.4 in c:\\users\\andres\\anaconda3\\lib\\site-packages (from kmodes)\n",
      "Requirement already satisfied: scipy>=0.13.3 in c:\\users\\andres\\anaconda3\\lib\\site-packages (from kmodes)\n",
      "Installing collected packages: kmodes\n",
      "Successfully installed kmodes-0.9\n"
     ]
    },
    {
     "name": "stderr",
     "output_type": "stream",
     "text": [
      "You are using pip version 9.0.1, however version 10.0.1 is available.\n",
      "You should consider upgrading via the 'python -m pip install --upgrade pip' command.\n"
     ]
    }
   ],
   "source": [
    "!pip install kmodes"
   ]
  },
  {
   "cell_type": "code",
   "execution_count": 2,
   "metadata": {},
   "outputs": [],
   "source": [
    "import kmodes as km"
   ]
  },
  {
   "cell_type": "code",
   "execution_count": null,
   "metadata": {},
   "outputs": [],
   "source": [
    "km."
   ]
  }
 ],
 "metadata": {
  "kernelspec": {
   "display_name": "Python 3",
   "language": "python",
   "name": "python3"
  },
  "language_info": {
   "codemirror_mode": {
    "name": "ipython",
    "version": 3
   },
   "file_extension": ".py",
   "mimetype": "text/x-python",
   "name": "python",
   "nbconvert_exporter": "python",
   "pygments_lexer": "ipython3",
   "version": "3.6.4"
  }
 },
 "nbformat": 4,
 "nbformat_minor": 2
}
